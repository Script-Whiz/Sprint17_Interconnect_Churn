{
 "cells": [
  {
   "cell_type": "markdown",
   "id": "20502644-937b-4e26-a889-58bc87bc0d73",
   "metadata": {},
   "source": [
    "<span style=\"color: blue; font-size: 32px;\"><strong>Interconnect Telecom Company - Customer Churn Model</strong></span> <H3>by Deborah Thomas</H3>"
   ]
  },
  {
   "cell_type": "markdown",
   "id": "73a52aae-6938-4d26-842f-f1df7fbc8b17",
   "metadata": {},
   "source": [
    "<span style=\"color: blue; font-size: 32px;\"><strong>Introduction:</strong></span>"
   ]
  },
  {
   "cell_type": "markdown",
   "id": "b42537cf-b70c-4ad3-858b-65681805c47b",
   "metadata": {},
   "source": [
    "<H3>The telecom operator Interconnect would like to be able to forecast their churn of clients. If it's discovered that a user is planning to leave, they will be offered promotional codes and special plan options. Interconnect's marketing team has collected some of their clientele's personal data, including information about their plans and contracts.</H3>"
   ]
  },
  {
   "cell_type": "markdown",
   "id": "d8094591-ca98-43c0-ace7-9776e6ee99ca",
   "metadata": {},
   "source": [
    "<span style=\"color: blue; font-size: 32px;\"><strong>Questions I seek to answer:</strong></span>"
   ]
  },
  {
   "cell_type": "markdown",
   "id": "cb6642c1-43e8-4b81-b38b-2983a9f32488",
   "metadata": {},
   "source": [
    "- Do customers with a higher monthly charge tend to have a higher churn rate?\n",
    "- Does gender, age(Senior Citizen vs non Senior Citizen), whether or not a customer has dependents, or a partner have any effect on churn rate?\n",
    "- Does the payment method (Electronic check, Mailed check, Automatic Bank transfer, Automatic Credit card) influence churn rates?\n",
    "- How do different account types(1-year, 2-year, month-to-month) influence churn rates?\n",
    "- Do customers who pay for extra services(Internet Service, Online Security, Online Backup, Device Protection, Tech Support, Streaming TV, StreamingMovies) tend not to churn as quickly as those who do not pay for these services?"
   ]
  },
  {
   "cell_type": "markdown",
   "id": "29bbd8f4-0e65-4abb-a98e-e5f2bc9c483e",
   "metadata": {},
   "source": [
    "<span style=\"color: blue; font-size: 32px;\"><strong>Import Libraries:</strong></span>"
   ]
  },
  {
   "cell_type": "code",
   "execution_count": 2570,
   "id": "0f48310a-fc64-48aa-96e7-0adf7c79d6d9",
   "metadata": {},
   "outputs": [],
   "source": [
    "import pandas as pd\n",
    "import numpy as np\n",
    "\n",
    "import plotly.express as px\n",
    "\n",
    "import matplotlib.pyplot as plt\n",
    "import seaborn as sns\n",
    "\n",
    "from sklearn.model_selection import train_test_split\n",
    "from sklearn.ensemble import RandomForestClassifier, GradientBoostingClassifier\n",
    "from sklearn.tree import DecisionTreeClassifier\n",
    "from sklearn.svm import SVC\n",
    "from sklearn.linear_model import LogisticRegression\n",
    "from sklearn.metrics import roc_auc_score, accuracy_score"
   ]
  },
  {
   "cell_type": "markdown",
   "id": "9624abab-e148-4ac0-9f34-f1c62ca5b568",
   "metadata": {},
   "source": [
    "<span style=\"color: blue; font-size: 32px;\"><strong>Load 4 Datasets:</strong></span>"
   ]
  },
  {
   "cell_type": "markdown",
   "id": "725a3ae5-d314-486d-b11a-1ed9056266a5",
   "metadata": {},
   "source": [
    "- <span style=\"color: blue; font-size: 16px;\"><strong>load contract dataset</strong></span>"
   ]
  },
  {
   "cell_type": "code",
   "execution_count": 2573,
   "id": "45d505cb-239a-4626-97c9-a0c820eb4145",
   "metadata": {},
   "outputs": [
    {
     "data": {
      "text/html": [
       "<div>\n",
       "<style scoped>\n",
       "    .dataframe tbody tr th:only-of-type {\n",
       "        vertical-align: middle;\n",
       "    }\n",
       "\n",
       "    .dataframe tbody tr th {\n",
       "        vertical-align: top;\n",
       "    }\n",
       "\n",
       "    .dataframe thead th {\n",
       "        text-align: right;\n",
       "    }\n",
       "</style>\n",
       "<table border=\"1\" class=\"dataframe\">\n",
       "  <thead>\n",
       "    <tr style=\"text-align: right;\">\n",
       "      <th></th>\n",
       "      <th>customerID</th>\n",
       "      <th>BeginDate</th>\n",
       "      <th>EndDate</th>\n",
       "      <th>Type</th>\n",
       "      <th>PaperlessBilling</th>\n",
       "      <th>PaymentMethod</th>\n",
       "      <th>MonthlyCharges</th>\n",
       "      <th>TotalCharges</th>\n",
       "    </tr>\n",
       "  </thead>\n",
       "  <tbody>\n",
       "    <tr>\n",
       "      <th>0</th>\n",
       "      <td>7590-VHVEG</td>\n",
       "      <td>2020-01-01</td>\n",
       "      <td>No</td>\n",
       "      <td>Month-to-month</td>\n",
       "      <td>Yes</td>\n",
       "      <td>Electronic check</td>\n",
       "      <td>29.85</td>\n",
       "      <td>29.85</td>\n",
       "    </tr>\n",
       "    <tr>\n",
       "      <th>1</th>\n",
       "      <td>5575-GNVDE</td>\n",
       "      <td>2017-04-01</td>\n",
       "      <td>No</td>\n",
       "      <td>One year</td>\n",
       "      <td>No</td>\n",
       "      <td>Mailed check</td>\n",
       "      <td>56.95</td>\n",
       "      <td>1889.5</td>\n",
       "    </tr>\n",
       "    <tr>\n",
       "      <th>2</th>\n",
       "      <td>3668-QPYBK</td>\n",
       "      <td>2019-10-01</td>\n",
       "      <td>2019-12-01 00:00:00</td>\n",
       "      <td>Month-to-month</td>\n",
       "      <td>Yes</td>\n",
       "      <td>Mailed check</td>\n",
       "      <td>53.85</td>\n",
       "      <td>108.15</td>\n",
       "    </tr>\n",
       "    <tr>\n",
       "      <th>3</th>\n",
       "      <td>7795-CFOCW</td>\n",
       "      <td>2016-05-01</td>\n",
       "      <td>No</td>\n",
       "      <td>One year</td>\n",
       "      <td>No</td>\n",
       "      <td>Bank transfer (automatic)</td>\n",
       "      <td>42.30</td>\n",
       "      <td>1840.75</td>\n",
       "    </tr>\n",
       "    <tr>\n",
       "      <th>4</th>\n",
       "      <td>9237-HQITU</td>\n",
       "      <td>2019-09-01</td>\n",
       "      <td>2019-11-01 00:00:00</td>\n",
       "      <td>Month-to-month</td>\n",
       "      <td>Yes</td>\n",
       "      <td>Electronic check</td>\n",
       "      <td>70.70</td>\n",
       "      <td>151.65</td>\n",
       "    </tr>\n",
       "    <tr>\n",
       "      <th>5</th>\n",
       "      <td>9305-CDSKC</td>\n",
       "      <td>2019-03-01</td>\n",
       "      <td>2019-11-01 00:00:00</td>\n",
       "      <td>Month-to-month</td>\n",
       "      <td>Yes</td>\n",
       "      <td>Electronic check</td>\n",
       "      <td>99.65</td>\n",
       "      <td>820.5</td>\n",
       "    </tr>\n",
       "    <tr>\n",
       "      <th>6</th>\n",
       "      <td>1452-KIOVK</td>\n",
       "      <td>2018-04-01</td>\n",
       "      <td>No</td>\n",
       "      <td>Month-to-month</td>\n",
       "      <td>Yes</td>\n",
       "      <td>Credit card (automatic)</td>\n",
       "      <td>89.10</td>\n",
       "      <td>1949.4</td>\n",
       "    </tr>\n",
       "    <tr>\n",
       "      <th>7</th>\n",
       "      <td>6713-OKOMC</td>\n",
       "      <td>2019-04-01</td>\n",
       "      <td>No</td>\n",
       "      <td>Month-to-month</td>\n",
       "      <td>No</td>\n",
       "      <td>Mailed check</td>\n",
       "      <td>29.75</td>\n",
       "      <td>301.9</td>\n",
       "    </tr>\n",
       "    <tr>\n",
       "      <th>8</th>\n",
       "      <td>7892-POOKP</td>\n",
       "      <td>2017-07-01</td>\n",
       "      <td>2019-11-01 00:00:00</td>\n",
       "      <td>Month-to-month</td>\n",
       "      <td>Yes</td>\n",
       "      <td>Electronic check</td>\n",
       "      <td>104.80</td>\n",
       "      <td>3046.05</td>\n",
       "    </tr>\n",
       "    <tr>\n",
       "      <th>9</th>\n",
       "      <td>6388-TABGU</td>\n",
       "      <td>2014-12-01</td>\n",
       "      <td>No</td>\n",
       "      <td>One year</td>\n",
       "      <td>No</td>\n",
       "      <td>Bank transfer (automatic)</td>\n",
       "      <td>56.15</td>\n",
       "      <td>3487.95</td>\n",
       "    </tr>\n",
       "  </tbody>\n",
       "</table>\n",
       "</div>"
      ],
      "text/plain": [
       "   customerID   BeginDate              EndDate            Type  \\\n",
       "0  7590-VHVEG  2020-01-01                   No  Month-to-month   \n",
       "1  5575-GNVDE  2017-04-01                   No        One year   \n",
       "2  3668-QPYBK  2019-10-01  2019-12-01 00:00:00  Month-to-month   \n",
       "3  7795-CFOCW  2016-05-01                   No        One year   \n",
       "4  9237-HQITU  2019-09-01  2019-11-01 00:00:00  Month-to-month   \n",
       "5  9305-CDSKC  2019-03-01  2019-11-01 00:00:00  Month-to-month   \n",
       "6  1452-KIOVK  2018-04-01                   No  Month-to-month   \n",
       "7  6713-OKOMC  2019-04-01                   No  Month-to-month   \n",
       "8  7892-POOKP  2017-07-01  2019-11-01 00:00:00  Month-to-month   \n",
       "9  6388-TABGU  2014-12-01                   No        One year   \n",
       "\n",
       "  PaperlessBilling              PaymentMethod  MonthlyCharges TotalCharges  \n",
       "0              Yes           Electronic check           29.85        29.85  \n",
       "1               No               Mailed check           56.95       1889.5  \n",
       "2              Yes               Mailed check           53.85       108.15  \n",
       "3               No  Bank transfer (automatic)           42.30      1840.75  \n",
       "4              Yes           Electronic check           70.70       151.65  \n",
       "5              Yes           Electronic check           99.65        820.5  \n",
       "6              Yes    Credit card (automatic)           89.10       1949.4  \n",
       "7               No               Mailed check           29.75        301.9  \n",
       "8              Yes           Electronic check          104.80      3046.05  \n",
       "9               No  Bank transfer (automatic)           56.15      3487.95  "
      ]
     },
     "metadata": {},
     "output_type": "display_data"
    }
   ],
   "source": [
    "try:\n",
    "    contract = pd.read_csv('/datasets/final_provider/contract.csv')  # Attempt to read from the server path\n",
    "except FileNotFoundError:\n",
    "    contract = pd.read_csv('../datasets/final_provider/contract.csv')  # Fallback to the local path\n",
    "\n",
    "\n",
    "display(contract.head(10))"
   ]
  },
  {
   "cell_type": "code",
   "execution_count": 2574,
   "id": "8e233f36-8ca5-47af-9568-499eb1648c70",
   "metadata": {},
   "outputs": [
    {
     "data": {
      "text/plain": [
       "(7043, 8)"
      ]
     },
     "execution_count": 2574,
     "metadata": {},
     "output_type": "execute_result"
    }
   ],
   "source": [
    "contract.shape"
   ]
  },
  {
   "cell_type": "markdown",
   "id": "961a3d4b-5624-4843-bf62-4ec622662a3e",
   "metadata": {},
   "source": [
    "- <span style=\"color: blue; font-size: 16px;\"><strong>load internet dataset</strong></span>"
   ]
  },
  {
   "cell_type": "code",
   "execution_count": 2576,
   "id": "bd24b1e4-2de2-4b71-af07-e86be1401c36",
   "metadata": {},
   "outputs": [
    {
     "data": {
      "text/html": [
       "<div>\n",
       "<style scoped>\n",
       "    .dataframe tbody tr th:only-of-type {\n",
       "        vertical-align: middle;\n",
       "    }\n",
       "\n",
       "    .dataframe tbody tr th {\n",
       "        vertical-align: top;\n",
       "    }\n",
       "\n",
       "    .dataframe thead th {\n",
       "        text-align: right;\n",
       "    }\n",
       "</style>\n",
       "<table border=\"1\" class=\"dataframe\">\n",
       "  <thead>\n",
       "    <tr style=\"text-align: right;\">\n",
       "      <th></th>\n",
       "      <th>customerID</th>\n",
       "      <th>InternetService</th>\n",
       "      <th>OnlineSecurity</th>\n",
       "      <th>OnlineBackup</th>\n",
       "      <th>DeviceProtection</th>\n",
       "      <th>TechSupport</th>\n",
       "      <th>StreamingTV</th>\n",
       "      <th>StreamingMovies</th>\n",
       "    </tr>\n",
       "  </thead>\n",
       "  <tbody>\n",
       "    <tr>\n",
       "      <th>0</th>\n",
       "      <td>7590-VHVEG</td>\n",
       "      <td>DSL</td>\n",
       "      <td>No</td>\n",
       "      <td>Yes</td>\n",
       "      <td>No</td>\n",
       "      <td>No</td>\n",
       "      <td>No</td>\n",
       "      <td>No</td>\n",
       "    </tr>\n",
       "    <tr>\n",
       "      <th>1</th>\n",
       "      <td>5575-GNVDE</td>\n",
       "      <td>DSL</td>\n",
       "      <td>Yes</td>\n",
       "      <td>No</td>\n",
       "      <td>Yes</td>\n",
       "      <td>No</td>\n",
       "      <td>No</td>\n",
       "      <td>No</td>\n",
       "    </tr>\n",
       "    <tr>\n",
       "      <th>2</th>\n",
       "      <td>3668-QPYBK</td>\n",
       "      <td>DSL</td>\n",
       "      <td>Yes</td>\n",
       "      <td>Yes</td>\n",
       "      <td>No</td>\n",
       "      <td>No</td>\n",
       "      <td>No</td>\n",
       "      <td>No</td>\n",
       "    </tr>\n",
       "    <tr>\n",
       "      <th>3</th>\n",
       "      <td>7795-CFOCW</td>\n",
       "      <td>DSL</td>\n",
       "      <td>Yes</td>\n",
       "      <td>No</td>\n",
       "      <td>Yes</td>\n",
       "      <td>Yes</td>\n",
       "      <td>No</td>\n",
       "      <td>No</td>\n",
       "    </tr>\n",
       "    <tr>\n",
       "      <th>4</th>\n",
       "      <td>9237-HQITU</td>\n",
       "      <td>Fiber optic</td>\n",
       "      <td>No</td>\n",
       "      <td>No</td>\n",
       "      <td>No</td>\n",
       "      <td>No</td>\n",
       "      <td>No</td>\n",
       "      <td>No</td>\n",
       "    </tr>\n",
       "    <tr>\n",
       "      <th>5</th>\n",
       "      <td>9305-CDSKC</td>\n",
       "      <td>Fiber optic</td>\n",
       "      <td>No</td>\n",
       "      <td>No</td>\n",
       "      <td>Yes</td>\n",
       "      <td>No</td>\n",
       "      <td>Yes</td>\n",
       "      <td>Yes</td>\n",
       "    </tr>\n",
       "    <tr>\n",
       "      <th>6</th>\n",
       "      <td>1452-KIOVK</td>\n",
       "      <td>Fiber optic</td>\n",
       "      <td>No</td>\n",
       "      <td>Yes</td>\n",
       "      <td>No</td>\n",
       "      <td>No</td>\n",
       "      <td>Yes</td>\n",
       "      <td>No</td>\n",
       "    </tr>\n",
       "    <tr>\n",
       "      <th>7</th>\n",
       "      <td>6713-OKOMC</td>\n",
       "      <td>DSL</td>\n",
       "      <td>Yes</td>\n",
       "      <td>No</td>\n",
       "      <td>No</td>\n",
       "      <td>No</td>\n",
       "      <td>No</td>\n",
       "      <td>No</td>\n",
       "    </tr>\n",
       "    <tr>\n",
       "      <th>8</th>\n",
       "      <td>7892-POOKP</td>\n",
       "      <td>Fiber optic</td>\n",
       "      <td>No</td>\n",
       "      <td>No</td>\n",
       "      <td>Yes</td>\n",
       "      <td>Yes</td>\n",
       "      <td>Yes</td>\n",
       "      <td>Yes</td>\n",
       "    </tr>\n",
       "    <tr>\n",
       "      <th>9</th>\n",
       "      <td>6388-TABGU</td>\n",
       "      <td>DSL</td>\n",
       "      <td>Yes</td>\n",
       "      <td>Yes</td>\n",
       "      <td>No</td>\n",
       "      <td>No</td>\n",
       "      <td>No</td>\n",
       "      <td>No</td>\n",
       "    </tr>\n",
       "  </tbody>\n",
       "</table>\n",
       "</div>"
      ],
      "text/plain": [
       "   customerID InternetService OnlineSecurity OnlineBackup DeviceProtection  \\\n",
       "0  7590-VHVEG             DSL             No          Yes               No   \n",
       "1  5575-GNVDE             DSL            Yes           No              Yes   \n",
       "2  3668-QPYBK             DSL            Yes          Yes               No   \n",
       "3  7795-CFOCW             DSL            Yes           No              Yes   \n",
       "4  9237-HQITU     Fiber optic             No           No               No   \n",
       "5  9305-CDSKC     Fiber optic             No           No              Yes   \n",
       "6  1452-KIOVK     Fiber optic             No          Yes               No   \n",
       "7  6713-OKOMC             DSL            Yes           No               No   \n",
       "8  7892-POOKP     Fiber optic             No           No              Yes   \n",
       "9  6388-TABGU             DSL            Yes          Yes               No   \n",
       "\n",
       "  TechSupport StreamingTV StreamingMovies  \n",
       "0          No          No              No  \n",
       "1          No          No              No  \n",
       "2          No          No              No  \n",
       "3         Yes          No              No  \n",
       "4          No          No              No  \n",
       "5          No         Yes             Yes  \n",
       "6          No         Yes              No  \n",
       "7          No          No              No  \n",
       "8         Yes         Yes             Yes  \n",
       "9          No          No              No  "
      ]
     },
     "metadata": {},
     "output_type": "display_data"
    }
   ],
   "source": [
    "try:\n",
    "    internet = pd.read_csv('/datasets/final_provider/internet.csv')  # Attempt to read from the server path\n",
    "except FileNotFoundError:\n",
    "    internet = pd.read_csv('../datasets/final_provider/internet.csv')  # Fallback to the local path\n",
    "\n",
    "\n",
    "display(internet.head(10))"
   ]
  },
  {
   "cell_type": "code",
   "execution_count": 2577,
   "id": "25b62ba0-7f2c-4d01-9bf0-bdd9f57756a8",
   "metadata": {},
   "outputs": [
    {
     "data": {
      "text/plain": [
       "(5517, 8)"
      ]
     },
     "execution_count": 2577,
     "metadata": {},
     "output_type": "execute_result"
    }
   ],
   "source": [
    "internet.shape"
   ]
  },
  {
   "cell_type": "markdown",
   "id": "33a5726d-4267-4b2c-8be1-88dadbf31541",
   "metadata": {},
   "source": [
    "- <span style=\"color: blue; font-size: 16px;\"><strong>load personal dataset</strong></span>"
   ]
  },
  {
   "cell_type": "code",
   "execution_count": 2579,
   "id": "14cf04a2-a5ba-4ff3-a6ce-3f57f3529a57",
   "metadata": {},
   "outputs": [
    {
     "data": {
      "text/html": [
       "<div>\n",
       "<style scoped>\n",
       "    .dataframe tbody tr th:only-of-type {\n",
       "        vertical-align: middle;\n",
       "    }\n",
       "\n",
       "    .dataframe tbody tr th {\n",
       "        vertical-align: top;\n",
       "    }\n",
       "\n",
       "    .dataframe thead th {\n",
       "        text-align: right;\n",
       "    }\n",
       "</style>\n",
       "<table border=\"1\" class=\"dataframe\">\n",
       "  <thead>\n",
       "    <tr style=\"text-align: right;\">\n",
       "      <th></th>\n",
       "      <th>customerID</th>\n",
       "      <th>gender</th>\n",
       "      <th>SeniorCitizen</th>\n",
       "      <th>Partner</th>\n",
       "      <th>Dependents</th>\n",
       "    </tr>\n",
       "  </thead>\n",
       "  <tbody>\n",
       "    <tr>\n",
       "      <th>0</th>\n",
       "      <td>7590-VHVEG</td>\n",
       "      <td>Female</td>\n",
       "      <td>0</td>\n",
       "      <td>Yes</td>\n",
       "      <td>No</td>\n",
       "    </tr>\n",
       "    <tr>\n",
       "      <th>1</th>\n",
       "      <td>5575-GNVDE</td>\n",
       "      <td>Male</td>\n",
       "      <td>0</td>\n",
       "      <td>No</td>\n",
       "      <td>No</td>\n",
       "    </tr>\n",
       "    <tr>\n",
       "      <th>2</th>\n",
       "      <td>3668-QPYBK</td>\n",
       "      <td>Male</td>\n",
       "      <td>0</td>\n",
       "      <td>No</td>\n",
       "      <td>No</td>\n",
       "    </tr>\n",
       "    <tr>\n",
       "      <th>3</th>\n",
       "      <td>7795-CFOCW</td>\n",
       "      <td>Male</td>\n",
       "      <td>0</td>\n",
       "      <td>No</td>\n",
       "      <td>No</td>\n",
       "    </tr>\n",
       "    <tr>\n",
       "      <th>4</th>\n",
       "      <td>9237-HQITU</td>\n",
       "      <td>Female</td>\n",
       "      <td>0</td>\n",
       "      <td>No</td>\n",
       "      <td>No</td>\n",
       "    </tr>\n",
       "    <tr>\n",
       "      <th>5</th>\n",
       "      <td>9305-CDSKC</td>\n",
       "      <td>Female</td>\n",
       "      <td>0</td>\n",
       "      <td>No</td>\n",
       "      <td>No</td>\n",
       "    </tr>\n",
       "    <tr>\n",
       "      <th>6</th>\n",
       "      <td>1452-KIOVK</td>\n",
       "      <td>Male</td>\n",
       "      <td>0</td>\n",
       "      <td>No</td>\n",
       "      <td>Yes</td>\n",
       "    </tr>\n",
       "    <tr>\n",
       "      <th>7</th>\n",
       "      <td>6713-OKOMC</td>\n",
       "      <td>Female</td>\n",
       "      <td>0</td>\n",
       "      <td>No</td>\n",
       "      <td>No</td>\n",
       "    </tr>\n",
       "    <tr>\n",
       "      <th>8</th>\n",
       "      <td>7892-POOKP</td>\n",
       "      <td>Female</td>\n",
       "      <td>0</td>\n",
       "      <td>Yes</td>\n",
       "      <td>No</td>\n",
       "    </tr>\n",
       "    <tr>\n",
       "      <th>9</th>\n",
       "      <td>6388-TABGU</td>\n",
       "      <td>Male</td>\n",
       "      <td>0</td>\n",
       "      <td>No</td>\n",
       "      <td>Yes</td>\n",
       "    </tr>\n",
       "  </tbody>\n",
       "</table>\n",
       "</div>"
      ],
      "text/plain": [
       "   customerID  gender  SeniorCitizen Partner Dependents\n",
       "0  7590-VHVEG  Female              0     Yes         No\n",
       "1  5575-GNVDE    Male              0      No         No\n",
       "2  3668-QPYBK    Male              0      No         No\n",
       "3  7795-CFOCW    Male              0      No         No\n",
       "4  9237-HQITU  Female              0      No         No\n",
       "5  9305-CDSKC  Female              0      No         No\n",
       "6  1452-KIOVK    Male              0      No        Yes\n",
       "7  6713-OKOMC  Female              0      No         No\n",
       "8  7892-POOKP  Female              0     Yes         No\n",
       "9  6388-TABGU    Male              0      No        Yes"
      ]
     },
     "metadata": {},
     "output_type": "display_data"
    }
   ],
   "source": [
    "try:\n",
    "    personal = pd.read_csv('/datasets/final_provider/personal.csv')  # Attempt to read from the server path\n",
    "except FileNotFoundError:\n",
    "    personal = pd.read_csv('../datasets/final_provider/personal.csv')  # Fallback to the local path\n",
    "\n",
    "\n",
    "display(personal.head(10))"
   ]
  },
  {
   "cell_type": "code",
   "execution_count": 2580,
   "id": "c52e3bbe-69d9-4d5f-a8fc-f7dbdcccc72f",
   "metadata": {},
   "outputs": [
    {
     "data": {
      "text/plain": [
       "(7043, 5)"
      ]
     },
     "execution_count": 2580,
     "metadata": {},
     "output_type": "execute_result"
    }
   ],
   "source": [
    "personal.shape"
   ]
  },
  {
   "cell_type": "markdown",
   "id": "183c9271-28c8-47e1-8e9c-ec0e530da130",
   "metadata": {},
   "source": [
    "- <span style=\"color: blue; font-size: 16px;\"><strong>load phone dataset:</strong></span>"
   ]
  },
  {
   "cell_type": "code",
   "execution_count": 2582,
   "id": "362786a1-1b67-4b44-8bf6-8ca5daba2f58",
   "metadata": {},
   "outputs": [
    {
     "data": {
      "text/html": [
       "<div>\n",
       "<style scoped>\n",
       "    .dataframe tbody tr th:only-of-type {\n",
       "        vertical-align: middle;\n",
       "    }\n",
       "\n",
       "    .dataframe tbody tr th {\n",
       "        vertical-align: top;\n",
       "    }\n",
       "\n",
       "    .dataframe thead th {\n",
       "        text-align: right;\n",
       "    }\n",
       "</style>\n",
       "<table border=\"1\" class=\"dataframe\">\n",
       "  <thead>\n",
       "    <tr style=\"text-align: right;\">\n",
       "      <th></th>\n",
       "      <th>customerID</th>\n",
       "      <th>MultipleLines</th>\n",
       "    </tr>\n",
       "  </thead>\n",
       "  <tbody>\n",
       "    <tr>\n",
       "      <th>0</th>\n",
       "      <td>5575-GNVDE</td>\n",
       "      <td>No</td>\n",
       "    </tr>\n",
       "    <tr>\n",
       "      <th>1</th>\n",
       "      <td>3668-QPYBK</td>\n",
       "      <td>No</td>\n",
       "    </tr>\n",
       "    <tr>\n",
       "      <th>2</th>\n",
       "      <td>9237-HQITU</td>\n",
       "      <td>No</td>\n",
       "    </tr>\n",
       "    <tr>\n",
       "      <th>3</th>\n",
       "      <td>9305-CDSKC</td>\n",
       "      <td>Yes</td>\n",
       "    </tr>\n",
       "    <tr>\n",
       "      <th>4</th>\n",
       "      <td>1452-KIOVK</td>\n",
       "      <td>Yes</td>\n",
       "    </tr>\n",
       "    <tr>\n",
       "      <th>5</th>\n",
       "      <td>7892-POOKP</td>\n",
       "      <td>Yes</td>\n",
       "    </tr>\n",
       "    <tr>\n",
       "      <th>6</th>\n",
       "      <td>6388-TABGU</td>\n",
       "      <td>No</td>\n",
       "    </tr>\n",
       "    <tr>\n",
       "      <th>7</th>\n",
       "      <td>9763-GRSKD</td>\n",
       "      <td>No</td>\n",
       "    </tr>\n",
       "    <tr>\n",
       "      <th>8</th>\n",
       "      <td>7469-LKBCI</td>\n",
       "      <td>No</td>\n",
       "    </tr>\n",
       "    <tr>\n",
       "      <th>9</th>\n",
       "      <td>8091-TTVAX</td>\n",
       "      <td>Yes</td>\n",
       "    </tr>\n",
       "  </tbody>\n",
       "</table>\n",
       "</div>"
      ],
      "text/plain": [
       "   customerID MultipleLines\n",
       "0  5575-GNVDE            No\n",
       "1  3668-QPYBK            No\n",
       "2  9237-HQITU            No\n",
       "3  9305-CDSKC           Yes\n",
       "4  1452-KIOVK           Yes\n",
       "5  7892-POOKP           Yes\n",
       "6  6388-TABGU            No\n",
       "7  9763-GRSKD            No\n",
       "8  7469-LKBCI            No\n",
       "9  8091-TTVAX           Yes"
      ]
     },
     "metadata": {},
     "output_type": "display_data"
    }
   ],
   "source": [
    "try:\n",
    "    phone = pd.read_csv('/datasets/final_provider/phone.csv')  # Attempt to read from the server path\n",
    "except FileNotFoundError:\n",
    "    phone = pd.read_csv('../datasets/final_provider/phone.csv')  # Fallback to the local path\n",
    "\n",
    "\n",
    "display(phone.head(10))"
   ]
  },
  {
   "cell_type": "code",
   "execution_count": 2583,
   "id": "69209102-4c00-43ba-b885-e16919940c6f",
   "metadata": {},
   "outputs": [
    {
     "data": {
      "text/plain": [
       "(6361, 2)"
      ]
     },
     "execution_count": 2583,
     "metadata": {},
     "output_type": "execute_result"
    }
   ],
   "source": [
    "phone.shape"
   ]
  },
  {
   "cell_type": "markdown",
   "id": "d9fd733a-b517-41e3-92a4-8a9f094fb3e4",
   "metadata": {},
   "source": [
    "Each of the four datasets has a different shape. But they all share one column in common; customerID."
   ]
  },
  {
   "cell_type": "markdown",
   "id": "2e9e756e-e0e7-48fb-a882-02d06de574a9",
   "metadata": {},
   "source": [
    "<span style=\"color: blue; font-size: 32px;\"><strong>Exploratory Data Analysis</strong></span>"
   ]
  },
  {
   "cell_type": "markdown",
   "id": "188fd41f-e07c-4fa0-ab6a-1214418e5022",
   "metadata": {},
   "source": [
    "<H2>Clean the 4 datasets:</H2>"
   ]
  },
  {
   "cell_type": "markdown",
   "id": "97b61a15-8eed-4fe1-b262-c7ab365e275a",
   "metadata": {},
   "source": [
    "- <span style=\"color: blue; font-size: 18px;\"><strong>Check for missing values in all 4 datasets:</strong></span>"
   ]
  },
  {
   "cell_type": "code",
   "execution_count": 2588,
   "id": "a4fc7766-4400-4bb4-8440-dcce3dab66db",
   "metadata": {},
   "outputs": [],
   "source": [
    "# Check for missing values in each DataFrame\n",
    "missing_contract = contract.isnull().sum()\n",
    "missing_internet = internet.isnull().sum()\n",
    "missing_personal = personal.isnull().sum()\n",
    "missing_phone = phone.isnull().sum()"
   ]
  },
  {
   "cell_type": "code",
   "execution_count": 2589,
   "id": "c347984e-97c4-4818-ab3c-2d79d403c46b",
   "metadata": {},
   "outputs": [
    {
     "name": "stdout",
     "output_type": "stream",
     "text": [
      "Missing values in contract:\n",
      " customerID          0\n",
      "BeginDate           0\n",
      "EndDate             0\n",
      "Type                0\n",
      "PaperlessBilling    0\n",
      "PaymentMethod       0\n",
      "MonthlyCharges      0\n",
      "TotalCharges        0\n",
      "dtype: int64\n",
      "\n",
      "Missing values in internet:\n",
      " customerID          0\n",
      "InternetService     0\n",
      "OnlineSecurity      0\n",
      "OnlineBackup        0\n",
      "DeviceProtection    0\n",
      "TechSupport         0\n",
      "StreamingTV         0\n",
      "StreamingMovies     0\n",
      "dtype: int64\n",
      "\n",
      "Missing values in personal:\n",
      " customerID       0\n",
      "gender           0\n",
      "SeniorCitizen    0\n",
      "Partner          0\n",
      "Dependents       0\n",
      "dtype: int64\n",
      "\n",
      "Missing values in phone:\n",
      " customerID       0\n",
      "MultipleLines    0\n",
      "dtype: int64\n"
     ]
    }
   ],
   "source": [
    "# Display the counts of missing values\n",
    "print(\"Missing values in contract:\\n\", missing_contract)\n",
    "print(\"\\nMissing values in internet:\\n\", missing_internet)\n",
    "print(\"\\nMissing values in personal:\\n\", missing_personal)\n",
    "print(\"\\nMissing values in phone:\\n\", missing_phone)"
   ]
  },
  {
   "cell_type": "markdown",
   "id": "4d5e985b-c538-45dc-8a10-82468e075f1b",
   "metadata": {},
   "source": [
    "<H4>There is no missing data.</H4>"
   ]
  },
  {
   "cell_type": "markdown",
   "id": "dee8db00-0330-4998-a5d1-20f1885c597b",
   "metadata": {},
   "source": [
    "- <span style=\"color: blue; font-size: 18px;\"><strong>examine contract dataset</strong></span>"
   ]
  },
  {
   "cell_type": "code",
   "execution_count": 2592,
   "id": "2de35780-58a8-40e3-a407-0115db2573ff",
   "metadata": {},
   "outputs": [
    {
     "name": "stdout",
     "output_type": "stream",
     "text": [
      "<class 'pandas.core.frame.DataFrame'>\n",
      "RangeIndex: 7043 entries, 0 to 7042\n",
      "Data columns (total 8 columns):\n",
      " #   Column            Non-Null Count  Dtype  \n",
      "---  ------            --------------  -----  \n",
      " 0   customerID        7043 non-null   object \n",
      " 1   BeginDate         7043 non-null   object \n",
      " 2   EndDate           7043 non-null   object \n",
      " 3   Type              7043 non-null   object \n",
      " 4   PaperlessBilling  7043 non-null   object \n",
      " 5   PaymentMethod     7043 non-null   object \n",
      " 6   MonthlyCharges    7043 non-null   float64\n",
      " 7   TotalCharges      7043 non-null   object \n",
      "dtypes: float64(1), object(7)\n",
      "memory usage: 440.3+ KB\n"
     ]
    }
   ],
   "source": [
    "contract.info()"
   ]
  },
  {
   "cell_type": "markdown",
   "id": "6505a009-4812-4a7e-8b45-d5f7231fead4",
   "metadata": {},
   "source": [
    "- <span style=\"color: blue; font-size: 14px;\"><strong>examine BeginDate column</strong></span>"
   ]
  },
  {
   "cell_type": "code",
   "execution_count": 2594,
   "id": "41366cad-acf9-470c-a11a-af506bcd3934",
   "metadata": {},
   "outputs": [],
   "source": [
    "contract['BeginDate'] = pd.to_datetime(contract['BeginDate'])"
   ]
  },
  {
   "cell_type": "markdown",
   "id": "f08547f7-6872-41ff-a141-976707a8629f",
   "metadata": {},
   "source": [
    "- <span style=\"color: blue; font-size: 14px;\"><strong>examine EndDate column</strong></span>"
   ]
  },
  {
   "cell_type": "markdown",
   "id": "9af6b5c6-cfff-41be-8feb-63f5a4e5601a",
   "metadata": {},
   "source": [
    "<span style=\"color: red; font-size: 14px;\"><strong>EndDate == 'No' is the TARGET</strong></span>"
   ]
  },
  {
   "cell_type": "code",
   "execution_count": 2597,
   "id": "a09a37d9-0562-48d4-8bfc-77a34afbc470",
   "metadata": {},
   "outputs": [
    {
     "data": {
      "text/plain": [
       "EndDate\n",
       "No                     5174\n",
       "2019-11-01 00:00:00     485\n",
       "2019-12-01 00:00:00     466\n",
       "2020-01-01 00:00:00     460\n",
       "2019-10-01 00:00:00     458\n",
       "Name: count, dtype: int64"
      ]
     },
     "execution_count": 2597,
     "metadata": {},
     "output_type": "execute_result"
    }
   ],
   "source": [
    "contract['EndDate'].value_counts()"
   ]
  },
  {
   "cell_type": "code",
   "execution_count": 2598,
   "id": "e4ea3025-9070-47dd-854a-0d19d658d56f",
   "metadata": {},
   "outputs": [],
   "source": [
    "# 1869 is the amount of churned customers (those with dates). 5174  have not churned."
   ]
  },
  {
   "cell_type": "code",
   "execution_count": 2599,
   "id": "b1e2f6b3-e0fa-4253-8ced-24388644bffd",
   "metadata": {},
   "outputs": [],
   "source": [
    "contract['EndDate'] = (contract['EndDate'] != 'No').astype(int) "
   ]
  },
  {
   "cell_type": "markdown",
   "id": "2d079e5f-91c2-4717-83fb-5342e033e0e4",
   "metadata": {},
   "source": [
    "If the value is not 'No', it evaluates to True, which is then converted to `1"
   ]
  },
  {
   "cell_type": "code",
   "execution_count": 2601,
   "id": "8b8f5a9e-094c-4707-885e-65e5eb858a18",
   "metadata": {},
   "outputs": [
    {
     "data": {
      "text/plain": [
       "EndDate\n",
       "0    5174\n",
       "1    1869\n",
       "Name: count, dtype: int64"
      ]
     },
     "execution_count": 2601,
     "metadata": {},
     "output_type": "execute_result"
    }
   ],
   "source": [
    "contract['EndDate'].value_counts()"
   ]
  },
  {
   "cell_type": "markdown",
   "id": "f3de9288-c8b3-409f-b56e-0676a320b246",
   "metadata": {},
   "source": [
    "<span style=\"color: red; font-size: 14px;\"><strong>0 used to be 'No'.  So now 'EndDate' == 0 is the new target.</strong></span>"
   ]
  },
  {
   "cell_type": "markdown",
   "id": "83d6c97f-91d6-4228-a5e2-46ff9dbbbaf3",
   "metadata": {},
   "source": [
    "- <span style=\"color: blue; font-size: 14px;\"><strong>examine Type column</strong></span>"
   ]
  },
  {
   "cell_type": "code",
   "execution_count": 2604,
   "id": "201c85cd-e449-412d-bf5b-ff3de05d7d10",
   "metadata": {},
   "outputs": [
    {
     "name": "stdout",
     "output_type": "stream",
     "text": [
      "0\n"
     ]
    }
   ],
   "source": [
    "print(contract['Type'].isna().sum())"
   ]
  },
  {
   "cell_type": "code",
   "execution_count": 2605,
   "id": "fbe7ebec-670c-4dce-989d-4fbf0e005e51",
   "metadata": {},
   "outputs": [
    {
     "data": {
      "text/plain": [
       "Type\n",
       "Month-to-month    3875\n",
       "Two year          1695\n",
       "One year          1473\n",
       "Name: count, dtype: int64"
      ]
     },
     "execution_count": 2605,
     "metadata": {},
     "output_type": "execute_result"
    }
   ],
   "source": [
    "contract.Type.value_counts()"
   ]
  },
  {
   "cell_type": "code",
   "execution_count": 2606,
   "id": "9161ea98-941b-4bcc-968c-b6bba4bb552e",
   "metadata": {},
   "outputs": [],
   "source": [
    "payment_type_mapping = {\n",
    "    'Month-to-month': 0,\n",
    "    'One year': 1,\n",
    "    'Two year': 2\n",
    "}"
   ]
  },
  {
   "cell_type": "code",
   "execution_count": 2607,
   "id": "98ebe83f-1e7c-418c-8986-7d5bde0e3e16",
   "metadata": {},
   "outputs": [],
   "source": [
    "contract['Type'] = contract['Type'].map(payment_type_mapping)"
   ]
  },
  {
   "cell_type": "code",
   "execution_count": 2608,
   "id": "ee6ff4d2-f8cc-42d4-b997-e60ee48c8c37",
   "metadata": {},
   "outputs": [],
   "source": [
    "contract['Type'] = contract['Type'].astype('category')"
   ]
  },
  {
   "cell_type": "code",
   "execution_count": 2609,
   "id": "b863bb6f-ed5f-4d8d-9709-7bb6f1e21b0e",
   "metadata": {},
   "outputs": [
    {
     "data": {
      "text/plain": [
       "Type\n",
       "0    3875\n",
       "2    1695\n",
       "1    1473\n",
       "Name: count, dtype: int64"
      ]
     },
     "execution_count": 2609,
     "metadata": {},
     "output_type": "execute_result"
    }
   ],
   "source": [
    "contract.Type.value_counts()"
   ]
  },
  {
   "cell_type": "markdown",
   "id": "c461b6a0-2ab8-4d0c-8078-ea3d7bdaf50c",
   "metadata": {},
   "source": [
    "- <span style=\"color: blue; font-size: 14px;\"><strong>examine PaperlessBilling column</strong></span>"
   ]
  },
  {
   "cell_type": "code",
   "execution_count": 2611,
   "id": "e8e9bd6c-8c06-49d0-9000-7d1e65e4720c",
   "metadata": {},
   "outputs": [
    {
     "data": {
      "text/plain": [
       "PaperlessBilling\n",
       "Yes    4171\n",
       "No     2872\n",
       "Name: count, dtype: int64"
      ]
     },
     "execution_count": 2611,
     "metadata": {},
     "output_type": "execute_result"
    }
   ],
   "source": [
    "contract.PaperlessBilling.value_counts()"
   ]
  },
  {
   "cell_type": "code",
   "execution_count": 2612,
   "id": "584d6431-10ad-4358-b256-8e2673beb932",
   "metadata": {},
   "outputs": [],
   "source": [
    "# Convert PaperlessBilling to binary (1 for 'Yes', 0 for 'No')\n",
    "contract['PaperlessBilling'] = contract['PaperlessBilling'].map({'Yes': 1, 'No': 0})"
   ]
  },
  {
   "cell_type": "code",
   "execution_count": 2613,
   "id": "193c16eb-0324-4120-804e-28c8ae791448",
   "metadata": {},
   "outputs": [
    {
     "data": {
      "text/plain": [
       "PaperlessBilling\n",
       "1    4171\n",
       "0    2872\n",
       "Name: count, dtype: int64"
      ]
     },
     "execution_count": 2613,
     "metadata": {},
     "output_type": "execute_result"
    }
   ],
   "source": [
    "contract.PaperlessBilling.value_counts()"
   ]
  },
  {
   "cell_type": "code",
   "execution_count": 2614,
   "id": "a5f9066d-b5a5-4a2b-bc4f-084927dc37d9",
   "metadata": {},
   "outputs": [
    {
     "data": {
      "text/plain": [
       "dtype('int64')"
      ]
     },
     "execution_count": 2614,
     "metadata": {},
     "output_type": "execute_result"
    }
   ],
   "source": [
    "contract['PaperlessBilling'].dtype"
   ]
  },
  {
   "cell_type": "markdown",
   "id": "611679bc-c98d-475c-ab25-c1a072cd345f",
   "metadata": {},
   "source": [
    "- <span style=\"color: blue; font-size: 14px;\"><strong>examine PaymentMethod column</strong></span>"
   ]
  },
  {
   "cell_type": "code",
   "execution_count": 2616,
   "id": "40dff008-e0d2-422f-9f6a-585575ff840f",
   "metadata": {},
   "outputs": [
    {
     "data": {
      "text/plain": [
       "PaymentMethod\n",
       "Electronic check             2365\n",
       "Mailed check                 1612\n",
       "Bank transfer (automatic)    1544\n",
       "Credit card (automatic)      1522\n",
       "Name: count, dtype: int64"
      ]
     },
     "execution_count": 2616,
     "metadata": {},
     "output_type": "execute_result"
    }
   ],
   "source": [
    "contract['PaymentMethod'].value_counts()"
   ]
  },
  {
   "cell_type": "code",
   "execution_count": 2617,
   "id": "bd7d3fcb-3b6d-4618-917e-bbc3673dc67f",
   "metadata": {},
   "outputs": [],
   "source": [
    "payment_method_mapping = {\n",
    "    'Electronic check': 0,\n",
    "    'Mailed check': 1,\n",
    "    'Bank transfer (automatic)': 2,\n",
    "    'Credit card (automatic)': 3\n",
    "}"
   ]
  },
  {
   "cell_type": "code",
   "execution_count": 2618,
   "id": "7f9c4163-d773-4167-83bd-451bd821b8e9",
   "metadata": {},
   "outputs": [],
   "source": [
    "contract['PaymentMethod'] = contract['PaymentMethod'].map(payment_method_mapping)"
   ]
  },
  {
   "cell_type": "code",
   "execution_count": 2619,
   "id": "096136c3-212d-4ffa-b58f-968d6d7c854b",
   "metadata": {},
   "outputs": [
    {
     "data": {
      "text/plain": [
       "PaymentMethod\n",
       "0    2365\n",
       "1    1612\n",
       "2    1544\n",
       "3    1522\n",
       "Name: count, dtype: int64"
      ]
     },
     "execution_count": 2619,
     "metadata": {},
     "output_type": "execute_result"
    }
   ],
   "source": [
    "contract['PaymentMethod'].value_counts()"
   ]
  },
  {
   "cell_type": "markdown",
   "id": "49693c8b-0bd9-4437-9e6f-255462eae3a4",
   "metadata": {},
   "source": [
    "- 0 = 'Electronic check'\n",
    "- 1 = 'Mailed check'\n",
    "- 2 = 'Bank transfer (automatic)'\n",
    "- 3 = 'Credit card (automatic)'"
   ]
  },
  {
   "cell_type": "code",
   "execution_count": 2621,
   "id": "88ec2152-1ce7-4588-9032-926934c78da6",
   "metadata": {},
   "outputs": [],
   "source": [
    "contract['PaymentMethod'] = contract['PaymentMethod'].astype('category')"
   ]
  },
  {
   "cell_type": "code",
   "execution_count": 2622,
   "id": "eadaab39-c43e-478d-a766-f85bc6536f86",
   "metadata": {},
   "outputs": [
    {
     "data": {
      "text/plain": [
       "PaymentMethod\n",
       "0    2365\n",
       "1    1612\n",
       "2    1544\n",
       "3    1522\n",
       "Name: count, dtype: int64"
      ]
     },
     "execution_count": 2622,
     "metadata": {},
     "output_type": "execute_result"
    }
   ],
   "source": [
    "contract['PaymentMethod'].value_counts()"
   ]
  },
  {
   "cell_type": "code",
   "execution_count": 2623,
   "id": "995daa04-05f9-45f6-a94a-5944e9c21af6",
   "metadata": {},
   "outputs": [
    {
     "data": {
      "text/plain": [
       "CategoricalDtype(categories=[0, 1, 2, 3], ordered=False, categories_dtype=int64)"
      ]
     },
     "execution_count": 2623,
     "metadata": {},
     "output_type": "execute_result"
    }
   ],
   "source": [
    "contract['PaymentMethod'].dtype"
   ]
  },
  {
   "cell_type": "markdown",
   "id": "1b5ad513-2bc7-4f12-9b50-8eb4831e31c5",
   "metadata": {},
   "source": [
    "- <span style=\"color: blue; font-size: 14px;\"><strong>examine TotalCharges column</strong></span>"
   ]
  },
  {
   "cell_type": "code",
   "execution_count": 2625,
   "id": "afeeeba7-cf49-48d2-9999-5ff265508425",
   "metadata": {},
   "outputs": [
    {
     "data": {
      "text/plain": [
       "TotalCharges\n",
       "          11\n",
       "20.2      11\n",
       "19.75      9\n",
       "20.05      8\n",
       "19.9       8\n",
       "          ..\n",
       "6849.4     1\n",
       "692.35     1\n",
       "130.15     1\n",
       "3211.9     1\n",
       "6844.5     1\n",
       "Name: count, Length: 6531, dtype: int64"
      ]
     },
     "execution_count": 2625,
     "metadata": {},
     "output_type": "execute_result"
    }
   ],
   "source": [
    "contract.TotalCharges.value_counts()"
   ]
  },
  {
   "cell_type": "code",
   "execution_count": 2626,
   "id": "3750348b-029e-46da-9e06-0051f7d99fba",
   "metadata": {},
   "outputs": [],
   "source": [
    "# Replace any white space with nan\n",
    "contract['TotalCharges'] = contract['TotalCharges'].replace(r'^\\s*$', np.nan, regex=True)"
   ]
  },
  {
   "cell_type": "code",
   "execution_count": 2627,
   "id": "4527e9c4-fec5-4ae4-ac5d-cfbe51b19f3f",
   "metadata": {},
   "outputs": [],
   "source": [
    "#Convert the column to a numeric type, coercing any errors to NaN\n",
    "contract['TotalCharges'] = pd.to_numeric(contract['TotalCharges'], errors='coerce')"
   ]
  },
  {
   "cell_type": "code",
   "execution_count": 2628,
   "id": "9725a75c-1667-4c18-8d4b-9d5d32184c20",
   "metadata": {},
   "outputs": [],
   "source": [
    "contract['TotalCharges'] = contract['TotalCharges'].astype(float)"
   ]
  },
  {
   "cell_type": "markdown",
   "id": "0fcb71d2-fdd2-4be0-af30-caf8903e3d91",
   "metadata": {},
   "source": [
    "- <span style=\"color: blue; font-size: 14px;\"><strong>double check data types for the contract dataset:</strong></span>"
   ]
  },
  {
   "cell_type": "code",
   "execution_count": 2630,
   "id": "d3c6623f-41c0-42d7-941f-ac8e4320f3ea",
   "metadata": {},
   "outputs": [
    {
     "name": "stdout",
     "output_type": "stream",
     "text": [
      "<class 'pandas.core.frame.DataFrame'>\n",
      "RangeIndex: 7043 entries, 0 to 7042\n",
      "Data columns (total 8 columns):\n",
      " #   Column            Non-Null Count  Dtype         \n",
      "---  ------            --------------  -----         \n",
      " 0   customerID        7043 non-null   object        \n",
      " 1   BeginDate         7043 non-null   datetime64[ns]\n",
      " 2   EndDate           7043 non-null   int64         \n",
      " 3   Type              7043 non-null   category      \n",
      " 4   PaperlessBilling  7043 non-null   int64         \n",
      " 5   PaymentMethod     7043 non-null   category      \n",
      " 6   MonthlyCharges    7043 non-null   float64       \n",
      " 7   TotalCharges      7032 non-null   float64       \n",
      "dtypes: category(2), datetime64[ns](1), float64(2), int64(2), object(1)\n",
      "memory usage: 344.4+ KB\n"
     ]
    }
   ],
   "source": [
    "contract.info()"
   ]
  },
  {
   "cell_type": "markdown",
   "id": "908da6d6-d76a-4db5-ba48-95313ac853c6",
   "metadata": {},
   "source": [
    "- <span style=\"color: blue; font-size: 18px;\"><strong>examine internet dataset</strong></span>"
   ]
  },
  {
   "cell_type": "code",
   "execution_count": 2632,
   "id": "372171f9-4fc6-4040-b15a-ff0a6eeeabff",
   "metadata": {},
   "outputs": [
    {
     "name": "stdout",
     "output_type": "stream",
     "text": [
      "<class 'pandas.core.frame.DataFrame'>\n",
      "RangeIndex: 5517 entries, 0 to 5516\n",
      "Data columns (total 8 columns):\n",
      " #   Column            Non-Null Count  Dtype \n",
      "---  ------            --------------  ----- \n",
      " 0   customerID        5517 non-null   object\n",
      " 1   InternetService   5517 non-null   object\n",
      " 2   OnlineSecurity    5517 non-null   object\n",
      " 3   OnlineBackup      5517 non-null   object\n",
      " 4   DeviceProtection  5517 non-null   object\n",
      " 5   TechSupport       5517 non-null   object\n",
      " 6   StreamingTV       5517 non-null   object\n",
      " 7   StreamingMovies   5517 non-null   object\n",
      "dtypes: object(8)\n",
      "memory usage: 344.9+ KB\n"
     ]
    }
   ],
   "source": [
    "internet.info()"
   ]
  },
  {
   "cell_type": "markdown",
   "id": "e90965a2-49cc-42fc-a294-3d5d6f77de91",
   "metadata": {},
   "source": [
    "- <span style=\"color: blue; font-size: 14px;\"><strong>examine InternetService column</strong></span>"
   ]
  },
  {
   "cell_type": "code",
   "execution_count": 2634,
   "id": "c407153a-5c7b-47ce-ada3-62bb061733ab",
   "metadata": {},
   "outputs": [
    {
     "data": {
      "text/plain": [
       "InternetService\n",
       "Fiber optic    3096\n",
       "DSL            2421\n",
       "Name: count, dtype: int64"
      ]
     },
     "execution_count": 2634,
     "metadata": {},
     "output_type": "execute_result"
    }
   ],
   "source": [
    "internet['InternetService'].value_counts()"
   ]
  },
  {
   "cell_type": "code",
   "execution_count": 2635,
   "id": "5043b27d-9e81-47f2-980f-6b1938c50137",
   "metadata": {},
   "outputs": [],
   "source": [
    "internet_service_mapping = {\n",
    "    'Fiber optic': 1,\n",
    "    'DSL': 0\n",
    "}"
   ]
  },
  {
   "cell_type": "code",
   "execution_count": 2636,
   "id": "8bd9380f-ee66-40e0-8322-ddfa8e1078ce",
   "metadata": {},
   "outputs": [],
   "source": [
    "internet['InternetService'] = internet['InternetService'].map(internet_service_mapping)"
   ]
  },
  {
   "cell_type": "code",
   "execution_count": 2637,
   "id": "afa14625-2a2e-4c8e-bea8-46042ce4a8e6",
   "metadata": {},
   "outputs": [
    {
     "data": {
      "text/plain": [
       "dtype('int64')"
      ]
     },
     "execution_count": 2637,
     "metadata": {},
     "output_type": "execute_result"
    }
   ],
   "source": [
    "internet['InternetService'].dtype"
   ]
  },
  {
   "cell_type": "markdown",
   "id": "d37a0255-d2a3-4e1a-863e-29983fd3e3c4",
   "metadata": {},
   "source": [
    "- <span style=\"color: blue; font-size: 14px;\"><strong>examine OnlineSecurity column</strong></span>"
   ]
  },
  {
   "cell_type": "code",
   "execution_count": 2639,
   "id": "b666ea68-9e03-47d4-9d5b-152e9347412d",
   "metadata": {},
   "outputs": [
    {
     "data": {
      "text/plain": [
       "OnlineSecurity\n",
       "No     3498\n",
       "Yes    2019\n",
       "Name: count, dtype: int64"
      ]
     },
     "execution_count": 2639,
     "metadata": {},
     "output_type": "execute_result"
    }
   ],
   "source": [
    "internet['OnlineSecurity'].value_counts()"
   ]
  },
  {
   "cell_type": "code",
   "execution_count": 2640,
   "id": "ce82b934-409b-461e-a198-3d13e0c8ed2b",
   "metadata": {},
   "outputs": [],
   "source": [
    "#Convert to boolean\n",
    "internet['OnlineSecurity'] = internet['OnlineSecurity'].map({'Yes': 1, 'No': 0})"
   ]
  },
  {
   "cell_type": "code",
   "execution_count": 2641,
   "id": "56cc4717-b956-4233-af64-8705947bad7c",
   "metadata": {},
   "outputs": [
    {
     "data": {
      "text/plain": [
       "dtype('int64')"
      ]
     },
     "execution_count": 2641,
     "metadata": {},
     "output_type": "execute_result"
    }
   ],
   "source": [
    "internet['OnlineSecurity'].dtype"
   ]
  },
  {
   "cell_type": "markdown",
   "id": "f54074fb-521c-4f78-9505-059b53292e4a",
   "metadata": {},
   "source": [
    "- <span style=\"color: blue; font-size: 14px;\"><strong>examine OnlineBackup column</strong></span>"
   ]
  },
  {
   "cell_type": "code",
   "execution_count": 2643,
   "id": "d50c6a5a-f6e0-43fe-9546-f7c4a2c8a4e6",
   "metadata": {},
   "outputs": [
    {
     "data": {
      "text/plain": [
       "OnlineBackup\n",
       "No     3088\n",
       "Yes    2429\n",
       "Name: count, dtype: int64"
      ]
     },
     "execution_count": 2643,
     "metadata": {},
     "output_type": "execute_result"
    }
   ],
   "source": [
    "internet.OnlineBackup.value_counts()"
   ]
  },
  {
   "cell_type": "code",
   "execution_count": 2644,
   "id": "01af061c-c1ca-41b1-952b-527805d04513",
   "metadata": {},
   "outputs": [],
   "source": [
    "# Convert 'OnlineBackup' column to boolean type\n",
    "internet['OnlineBackup'] = internet['OnlineBackup'].map({'Yes': 1, 'No': 0})"
   ]
  },
  {
   "cell_type": "code",
   "execution_count": 2645,
   "id": "bda5d2f5-14ea-4756-a17f-f135f491ea4e",
   "metadata": {},
   "outputs": [
    {
     "data": {
      "text/plain": [
       "dtype('int64')"
      ]
     },
     "execution_count": 2645,
     "metadata": {},
     "output_type": "execute_result"
    }
   ],
   "source": [
    "internet['OnlineBackup'].dtype"
   ]
  },
  {
   "cell_type": "markdown",
   "id": "4a8ae398-1046-4e0e-b7fb-1fada2c3b85a",
   "metadata": {},
   "source": [
    "- <span style=\"color: blue; font-size: 14px;\"><strong>examine DeviceProtection column</strong></span>"
   ]
  },
  {
   "cell_type": "code",
   "execution_count": 2647,
   "id": "6a61d879-8b53-4ad9-87ee-250f66f39ec0",
   "metadata": {},
   "outputs": [
    {
     "data": {
      "text/plain": [
       "DeviceProtection\n",
       "No     3095\n",
       "Yes    2422\n",
       "Name: count, dtype: int64"
      ]
     },
     "execution_count": 2647,
     "metadata": {},
     "output_type": "execute_result"
    }
   ],
   "source": [
    "internet.DeviceProtection.value_counts()"
   ]
  },
  {
   "cell_type": "code",
   "execution_count": 2648,
   "id": "cd8e1184-e19f-4b5b-80a3-ca35c6deeaf3",
   "metadata": {},
   "outputs": [],
   "source": [
    "internet['DeviceProtection'] = internet['DeviceProtection'].map({'Yes': 1, 'No': 0})"
   ]
  },
  {
   "cell_type": "code",
   "execution_count": 2649,
   "id": "13d64c6a-b48f-4c97-a6ce-ecce7808d0e6",
   "metadata": {},
   "outputs": [
    {
     "data": {
      "text/plain": [
       "DeviceProtection\n",
       "0    3095\n",
       "1    2422\n",
       "Name: count, dtype: int64"
      ]
     },
     "execution_count": 2649,
     "metadata": {},
     "output_type": "execute_result"
    }
   ],
   "source": [
    "internet.DeviceProtection.value_counts()"
   ]
  },
  {
   "cell_type": "code",
   "execution_count": 2650,
   "id": "3c53a22a-7e5a-4cf4-9909-100aa97f10ac",
   "metadata": {},
   "outputs": [
    {
     "data": {
      "text/plain": [
       "dtype('int64')"
      ]
     },
     "execution_count": 2650,
     "metadata": {},
     "output_type": "execute_result"
    }
   ],
   "source": [
    "internet['DeviceProtection'].dtype"
   ]
  },
  {
   "cell_type": "markdown",
   "id": "760ef1ae-1b7e-4bed-9ef7-df813be001f6",
   "metadata": {},
   "source": [
    "- <span style=\"color: blue; font-size: 14px;\"><strong>examine TechSupport column</strong></span>"
   ]
  },
  {
   "cell_type": "code",
   "execution_count": 2652,
   "id": "7975213f-5fb8-4ed0-85ea-f90db78dc3a7",
   "metadata": {},
   "outputs": [
    {
     "data": {
      "text/plain": [
       "TechSupport\n",
       "No     3473\n",
       "Yes    2044\n",
       "Name: count, dtype: int64"
      ]
     },
     "execution_count": 2652,
     "metadata": {},
     "output_type": "execute_result"
    }
   ],
   "source": [
    "internet.TechSupport.value_counts()"
   ]
  },
  {
   "cell_type": "code",
   "execution_count": 2653,
   "id": "16fee545-d672-41e5-8f55-b91e0c94a13e",
   "metadata": {},
   "outputs": [],
   "source": [
    "internet['TechSupport'] = internet['TechSupport'].map({'Yes': 1, 'No': 0})"
   ]
  },
  {
   "cell_type": "code",
   "execution_count": 2654,
   "id": "7bce8728-848b-45ce-a561-0a91a25e4dfc",
   "metadata": {},
   "outputs": [
    {
     "data": {
      "text/plain": [
       "TechSupport\n",
       "0    3473\n",
       "1    2044\n",
       "Name: count, dtype: int64"
      ]
     },
     "execution_count": 2654,
     "metadata": {},
     "output_type": "execute_result"
    }
   ],
   "source": [
    "internet.TechSupport.value_counts()"
   ]
  },
  {
   "cell_type": "code",
   "execution_count": 2655,
   "id": "6646fd4e-27bc-444a-8438-88daeedf1e5a",
   "metadata": {},
   "outputs": [
    {
     "data": {
      "text/plain": [
       "dtype('int64')"
      ]
     },
     "execution_count": 2655,
     "metadata": {},
     "output_type": "execute_result"
    }
   ],
   "source": [
    "internet['TechSupport'].dtype"
   ]
  },
  {
   "cell_type": "markdown",
   "id": "d7d4e0a5-1cbe-44ec-bba8-b69c0539fa57",
   "metadata": {},
   "source": [
    "- <span style=\"color: blue; font-size: 14px;\"><strong>examine StreamingTV column</strong></span>"
   ]
  },
  {
   "cell_type": "code",
   "execution_count": 2657,
   "id": "cbfa36e5-8d17-44c4-a083-609182b4c7df",
   "metadata": {},
   "outputs": [
    {
     "data": {
      "text/plain": [
       "StreamingTV\n",
       "No     2810\n",
       "Yes    2707\n",
       "Name: count, dtype: int64"
      ]
     },
     "execution_count": 2657,
     "metadata": {},
     "output_type": "execute_result"
    }
   ],
   "source": [
    "internet.StreamingTV.value_counts()"
   ]
  },
  {
   "cell_type": "code",
   "execution_count": 2658,
   "id": "e97a50ce-a66c-4b33-ba16-a30d9d8a372d",
   "metadata": {},
   "outputs": [],
   "source": [
    "internet['StreamingTV'] = internet['StreamingTV'].map({'Yes': 1, 'No': 0})"
   ]
  },
  {
   "cell_type": "code",
   "execution_count": 2659,
   "id": "c59d1179-b5ca-4496-92d1-b756b3bc7555",
   "metadata": {},
   "outputs": [
    {
     "data": {
      "text/plain": [
       "StreamingTV\n",
       "0    2810\n",
       "1    2707\n",
       "Name: count, dtype: int64"
      ]
     },
     "execution_count": 2659,
     "metadata": {},
     "output_type": "execute_result"
    }
   ],
   "source": [
    "internet['StreamingTV'].value_counts()"
   ]
  },
  {
   "cell_type": "code",
   "execution_count": 2660,
   "id": "7c6ceab5-5a0a-4028-8216-53f1938d3bfa",
   "metadata": {},
   "outputs": [
    {
     "data": {
      "text/plain": [
       "dtype('int64')"
      ]
     },
     "execution_count": 2660,
     "metadata": {},
     "output_type": "execute_result"
    }
   ],
   "source": [
    "internet['StreamingTV'].dtype"
   ]
  },
  {
   "cell_type": "markdown",
   "id": "416d8d22-3108-4dd4-badb-3a10c713c00a",
   "metadata": {},
   "source": [
    "- <span style=\"color: blue; font-size: 14px;\"><strong>examine StreamingMovies column</strong></span>"
   ]
  },
  {
   "cell_type": "code",
   "execution_count": 2662,
   "id": "cb861d87-da93-43ec-9486-eedd4cdcd97e",
   "metadata": {},
   "outputs": [
    {
     "data": {
      "text/plain": [
       "StreamingMovies\n",
       "No     2785\n",
       "Yes    2732\n",
       "Name: count, dtype: int64"
      ]
     },
     "execution_count": 2662,
     "metadata": {},
     "output_type": "execute_result"
    }
   ],
   "source": [
    "internet.StreamingMovies.value_counts()"
   ]
  },
  {
   "cell_type": "code",
   "execution_count": 2663,
   "id": "6292bff4-1dfc-4c27-af47-fddac8defcb0",
   "metadata": {},
   "outputs": [],
   "source": [
    "internet['StreamingMovies'] = internet['StreamingMovies'].map({'Yes': 1, 'No': 0})"
   ]
  },
  {
   "cell_type": "code",
   "execution_count": 2664,
   "id": "43644e45-a22f-4a04-a393-814faa426b4a",
   "metadata": {},
   "outputs": [
    {
     "data": {
      "text/plain": [
       "StreamingMovies\n",
       "0    2785\n",
       "1    2732\n",
       "Name: count, dtype: int64"
      ]
     },
     "execution_count": 2664,
     "metadata": {},
     "output_type": "execute_result"
    }
   ],
   "source": [
    "internet['StreamingMovies'].value_counts()"
   ]
  },
  {
   "cell_type": "code",
   "execution_count": 2665,
   "id": "70215e2e-b335-4e17-83d0-7bf561103bc0",
   "metadata": {},
   "outputs": [
    {
     "data": {
      "text/plain": [
       "dtype('int64')"
      ]
     },
     "execution_count": 2665,
     "metadata": {},
     "output_type": "execute_result"
    }
   ],
   "source": [
    "internet['StreamingMovies'].dtype"
   ]
  },
  {
   "cell_type": "markdown",
   "id": "80f34c04-56fe-4c37-89c6-938667580562",
   "metadata": {},
   "source": [
    "- <span style=\"color: blue; font-size: 14px;\"><strong>double check data types of internet dataset:</strong></span>"
   ]
  },
  {
   "cell_type": "code",
   "execution_count": 2667,
   "id": "ba1a8208-5e3c-4fb3-8436-a4164f9b997b",
   "metadata": {},
   "outputs": [
    {
     "name": "stdout",
     "output_type": "stream",
     "text": [
      "<class 'pandas.core.frame.DataFrame'>\n",
      "RangeIndex: 5517 entries, 0 to 5516\n",
      "Data columns (total 8 columns):\n",
      " #   Column            Non-Null Count  Dtype \n",
      "---  ------            --------------  ----- \n",
      " 0   customerID        5517 non-null   object\n",
      " 1   InternetService   5517 non-null   int64 \n",
      " 2   OnlineSecurity    5517 non-null   int64 \n",
      " 3   OnlineBackup      5517 non-null   int64 \n",
      " 4   DeviceProtection  5517 non-null   int64 \n",
      " 5   TechSupport       5517 non-null   int64 \n",
      " 6   StreamingTV       5517 non-null   int64 \n",
      " 7   StreamingMovies   5517 non-null   int64 \n",
      "dtypes: int64(7), object(1)\n",
      "memory usage: 344.9+ KB\n"
     ]
    }
   ],
   "source": [
    "internet.info()"
   ]
  },
  {
   "cell_type": "markdown",
   "id": "c7cac15b-b10f-4d86-9943-0da9901ae90b",
   "metadata": {},
   "source": [
    "- <span style=\"color: blue; font-size: 18px;\"><strong>examine personal dataset</strong></span>"
   ]
  },
  {
   "cell_type": "code",
   "execution_count": 2669,
   "id": "7811631b-2690-479e-8e6a-327b3d5deea7",
   "metadata": {},
   "outputs": [
    {
     "name": "stdout",
     "output_type": "stream",
     "text": [
      "<class 'pandas.core.frame.DataFrame'>\n",
      "RangeIndex: 7043 entries, 0 to 7042\n",
      "Data columns (total 5 columns):\n",
      " #   Column         Non-Null Count  Dtype \n",
      "---  ------         --------------  ----- \n",
      " 0   customerID     7043 non-null   object\n",
      " 1   gender         7043 non-null   object\n",
      " 2   SeniorCitizen  7043 non-null   int64 \n",
      " 3   Partner        7043 non-null   object\n",
      " 4   Dependents     7043 non-null   object\n",
      "dtypes: int64(1), object(4)\n",
      "memory usage: 275.2+ KB\n"
     ]
    }
   ],
   "source": [
    "personal.info()"
   ]
  },
  {
   "cell_type": "markdown",
   "id": "333b1e5e-df3a-4994-95cb-99c04141c0e9",
   "metadata": {},
   "source": [
    "- <span style=\"color: blue; font-size: 14px;\"><strong>examine gender column</strong></span>"
   ]
  },
  {
   "cell_type": "code",
   "execution_count": 2671,
   "id": "0d30c508-2c1c-42a7-b1cf-bc1fc69f237e",
   "metadata": {},
   "outputs": [
    {
     "data": {
      "text/plain": [
       "gender\n",
       "Male      3555\n",
       "Female    3488\n",
       "Name: count, dtype: int64"
      ]
     },
     "execution_count": 2671,
     "metadata": {},
     "output_type": "execute_result"
    }
   ],
   "source": [
    "personal.gender.value_counts()"
   ]
  },
  {
   "cell_type": "code",
   "execution_count": 2672,
   "id": "e3782adf-ff67-4380-81da-5424690986cd",
   "metadata": {},
   "outputs": [],
   "source": [
    "personal['gender'] = personal['gender'].map({'Male': 1, 'Female': 0})"
   ]
  },
  {
   "cell_type": "code",
   "execution_count": 2673,
   "id": "5bebd0bd-d1b0-4492-b84d-8b64e692cf2d",
   "metadata": {},
   "outputs": [
    {
     "name": "stderr",
     "output_type": "stream",
     "text": [
      "/Users/wranglerdeb/anaconda3/lib/python3.11/site-packages/IPython/core/displayhook.py:281: UserWarning: Output cache limit (currently 1000 entries) hit.\n",
      "Flushing oldest 200 entries.\n",
      "  warn('Output cache limit (currently {sz} entries) hit.\\n'\n"
     ]
    },
    {
     "data": {
      "text/plain": [
       "gender\n",
       "1    3555\n",
       "0    3488\n",
       "Name: count, dtype: int64"
      ]
     },
     "execution_count": 2673,
     "metadata": {},
     "output_type": "execute_result"
    }
   ],
   "source": [
    "personal.gender.value_counts()"
   ]
  },
  {
   "cell_type": "code",
   "execution_count": 2674,
   "id": "5082e5f2-9444-4579-a841-b622d82f2277",
   "metadata": {},
   "outputs": [
    {
     "data": {
      "text/plain": [
       "dtype('int64')"
      ]
     },
     "execution_count": 2674,
     "metadata": {},
     "output_type": "execute_result"
    }
   ],
   "source": [
    "personal['gender'].dtypes"
   ]
  },
  {
   "cell_type": "markdown",
   "id": "18f63c6c-a569-4c65-97c4-19e4efb853bb",
   "metadata": {},
   "source": [
    "- <span style=\"color: blue; font-size: 14px;\"><strong>examine SeniorCitizen column</strong></span>"
   ]
  },
  {
   "cell_type": "code",
   "execution_count": 2676,
   "id": "bcc01df2-73dd-4863-9d29-69fe3f65199b",
   "metadata": {},
   "outputs": [
    {
     "data": {
      "text/plain": [
       "SeniorCitizen\n",
       "0    5901\n",
       "1    1142\n",
       "Name: count, dtype: int64"
      ]
     },
     "execution_count": 2676,
     "metadata": {},
     "output_type": "execute_result"
    }
   ],
   "source": [
    "personal.SeniorCitizen.value_counts()"
   ]
  },
  {
   "cell_type": "code",
   "execution_count": 2677,
   "id": "36b27fbd-57cf-4e88-8c0b-59b8bdebffef",
   "metadata": {},
   "outputs": [
    {
     "data": {
      "text/plain": [
       "dtype('int64')"
      ]
     },
     "execution_count": 2677,
     "metadata": {},
     "output_type": "execute_result"
    }
   ],
   "source": [
    "personal['SeniorCitizen'].dtype"
   ]
  },
  {
   "cell_type": "markdown",
   "id": "be484e79-87a5-44a4-8c42-05b0a75e1db4",
   "metadata": {},
   "source": [
    "- <span style=\"color: blue; font-size: 14px;\"><strong>examine Partner column</strong></span>"
   ]
  },
  {
   "cell_type": "code",
   "execution_count": 2679,
   "id": "79ea9fd1-285b-4048-b645-a697f9cf9dc9",
   "metadata": {},
   "outputs": [
    {
     "data": {
      "text/plain": [
       "Partner\n",
       "No     3641\n",
       "Yes    3402\n",
       "Name: count, dtype: int64"
      ]
     },
     "execution_count": 2679,
     "metadata": {},
     "output_type": "execute_result"
    }
   ],
   "source": [
    "personal.Partner.value_counts()"
   ]
  },
  {
   "cell_type": "code",
   "execution_count": 2680,
   "id": "1643860e-ac3b-4e21-93b6-c8e4e43746a1",
   "metadata": {},
   "outputs": [],
   "source": [
    "personal['Partner'] = personal['Partner'].map({'Yes': 1, 'No': 0})"
   ]
  },
  {
   "cell_type": "code",
   "execution_count": 2681,
   "id": "b233e995-debd-41f4-b709-3ec9c657c7d3",
   "metadata": {},
   "outputs": [
    {
     "data": {
      "text/plain": [
       "Partner\n",
       "0    3641\n",
       "1    3402\n",
       "Name: count, dtype: int64"
      ]
     },
     "execution_count": 2681,
     "metadata": {},
     "output_type": "execute_result"
    }
   ],
   "source": [
    "personal.Partner.value_counts()"
   ]
  },
  {
   "cell_type": "code",
   "execution_count": 2682,
   "id": "ab85bd68-2da0-4390-8726-e0b27eb4a88c",
   "metadata": {},
   "outputs": [
    {
     "data": {
      "text/plain": [
       "dtype('int64')"
      ]
     },
     "execution_count": 2682,
     "metadata": {},
     "output_type": "execute_result"
    }
   ],
   "source": [
    "personal['Partner'].dtype"
   ]
  },
  {
   "cell_type": "markdown",
   "id": "78f51159-752e-44ae-ad02-43dd9208f89c",
   "metadata": {},
   "source": [
    "- <span style=\"color: blue; font-size: 14px;\"><strong>examine Dependents column</strong></span>"
   ]
  },
  {
   "cell_type": "code",
   "execution_count": 2684,
   "id": "7ea33720-e433-4d86-ac79-97dd98ce9733",
   "metadata": {},
   "outputs": [
    {
     "data": {
      "text/plain": [
       "Dependents\n",
       "No     4933\n",
       "Yes    2110\n",
       "Name: count, dtype: int64"
      ]
     },
     "execution_count": 2684,
     "metadata": {},
     "output_type": "execute_result"
    }
   ],
   "source": [
    "personal.Dependents.value_counts()"
   ]
  },
  {
   "cell_type": "code",
   "execution_count": 2685,
   "id": "e89e6af6-f3a9-4dbe-a4c8-06ac3a48c13d",
   "metadata": {},
   "outputs": [],
   "source": [
    "personal['Dependents'] = personal['Dependents'].map({'Yes': 1, 'No': 0})"
   ]
  },
  {
   "cell_type": "code",
   "execution_count": 2686,
   "id": "87153c5f-ae91-4464-aab8-77e9fdd4b923",
   "metadata": {},
   "outputs": [
    {
     "data": {
      "text/plain": [
       "Dependents\n",
       "0    4933\n",
       "1    2110\n",
       "Name: count, dtype: int64"
      ]
     },
     "execution_count": 2686,
     "metadata": {},
     "output_type": "execute_result"
    }
   ],
   "source": [
    "personal.Dependents.value_counts()"
   ]
  },
  {
   "cell_type": "code",
   "execution_count": 2687,
   "id": "ea6a770b-7daf-4ea5-9e43-f7a892779e4b",
   "metadata": {},
   "outputs": [
    {
     "data": {
      "text/plain": [
       "dtype('int64')"
      ]
     },
     "execution_count": 2687,
     "metadata": {},
     "output_type": "execute_result"
    }
   ],
   "source": [
    "personal['Partner'].dtype"
   ]
  },
  {
   "cell_type": "markdown",
   "id": "846d4d51-9dce-4d9c-b646-c471446d14f2",
   "metadata": {},
   "source": [
    "- <span style=\"color: blue; font-size: 14px;\"><strong>double check the data types in the personal dataset:</strong></span>"
   ]
  },
  {
   "cell_type": "code",
   "execution_count": 2689,
   "id": "e1cd7999-b31d-42a2-aa89-ce4243765c50",
   "metadata": {},
   "outputs": [
    {
     "name": "stdout",
     "output_type": "stream",
     "text": [
      "<class 'pandas.core.frame.DataFrame'>\n",
      "RangeIndex: 7043 entries, 0 to 7042\n",
      "Data columns (total 5 columns):\n",
      " #   Column         Non-Null Count  Dtype \n",
      "---  ------         --------------  ----- \n",
      " 0   customerID     7043 non-null   object\n",
      " 1   gender         7043 non-null   int64 \n",
      " 2   SeniorCitizen  7043 non-null   int64 \n",
      " 3   Partner        7043 non-null   int64 \n",
      " 4   Dependents     7043 non-null   int64 \n",
      "dtypes: int64(4), object(1)\n",
      "memory usage: 275.2+ KB\n"
     ]
    }
   ],
   "source": [
    "personal.info()"
   ]
  },
  {
   "cell_type": "markdown",
   "id": "1f54c2de-282c-4f2f-89ba-5de442ccb8da",
   "metadata": {},
   "source": [
    "- <span style=\"color: blue; font-size: 18px;\"><strong>examine phone dataset</strong></span>"
   ]
  },
  {
   "cell_type": "code",
   "execution_count": 2691,
   "id": "0484673f-32aa-4f5b-825d-b7dee8426e68",
   "metadata": {},
   "outputs": [
    {
     "name": "stdout",
     "output_type": "stream",
     "text": [
      "<class 'pandas.core.frame.DataFrame'>\n",
      "RangeIndex: 6361 entries, 0 to 6360\n",
      "Data columns (total 2 columns):\n",
      " #   Column         Non-Null Count  Dtype \n",
      "---  ------         --------------  ----- \n",
      " 0   customerID     6361 non-null   object\n",
      " 1   MultipleLines  6361 non-null   object\n",
      "dtypes: object(2)\n",
      "memory usage: 99.5+ KB\n"
     ]
    }
   ],
   "source": [
    "phone.info()"
   ]
  },
  {
   "cell_type": "markdown",
   "id": "2013d2ba-a2b8-4bd9-ac51-a5a5af340892",
   "metadata": {},
   "source": [
    "- <span style=\"color: blue; font-size: 14px;\"><strong>examine MultipleLines column</strong></span>"
   ]
  },
  {
   "cell_type": "code",
   "execution_count": 2693,
   "id": "04d4222f-663c-4bcf-a4c9-d3e2611c35bb",
   "metadata": {},
   "outputs": [
    {
     "data": {
      "text/plain": [
       "MultipleLines\n",
       "No     3390\n",
       "Yes    2971\n",
       "Name: count, dtype: int64"
      ]
     },
     "execution_count": 2693,
     "metadata": {},
     "output_type": "execute_result"
    }
   ],
   "source": [
    "phone.MultipleLines.value_counts()"
   ]
  },
  {
   "cell_type": "code",
   "execution_count": 2694,
   "id": "25335157-2d13-4cb1-b78b-c83bf9e9b931",
   "metadata": {},
   "outputs": [],
   "source": [
    "phone['MultipleLines'] = phone['MultipleLines'].map({'No': 0, 'Yes': 1})"
   ]
  },
  {
   "cell_type": "code",
   "execution_count": 2695,
   "id": "c52a1804-da23-4f61-afe9-73904f38dc53",
   "metadata": {},
   "outputs": [
    {
     "data": {
      "text/plain": [
       "dtype('int64')"
      ]
     },
     "execution_count": 2695,
     "metadata": {},
     "output_type": "execute_result"
    }
   ],
   "source": [
    "phone['MultipleLines'].dtype"
   ]
  },
  {
   "cell_type": "markdown",
   "id": "5c20086c-1d41-4d25-8e8c-f53cc6294490",
   "metadata": {},
   "source": [
    "- <span style=\"color: blue; font-size: 14px;\"><strong>double check the data types in the phone dataset:</strong></span>"
   ]
  },
  {
   "cell_type": "code",
   "execution_count": 2697,
   "id": "3f3b97c1-a12f-46c9-b3b9-1576cdbffca6",
   "metadata": {},
   "outputs": [
    {
     "name": "stdout",
     "output_type": "stream",
     "text": [
      "<class 'pandas.core.frame.DataFrame'>\n",
      "RangeIndex: 6361 entries, 0 to 6360\n",
      "Data columns (total 2 columns):\n",
      " #   Column         Non-Null Count  Dtype \n",
      "---  ------         --------------  ----- \n",
      " 0   customerID     6361 non-null   object\n",
      " 1   MultipleLines  6361 non-null   int64 \n",
      "dtypes: int64(1), object(1)\n",
      "memory usage: 99.5+ KB\n"
     ]
    }
   ],
   "source": [
    "phone.info()"
   ]
  },
  {
   "cell_type": "markdown",
   "id": "8aecbc60-2d58-4036-97af-e500c45167b1",
   "metadata": {},
   "source": [
    "<H2>Merge Dataframes:</H2>"
   ]
  },
  {
   "cell_type": "markdown",
   "id": "a65d90a1-3756-497c-a9b9-60293577f267",
   "metadata": {},
   "source": [
    "- <span style=\"color: blue; font-size: 14px;\"><strong>Add indexes on the customerID columns before merging:</strong></span>"
   ]
  },
  {
   "cell_type": "code",
   "execution_count": 2700,
   "id": "cfb7e4d0-d047-4609-8a43-d694a558da50",
   "metadata": {},
   "outputs": [],
   "source": [
    "contract.set_index('customerID', inplace=True)\n",
    "internet.set_index('customerID', inplace=True)\n",
    "personal.set_index('customerID', inplace=True)\n",
    "phone.set_index('customerID', inplace=True)"
   ]
  },
  {
   "cell_type": "code",
   "execution_count": 2701,
   "id": "d80209ae-9ea2-4aa4-b606-7308d1177dbc",
   "metadata": {},
   "outputs": [],
   "source": [
    "# Then merge using the indexes\n",
    "merged_df = contract.join([internet, personal, phone], how='outer')"
   ]
  },
  {
   "cell_type": "code",
   "execution_count": 2702,
   "id": "0b04ac60-1cfc-4e15-8fed-a88bab0c517d",
   "metadata": {},
   "outputs": [],
   "source": [
    "merged_df.reset_index(inplace=True)"
   ]
  },
  {
   "cell_type": "code",
   "execution_count": 2703,
   "id": "7eeda8fd-f5d4-455c-bc15-e8b015a4c88d",
   "metadata": {},
   "outputs": [
    {
     "data": {
      "text/html": [
       "<div>\n",
       "<style scoped>\n",
       "    .dataframe tbody tr th:only-of-type {\n",
       "        vertical-align: middle;\n",
       "    }\n",
       "\n",
       "    .dataframe tbody tr th {\n",
       "        vertical-align: top;\n",
       "    }\n",
       "\n",
       "    .dataframe thead th {\n",
       "        text-align: right;\n",
       "    }\n",
       "</style>\n",
       "<table border=\"1\" class=\"dataframe\">\n",
       "  <thead>\n",
       "    <tr style=\"text-align: right;\">\n",
       "      <th></th>\n",
       "      <th>customerID</th>\n",
       "      <th>BeginDate</th>\n",
       "      <th>EndDate</th>\n",
       "      <th>Type</th>\n",
       "      <th>PaperlessBilling</th>\n",
       "      <th>PaymentMethod</th>\n",
       "      <th>MonthlyCharges</th>\n",
       "      <th>TotalCharges</th>\n",
       "      <th>InternetService</th>\n",
       "      <th>OnlineSecurity</th>\n",
       "      <th>OnlineBackup</th>\n",
       "      <th>DeviceProtection</th>\n",
       "      <th>TechSupport</th>\n",
       "      <th>StreamingTV</th>\n",
       "      <th>StreamingMovies</th>\n",
       "      <th>gender</th>\n",
       "      <th>SeniorCitizen</th>\n",
       "      <th>Partner</th>\n",
       "      <th>Dependents</th>\n",
       "      <th>MultipleLines</th>\n",
       "    </tr>\n",
       "  </thead>\n",
       "  <tbody>\n",
       "    <tr>\n",
       "      <th>0</th>\n",
       "      <td>7590-VHVEG</td>\n",
       "      <td>2020-01-01</td>\n",
       "      <td>0</td>\n",
       "      <td>0</td>\n",
       "      <td>1</td>\n",
       "      <td>0</td>\n",
       "      <td>29.85</td>\n",
       "      <td>29.85</td>\n",
       "      <td>0.0</td>\n",
       "      <td>0.0</td>\n",
       "      <td>1.0</td>\n",
       "      <td>0.0</td>\n",
       "      <td>0.0</td>\n",
       "      <td>0.0</td>\n",
       "      <td>0.0</td>\n",
       "      <td>0</td>\n",
       "      <td>0</td>\n",
       "      <td>1</td>\n",
       "      <td>0</td>\n",
       "      <td>NaN</td>\n",
       "    </tr>\n",
       "    <tr>\n",
       "      <th>1</th>\n",
       "      <td>5575-GNVDE</td>\n",
       "      <td>2017-04-01</td>\n",
       "      <td>0</td>\n",
       "      <td>1</td>\n",
       "      <td>0</td>\n",
       "      <td>1</td>\n",
       "      <td>56.95</td>\n",
       "      <td>1889.50</td>\n",
       "      <td>0.0</td>\n",
       "      <td>1.0</td>\n",
       "      <td>0.0</td>\n",
       "      <td>1.0</td>\n",
       "      <td>0.0</td>\n",
       "      <td>0.0</td>\n",
       "      <td>0.0</td>\n",
       "      <td>1</td>\n",
       "      <td>0</td>\n",
       "      <td>0</td>\n",
       "      <td>0</td>\n",
       "      <td>0.0</td>\n",
       "    </tr>\n",
       "    <tr>\n",
       "      <th>2</th>\n",
       "      <td>3668-QPYBK</td>\n",
       "      <td>2019-10-01</td>\n",
       "      <td>1</td>\n",
       "      <td>0</td>\n",
       "      <td>1</td>\n",
       "      <td>1</td>\n",
       "      <td>53.85</td>\n",
       "      <td>108.15</td>\n",
       "      <td>0.0</td>\n",
       "      <td>1.0</td>\n",
       "      <td>1.0</td>\n",
       "      <td>0.0</td>\n",
       "      <td>0.0</td>\n",
       "      <td>0.0</td>\n",
       "      <td>0.0</td>\n",
       "      <td>1</td>\n",
       "      <td>0</td>\n",
       "      <td>0</td>\n",
       "      <td>0</td>\n",
       "      <td>0.0</td>\n",
       "    </tr>\n",
       "    <tr>\n",
       "      <th>3</th>\n",
       "      <td>7795-CFOCW</td>\n",
       "      <td>2016-05-01</td>\n",
       "      <td>0</td>\n",
       "      <td>1</td>\n",
       "      <td>0</td>\n",
       "      <td>2</td>\n",
       "      <td>42.30</td>\n",
       "      <td>1840.75</td>\n",
       "      <td>0.0</td>\n",
       "      <td>1.0</td>\n",
       "      <td>0.0</td>\n",
       "      <td>1.0</td>\n",
       "      <td>1.0</td>\n",
       "      <td>0.0</td>\n",
       "      <td>0.0</td>\n",
       "      <td>1</td>\n",
       "      <td>0</td>\n",
       "      <td>0</td>\n",
       "      <td>0</td>\n",
       "      <td>NaN</td>\n",
       "    </tr>\n",
       "    <tr>\n",
       "      <th>4</th>\n",
       "      <td>9237-HQITU</td>\n",
       "      <td>2019-09-01</td>\n",
       "      <td>1</td>\n",
       "      <td>0</td>\n",
       "      <td>1</td>\n",
       "      <td>0</td>\n",
       "      <td>70.70</td>\n",
       "      <td>151.65</td>\n",
       "      <td>1.0</td>\n",
       "      <td>0.0</td>\n",
       "      <td>0.0</td>\n",
       "      <td>0.0</td>\n",
       "      <td>0.0</td>\n",
       "      <td>0.0</td>\n",
       "      <td>0.0</td>\n",
       "      <td>0</td>\n",
       "      <td>0</td>\n",
       "      <td>0</td>\n",
       "      <td>0</td>\n",
       "      <td>0.0</td>\n",
       "    </tr>\n",
       "    <tr>\n",
       "      <th>5</th>\n",
       "      <td>9305-CDSKC</td>\n",
       "      <td>2019-03-01</td>\n",
       "      <td>1</td>\n",
       "      <td>0</td>\n",
       "      <td>1</td>\n",
       "      <td>0</td>\n",
       "      <td>99.65</td>\n",
       "      <td>820.50</td>\n",
       "      <td>1.0</td>\n",
       "      <td>0.0</td>\n",
       "      <td>0.0</td>\n",
       "      <td>1.0</td>\n",
       "      <td>0.0</td>\n",
       "      <td>1.0</td>\n",
       "      <td>1.0</td>\n",
       "      <td>0</td>\n",
       "      <td>0</td>\n",
       "      <td>0</td>\n",
       "      <td>0</td>\n",
       "      <td>1.0</td>\n",
       "    </tr>\n",
       "    <tr>\n",
       "      <th>6</th>\n",
       "      <td>1452-KIOVK</td>\n",
       "      <td>2018-04-01</td>\n",
       "      <td>0</td>\n",
       "      <td>0</td>\n",
       "      <td>1</td>\n",
       "      <td>3</td>\n",
       "      <td>89.10</td>\n",
       "      <td>1949.40</td>\n",
       "      <td>1.0</td>\n",
       "      <td>0.0</td>\n",
       "      <td>1.0</td>\n",
       "      <td>0.0</td>\n",
       "      <td>0.0</td>\n",
       "      <td>1.0</td>\n",
       "      <td>0.0</td>\n",
       "      <td>1</td>\n",
       "      <td>0</td>\n",
       "      <td>0</td>\n",
       "      <td>1</td>\n",
       "      <td>1.0</td>\n",
       "    </tr>\n",
       "    <tr>\n",
       "      <th>7</th>\n",
       "      <td>6713-OKOMC</td>\n",
       "      <td>2019-04-01</td>\n",
       "      <td>0</td>\n",
       "      <td>0</td>\n",
       "      <td>0</td>\n",
       "      <td>1</td>\n",
       "      <td>29.75</td>\n",
       "      <td>301.90</td>\n",
       "      <td>0.0</td>\n",
       "      <td>1.0</td>\n",
       "      <td>0.0</td>\n",
       "      <td>0.0</td>\n",
       "      <td>0.0</td>\n",
       "      <td>0.0</td>\n",
       "      <td>0.0</td>\n",
       "      <td>0</td>\n",
       "      <td>0</td>\n",
       "      <td>0</td>\n",
       "      <td>0</td>\n",
       "      <td>NaN</td>\n",
       "    </tr>\n",
       "    <tr>\n",
       "      <th>8</th>\n",
       "      <td>7892-POOKP</td>\n",
       "      <td>2017-07-01</td>\n",
       "      <td>1</td>\n",
       "      <td>0</td>\n",
       "      <td>1</td>\n",
       "      <td>0</td>\n",
       "      <td>104.80</td>\n",
       "      <td>3046.05</td>\n",
       "      <td>1.0</td>\n",
       "      <td>0.0</td>\n",
       "      <td>0.0</td>\n",
       "      <td>1.0</td>\n",
       "      <td>1.0</td>\n",
       "      <td>1.0</td>\n",
       "      <td>1.0</td>\n",
       "      <td>0</td>\n",
       "      <td>0</td>\n",
       "      <td>1</td>\n",
       "      <td>0</td>\n",
       "      <td>1.0</td>\n",
       "    </tr>\n",
       "    <tr>\n",
       "      <th>9</th>\n",
       "      <td>6388-TABGU</td>\n",
       "      <td>2014-12-01</td>\n",
       "      <td>0</td>\n",
       "      <td>1</td>\n",
       "      <td>0</td>\n",
       "      <td>2</td>\n",
       "      <td>56.15</td>\n",
       "      <td>3487.95</td>\n",
       "      <td>0.0</td>\n",
       "      <td>1.0</td>\n",
       "      <td>1.0</td>\n",
       "      <td>0.0</td>\n",
       "      <td>0.0</td>\n",
       "      <td>0.0</td>\n",
       "      <td>0.0</td>\n",
       "      <td>1</td>\n",
       "      <td>0</td>\n",
       "      <td>0</td>\n",
       "      <td>1</td>\n",
       "      <td>0.0</td>\n",
       "    </tr>\n",
       "  </tbody>\n",
       "</table>\n",
       "</div>"
      ],
      "text/plain": [
       "   customerID  BeginDate  EndDate Type  PaperlessBilling PaymentMethod  \\\n",
       "0  7590-VHVEG 2020-01-01        0    0                 1             0   \n",
       "1  5575-GNVDE 2017-04-01        0    1                 0             1   \n",
       "2  3668-QPYBK 2019-10-01        1    0                 1             1   \n",
       "3  7795-CFOCW 2016-05-01        0    1                 0             2   \n",
       "4  9237-HQITU 2019-09-01        1    0                 1             0   \n",
       "5  9305-CDSKC 2019-03-01        1    0                 1             0   \n",
       "6  1452-KIOVK 2018-04-01        0    0                 1             3   \n",
       "7  6713-OKOMC 2019-04-01        0    0                 0             1   \n",
       "8  7892-POOKP 2017-07-01        1    0                 1             0   \n",
       "9  6388-TABGU 2014-12-01        0    1                 0             2   \n",
       "\n",
       "   MonthlyCharges  TotalCharges  InternetService  OnlineSecurity  \\\n",
       "0           29.85         29.85              0.0             0.0   \n",
       "1           56.95       1889.50              0.0             1.0   \n",
       "2           53.85        108.15              0.0             1.0   \n",
       "3           42.30       1840.75              0.0             1.0   \n",
       "4           70.70        151.65              1.0             0.0   \n",
       "5           99.65        820.50              1.0             0.0   \n",
       "6           89.10       1949.40              1.0             0.0   \n",
       "7           29.75        301.90              0.0             1.0   \n",
       "8          104.80       3046.05              1.0             0.0   \n",
       "9           56.15       3487.95              0.0             1.0   \n",
       "\n",
       "   OnlineBackup  DeviceProtection  TechSupport  StreamingTV  StreamingMovies  \\\n",
       "0           1.0               0.0          0.0          0.0              0.0   \n",
       "1           0.0               1.0          0.0          0.0              0.0   \n",
       "2           1.0               0.0          0.0          0.0              0.0   \n",
       "3           0.0               1.0          1.0          0.0              0.0   \n",
       "4           0.0               0.0          0.0          0.0              0.0   \n",
       "5           0.0               1.0          0.0          1.0              1.0   \n",
       "6           1.0               0.0          0.0          1.0              0.0   \n",
       "7           0.0               0.0          0.0          0.0              0.0   \n",
       "8           0.0               1.0          1.0          1.0              1.0   \n",
       "9           1.0               0.0          0.0          0.0              0.0   \n",
       "\n",
       "   gender  SeniorCitizen  Partner  Dependents  MultipleLines  \n",
       "0       0              0        1           0            NaN  \n",
       "1       1              0        0           0            0.0  \n",
       "2       1              0        0           0            0.0  \n",
       "3       1              0        0           0            NaN  \n",
       "4       0              0        0           0            0.0  \n",
       "5       0              0        0           0            1.0  \n",
       "6       1              0        0           1            1.0  \n",
       "7       0              0        0           0            NaN  \n",
       "8       0              0        1           0            1.0  \n",
       "9       1              0        0           1            0.0  "
      ]
     },
     "metadata": {},
     "output_type": "display_data"
    }
   ],
   "source": [
    "display(merged_df.head(10)) "
   ]
  },
  {
   "cell_type": "code",
   "execution_count": 2704,
   "id": "bc520cf5-854b-42e0-8f19-47e5ef5fd4a1",
   "metadata": {},
   "outputs": [
    {
     "name": "stdout",
     "output_type": "stream",
     "text": [
      "<class 'pandas.core.frame.DataFrame'>\n",
      "RangeIndex: 7043 entries, 0 to 7042\n",
      "Data columns (total 20 columns):\n",
      " #   Column            Non-Null Count  Dtype         \n",
      "---  ------            --------------  -----         \n",
      " 0   customerID        7043 non-null   object        \n",
      " 1   BeginDate         7043 non-null   datetime64[ns]\n",
      " 2   EndDate           7043 non-null   int64         \n",
      " 3   Type              7043 non-null   category      \n",
      " 4   PaperlessBilling  7043 non-null   int64         \n",
      " 5   PaymentMethod     7043 non-null   category      \n",
      " 6   MonthlyCharges    7043 non-null   float64       \n",
      " 7   TotalCharges      7032 non-null   float64       \n",
      " 8   InternetService   5517 non-null   float64       \n",
      " 9   OnlineSecurity    5517 non-null   float64       \n",
      " 10  OnlineBackup      5517 non-null   float64       \n",
      " 11  DeviceProtection  5517 non-null   float64       \n",
      " 12  TechSupport       5517 non-null   float64       \n",
      " 13  StreamingTV       5517 non-null   float64       \n",
      " 14  StreamingMovies   5517 non-null   float64       \n",
      " 15  gender            7043 non-null   int64         \n",
      " 16  SeniorCitizen     7043 non-null   int64         \n",
      " 17  Partner           7043 non-null   int64         \n",
      " 18  Dependents        7043 non-null   int64         \n",
      " 19  MultipleLines     6361 non-null   float64       \n",
      "dtypes: category(2), datetime64[ns](1), float64(10), int64(6), object(1)\n",
      "memory usage: 1004.6+ KB\n"
     ]
    }
   ],
   "source": [
    "merged_df.info()"
   ]
  },
  {
   "cell_type": "markdown",
   "id": "24a6819b-a28f-4328-8dd7-9d1361c298dc",
   "metadata": {},
   "source": [
    "These columns' data types have been altered, after the merge:\n",
    "- MultipleLines\n",
    "- InternetService\n",
    "- OnlineSecurity\n",
    "- OnlineBackup\n",
    "- DeviceProtection\n",
    "- TechSupport\n",
    "- StreamingTV\n",
    "- StreamingMovies\n",
    "They will need to be changed back to type int64."
   ]
  },
  {
   "cell_type": "markdown",
   "id": "8e0f6cb5-b7c0-45cd-8b5d-bf76d4cd6729",
   "metadata": {},
   "source": [
    "- <span style=\"color: blue; font-size: 16px;\"><strong>convert datatypes again</strong></span>"
   ]
  },
  {
   "cell_type": "code",
   "execution_count": 2707,
   "id": "499e66ae-ca02-4d26-8dd4-0a97545f576e",
   "metadata": {},
   "outputs": [],
   "source": [
    "# Convert MultipleLines back to int64\n",
    "merged_df['MultipleLines'] = merged_df['MultipleLines'].fillna(0).astype('int64')"
   ]
  },
  {
   "cell_type": "code",
   "execution_count": 2708,
   "id": "44dc0871-013a-4567-9347-d9d5126a6a39",
   "metadata": {},
   "outputs": [],
   "source": [
    "columns_to_convert = [\n",
    "    'InternetService',\n",
    "    'OnlineSecurity',\n",
    "    'OnlineBackup',\n",
    "    'DeviceProtection',\n",
    "    'TechSupport',\n",
    "    'StreamingTV',\n",
    "    'StreamingMovies',\n",
    "]"
   ]
  },
  {
   "cell_type": "code",
   "execution_count": 2709,
   "id": "c3786e0a-f944-4813-abf5-7127c8863151",
   "metadata": {},
   "outputs": [],
   "source": [
    "for column in columns_to_convert:\n",
    "    merged_df[column] = merged_df[column].fillna(0).astype('int64')"
   ]
  },
  {
   "cell_type": "code",
   "execution_count": 2710,
   "id": "d4f812ad-3330-4de0-b83e-fe2a8e666cea",
   "metadata": {},
   "outputs": [
    {
     "name": "stdout",
     "output_type": "stream",
     "text": [
      "<class 'pandas.core.frame.DataFrame'>\n",
      "RangeIndex: 7043 entries, 0 to 7042\n",
      "Data columns (total 20 columns):\n",
      " #   Column            Non-Null Count  Dtype         \n",
      "---  ------            --------------  -----         \n",
      " 0   customerID        7043 non-null   object        \n",
      " 1   BeginDate         7043 non-null   datetime64[ns]\n",
      " 2   EndDate           7043 non-null   int64         \n",
      " 3   Type              7043 non-null   category      \n",
      " 4   PaperlessBilling  7043 non-null   int64         \n",
      " 5   PaymentMethod     7043 non-null   category      \n",
      " 6   MonthlyCharges    7043 non-null   float64       \n",
      " 7   TotalCharges      7032 non-null   float64       \n",
      " 8   InternetService   7043 non-null   int64         \n",
      " 9   OnlineSecurity    7043 non-null   int64         \n",
      " 10  OnlineBackup      7043 non-null   int64         \n",
      " 11  DeviceProtection  7043 non-null   int64         \n",
      " 12  TechSupport       7043 non-null   int64         \n",
      " 13  StreamingTV       7043 non-null   int64         \n",
      " 14  StreamingMovies   7043 non-null   int64         \n",
      " 15  gender            7043 non-null   int64         \n",
      " 16  SeniorCitizen     7043 non-null   int64         \n",
      " 17  Partner           7043 non-null   int64         \n",
      " 18  Dependents        7043 non-null   int64         \n",
      " 19  MultipleLines     7043 non-null   int64         \n",
      "dtypes: category(2), datetime64[ns](1), float64(2), int64(14), object(1)\n",
      "memory usage: 1004.6+ KB\n"
     ]
    }
   ],
   "source": [
    "merged_df.info()"
   ]
  },
  {
   "cell_type": "markdown",
   "id": "208e9366-2ed5-484e-b62a-171dcf12e376",
   "metadata": {},
   "source": [
    "<H2>Data Visualization:</H2>"
   ]
  },
  {
   "cell_type": "markdown",
   "id": "13ae97f3-bc91-41c6-85e8-4fd3a845f97b",
   "metadata": {},
   "source": [
    "- <span style=\"color: blue; font-size: 16px;\"><strong>create a heat map of the merged data set:</strong></span>"
   ]
  },
  {
   "cell_type": "code",
   "execution_count": 2713,
   "id": "f3c678fd-c9b2-45f6-bb98-888b2d258e76",
   "metadata": {},
   "outputs": [],
   "source": [
    "# Convert the DataFrame to numeric, coercing errors to NaN\n",
    "numeric_df = merged_df.apply(pd.to_numeric, errors='coerce')"
   ]
  },
  {
   "cell_type": "code",
   "execution_count": 2714,
   "id": "ae1b26ba-f1b8-46ee-928e-56540eb45162",
   "metadata": {},
   "outputs": [],
   "source": [
    "correlation_matrix = numeric_df.corr()"
   ]
  },
  {
   "cell_type": "code",
   "execution_count": 2715,
   "id": "0bc580fd-c85f-45b4-892e-e6b147dadb36",
   "metadata": {},
   "outputs": [
    {
     "data": {
      "text/plain": [
       "<Figure size 1000x800 with 0 Axes>"
      ]
     },
     "execution_count": 2715,
     "metadata": {},
     "output_type": "execute_result"
    },
    {
     "data": {
      "text/plain": [
       "<Figure size 1000x800 with 0 Axes>"
      ]
     },
     "metadata": {},
     "output_type": "display_data"
    }
   ],
   "source": [
    "plt.figure(figsize=(10, 8))"
   ]
  },
  {
   "cell_type": "code",
   "execution_count": 2716,
   "id": "fad1bdf0-08e9-4240-9d79-46798cf11fea",
   "metadata": {},
   "outputs": [
    {
     "name": "stderr",
     "output_type": "stream",
     "text": [
      "/Users/wranglerdeb/anaconda3/lib/python3.11/site-packages/seaborn/matrix.py:260: FutureWarning: Format strings passed to MaskedConstant are ignored, but in future may error or produce different behavior\n",
      "  annotation = (\"{:\" + self.fmt + \"}\").format(val)\n"
     ]
    },
    {
     "data": {
      "image/png": "[encoded data removed]",
      "text/plain": [
       "<Figure size 640x480 with 2 Axes>"
      ]
     },
     "metadata": {},
     "output_type": "display_data"
    }
   ],
   "source": [
    "sns.heatmap(correlation_matrix, annot=True, fmt=\".2f\", cmap=\"coolwarm\", vmax=1, vmin=-1)\n",
    "plt.title(\"Heatmap of Merged DataFrame Correlation\")\n",
    "plt.show()"
   ]
  },
  {
   "cell_type": "markdown",
   "id": "d31c1380-a273-4723-9e59-adc767de30f2",
   "metadata": {},
   "source": [
    "The scale goes from -1 to 1.\n",
    "\n",
    "- -1 indicates a perfect negative correlation between two variables. This means that as one variable increases, the other variable decreases.\n",
    "- 0 indicates no correlation. This means changes in one variable do not affect the other.\n",
    "- 1 indicates a perfect positive correlation. This means that both variables increase or decrease together."
   ]
  },
  {
   "cell_type": "markdown",
   "id": "3474ad03-71f4-4bef-92ab-3a7da48f79c6",
   "metadata": {},
   "source": [
    "<b>There is a very strong posive correlation between:</b>\n",
    "- MonthlyCharges and InternetService\n",
    "\n",
    "<b>There is a positive correlation between:</b>\n",
    "- MonthlyCharges and StreamingTV\n",
    "- MonthlyCharges and StreamingMovies\n",
    "- MonthlyCharges and TotalCharges\n",
    "\n",
    "<b>There is a very strong negative correlation between:</b>\n",
    "- Begin Date and Total Monthly Charges\n",
    "- Type (length of contract) and Begin Date\n",
    "\n",
    "<b>As for our taget(EndDate), there is not a strong positive, nor a strong negative correlation, between the other columns.</b>\n",
    "There is a slight positive correlation between:\n",
    "- End Date and Internet Service\n",
    "- End Date and Begin Date\n",
    "\n",
    "There is a slight negative correlation between:\n",
    "- End Date and Type(length of contract)"
   ]
  },
  {
   "cell_type": "markdown",
   "id": "51b46d09-2403-4287-97eb-669ecce387a0",
   "metadata": {},
   "source": [
    "- <span style=\"color: blue; font-size: 16px;\"><strong>create a graph for Senior Citizen vs Monthly Charges:</strong></span>"
   ]
  },
  {
   "cell_type": "code",
   "execution_count": 2720,
   "id": "e6a79ba8-dfa5-4cea-9e29-5a135db5d58c",
   "metadata": {},
   "outputs": [],
   "source": [
    "filtered_data = merged_df[merged_df['EndDate'] == False]"
   ]
  },
  {
   "cell_type": "code",
   "execution_count": 2721,
   "id": "7fda0478-c821-4d7e-942f-cbd7359f2991",
   "metadata": {},
   "outputs": [
    {
     "name": "stdout",
     "output_type": "stream",
     "text": [
      "SeniorCitizen\n",
      "0    87.127947\n",
      "1    12.872053\n",
      "Name: proportion, dtype: float64\n"
     ]
    }
   ],
   "source": [
    "print(filtered_data['SeniorCitizen'].value_counts(normalize=True) * 100)"
   ]
  },
  {
   "cell_type": "code",
   "execution_count": 2722,
   "id": "4168740d-3d3a-46e6-9861-664d60d22aef",
   "metadata": {},
   "outputs": [],
   "source": [
    "def plot_senior_citizen_analysis(filtered_data):\n",
    "    plt.figure(figsize=(12, 5))\n",
    "    \n",
    "    # Plot 1: Bar chart for mean monthly charges\n",
    "    plt.subplot(1, 2, 1)\n",
    "    mean_charges = filtered_data.groupby('SeniorCitizen')['MonthlyCharges'].mean()\n",
    "    bars = plt.bar([0, 1], mean_charges.values)\n",
    "    plt.title('Mean Monthly Charges by Senior Citizen Status')\n",
    "    plt.xlabel('Senior Citizen')\n",
    "    plt.ylabel('Mean Monthly Charges ($)')\n",
    "    plt.xticks([0, 1], ['Non-Senior', 'Senior'])\n",
    "    \n",
    "    # Add value labels on top of bars\n",
    "    for bar in bars:\n",
    "        height = bar.get_height()\n",
    "        plt.text(bar.get_x() + bar.get_width() / 2., height,\n",
    "                 f'${height:.2f}',\n",
    "                 ha='center', va='bottom')\n",
    "    \n",
    "    # Plot 2: Pie chart for count distribution\n",
    "    plt.subplot(1, 2, 2)\n",
    "    count_by_senior = filtered_data['SeniorCitizen'].value_counts(normalize=True) * 100\n",
    "    plt.pie(count_by_senior.values, \n",
    "            labels=['Non-Senior', 'Senior'],\n",
    "            autopct='%1.1f%%')\n",
    "    plt.title('Distribution of Senior Citizens')\n",
    "    \n",
    "    plt.tight_layout()\n",
    "    plt.show()\n"
   ]
  },
  {
   "cell_type": "code",
   "execution_count": 2723,
   "id": "b64dee7e-e5ce-497d-8c58-85df3dab7eab",
   "metadata": {},
   "outputs": [
    {
     "name": "stdout",
     "output_type": "stream",
     "text": [
      "Senior Citizen Distribution:\n",
      "SeniorCitizen\n",
      "0    87.127947\n",
      "1    12.872053\n",
      "Name: proportion, dtype: float64\n"
     ]
    }
   ],
   "source": [
    "print(\"Senior Citizen Distribution:\")\n",
    "print(filtered_data['SeniorCitizen'].value_counts(normalize=True) * 100)"
   ]
  },
  {
   "cell_type": "code",
   "execution_count": 2724,
   "id": "6a264c2c-6808-4aa2-ae87-14d99f81356a",
   "metadata": {},
   "outputs": [
    {
     "data": {
      "image/png": "[encoded data removed]",
      "text/plain": [
       "<Figure size 1200x500 with 2 Axes>"
      ]
     },
     "metadata": {},
     "output_type": "display_data"
    }
   ],
   "source": [
    "plot_senior_citizen_analysis(filtered_data)"
   ]
  },
  {
   "cell_type": "markdown",
   "id": "52b9e4cd-083e-4cd9-963b-d49bcb95bac1",
   "metadata": {},
   "source": [
    "SeniorCitizen customers have a higher average monthly charge, about 10% higher than non SeniorCitizens."
   ]
  },
  {
   "cell_type": "markdown",
   "id": "38f4d9ba-7edb-4570-a040-b7fa9724c38b",
   "metadata": {},
   "source": [
    "<H2>Do customers with a higher monthly charge tend to have a higher churn rate?</H2>"
   ]
  },
  {
   "cell_type": "markdown",
   "id": "bf8e56e1-60ff-4088-a5b6-fbf1723d798b",
   "metadata": {},
   "source": [
    "- <span style=\"color: blue; font-size: 14px;\"><strong>find min, mean, max, 75\\% quantile:</strong></span>"
   ]
  },
  {
   "cell_type": "code",
   "execution_count": 2728,
   "id": "8b97541b-5fcc-4baa-84de-0d787cbff737",
   "metadata": {},
   "outputs": [
    {
     "data": {
      "text/plain": [
       "18.25"
      ]
     },
     "execution_count": 2728,
     "metadata": {},
     "output_type": "execute_result"
    }
   ],
   "source": [
    "merged_df['MonthlyCharges'].min()"
   ]
  },
  {
   "cell_type": "code",
   "execution_count": 2729,
   "id": "9c977faa-b6d2-43cf-a5f2-ee1b5c861ca7",
   "metadata": {},
   "outputs": [
    {
     "data": {
      "text/plain": [
       "64.76169246059918"
      ]
     },
     "execution_count": 2729,
     "metadata": {},
     "output_type": "execute_result"
    }
   ],
   "source": [
    "merged_df['MonthlyCharges'].mean()"
   ]
  },
  {
   "cell_type": "code",
   "execution_count": 2730,
   "id": "b510f608-65a4-40ba-a659-37919ec51b89",
   "metadata": {},
   "outputs": [
    {
     "data": {
      "text/plain": [
       "118.75"
      ]
     },
     "execution_count": 2730,
     "metadata": {},
     "output_type": "execute_result"
    }
   ],
   "source": [
    "merged_df['MonthlyCharges'].max()"
   ]
  },
  {
   "cell_type": "code",
   "execution_count": 2731,
   "id": "a96f9e0d-c3f1-45d2-9479-017cfd7c3c6a",
   "metadata": {},
   "outputs": [
    {
     "name": "stdout",
     "output_type": "stream",
     "text": [
      "89.85\n"
     ]
    }
   ],
   "source": [
    "quantile_75 = merged_df['MonthlyCharges'].quantile(0.75)\n",
    "print(quantile_75)"
   ]
  },
  {
   "cell_type": "markdown",
   "id": "79bb3d07-e36a-49a2-b54c-ea61043fddab",
   "metadata": {},
   "source": [
    "- <span style=\"color: blue; font-size: 14px;\"><strong>find all the monthly charges higher than the 75\\% quantile:</strong></span>"
   ]
  },
  {
   "cell_type": "code",
   "execution_count": 2733,
   "id": "13424705-11da-4c63-8499-f97965942ac4",
   "metadata": {},
   "outputs": [
    {
     "name": "stdout",
     "output_type": "stream",
     "text": [
      "5        99.65\n",
      "8       104.80\n",
      "12      100.35\n",
      "13      103.70\n",
      "14      105.50\n",
      "         ...  \n",
      "7023    103.50\n",
      "7025     95.05\n",
      "7034    102.95\n",
      "7039    103.20\n",
      "7042    105.65\n",
      "Name: MonthlyCharges, Length: 1758, dtype: float64\n"
     ]
    }
   ],
   "source": [
    "# Create a Series with values of MonthlyCharges that are above the 75% quartile\n",
    "high_charges_values = merged_df['MonthlyCharges'][merged_df['MonthlyCharges'] > quantile_75]\n",
    "print(high_charges_values)"
   ]
  },
  {
   "cell_type": "code",
   "execution_count": 2734,
   "id": "dbffc290-595c-4bee-8918-6c1bf14ada66",
   "metadata": {},
   "outputs": [
    {
     "name": "stdout",
     "output_type": "stream",
     "text": [
      "844     89.9\n",
      "61      89.9\n",
      "3051    89.9\n",
      "5956    89.9\n",
      "2217    89.9\n",
      "Name: MonthlyCharges, dtype: float64\n"
     ]
    }
   ],
   "source": [
    "# Sort the values from small to large\n",
    "high_charges_values_sorted = high_charges_values.sort_values()\n",
    "print(high_charges_values_sorted.head(5))"
   ]
  },
  {
   "cell_type": "markdown",
   "id": "8a601d45-8590-47d0-8ce4-38b57090a704",
   "metadata": {},
   "source": [
    "- <span style=\"color: blue; font-size: 14px;\"><strong>create data frame:</strong></span>"
   ]
  },
  {
   "cell_type": "code",
   "execution_count": 2736,
   "id": "8c67c4cf-07dd-4ad0-9489-955aedb92681",
   "metadata": {},
   "outputs": [
    {
     "data": {
      "text/html": [
       "<div>\n",
       "<style scoped>\n",
       "    .dataframe tbody tr th:only-of-type {\n",
       "        vertical-align: middle;\n",
       "    }\n",
       "\n",
       "    .dataframe tbody tr th {\n",
       "        vertical-align: top;\n",
       "    }\n",
       "\n",
       "    .dataframe thead th {\n",
       "        text-align: right;\n",
       "    }\n",
       "</style>\n",
       "<table border=\"1\" class=\"dataframe\">\n",
       "  <thead>\n",
       "    <tr style=\"text-align: right;\">\n",
       "      <th></th>\n",
       "      <th>customerID</th>\n",
       "      <th>BeginDate</th>\n",
       "      <th>EndDate</th>\n",
       "      <th>Type</th>\n",
       "      <th>PaperlessBilling</th>\n",
       "      <th>PaymentMethod</th>\n",
       "      <th>MonthlyCharges</th>\n",
       "      <th>TotalCharges</th>\n",
       "      <th>InternetService</th>\n",
       "      <th>OnlineSecurity</th>\n",
       "      <th>OnlineBackup</th>\n",
       "      <th>DeviceProtection</th>\n",
       "      <th>TechSupport</th>\n",
       "      <th>StreamingTV</th>\n",
       "      <th>StreamingMovies</th>\n",
       "      <th>gender</th>\n",
       "      <th>SeniorCitizen</th>\n",
       "      <th>Partner</th>\n",
       "      <th>Dependents</th>\n",
       "      <th>MultipleLines</th>\n",
       "    </tr>\n",
       "  </thead>\n",
       "  <tbody>\n",
       "    <tr>\n",
       "      <th>5</th>\n",
       "      <td>9305-CDSKC</td>\n",
       "      <td>2019-03-01</td>\n",
       "      <td>1</td>\n",
       "      <td>0</td>\n",
       "      <td>1</td>\n",
       "      <td>0</td>\n",
       "      <td>99.65</td>\n",
       "      <td>820.50</td>\n",
       "      <td>1</td>\n",
       "      <td>0</td>\n",
       "      <td>0</td>\n",
       "      <td>1</td>\n",
       "      <td>0</td>\n",
       "      <td>1</td>\n",
       "      <td>1</td>\n",
       "      <td>0</td>\n",
       "      <td>0</td>\n",
       "      <td>0</td>\n",
       "      <td>0</td>\n",
       "      <td>1</td>\n",
       "    </tr>\n",
       "    <tr>\n",
       "      <th>8</th>\n",
       "      <td>7892-POOKP</td>\n",
       "      <td>2017-07-01</td>\n",
       "      <td>1</td>\n",
       "      <td>0</td>\n",
       "      <td>1</td>\n",
       "      <td>0</td>\n",
       "      <td>104.80</td>\n",
       "      <td>3046.05</td>\n",
       "      <td>1</td>\n",
       "      <td>0</td>\n",
       "      <td>0</td>\n",
       "      <td>1</td>\n",
       "      <td>1</td>\n",
       "      <td>1</td>\n",
       "      <td>1</td>\n",
       "      <td>0</td>\n",
       "      <td>0</td>\n",
       "      <td>1</td>\n",
       "      <td>0</td>\n",
       "      <td>1</td>\n",
       "    </tr>\n",
       "    <tr>\n",
       "      <th>12</th>\n",
       "      <td>8091-TTVAX</td>\n",
       "      <td>2015-04-01</td>\n",
       "      <td>0</td>\n",
       "      <td>1</td>\n",
       "      <td>0</td>\n",
       "      <td>3</td>\n",
       "      <td>100.35</td>\n",
       "      <td>5681.10</td>\n",
       "      <td>1</td>\n",
       "      <td>0</td>\n",
       "      <td>0</td>\n",
       "      <td>1</td>\n",
       "      <td>0</td>\n",
       "      <td>1</td>\n",
       "      <td>1</td>\n",
       "      <td>1</td>\n",
       "      <td>0</td>\n",
       "      <td>1</td>\n",
       "      <td>0</td>\n",
       "      <td>1</td>\n",
       "    </tr>\n",
       "    <tr>\n",
       "      <th>13</th>\n",
       "      <td>0280-XJGEX</td>\n",
       "      <td>2015-09-01</td>\n",
       "      <td>1</td>\n",
       "      <td>0</td>\n",
       "      <td>1</td>\n",
       "      <td>2</td>\n",
       "      <td>103.70</td>\n",
       "      <td>5036.30</td>\n",
       "      <td>1</td>\n",
       "      <td>0</td>\n",
       "      <td>1</td>\n",
       "      <td>1</td>\n",
       "      <td>0</td>\n",
       "      <td>1</td>\n",
       "      <td>1</td>\n",
       "      <td>1</td>\n",
       "      <td>0</td>\n",
       "      <td>0</td>\n",
       "      <td>0</td>\n",
       "      <td>1</td>\n",
       "    </tr>\n",
       "    <tr>\n",
       "      <th>14</th>\n",
       "      <td>5129-JLPIS</td>\n",
       "      <td>2018-01-01</td>\n",
       "      <td>0</td>\n",
       "      <td>0</td>\n",
       "      <td>1</td>\n",
       "      <td>0</td>\n",
       "      <td>105.50</td>\n",
       "      <td>2686.05</td>\n",
       "      <td>1</td>\n",
       "      <td>1</td>\n",
       "      <td>0</td>\n",
       "      <td>1</td>\n",
       "      <td>1</td>\n",
       "      <td>1</td>\n",
       "      <td>1</td>\n",
       "      <td>1</td>\n",
       "      <td>0</td>\n",
       "      <td>0</td>\n",
       "      <td>0</td>\n",
       "      <td>0</td>\n",
       "    </tr>\n",
       "  </tbody>\n",
       "</table>\n",
       "</div>"
      ],
      "text/plain": [
       "    customerID  BeginDate  EndDate Type  PaperlessBilling PaymentMethod  \\\n",
       "5   9305-CDSKC 2019-03-01        1    0                 1             0   \n",
       "8   7892-POOKP 2017-07-01        1    0                 1             0   \n",
       "12  8091-TTVAX 2015-04-01        0    1                 0             3   \n",
       "13  0280-XJGEX 2015-09-01        1    0                 1             2   \n",
       "14  5129-JLPIS 2018-01-01        0    0                 1             0   \n",
       "\n",
       "    MonthlyCharges  TotalCharges  InternetService  OnlineSecurity  \\\n",
       "5            99.65        820.50                1               0   \n",
       "8           104.80       3046.05                1               0   \n",
       "12          100.35       5681.10                1               0   \n",
       "13          103.70       5036.30                1               0   \n",
       "14          105.50       2686.05                1               1   \n",
       "\n",
       "    OnlineBackup  DeviceProtection  TechSupport  StreamingTV  StreamingMovies  \\\n",
       "5              0                 1            0            1                1   \n",
       "8              0                 1            1            1                1   \n",
       "12             0                 1            0            1                1   \n",
       "13             1                 1            0            1                1   \n",
       "14             0                 1            1            1                1   \n",
       "\n",
       "    gender  SeniorCitizen  Partner  Dependents  MultipleLines  \n",
       "5        0              0        0           0              1  \n",
       "8        0              0        1           0              1  \n",
       "12       1              0        1           0              1  \n",
       "13       1              0        0           0              1  \n",
       "14       1              0        0           0              0  "
      ]
     },
     "metadata": {},
     "output_type": "display_data"
    }
   ],
   "source": [
    "# Filter merged_df to get only the rows where MonthlyCharges is above the 75% quartile\n",
    "high_charges_df = merged_df[merged_df['MonthlyCharges'] > quantile_75]\n",
    "display(high_charges_df.head(5))"
   ]
  },
  {
   "cell_type": "markdown",
   "id": "0268f720-c056-47d7-8633-cab5604317dd",
   "metadata": {},
   "source": [
    "- <span style=\"color: blue; font-size: 14px;\"><strong>create buckets for the graph:</strong></span>"
   ]
  },
  {
   "cell_type": "code",
   "execution_count": 2738,
   "id": "f515781d-eb9b-4682-81a5-add09689929a",
   "metadata": {},
   "outputs": [],
   "source": [
    "# Create buckets for the sorted values\n",
    "buckets = pd.cut(high_charges_values_sorted, bins=10)"
   ]
  },
  {
   "cell_type": "code",
   "execution_count": 2739,
   "id": "da2edda4-85d6-4f8f-b461-a409a50a03c7",
   "metadata": {},
   "outputs": [
    {
     "name": "stderr",
     "output_type": "stream",
     "text": [
      "/var/folders/g4/hkwrz_hd06s7mxk8_15fr9jh0000gn/T/ipykernel_1700/1448720845.py:2: FutureWarning: The default of observed=False is deprecated and will be changed to True in a future version of pandas. Pass observed=False to retain current behavior or observed=True to adopt the future default and silence this warning.\n",
      "  bucket_counts_with_enddate = high_charges_df[high_charges_df['EndDate'] == 1].groupby(buckets).size()\n"
     ]
    }
   ],
   "source": [
    "# Count occurrences in each bucket for customers with an EndDate\n",
    "bucket_counts_with_enddate = high_charges_df[high_charges_df['EndDate'] == 1].groupby(buckets).size()"
   ]
  },
  {
   "cell_type": "code",
   "execution_count": 2740,
   "id": "28b18127-5f0f-4089-b46d-0a4033affc6c",
   "metadata": {},
   "outputs": [],
   "source": [
    "bucket_counts_sorted = bucket_counts_with_enddate.sort_index()"
   ]
  },
  {
   "cell_type": "markdown",
   "id": "2ee2a362-0c52-433b-8fc9-cf550ed8d652",
   "metadata": {},
   "source": [
    "- <span style=\"color: blue; font-size: 14px;\"><strong>Find percentage of churn rate:</strong></span>"
   ]
  },
  {
   "cell_type": "code",
   "execution_count": 2742,
   "id": "0173d1f1-33cf-457b-94ac-b92913510fa9",
   "metadata": {},
   "outputs": [
    {
     "name": "stdout",
     "output_type": "stream",
     "text": [
      "Number of customers with high monthly charges who have churned: 578\n"
     ]
    }
   ],
   "source": [
    "# Count how many of these have churned\n",
    "churned_high_count = high_charges_df[high_charges_df['EndDate'] == 1].shape[0]\n",
    "\n",
    "print(f'Number of customers with high monthly charges who have churned: {churned_high_count}')"
   ]
  },
  {
   "cell_type": "code",
   "execution_count": 2743,
   "id": "b0f06339-bf83-48ef-8606-1d18c583e3f2",
   "metadata": {},
   "outputs": [],
   "source": [
    "total_count_high_churned = len(merged_df)"
   ]
  },
  {
   "cell_type": "code",
   "execution_count": 2744,
   "id": "4d7956ce-a07f-4a38-b329-3b4ffe18a91d",
   "metadata": {},
   "outputs": [],
   "source": [
    "churn_ratio = churned_high_count / total_count_high_churned"
   ]
  },
  {
   "cell_type": "code",
   "execution_count": 2745,
   "id": "cab43093-3db5-4430-b5bf-7c91caca91f9",
   "metadata": {},
   "outputs": [
    {
     "name": "stdout",
     "output_type": "stream",
     "text": [
      "\u001b[1m\u001b[91mChurn percentage of high paying customers: 8.21%\u001b[0m\n"
     ]
    }
   ],
   "source": [
    "churn_percentage = churn_ratio * 100\n",
    "print(f'\\033[1m\\033[91mChurn percentage of high paying customers: {churn_percentage:.2f}%\\033[0m')"
   ]
  },
  {
   "cell_type": "code",
   "execution_count": 2746,
   "id": "4d9d1318-e265-4399-8147-7e253ff2c64a",
   "metadata": {},
   "outputs": [
    {
     "data": {
      "image/png": "[encoded data removed]",
      "text/plain": [
       "<Figure size 1000x600 with 1 Axes>"
      ]
     },
     "metadata": {},
     "output_type": "display_data"
    }
   ],
   "source": [
    "plt.figure(figsize=(10, 6))\n",
    "bucket_counts_sorted.plot(kind='bar')\n",
    "\n",
    "plt.title('Distribution of High Paying Customers with End Dates')\n",
    "plt.xlabel('Monthly Charges in $')\n",
    "plt.ylabel('Count of Customers with End Dates')\n",
    "\n",
    "# Format tick labels to show ranges in whole numbers\n",
    "tick_labels = [f\"{int(interval.left)}-{int(interval.right)}\" for interval in bucket_counts_sorted.index]\n",
    "plt.gca().set_xticklabels(tick_labels, rotation=45)\n",
    "plt.grid(axis='y')\n",
    "plt.tight_layout()\n",
    "\n",
    "plt.show()"
   ]
  },
  {
   "cell_type": "markdown",
   "id": "5301a603-50b5-4373-be70-fdcbb43571cc",
   "metadata": {},
   "source": [
    "<span style=\"color: red\"><strong>Answer: No, customers with a higher monthly charge are not more likely to have a higher churn rate.</span>\n",
    "- Of the customers with the highest monthly bills, only <span style=\"color: red\">8.2%</strong></span> of them have churned. \n",
    "- As the amount of monthly charges to up, the amount of churning does not go up."
   ]
  },
  {
   "cell_type": "markdown",
   "id": "6a85bc7b-04c3-4a1b-8d4f-c8e0cbbf3ae4",
   "metadata": {},
   "source": [
    "<span style=\"color: blue; font-size: 32px;\"><strong>Questions:</strong></span>"
   ]
  },
  {
   "cell_type": "markdown",
   "id": "4ea5a956-6a1d-492a-8d32-ec8a3bbf120a",
   "metadata": {},
   "source": [
    "<H2>Does gender, age(Senior Citizen vs non Senior Citizen), whether or not a customer has dependents, or a partner, have any effect on churn rate?</H2>"
   ]
  },
  {
   "cell_type": "markdown",
   "id": "982a7dd8-cc3b-434c-a664-8fb7dcc1de89",
   "metadata": {},
   "source": [
    "- <span style=\"color: blue; font-size: 14px;\"><strong>Look at dispersion of customers genders:</strong></span>"
   ]
  },
  {
   "cell_type": "code",
   "execution_count": 2750,
   "id": "3fba1265-ea8f-42ce-8e80-a4c239a8506f",
   "metadata": {},
   "outputs": [
    {
     "data": {
      "text/plain": [
       "gender\n",
       "1    3555\n",
       "0    3488\n",
       "Name: count, dtype: int64"
      ]
     },
     "execution_count": 2750,
     "metadata": {},
     "output_type": "execute_result"
    }
   ],
   "source": [
    "merged_df.gender.value_counts()"
   ]
  },
  {
   "cell_type": "code",
   "execution_count": 2751,
   "id": "a9151cef-1222-4af6-bd5d-6e01a1138a8e",
   "metadata": {},
   "outputs": [],
   "source": [
    "total_rows = len(merged_df)"
   ]
  },
  {
   "cell_type": "code",
   "execution_count": 2752,
   "id": "9ee8f81e-e7cd-4a5e-bf75-c903b8e6bdc9",
   "metadata": {},
   "outputs": [],
   "source": [
    "male_total = merged_df[merged_df['gender'] == 1].shape[0]\n",
    "female_total = merged_df[merged_df['gender'] == 0].shape[0]"
   ]
  },
  {
   "cell_type": "code",
   "execution_count": 2753,
   "id": "ae2c8e8b-d983-474d-8c57-41bdd25a8aef",
   "metadata": {},
   "outputs": [],
   "source": [
    "# Calculate percentages\n",
    "male_percent = (male_total / len(merged_df) * 100)\n",
    "female_percent = (female_total / len(merged_df) * 100)"
   ]
  },
  {
   "cell_type": "code",
   "execution_count": 2754,
   "id": "91e6d8b0-fe9d-4192-b551-c014a1f570f7",
   "metadata": {},
   "outputs": [
    {
     "name": "stdout",
     "output_type": "stream",
     "text": [
      "Percentage of Male customers: 50.48%\n",
      "Percentage of Female customers: 49.52%\n"
     ]
    }
   ],
   "source": [
    "print(f'Percentage of Male customers: {male_percent:.2f}%')\n",
    "print(f'Percentage of Female customers: {female_percent:.2f}%')"
   ]
  },
  {
   "cell_type": "markdown",
   "id": "7fa32484-4ca2-4968-bb14-df2d27bc0207",
   "metadata": {},
   "source": [
    "The percentage of male vs female customers is amost evenly dispersed."
   ]
  },
  {
   "cell_type": "markdown",
   "id": "8f226b31-a234-431f-b2b0-8d8ce1ee3e9a",
   "metadata": {},
   "source": [
    "- <span style=\"color: blue; font-size: 14px;\"><strong>Find percentage of churned genders:</strong></span>"
   ]
  },
  {
   "cell_type": "code",
   "execution_count": 2757,
   "id": "f71170e9-5143-429a-a952-363cfd229141",
   "metadata": {},
   "outputs": [],
   "source": [
    "# Count the number of churned customers by gender\n",
    "churned_counts = merged_df[merged_df['EndDate'] == 1]['gender'].value_counts()"
   ]
  },
  {
   "cell_type": "code",
   "execution_count": 2758,
   "id": "df96ef85-362e-4e4d-a90c-aa8b193daa0c",
   "metadata": {},
   "outputs": [
    {
     "name": "stdout",
     "output_type": "stream",
     "text": [
      "Churned customers by gender:\n",
      "gender\n",
      "0    939\n",
      "1    930\n",
      "Name: count, dtype: int64\n"
     ]
    }
   ],
   "source": [
    "print(\"Churned customers by gender:\")\n",
    "print(churned_counts)"
   ]
  },
  {
   "cell_type": "markdown",
   "id": "2829ee29-a800-442a-887e-d00e5d5f81a9",
   "metadata": {},
   "source": [
    "<span style=\"color: red; font-size: 24px;\"><strong>Answer: No, gender is not related to churn rate.</span>\n",
    "- There is an almost even balance of male and female customers. There is an almost even balance of male and female churned customers."
   ]
  },
  {
   "cell_type": "markdown",
   "id": "67391971-8ea4-4c02-b69a-dc48103daef6",
   "metadata": {},
   "source": [
    "- <span style=\"color: blue; font-size: 14px;\"><strong>Look at age dispersion of customers:</strong></span>"
   ]
  },
  {
   "cell_type": "code",
   "execution_count": 2954,
   "id": "35e357e9-ad53-4ca1-b7ac-a9e3153c85eb",
   "metadata": {},
   "outputs": [
    {
     "data": {
      "text/plain": [
       "SeniorCitizen\n",
       "0    5901\n",
       "1    1142\n",
       "Name: count, dtype: int64"
      ]
     },
     "execution_count": 2954,
     "metadata": {},
     "output_type": "execute_result"
    }
   ],
   "source": [
    "merged_df.SeniorCitizen.value_counts()"
   ]
  },
  {
   "cell_type": "code",
   "execution_count": 2956,
   "id": "897d5fea-66d8-41aa-817e-0be461837839",
   "metadata": {},
   "outputs": [
    {
     "name": "stdout",
     "output_type": "stream",
     "text": [
      "SeniorCitizen\n",
      "0    83.785319\n",
      "1    16.214681\n",
      "Name: proportion, dtype: float64\n"
     ]
    }
   ],
   "source": [
    "print(merged_df['SeniorCitizen'].value_counts(normalize=True) * 100)"
   ]
  },
  {
   "cell_type": "markdown",
   "id": "f7bbf332-ba6f-42c7-83ca-19ff792ac8c9",
   "metadata": {},
   "source": [
    "84\\% of customers are not Senior Citizens."
   ]
  },
  {
   "cell_type": "markdown",
   "id": "1ad9a072-f54b-430e-ad1e-e355ac05a311",
   "metadata": {},
   "source": [
    "- <span style=\"color: blue; font-size: 14px;\"><strong>Find percentage of churned customers for SeniorCitizen vs nonSeniorCitizen:</strong></span>"
   ]
  },
  {
   "cell_type": "code",
   "execution_count": 2764,
   "id": "3b820e76-5dc2-4724-93e5-e195755ddc99",
   "metadata": {},
   "outputs": [
    {
     "name": "stdout",
     "output_type": "stream",
     "text": [
      "5901\n",
      "1142\n"
     ]
    }
   ],
   "source": [
    "nonSenior_total = merged_df[merged_df['SeniorCitizen'] == 0].shape[0]\n",
    "print(nonSenior_total)\n",
    "\n",
    "senior_total = merged_df[merged_df['SeniorCitizen'] == 1].shape[0]\n",
    "print(senior_total)"
   ]
  },
  {
   "cell_type": "code",
   "execution_count": 2765,
   "id": "8e5ac0b7-7c5a-483e-9d4d-05ac85ae0a2d",
   "metadata": {},
   "outputs": [],
   "source": [
    "# Calculate the percentage of churned seniors and non-seniors\n",
    "senior_churn_percentage = (merged_df[(merged_df['SeniorCitizen'] == 1) & (merged_df['EndDate'] == 1)].shape[0] / senior_total * 100)\n",
    "\n",
    "nonSenior_churn_percentage = (merged_df[(merged_df['SeniorCitizen'] == 0) & (merged_df['EndDate'] == 1)].shape[0] / nonSenior_total * 100)"
   ]
  },
  {
   "cell_type": "code",
   "execution_count": 2766,
   "id": "ae09251f-3cb0-4c4e-a204-b91defcf3c5a",
   "metadata": {},
   "outputs": [
    {
     "name": "stdout",
     "output_type": "stream",
     "text": [
      "Percentage of Senior customers who have churned: 41.68%\n",
      "Percentage of Non Senior customers who have not churned: 23.61%\n"
     ]
    }
   ],
   "source": [
    "print(f'Percentage of Senior customers who have churned: {senior_churn_percentage:.2f}%')\n",
    "print(f'Percentage of Non Senior customers who have not churned: {nonSenior_churn_percentage:.2f}%')"
   ]
  },
  {
   "cell_type": "markdown",
   "id": "94d0ddd6-6ab7-44a9-ae29-98a3ebe646f9",
   "metadata": {},
   "source": [
    "<span style=\"color: green; font-size: 24px;\"><strong>Answer: Yes, age is related to churn rate. Senior Citizens are more likely to churn.</span>\n",
    "- The churn rate, for  Senior Citizens is 41.68\\%. That is almost double the churn rate of non Senior Citizens."
   ]
  },
  {
   "cell_type": "markdown",
   "id": "91f7f435-d64e-402d-b616-c55a94c02857",
   "metadata": {},
   "source": [
    "- <span style=\"color: blue; font-size: 14px;\"><strong>Look at dispersion of Dependents:</strong></span>"
   ]
  },
  {
   "cell_type": "code",
   "execution_count": 2769,
   "id": "6c70c62c-27d3-41ea-b7c2-6b93e8f34adc",
   "metadata": {},
   "outputs": [
    {
     "data": {
      "text/plain": [
       "Dependents\n",
       "0    4933\n",
       "1    2110\n",
       "Name: count, dtype: int64"
      ]
     },
     "execution_count": 2769,
     "metadata": {},
     "output_type": "execute_result"
    }
   ],
   "source": [
    "merged_df.Dependents.value_counts()"
   ]
  },
  {
   "cell_type": "code",
   "execution_count": 2770,
   "id": "45403de8-d493-4d4a-b67d-7828dc103ee9",
   "metadata": {},
   "outputs": [
    {
     "name": "stdout",
     "output_type": "stream",
     "text": [
      "Dependents\n",
      "0    70.041176\n",
      "1    29.958824\n",
      "Name: proportion, dtype: float64\n"
     ]
    }
   ],
   "source": [
    "print(merged_df['Dependents'].value_counts(normalize=True) * 100)"
   ]
  },
  {
   "cell_type": "markdown",
   "id": "61566909-5e58-4c38-b288-04b536453d24",
   "metadata": {},
   "source": [
    "Only 30\\% of customers have dependents."
   ]
  },
  {
   "cell_type": "markdown",
   "id": "c227a8b7-0eee-4411-a880-7ad24cdcf461",
   "metadata": {},
   "source": [
    "- <span style=\"color: blue; font-size: 14px;\"><strong>Look at percentage of Dependents who churn:</strong></span>"
   ]
  },
  {
   "cell_type": "code",
   "execution_count": 2772,
   "id": "9ef59794-f52f-4c00-8da6-94831ba38aa6",
   "metadata": {},
   "outputs": [],
   "source": [
    "depend_total = merged_df[merged_df['Dependents'] == 1].shape[0]\n",
    "nonDepend_total = merged_df[merged_df['Dependents'] == 0].shape[0]"
   ]
  },
  {
   "cell_type": "code",
   "execution_count": 2773,
   "id": "41411781-3605-4200-94d5-c37caff6d853",
   "metadata": {},
   "outputs": [],
   "source": [
    "dependent_churn_percentage = (merged_df[(merged_df['Dependents'] == 1) & (merged_df['EndDate'] == 1)].shape[0] / depend_total * 100)\n",
    "\n",
    "nonDependent_churn_percentage = (merged_df[(merged_df['Dependents'] == 0) & (merged_df['EndDate'] == 1)].shape[0] / nonDepend_total * 100)"
   ]
  },
  {
   "cell_type": "code",
   "execution_count": 2774,
   "id": "5995262e-10a1-42ec-8956-e1ce43c251d6",
   "metadata": {},
   "outputs": [
    {
     "name": "stdout",
     "output_type": "stream",
     "text": [
      "Percentage of customers who have dependents, who have churned: 15.45%\n",
      "Percentage of customers who do not have dependents, who have churned: 31.28%\n"
     ]
    }
   ],
   "source": [
    "print(f'Percentage of customers who have dependents, who have churned: {dependent_churn_percentage:.2f}%')\n",
    "print(f'Percentage of customers who do not have dependents, who have churned: {nonDependent_churn_percentage:.2f}%')"
   ]
  },
  {
   "cell_type": "markdown",
   "id": "1719c0a2-aed9-454e-abd9-7621b49f67c4",
   "metadata": {},
   "source": [
    "<span style=\"color: green; font-size: 24px;\">Answer: Yes, having dependents does have an effect on churn rate.\n",
    "- customers without dependents are more likely to churn.\n",
    "- customers without dependents have a 31.3\\% churn rate, and are twice as likely to churn, than customers who do have dependents.</span>"
   ]
  },
  {
   "cell_type": "markdown",
   "id": "b50bea09-4f61-424d-a24c-27a477a7e39a",
   "metadata": {},
   "source": [
    "- <span style=\"color: blue; font-size: 14px;\"><strong>Look at Partner vs churn rate:</strong></span>"
   ]
  },
  {
   "cell_type": "code",
   "execution_count": 2777,
   "id": "d6e63bac-3a85-4a0d-b81f-d801d82c6a64",
   "metadata": {},
   "outputs": [
    {
     "name": "stdout",
     "output_type": "stream",
     "text": [
      "Partner\n",
      "0    51.69672\n",
      "1    48.30328\n",
      "Name: proportion, dtype: float64\n"
     ]
    }
   ],
   "source": [
    "print(merged_df['Partner'].value_counts(normalize=True) * 100)"
   ]
  },
  {
   "cell_type": "markdown",
   "id": "2586ebcc-fe59-4123-b559-8d14d3aad6fb",
   "metadata": {},
   "source": [
    "Dispersion for customers who have a Partner, vs those who do not have a Partner, is almost an even dispersion."
   ]
  },
  {
   "cell_type": "code",
   "execution_count": 2779,
   "id": "ff63a7e9-76e1-4381-95de-f28b37fd0144",
   "metadata": {},
   "outputs": [],
   "source": [
    "partner_total = merged_df[merged_df['Partner'] == 1].shape[0]\n",
    "nonPartner_total = merged_df[merged_df['Partner'] == 0].shape[0]"
   ]
  },
  {
   "cell_type": "code",
   "execution_count": 2780,
   "id": "3ecb1698-c08b-4d0a-a9f4-c66d9e10f8f6",
   "metadata": {},
   "outputs": [],
   "source": [
    "partner_churn_percentage = (merged_df[(merged_df['Partner'] == 1) & (merged_df['EndDate'] == 1)].shape[0] / depend_total * 100)\n",
    "\n",
    "nonPartner_churn_percentage = (merged_df[(merged_df['Partner'] == 0) & (merged_df['EndDate'] == 1)].shape[0] / nonDepend_total * 100)"
   ]
  },
  {
   "cell_type": "code",
   "execution_count": 2781,
   "id": "0940f3a9-d24e-426e-bb1e-3c6f704c92e3",
   "metadata": {},
   "outputs": [
    {
     "name": "stdout",
     "output_type": "stream",
     "text": [
      "Percentage of customers who have partners, who have churned: 31.71%\n",
      "Percentage of customers who do not have partners, who have churned: 24.33%\n"
     ]
    }
   ],
   "source": [
    "print(f'Percentage of customers who have partners, who have churned: {partner_churn_percentage:.2f}%')\n",
    "print(f'Percentage of customers who do not have partners, who have churned: {nonPartner_churn_percentage:.2f}%')"
   ]
  },
  {
   "cell_type": "markdown",
   "id": "183c3450-8a39-4eb0-b92a-fd57e0a3c10d",
   "metadata": {},
   "source": [
    "<span style=\"color: green; font-size: 24px;\"><strong>Answer: Yes, having a partner does have an effect on churn rate.</strong><br>\n",
    "- Customers with a partner are more likely to churn.<br>\n",
    "- Customers with a partner have a 31.7% churn rate and are about 30% more likely to churn than customers who do not have a partner.</span>"
   ]
  },
  {
   "cell_type": "markdown",
   "id": "b6303d6f-58c7-4b91-b8b0-e96dcd0ea57e",
   "metadata": {},
   "source": [
    "<H2>Does the payment method (Electronic check, Mailed check, Automatic Bank transfer, Automatic Credit card) influence churn rates?</H2>"
   ]
  },
  {
   "cell_type": "code",
   "execution_count": 2784,
   "id": "4eae8586-e7a1-44a8-baef-4ccda9f113de",
   "metadata": {},
   "outputs": [
    {
     "name": "stdout",
     "output_type": "stream",
     "text": [
      "PaymentMethod\n",
      "0    2365\n",
      "1    1612\n",
      "2    1544\n",
      "3    1522\n",
      "Name: count, dtype: int64\n"
     ]
    }
   ],
   "source": [
    "print(merged_df.PaymentMethod.value_counts())"
   ]
  },
  {
   "cell_type": "markdown",
   "id": "ded7389c-86a8-451c-91b1-b5737bfb13f8",
   "metadata": {},
   "source": [
    "<H4>'Electronic check' is  0, 'Mailed check' is  1, 'Bank transfer (automatic)' is 2, 'Credit card (automatic)' is  3</H4>"
   ]
  },
  {
   "cell_type": "code",
   "execution_count": 2786,
   "id": "2a16316c-6970-4536-85ca-56b3147d9860",
   "metadata": {},
   "outputs": [],
   "source": [
    "payElec_total = merged_df[merged_df['PaymentMethod'] == 0].shape[0]\n",
    "payMail_total = merged_df[merged_df['PaymentMethod'] == 1].shape[0]\n",
    "\n",
    "payBank_total = merged_df[merged_df['PaymentMethod'] == 2].shape[0]\n",
    "payCC_total = merged_df[merged_df['PaymentMethod'] == 3].shape[0]"
   ]
  },
  {
   "cell_type": "code",
   "execution_count": 2787,
   "id": "20af1051-3c36-4154-b085-b12d03bae782",
   "metadata": {},
   "outputs": [],
   "source": [
    "payElec_churn_percentage = (merged_df[(merged_df['PaymentMethod'] == 0) & (merged_df['EndDate'] == 1)].shape[0] / payElec_total * 100)\n",
    "\n",
    "payMail_churn_percentage = (merged_df[(merged_df['PaymentMethod'] == 1) & (merged_df['EndDate'] == 1)].shape[0] / payMail_total * 100)\n",
    "\n",
    "payBank_churn_percentage = (merged_df[(merged_df['PaymentMethod'] == 2) & (merged_df['EndDate'] == 1)].shape[0] / payBank_total * 100)\n",
    "\n",
    "payCC_churn_percentage = (merged_df[(merged_df['PaymentMethod'] == 3) & (merged_df['EndDate'] == 1)].shape[0] / payCC_total * 100)"
   ]
  },
  {
   "cell_type": "code",
   "execution_count": 2788,
   "id": "15a934f4-9547-4c25-bd5f-48206fbbb471",
   "metadata": {},
   "outputs": [
    {
     "name": "stdout",
     "output_type": "stream",
     "text": [
      "Percentage of customers who pay by Electronic check, who have churned: 45.29%\n",
      "Percentage of customers who pay by Mail, who have churned: 19.11%\n",
      "\n",
      "\n",
      "Percentage of customers who pay by Bank transfer, who have churned: 16.71%\n",
      "Percentage of customers who pay by Credit Card, who have churned: 15.24%\n"
     ]
    }
   ],
   "source": [
    "print(f'Percentage of customers who pay by Electronic check, who have churned: {payElec_churn_percentage:.2f}%')\n",
    "print(f'Percentage of customers who pay by Mail, who have churned: {payMail_churn_percentage:.2f}%')\n",
    "print('\\n')\n",
    "print(f'Percentage of customers who pay by Bank transfer, who have churned: {payBank_churn_percentage:.2f}%')\n",
    "print(f'Percentage of customers who pay by Credit Card, who have churned: {payCC_churn_percentage:.2f}%')"
   ]
  },
  {
   "cell_type": "markdown",
   "id": "118d763f-07bc-41ae-bc7e-305cbe4f995b",
   "metadata": {},
   "source": [
    "<span style=\"color: green; font-size: 24px;\"><strong>Answer: Yes, method of payment does have an effect on churn rate.</strong><br>\n",
    "- Customers who pay by Electronic check are more likely to churn.<br>\n",
    "- Customers who pay by Electronic check have a 45.3\\% churn rate, which is more than double the churn rate of any other method of payment.</span>"
   ]
  },
  {
   "cell_type": "markdown",
   "id": "a9e43052-bfb6-4f5a-bfc8-f296dda3aa63",
   "metadata": {},
   "source": [
    "<H2>How do different account types(1-year, 2-year, month-to-month) influence churn rates?</H2>"
   ]
  },
  {
   "cell_type": "code",
   "execution_count": 2791,
   "id": "7b17d5cc-f9d5-419d-9ba0-14dd17247be4",
   "metadata": {},
   "outputs": [
    {
     "name": "stdout",
     "output_type": "stream",
     "text": [
      "Type\n",
      "0    3875\n",
      "2    1695\n",
      "1    1473\n",
      "Name: count, dtype: int64\n"
     ]
    }
   ],
   "source": [
    "print(merged_df.Type.value_counts())"
   ]
  },
  {
   "cell_type": "markdown",
   "id": "b27b3e6b-f200-4766-aa87-60d35e9fa137",
   "metadata": {},
   "source": [
    "<H4>'Month-to-month' is  0, 'One year' is 1, 'Two year' is  2</H4>"
   ]
  },
  {
   "cell_type": "code",
   "execution_count": 2793,
   "id": "f4ff844e-6a21-4306-9d76-0a527ef1fc4e",
   "metadata": {},
   "outputs": [
    {
     "name": "stdout",
     "output_type": "stream",
     "text": [
      "Type\n",
      "0    55.019168\n",
      "2    24.066449\n",
      "1    20.914383\n",
      "Name: proportion, dtype: float64\n"
     ]
    }
   ],
   "source": [
    "print(merged_df['Type'].value_counts(normalize=True) * 100)"
   ]
  },
  {
   "cell_type": "markdown",
   "id": "6df7d755-21d5-43d0-aa14-6432983011d2",
   "metadata": {},
   "source": [
    "More than half of the customers are on the month-to-month plan."
   ]
  },
  {
   "cell_type": "code",
   "execution_count": 2795,
   "id": "d10a229c-9b6b-4442-bb46-e3dc0c6bc45f",
   "metadata": {},
   "outputs": [],
   "source": [
    "month_total = merged_df[merged_df['Type'] == 0].shape[0]\n",
    "oneYear_total = merged_df[merged_df['Type'] == 1].shape[0]\n",
    "\n",
    "twoYear_total = merged_df[merged_df['Type'] == 2].shape[0]"
   ]
  },
  {
   "cell_type": "code",
   "execution_count": 2796,
   "id": "657310b7-4cde-40c0-ad26-f07a1a0a5f1c",
   "metadata": {},
   "outputs": [],
   "source": [
    "month_churn_percentage = (merged_df[(merged_df['Type'] == 0) & (merged_df['EndDate'] == 1)].shape[0] / month_total * 100)\n",
    "\n",
    "oneYear_churn_percentage = (merged_df[(merged_df['Type'] == 1) & (merged_df['EndDate'] == 1)].shape[0] / oneYear_total * 100)\n",
    "\n",
    "twoYear_churn_percentage = (merged_df[(merged_df['Type'] == 2) & (merged_df['EndDate'] == 1)].shape[0] / twoYear_total * 100)"
   ]
  },
  {
   "cell_type": "code",
   "execution_count": 2902,
   "id": "a2b5955e-20c6-4f5a-b9cf-2a7ef02e2510",
   "metadata": {},
   "outputs": [
    {
     "name": "stdout",
     "output_type": "stream",
     "text": [
      "\n",
      "\n",
      "Percentage of customers who are on the month-to-month plan, who have churned: 42.71%\n",
      "Percentage of customers who are on the one-year plan, who have churned: 11.27%\n",
      "\n",
      "\n",
      "Percentage of customers who are on the two-year plan, who have churned: 2.83%\n"
     ]
    }
   ],
   "source": [
    "print('\\n')\n",
    "print(f'Percentage of customers who are on the month-to-month plan, who have churned: {month_churn_percentage:.2f}%')\n",
    "print(f'Percentage of customers who are on the one-year plan, who have churned: {oneYear_churn_percentage:.2f}%')\n",
    "print('\\n')\n",
    "print(f'Percentage of customers who are on the two-year plan, who have churned: {twoYear_churn_percentage:.2f}%')"
   ]
  },
  {
   "cell_type": "markdown",
   "id": "d49d6cbf-ef5e-4f5d-8e84-501b80387bbe",
   "metadata": {},
   "source": [
    "<span style=\"color: green; font-size: 24px;\"><strong>Answer: Yes, type of plan does have an effect on churn rate.</strong><br>\n",
    "- Customers who are on the month-to-month plan are more likely to churn.<br>\n",
    "- Customers who are on the month-to-month plan have a 42.7\\% churn rate, which is almost 4 times more than the churn rate of customers who are on the one-year plan, and 15 times more likely to churn than customers who are on the two-year plan.</span>"
   ]
  },
  {
   "cell_type": "markdown",
   "id": "8b0f0a64-bff3-4fd9-8a28-2ef8ba49c233",
   "metadata": {},
   "source": [
    "<H2>Do customers who pay for extra services(Internet Service, Online Security, Online Backup, Device Protection, Tech Support, Streaming TV, StreamingMovies) tend not to churn as quickly as those who do not pay for these services?</H2>"
   ]
  },
  {
   "cell_type": "code",
   "execution_count": 2963,
   "id": "a9bb41a7-ee09-41da-883f-3fbb165f5b83",
   "metadata": {},
   "outputs": [
    {
     "name": "stdout",
     "output_type": "stream",
     "text": [
      "InternetService\n",
      "0    3947\n",
      "1    3096\n",
      "Name: count, dtype: int64\n"
     ]
    }
   ],
   "source": [
    "print(merged_df.InternetService.value_counts())"
   ]
  },
  {
   "cell_type": "code",
   "execution_count": 2967,
   "id": "6fa21471-e557-4e47-b53a-1f7efca10e44",
   "metadata": {},
   "outputs": [
    {
     "name": "stdout",
     "output_type": "stream",
     "text": [
      "OnlineSecurity\n",
      "0    5024\n",
      "1    2019\n",
      "Name: count, dtype: int64\n"
     ]
    }
   ],
   "source": [
    "print(merged_df.OnlineSecurity.value_counts())"
   ]
  },
  {
   "cell_type": "code",
   "execution_count": 2971,
   "id": "94e5a066-f949-4d6f-836e-952c5559d961",
   "metadata": {},
   "outputs": [
    {
     "name": "stdout",
     "output_type": "stream",
     "text": [
      "OnlineBackup\n",
      "0    4614\n",
      "1    2429\n",
      "Name: count, dtype: int64\n"
     ]
    }
   ],
   "source": [
    "print(merged_df.OnlineBackup.value_counts())"
   ]
  },
  {
   "cell_type": "code",
   "execution_count": 2973,
   "id": "3b06080a-e514-4244-a87a-7d19b0081886",
   "metadata": {},
   "outputs": [
    {
     "name": "stdout",
     "output_type": "stream",
     "text": [
      "DeviceProtection\n",
      "0    4621\n",
      "1    2422\n",
      "Name: count, dtype: int64\n"
     ]
    }
   ],
   "source": [
    "print(merged_df.DeviceProtection.value_counts())"
   ]
  },
  {
   "cell_type": "code",
   "execution_count": 2975,
   "id": "1fe206c8-8be4-463b-94ab-6a68ff18f07d",
   "metadata": {},
   "outputs": [
    {
     "name": "stdout",
     "output_type": "stream",
     "text": [
      "TechSupport\n",
      "0    4999\n",
      "1    2044\n",
      "Name: count, dtype: int64\n"
     ]
    }
   ],
   "source": [
    "print(merged_df.TechSupport.value_counts())"
   ]
  },
  {
   "cell_type": "code",
   "execution_count": 2977,
   "id": "5b4da0a1-4e0c-4b20-9056-37b7eea3f813",
   "metadata": {},
   "outputs": [
    {
     "name": "stdout",
     "output_type": "stream",
     "text": [
      "StreamingTV\n",
      "0    4336\n",
      "1    2707\n",
      "Name: count, dtype: int64\n"
     ]
    }
   ],
   "source": [
    "print(merged_df.StreamingTV.value_counts())"
   ]
  },
  {
   "cell_type": "code",
   "execution_count": 2979,
   "id": "4ec59b85-3c09-4b6f-83d9-f2816fab94a6",
   "metadata": {},
   "outputs": [
    {
     "name": "stdout",
     "output_type": "stream",
     "text": [
      "StreamingMovies\n",
      "0    4311\n",
      "1    2732\n",
      "Name: count, dtype: int64\n"
     ]
    }
   ],
   "source": [
    "print(merged_df.StreamingMovies.value_counts())"
   ]
  },
  {
   "cell_type": "code",
   "execution_count": null,
   "id": "5533ded2-3388-418c-a77e-c18535ff79e5",
   "metadata": {},
   "outputs": [],
   "source": []
  },
  {
   "cell_type": "code",
   "execution_count": null,
   "id": "35bc7c1b-8d7c-468a-838f-568a65ef60d8",
   "metadata": {},
   "outputs": [],
   "source": [
    "def churnEffect("
   ]
  },
  {
   "cell_type": "code",
   "execution_count": null,
   "id": "15490bec-9ebe-4145-85e6-e664209d9fb1",
   "metadata": {},
   "outputs": [],
   "source": []
  },
  {
   "cell_type": "code",
   "execution_count": null,
   "id": "08167923-c4e2-4729-b934-c9df9f251248",
   "metadata": {},
   "outputs": [],
   "source": []
  },
  {
   "cell_type": "code",
   "execution_count": null,
   "id": "0d8418b9-345a-4a21-ab3a-700dbaf38b78",
   "metadata": {},
   "outputs": [],
   "source": []
  },
  {
   "cell_type": "code",
   "execution_count": null,
   "id": "eadb6e2c-9806-4014-a365-b0b53c0f5b2e",
   "metadata": {},
   "outputs": [],
   "source": []
  },
  {
   "cell_type": "markdown",
   "id": "d36bac8e-301a-4a01-ac1d-fc174c77784d",
   "metadata": {},
   "source": [
    "<span style=\"color: blue; font-size: 32px;\"><strong>Steps to Resolve these questions:</strong></span>"
   ]
  },
  {
   "cell_type": "markdown",
   "id": "b3e878fb-0fd1-4b4b-b053-d5ed6b1c83ff",
   "metadata": {},
   "source": [
    "## Preprocessing Steps\n",
    "- **Import Libraries**: Import necessary libraries for data analysis and modeling.\n",
    "- **Load Datasets**: Load the 4 datasets.\n",
    "- **Change Data Types**: Convert categorical data to 0's and 1's for better model handling.\n",
    "- **Merge Datasets**: Merge the 4 datasets on the `customerID` column.\n",
    "## Exploratory Data Analysis (EDA)\n",
    "- **Correlation Analysis**: Look for correlations between features.\n",
    "- **Visualizations**: Create visual data representations.\n",
    "## Model Creation\n",
    "1. **Data Splitting**: Split the merged dataset into training, validation, and test sets.\n",
    "2. **Model Selection**:\n",
    "   - Logistic Regression (as a sanity check)\n",
    "   - Random Forest\n",
    "   - Decision Tree\n",
    "   - Gradient Boosting\n",
    "   - Support Vector Machines (SVM)\n",
    "3. **Tweak model parameters**\n",
    "## Score Models\n",
    "- **Metrics**: Use AUC/ROC and Accuracy to evaluate performance.\n",
    "  \n",
    "### Score Assessment Criteria\n",
    "| AUC-ROC          | Score Points |\n",
    "|------------------|--------------|\n",
    "| < 0.75           | 0 SP         |\n",
    "| 0.75 ≤ AUC-ROC < 0.81 | 4 SP   |\n",
    "| 0.81 ≤ AUC-ROC < 0.85 | 4.5 SP |\n",
    "| 0.85 ≤ AUC-ROC < 0.87 | 5 SP   |\n",
    "| 0.87 ≤ AUC-ROC < 0.88 | 5.5 SP |\n",
    "| ≥ 0.88           | 6 SP         |\n",
    "## Write Conclusion\n",
    "- **Analysis**: Answer the questions related to churn.\n",
    "- **Feature Importance**: Explain which features have a direct correlation to customer churn.\n",
    "- **Model Comparison**: Sum up the models' scores and describe the best-performing model."
   ]
  },
  {
   "cell_type": "code",
   "execution_count": null,
   "id": "39e3594b-1df8-4498-910d-9805f2eb2855",
   "metadata": {},
   "outputs": [],
   "source": []
  }
 ],
 "metadata": {
  "kernelspec": {
   "display_name": "Python 3 (ipykernel)",
   "language": "python",
   "name": "python3"
  },
  "language_info": {
   "codemirror_mode": {
    "name": "ipython",
    "version": 3
   },
   "file_extension": ".py",
   "mimetype": "text/x-python",
   "name": "python",
   "nbconvert_exporter": "python",
   "pygments_lexer": "ipython3",
   "version": "3.11.7"
  }
 },
 "nbformat": 4,
 "nbformat_minor": 5
}
