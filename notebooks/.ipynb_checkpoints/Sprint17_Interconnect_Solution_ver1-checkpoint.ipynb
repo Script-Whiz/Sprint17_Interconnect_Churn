{
 "cells": [
  {
   "cell_type": "markdown",
   "id": "b1b1f709-b0a5-40e6-8d71-dbd29fc0ab1a",
   "metadata": {},
   "source": [
    "<H1>Interconnect Churn Model Solution</H1>"
   ]
  },
  {
   "cell_type": "markdown",
   "id": "dc7809aa-d6c1-43bf-b3c3-bd20c8e49fde",
   "metadata": {},
   "source": [
    "<H3>Sprint 17 / Creating models to find potential customers who are likely to churn, by Deborah Thomas</H3>"
   ]
  },
  {
   "cell_type": "markdown",
   "id": "a12c2cbb-5c65-4ada-9957-5fed67a27ef5",
   "metadata": {},
   "source": [
    "<H2 style=\"color:blue;\">Explanation of how I solved this churn model project:</H2>"
   ]
  },
  {
   "cell_type": "markdown",
   "id": "0f052d24-bf3b-464d-8e62-dd4e27b9c8c6",
   "metadata": {},
   "source": [
    "<H3>What steps of the plan were performed and what steps were skipped (explain why)?</H3>"
   ]
  },
  {
   "cell_type": "markdown",
   "id": "8a2162c7-2f77-4560-85d9-65e053be6ae9",
   "metadata": {},
   "source": [
    "I performed all of the steps that were written in my Interconnect Churn Model Work Plan."
   ]
  },
  {
   "cell_type": "markdown",
   "id": "ab9cefdb-4c34-44c1-9403-7d437733b78e",
   "metadata": {},
   "source": [
    "<H3>What difficulties did you encounter and how did you manage to solve them?</H3>"
   ]
  },
  {
   "cell_type": "markdown",
   "id": "830ee94e-c03f-4b8d-91ff-b32762fb0d6a",
   "metadata": {},
   "source": [
    "I encountered 3 main difficulties while working on this project.\n",
    "\n",
    "- I looked for missing files, while cleaning the four datasets, but I failed to look for NaN, until days in to the project. My models kept failing because of the NaN. But the error that I was receiving was vague, and it took me days to figure out what the problem was. It turned out that there were 11 rows that had NaN in the 'TotalCharges' column. These NaN only existed in one of the four datasets; the contract dataset. To solve, I looked for min and max BeginDate, in the contract dataset, and found that max BeginDate was the same BeginDate as all 11 of those NaN rows. I came to the conclusion that these 11 customers had not received their first bill yet, and that is why there was no number in TotalCharges column, for these 11 customers. Since they had not paid their first bill yet, TotalCharges must be zero. I used fillna to change all 11 Nan to 0. After doing so, my models worked fine.  \n",
    "\n",
    "- The SVC model would not work inside my model creation function. Once I pulled the SVC model out of the function, and just ran SVC, on it's own, outside of the function, the SVC model worked. I do think that I changed the code though after pulling it out of the model creation function. I found out, after the fact, that SVC didn't really need to be included in this project, as it was not covered in the TT Data Science course. So, I probably could have saved a few days of time by not attempting to add the SVC model in to this project. It did not produce the highest AUC ROC score of my models anyway.\n",
    "\n",
    "- The EndDate(which was the target for this project) had both dates, and strings (\"No\") as values. I was not sure what to do with this. But, a tutor told me that models work best with numbers. So, I converted this datatype to int, and made \"no\" equal to 0, and everything else equal to 1. Then, I decided to make most of the other columns to be 0's and 1's, as opposed to True / False, as the numbers would work best with the models."
   ]
  },
  {
   "cell_type": "markdown",
   "id": "81e7f7e2-adfd-4c42-a990-882cc77b8156",
   "metadata": {},
   "source": [
    "<H3>What were some of the key steps to solving the task?</H3>"
   ]
  },
  {
   "cell_type": "markdown",
   "id": "3e8a8391-68e0-47eb-9294-d49438e74509",
   "metadata": {},
   "source": [
    "In hind sight, I realize that my questions, which I created in the Work Plan, were somewhat redundant. I asked if each column had an effect on churn date. I realized that my questions were redundant, when I was able to solve all of my questions with one function. I ran each column through this function to determine if having, or not having, (1's or 0's)  an extra phone service effected churn rate.\n",
    "\n",
    "I also created a function that would train, fit, predict, and evaluate four different types of models. This saved redundant code, by having this in one function, as opposed to repeating the same code four different times.\n",
    "\n",
    "Also, as said earlier, completing cleaning the data, including checking for NaN was absolutely necessary to solving the project."
   ]
  },
  {
   "cell_type": "markdown",
   "id": "e5eec518-c5bc-4c00-8a7e-c8d47b45e37d",
   "metadata": {},
   "source": [
    "<H3>What is your final model and what quality score does it have?</H3>"
   ]
  },
  {
   "cell_type": "markdown",
   "id": "382cd4da-fb66-4068-b00a-107aa8181e65",
   "metadata": {},
   "source": [
    "My best model was the Gradient Boosing model. The final AUC ROC score, for the validation dataset was .861, and the final Gradient Boosting AUC ROC score, for Accuracy was .849"
   ]
  },
  {
   "cell_type": "markdown",
   "id": "b7d0dc28-669e-4af0-afe2-1c3003115244",
   "metadata": {},
   "source": [
    "<H3>Conclusion</H3>"
   ]
  },
  {
   "cell_type": "markdown",
   "id": "26a97678-3396-4de6-90c2-4be8dc453e34",
   "metadata": {},
   "source": [
    "The main purpose of this project was to find out which customers are likely to churn soon. I created a variety of models, with a variety of hyperparameter tunings,  including Logistic Regression, Random Forest, Decision Tree, Gradient Boosting, and SVC. The model that proved to be the most successful was **Gradient Boosting**, with an AUC ROC score of <span style=\"font-size:18px;\"><strong>86.1 \\% for the validation dataset.</strong></span> The next best model score, for validation dataset, was **Random Forest**, with an AUC ROC score of **85.7%**.\n",
    "\n",
    "\n",
    "The results of the model testing displayed varied performance levels among the algorithms evaluated, with specific details as follows:\n",
    "1. **Logistic Regression** emerged with a **Test Accuracy** of **0.7985** and a **Test AUC-ROC** of **0.8489**. This model shows a balanced performance and could be suitable for applications requiring interpretability.\n",
    "2. **Random Forest** achieved a **Test Accuracy** of **0.7994** and an impressive **Test AUC-ROC** of **0.8494**, indicating its robust ability in classification tasks, particularly in handling non-linear data structures.\n",
    "3. **Decision Tree** performed slightly lower, with a **Test Accuracy** of **0.7796** and a **Test AUC-ROC** of **0.8279**. While easy to interpret, the decision tree model may not generalize well to unseen data.\n",
    "4. **Gradient Boosting** displayed solid results with a **Test Accuracy** of **0.7938** and **Test AUC-ROC** of **0.8493**, showing that it is a strong contender among the ensemble methods, suggesting its capacity to handle different types of data distributions effectively.\n",
    "5. The **Support Vector Classifier (SVC)** achieved a **Test Accuracy** of **0.7909** and a **Test AUC-ROC** of **0.8417** after parameter tuning, indicating that it performs well although slightly below Random Forest.\n",
    "\n",
    "\n",
    "\n",
    "\n",
    "## Key Questions and Findings\n",
    "### Do customers with a higher monthly charge tend to have a higher churn rate?\n",
    "**Answer**: **No**, customers with a higher monthly charge are not more likely to have a higher churn rate.\n",
    "- Of the customers with the highest monthly bills, only **8.2%** of them have churned. \n",
    "- As the monthly charges increase, the churn rate does not increase.\n",
    "### Does gender, age (Senior Citizen vs non Senior Citizen), dependents, or a partner affect the churn rate?\n",
    "- **Gender**\n",
    "  - **Answer**: **No**, gender is not related to churn rate.\n",
    "  - There is an almost even balance of male and female customers, and churn rates are similar between genders.\n",
    "- **Age**\n",
    "  - **Answer**: <span style=\"color:green;\"><strong>Yes, age is related to churn rate.</strong></span> Senior Citizens are more likely to churn.\n",
    "  - The churn rate for Senior Citizens is **41.68%**, nearly double that of non Senior Citizens.\n",
    "- **Dependents**\n",
    "  - **Answer**: <span style=\"color:green;\"><strong>Yes, not having dependents does effect churn rate.</strong></span>\n",
    "  - Customers without dependents have a **31.3%** churn rate, which is twice as high as those who have dependents.\n",
    "- **Partner**\n",
    "  - **Answer**: <span style=\"color:green;\"><strong>Yes, not having a partner does effect churn rate.</strong></span>\n",
    "  - Customers without a partner have a **33%** churn rate, about **10%** more likely to churn than those with partners.\n",
    "### Does the payment method influence churn rates?\n",
    "- **Answer**: <span style=\"color:green;\"><strong>Yes, the method of payment does effect churn rate.</strong></span>\n",
    "- Customers who pay by **Electronic Check** have a **45.3%** churn rate, more than double that of any other payment method, and triple the churn rate of customers using Credit Cards.\n",
    "### How do different account types (1-year, 2-year, month-to-month) influence churn rates?\n",
    "- **Answer**: <span style=\"color:green;\"><strong>Yes, the type of plan does effect churn rate.</strong></span>\n",
    "- Customers on month-to-month plans have a **42.7%** churn rate, almost four times higher than those on the one-year plan, and **15 times** more than those on the two-year plan.\n",
    "### Do customers who pay for extra services churn at different rates?\n",
    "- **Internet Service**\n",
    "  - **Answer**: <span style=\"color:green;\"><strong>Yes, having internet service does effect churn rate.</strong></span>\n",
    "  - Customers who pay extra for Internet Service have a **41.9%** churn rate, nearly **four times** that of those who do not.\n",
    "- **Online Security**\n",
    "  - **Answer**:<span style=\"color:green;\"><strong>Yes, not having online security does churn rate.</strong></span>\n",
    "- Customers without Online Security have a **31.3%** churn rate, more than double that of those who pay for it.\n",
    "- **Online Backup**\n",
    "  - **Answer**: **No**, Online Backup does not significantly affect churn rate.\n",
    "  - Churn rates are similar: **29%** for customers not paying extra vs **21%** for those who do.\n",
    "- **Device Protection**\n",
    "  - **Answer**: **No**, Device Protection does not have a significant effect on churn rate.\n",
    "  - Churn rates are close: **28.6%** not paying extra vs **22.5%** doing so.\n",
    "- **Tech Support**\n",
    "  - **Answer**: <span style=\"color:green;\"><strong>Yes, not having tech support does effect churn rate.</strong></span>\n",
    "  - Customers without Tech Support have a **31.2%** churn rate, double that of those who pay for it.\n",
    "- **Streaming TV**\n",
    "  - **Answer**: **No**, Streaming TV does not significantly affect churn rate.\n",
    "  - Churn rates are comparable: **30%** for those who pay extra vs **24.3%** for those who do.\n",
    "- **Streaming Movies**\n",
    "  - **Answer**: **No**, Streaming Movies do not significantly affect churn rate.\n",
    "  - Churn rates are similarly close: **30%** vs **24.3%**.\n",
    "\n",
    "In general, paying more money, for more services, does not necessarily lead to a higher churn rate. The highest churn rate ( 45.3 \\% ) was by customers who pay by the electronic check method.\n",
    "                                                                                                                                                           \n",
    "  \n",
    "### Score Assessment Criteria\n",
    "| AUC-ROC          | Score Points |\n",
    "|------------------|--------------|\n",
    "| < 0.75           | 0 SP         |\n",
    "| 0.75 ≤ AUC-ROC < 0.81 | 4 SP   |\n",
    "| 0.81 ≤ AUC-ROC < 0.85 | 4.5 SP |\n",
    "| 0.85 ≤ AUC-ROC < 0.87 | 5 SP   |\n",
    "| 0.87 ≤ AUC-ROC < 0.88 | 5.5 SP |\n",
    "| ≥ 0.88           | 6 SP         |"
   ]
  }
 ],
 "metadata": {
  "kernelspec": {
   "display_name": "Python 3 (ipykernel)",
   "language": "python",
   "name": "python3"
  },
  "language_info": {
   "codemirror_mode": {
    "name": "ipython",
    "version": 3
   },
   "file_extension": ".py",
   "mimetype": "text/x-python",
   "name": "python",
   "nbconvert_exporter": "python",
   "pygments_lexer": "ipython3",
   "version": "3.11.7"
  }
 },
 "nbformat": 4,
 "nbformat_minor": 5
}
