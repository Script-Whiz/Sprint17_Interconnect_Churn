{
 "cells": [
  {
   "cell_type": "markdown",
   "id": "5f0bb45a-ce32-4b33-8e15-f009a37c0309",
   "metadata": {},
   "source": [
    "<span style=\"color: blue; font-size: 32px;\"><strong>Interconnect Telecom Company - Customer Churn Model WORK PLAN</strong></span> <H3>by Deborah Thomas</H3>"
   ]
  },
  {
   "cell_type": "markdown",
   "id": "73a52aae-6938-4d26-842f-f1df7fbc8b17",
   "metadata": {},
   "source": [
    "<span style=\"color: blue; font-size: 32px;\"><strong>Introduction:</strong></span>"
   ]
  },
  {
   "cell_type": "markdown",
   "id": "b42537cf-b70c-4ad3-858b-65681805c47b",
   "metadata": {},
   "source": [
    "<H3>The telecom operator Interconnect would like to be able to forecast their churn of clients. If it's discovered that a user is planning to leave, they will be offered promotional codes and special plan options. Interconnect's marketing team has collected some of their clientele's personal data, including information about their plans and contracts.</H3>"
   ]
  },
  {
   "cell_type": "markdown",
   "id": "29bbd8f4-0e65-4abb-a98e-e5f2bc9c483e",
   "metadata": {},
   "source": [
    "<span style=\"color: blue; font-size: 32px;\"><strong>Import Libraries:</strong></span>"
   ]
  },
  {
   "cell_type": "code",
   "execution_count": 486,
   "id": "0f48310a-fc64-48aa-96e7-0adf7c79d6d9",
   "metadata": {},
   "outputs": [],
   "source": [
    "import pandas as pd\n",
    "import numpy as np\n",
    "\n",
    "import plotly.express as px\n",
    "\n",
    "import matplotlib.pyplot as plt\n",
    "import seaborn as sns\n",
    "\n",
    "from sklearn.model_selection import train_test_split\n",
    "from sklearn.ensemble import RandomForestClassifier, GradientBoostingClassifier\n",
    "from sklearn.tree import DecisionTreeClassifier\n",
    "from sklearn.svm import SVC\n",
    "from sklearn.linear_model import LogisticRegression\n",
    "from sklearn.metrics import roc_auc_score, accuracy_score"
   ]
  },
  {
   "cell_type": "markdown",
   "id": "9624abab-e148-4ac0-9f34-f1c62ca5b568",
   "metadata": {},
   "source": [
    "<span style=\"color: blue; font-size: 32px;\"><strong>Load 4 Datasets:</strong></span>"
   ]
  },
  {
   "cell_type": "markdown",
   "id": "56dbb65c-61ee-44a8-9e5f-680f2988e4c1",
   "metadata": {},
   "source": [
    "- load contract dataset"
   ]
  },
  {
   "cell_type": "code",
   "execution_count": 490,
   "id": "45d505cb-239a-4626-97c9-a0c820eb4145",
   "metadata": {},
   "outputs": [
    {
     "data": {
      "text/html": [
       "<div>\n",
       "<style scoped>\n",
       "    .dataframe tbody tr th:only-of-type {\n",
       "        vertical-align: middle;\n",
       "    }\n",
       "\n",
       "    .dataframe tbody tr th {\n",
       "        vertical-align: top;\n",
       "    }\n",
       "\n",
       "    .dataframe thead th {\n",
       "        text-align: right;\n",
       "    }\n",
       "</style>\n",
       "<table border=\"1\" class=\"dataframe\">\n",
       "  <thead>\n",
       "    <tr style=\"text-align: right;\">\n",
       "      <th></th>\n",
       "      <th>customerID</th>\n",
       "      <th>BeginDate</th>\n",
       "      <th>EndDate</th>\n",
       "      <th>Type</th>\n",
       "      <th>PaperlessBilling</th>\n",
       "      <th>PaymentMethod</th>\n",
       "      <th>MonthlyCharges</th>\n",
       "      <th>TotalCharges</th>\n",
       "    </tr>\n",
       "  </thead>\n",
       "  <tbody>\n",
       "    <tr>\n",
       "      <th>0</th>\n",
       "      <td>7590-VHVEG</td>\n",
       "      <td>2020-01-01</td>\n",
       "      <td>No</td>\n",
       "      <td>Month-to-month</td>\n",
       "      <td>Yes</td>\n",
       "      <td>Electronic check</td>\n",
       "      <td>29.85</td>\n",
       "      <td>29.85</td>\n",
       "    </tr>\n",
       "    <tr>\n",
       "      <th>1</th>\n",
       "      <td>5575-GNVDE</td>\n",
       "      <td>2017-04-01</td>\n",
       "      <td>No</td>\n",
       "      <td>One year</td>\n",
       "      <td>No</td>\n",
       "      <td>Mailed check</td>\n",
       "      <td>56.95</td>\n",
       "      <td>1889.5</td>\n",
       "    </tr>\n",
       "    <tr>\n",
       "      <th>2</th>\n",
       "      <td>3668-QPYBK</td>\n",
       "      <td>2019-10-01</td>\n",
       "      <td>2019-12-01 00:00:00</td>\n",
       "      <td>Month-to-month</td>\n",
       "      <td>Yes</td>\n",
       "      <td>Mailed check</td>\n",
       "      <td>53.85</td>\n",
       "      <td>108.15</td>\n",
       "    </tr>\n",
       "    <tr>\n",
       "      <th>3</th>\n",
       "      <td>7795-CFOCW</td>\n",
       "      <td>2016-05-01</td>\n",
       "      <td>No</td>\n",
       "      <td>One year</td>\n",
       "      <td>No</td>\n",
       "      <td>Bank transfer (automatic)</td>\n",
       "      <td>42.30</td>\n",
       "      <td>1840.75</td>\n",
       "    </tr>\n",
       "    <tr>\n",
       "      <th>4</th>\n",
       "      <td>9237-HQITU</td>\n",
       "      <td>2019-09-01</td>\n",
       "      <td>2019-11-01 00:00:00</td>\n",
       "      <td>Month-to-month</td>\n",
       "      <td>Yes</td>\n",
       "      <td>Electronic check</td>\n",
       "      <td>70.70</td>\n",
       "      <td>151.65</td>\n",
       "    </tr>\n",
       "    <tr>\n",
       "      <th>5</th>\n",
       "      <td>9305-CDSKC</td>\n",
       "      <td>2019-03-01</td>\n",
       "      <td>2019-11-01 00:00:00</td>\n",
       "      <td>Month-to-month</td>\n",
       "      <td>Yes</td>\n",
       "      <td>Electronic check</td>\n",
       "      <td>99.65</td>\n",
       "      <td>820.5</td>\n",
       "    </tr>\n",
       "    <tr>\n",
       "      <th>6</th>\n",
       "      <td>1452-KIOVK</td>\n",
       "      <td>2018-04-01</td>\n",
       "      <td>No</td>\n",
       "      <td>Month-to-month</td>\n",
       "      <td>Yes</td>\n",
       "      <td>Credit card (automatic)</td>\n",
       "      <td>89.10</td>\n",
       "      <td>1949.4</td>\n",
       "    </tr>\n",
       "    <tr>\n",
       "      <th>7</th>\n",
       "      <td>6713-OKOMC</td>\n",
       "      <td>2019-04-01</td>\n",
       "      <td>No</td>\n",
       "      <td>Month-to-month</td>\n",
       "      <td>No</td>\n",
       "      <td>Mailed check</td>\n",
       "      <td>29.75</td>\n",
       "      <td>301.9</td>\n",
       "    </tr>\n",
       "    <tr>\n",
       "      <th>8</th>\n",
       "      <td>7892-POOKP</td>\n",
       "      <td>2017-07-01</td>\n",
       "      <td>2019-11-01 00:00:00</td>\n",
       "      <td>Month-to-month</td>\n",
       "      <td>Yes</td>\n",
       "      <td>Electronic check</td>\n",
       "      <td>104.80</td>\n",
       "      <td>3046.05</td>\n",
       "    </tr>\n",
       "    <tr>\n",
       "      <th>9</th>\n",
       "      <td>6388-TABGU</td>\n",
       "      <td>2014-12-01</td>\n",
       "      <td>No</td>\n",
       "      <td>One year</td>\n",
       "      <td>No</td>\n",
       "      <td>Bank transfer (automatic)</td>\n",
       "      <td>56.15</td>\n",
       "      <td>3487.95</td>\n",
       "    </tr>\n",
       "  </tbody>\n",
       "</table>\n",
       "</div>"
      ],
      "text/plain": [
       "   customerID   BeginDate              EndDate            Type  \\\n",
       "0  7590-VHVEG  2020-01-01                   No  Month-to-month   \n",
       "1  5575-GNVDE  2017-04-01                   No        One year   \n",
       "2  3668-QPYBK  2019-10-01  2019-12-01 00:00:00  Month-to-month   \n",
       "3  7795-CFOCW  2016-05-01                   No        One year   \n",
       "4  9237-HQITU  2019-09-01  2019-11-01 00:00:00  Month-to-month   \n",
       "5  9305-CDSKC  2019-03-01  2019-11-01 00:00:00  Month-to-month   \n",
       "6  1452-KIOVK  2018-04-01                   No  Month-to-month   \n",
       "7  6713-OKOMC  2019-04-01                   No  Month-to-month   \n",
       "8  7892-POOKP  2017-07-01  2019-11-01 00:00:00  Month-to-month   \n",
       "9  6388-TABGU  2014-12-01                   No        One year   \n",
       "\n",
       "  PaperlessBilling              PaymentMethod  MonthlyCharges TotalCharges  \n",
       "0              Yes           Electronic check           29.85        29.85  \n",
       "1               No               Mailed check           56.95       1889.5  \n",
       "2              Yes               Mailed check           53.85       108.15  \n",
       "3               No  Bank transfer (automatic)           42.30      1840.75  \n",
       "4              Yes           Electronic check           70.70       151.65  \n",
       "5              Yes           Electronic check           99.65        820.5  \n",
       "6              Yes    Credit card (automatic)           89.10       1949.4  \n",
       "7               No               Mailed check           29.75        301.9  \n",
       "8              Yes           Electronic check          104.80      3046.05  \n",
       "9               No  Bank transfer (automatic)           56.15      3487.95  "
      ]
     },
     "metadata": {},
     "output_type": "display_data"
    }
   ],
   "source": [
    "try:\n",
    "    contract = pd.read_csv('/datasets/final_provider/contract.csv')  # Attempt to read from the server path\n",
    "except FileNotFoundError:\n",
    "    contract = pd.read_csv('../datasets/final_provider/contract.csv')  # Fallback to the local path\n",
    "\n",
    "\n",
    "display(contract.head(10))"
   ]
  },
  {
   "cell_type": "code",
   "execution_count": 492,
   "id": "8e233f36-8ca5-47af-9568-499eb1648c70",
   "metadata": {},
   "outputs": [
    {
     "data": {
      "text/plain": [
       "(7043, 8)"
      ]
     },
     "execution_count": 492,
     "metadata": {},
     "output_type": "execute_result"
    }
   ],
   "source": [
    "contract.shape"
   ]
  },
  {
   "cell_type": "markdown",
   "id": "c5f6e7e2-e762-44e8-a418-3292a32bde31",
   "metadata": {},
   "source": [
    "- load internet dataset"
   ]
  },
  {
   "cell_type": "code",
   "execution_count": 495,
   "id": "bd24b1e4-2de2-4b71-af07-e86be1401c36",
   "metadata": {},
   "outputs": [
    {
     "data": {
      "text/html": [
       "<div>\n",
       "<style scoped>\n",
       "    .dataframe tbody tr th:only-of-type {\n",
       "        vertical-align: middle;\n",
       "    }\n",
       "\n",
       "    .dataframe tbody tr th {\n",
       "        vertical-align: top;\n",
       "    }\n",
       "\n",
       "    .dataframe thead th {\n",
       "        text-align: right;\n",
       "    }\n",
       "</style>\n",
       "<table border=\"1\" class=\"dataframe\">\n",
       "  <thead>\n",
       "    <tr style=\"text-align: right;\">\n",
       "      <th></th>\n",
       "      <th>customerID</th>\n",
       "      <th>InternetService</th>\n",
       "      <th>OnlineSecurity</th>\n",
       "      <th>OnlineBackup</th>\n",
       "      <th>DeviceProtection</th>\n",
       "      <th>TechSupport</th>\n",
       "      <th>StreamingTV</th>\n",
       "      <th>StreamingMovies</th>\n",
       "    </tr>\n",
       "  </thead>\n",
       "  <tbody>\n",
       "    <tr>\n",
       "      <th>0</th>\n",
       "      <td>7590-VHVEG</td>\n",
       "      <td>DSL</td>\n",
       "      <td>No</td>\n",
       "      <td>Yes</td>\n",
       "      <td>No</td>\n",
       "      <td>No</td>\n",
       "      <td>No</td>\n",
       "      <td>No</td>\n",
       "    </tr>\n",
       "    <tr>\n",
       "      <th>1</th>\n",
       "      <td>5575-GNVDE</td>\n",
       "      <td>DSL</td>\n",
       "      <td>Yes</td>\n",
       "      <td>No</td>\n",
       "      <td>Yes</td>\n",
       "      <td>No</td>\n",
       "      <td>No</td>\n",
       "      <td>No</td>\n",
       "    </tr>\n",
       "    <tr>\n",
       "      <th>2</th>\n",
       "      <td>3668-QPYBK</td>\n",
       "      <td>DSL</td>\n",
       "      <td>Yes</td>\n",
       "      <td>Yes</td>\n",
       "      <td>No</td>\n",
       "      <td>No</td>\n",
       "      <td>No</td>\n",
       "      <td>No</td>\n",
       "    </tr>\n",
       "    <tr>\n",
       "      <th>3</th>\n",
       "      <td>7795-CFOCW</td>\n",
       "      <td>DSL</td>\n",
       "      <td>Yes</td>\n",
       "      <td>No</td>\n",
       "      <td>Yes</td>\n",
       "      <td>Yes</td>\n",
       "      <td>No</td>\n",
       "      <td>No</td>\n",
       "    </tr>\n",
       "    <tr>\n",
       "      <th>4</th>\n",
       "      <td>9237-HQITU</td>\n",
       "      <td>Fiber optic</td>\n",
       "      <td>No</td>\n",
       "      <td>No</td>\n",
       "      <td>No</td>\n",
       "      <td>No</td>\n",
       "      <td>No</td>\n",
       "      <td>No</td>\n",
       "    </tr>\n",
       "    <tr>\n",
       "      <th>5</th>\n",
       "      <td>9305-CDSKC</td>\n",
       "      <td>Fiber optic</td>\n",
       "      <td>No</td>\n",
       "      <td>No</td>\n",
       "      <td>Yes</td>\n",
       "      <td>No</td>\n",
       "      <td>Yes</td>\n",
       "      <td>Yes</td>\n",
       "    </tr>\n",
       "    <tr>\n",
       "      <th>6</th>\n",
       "      <td>1452-KIOVK</td>\n",
       "      <td>Fiber optic</td>\n",
       "      <td>No</td>\n",
       "      <td>Yes</td>\n",
       "      <td>No</td>\n",
       "      <td>No</td>\n",
       "      <td>Yes</td>\n",
       "      <td>No</td>\n",
       "    </tr>\n",
       "    <tr>\n",
       "      <th>7</th>\n",
       "      <td>6713-OKOMC</td>\n",
       "      <td>DSL</td>\n",
       "      <td>Yes</td>\n",
       "      <td>No</td>\n",
       "      <td>No</td>\n",
       "      <td>No</td>\n",
       "      <td>No</td>\n",
       "      <td>No</td>\n",
       "    </tr>\n",
       "    <tr>\n",
       "      <th>8</th>\n",
       "      <td>7892-POOKP</td>\n",
       "      <td>Fiber optic</td>\n",
       "      <td>No</td>\n",
       "      <td>No</td>\n",
       "      <td>Yes</td>\n",
       "      <td>Yes</td>\n",
       "      <td>Yes</td>\n",
       "      <td>Yes</td>\n",
       "    </tr>\n",
       "    <tr>\n",
       "      <th>9</th>\n",
       "      <td>6388-TABGU</td>\n",
       "      <td>DSL</td>\n",
       "      <td>Yes</td>\n",
       "      <td>Yes</td>\n",
       "      <td>No</td>\n",
       "      <td>No</td>\n",
       "      <td>No</td>\n",
       "      <td>No</td>\n",
       "    </tr>\n",
       "  </tbody>\n",
       "</table>\n",
       "</div>"
      ],
      "text/plain": [
       "   customerID InternetService OnlineSecurity OnlineBackup DeviceProtection  \\\n",
       "0  7590-VHVEG             DSL             No          Yes               No   \n",
       "1  5575-GNVDE             DSL            Yes           No              Yes   \n",
       "2  3668-QPYBK             DSL            Yes          Yes               No   \n",
       "3  7795-CFOCW             DSL            Yes           No              Yes   \n",
       "4  9237-HQITU     Fiber optic             No           No               No   \n",
       "5  9305-CDSKC     Fiber optic             No           No              Yes   \n",
       "6  1452-KIOVK     Fiber optic             No          Yes               No   \n",
       "7  6713-OKOMC             DSL            Yes           No               No   \n",
       "8  7892-POOKP     Fiber optic             No           No              Yes   \n",
       "9  6388-TABGU             DSL            Yes          Yes               No   \n",
       "\n",
       "  TechSupport StreamingTV StreamingMovies  \n",
       "0          No          No              No  \n",
       "1          No          No              No  \n",
       "2          No          No              No  \n",
       "3         Yes          No              No  \n",
       "4          No          No              No  \n",
       "5          No         Yes             Yes  \n",
       "6          No         Yes              No  \n",
       "7          No          No              No  \n",
       "8         Yes         Yes             Yes  \n",
       "9          No          No              No  "
      ]
     },
     "metadata": {},
     "output_type": "display_data"
    }
   ],
   "source": [
    "try:\n",
    "    internet = pd.read_csv('/datasets/final_provider/internet.csv')  # Attempt to read from the server path\n",
    "except FileNotFoundError:\n",
    "    internet = pd.read_csv('../datasets/final_provider/internet.csv')  # Fallback to the local path\n",
    "\n",
    "\n",
    "display(internet.head(10))"
   ]
  },
  {
   "cell_type": "code",
   "execution_count": 497,
   "id": "25b62ba0-7f2c-4d01-9bf0-bdd9f57756a8",
   "metadata": {},
   "outputs": [
    {
     "data": {
      "text/plain": [
       "(5517, 8)"
      ]
     },
     "execution_count": 497,
     "metadata": {},
     "output_type": "execute_result"
    }
   ],
   "source": [
    "internet.shape"
   ]
  },
  {
   "cell_type": "markdown",
   "id": "6e104e85-9727-4e4e-9c53-b5cb835ebc58",
   "metadata": {},
   "source": [
    "- load personal dataset"
   ]
  },
  {
   "cell_type": "code",
   "execution_count": 500,
   "id": "14cf04a2-a5ba-4ff3-a6ce-3f57f3529a57",
   "metadata": {},
   "outputs": [
    {
     "data": {
      "text/html": [
       "<div>\n",
       "<style scoped>\n",
       "    .dataframe tbody tr th:only-of-type {\n",
       "        vertical-align: middle;\n",
       "    }\n",
       "\n",
       "    .dataframe tbody tr th {\n",
       "        vertical-align: top;\n",
       "    }\n",
       "\n",
       "    .dataframe thead th {\n",
       "        text-align: right;\n",
       "    }\n",
       "</style>\n",
       "<table border=\"1\" class=\"dataframe\">\n",
       "  <thead>\n",
       "    <tr style=\"text-align: right;\">\n",
       "      <th></th>\n",
       "      <th>customerID</th>\n",
       "      <th>gender</th>\n",
       "      <th>SeniorCitizen</th>\n",
       "      <th>Partner</th>\n",
       "      <th>Dependents</th>\n",
       "    </tr>\n",
       "  </thead>\n",
       "  <tbody>\n",
       "    <tr>\n",
       "      <th>0</th>\n",
       "      <td>7590-VHVEG</td>\n",
       "      <td>Female</td>\n",
       "      <td>0</td>\n",
       "      <td>Yes</td>\n",
       "      <td>No</td>\n",
       "    </tr>\n",
       "    <tr>\n",
       "      <th>1</th>\n",
       "      <td>5575-GNVDE</td>\n",
       "      <td>Male</td>\n",
       "      <td>0</td>\n",
       "      <td>No</td>\n",
       "      <td>No</td>\n",
       "    </tr>\n",
       "    <tr>\n",
       "      <th>2</th>\n",
       "      <td>3668-QPYBK</td>\n",
       "      <td>Male</td>\n",
       "      <td>0</td>\n",
       "      <td>No</td>\n",
       "      <td>No</td>\n",
       "    </tr>\n",
       "    <tr>\n",
       "      <th>3</th>\n",
       "      <td>7795-CFOCW</td>\n",
       "      <td>Male</td>\n",
       "      <td>0</td>\n",
       "      <td>No</td>\n",
       "      <td>No</td>\n",
       "    </tr>\n",
       "    <tr>\n",
       "      <th>4</th>\n",
       "      <td>9237-HQITU</td>\n",
       "      <td>Female</td>\n",
       "      <td>0</td>\n",
       "      <td>No</td>\n",
       "      <td>No</td>\n",
       "    </tr>\n",
       "    <tr>\n",
       "      <th>5</th>\n",
       "      <td>9305-CDSKC</td>\n",
       "      <td>Female</td>\n",
       "      <td>0</td>\n",
       "      <td>No</td>\n",
       "      <td>No</td>\n",
       "    </tr>\n",
       "    <tr>\n",
       "      <th>6</th>\n",
       "      <td>1452-KIOVK</td>\n",
       "      <td>Male</td>\n",
       "      <td>0</td>\n",
       "      <td>No</td>\n",
       "      <td>Yes</td>\n",
       "    </tr>\n",
       "    <tr>\n",
       "      <th>7</th>\n",
       "      <td>6713-OKOMC</td>\n",
       "      <td>Female</td>\n",
       "      <td>0</td>\n",
       "      <td>No</td>\n",
       "      <td>No</td>\n",
       "    </tr>\n",
       "    <tr>\n",
       "      <th>8</th>\n",
       "      <td>7892-POOKP</td>\n",
       "      <td>Female</td>\n",
       "      <td>0</td>\n",
       "      <td>Yes</td>\n",
       "      <td>No</td>\n",
       "    </tr>\n",
       "    <tr>\n",
       "      <th>9</th>\n",
       "      <td>6388-TABGU</td>\n",
       "      <td>Male</td>\n",
       "      <td>0</td>\n",
       "      <td>No</td>\n",
       "      <td>Yes</td>\n",
       "    </tr>\n",
       "  </tbody>\n",
       "</table>\n",
       "</div>"
      ],
      "text/plain": [
       "   customerID  gender  SeniorCitizen Partner Dependents\n",
       "0  7590-VHVEG  Female              0     Yes         No\n",
       "1  5575-GNVDE    Male              0      No         No\n",
       "2  3668-QPYBK    Male              0      No         No\n",
       "3  7795-CFOCW    Male              0      No         No\n",
       "4  9237-HQITU  Female              0      No         No\n",
       "5  9305-CDSKC  Female              0      No         No\n",
       "6  1452-KIOVK    Male              0      No        Yes\n",
       "7  6713-OKOMC  Female              0      No         No\n",
       "8  7892-POOKP  Female              0     Yes         No\n",
       "9  6388-TABGU    Male              0      No        Yes"
      ]
     },
     "metadata": {},
     "output_type": "display_data"
    }
   ],
   "source": [
    "try:\n",
    "    personal = pd.read_csv('/datasets/final_provider/personal.csv')  # Attempt to read from the server path\n",
    "except FileNotFoundError:\n",
    "    personal = pd.read_csv('../datasets/final_provider/personal.csv')  # Fallback to the local path\n",
    "\n",
    "\n",
    "display(personal.head(10))"
   ]
  },
  {
   "cell_type": "code",
   "execution_count": 502,
   "id": "c52e3bbe-69d9-4d5f-a8fc-f7dbdcccc72f",
   "metadata": {},
   "outputs": [
    {
     "data": {
      "text/plain": [
       "(7043, 5)"
      ]
     },
     "execution_count": 502,
     "metadata": {},
     "output_type": "execute_result"
    }
   ],
   "source": [
    "personal.shape"
   ]
  },
  {
   "cell_type": "markdown",
   "id": "fdbeca71-da0c-485f-8f69-8fbdae24d69e",
   "metadata": {},
   "source": [
    "- load phone dataset"
   ]
  },
  {
   "cell_type": "code",
   "execution_count": 505,
   "id": "362786a1-1b67-4b44-8bf6-8ca5daba2f58",
   "metadata": {},
   "outputs": [
    {
     "data": {
      "text/html": [
       "<div>\n",
       "<style scoped>\n",
       "    .dataframe tbody tr th:only-of-type {\n",
       "        vertical-align: middle;\n",
       "    }\n",
       "\n",
       "    .dataframe tbody tr th {\n",
       "        vertical-align: top;\n",
       "    }\n",
       "\n",
       "    .dataframe thead th {\n",
       "        text-align: right;\n",
       "    }\n",
       "</style>\n",
       "<table border=\"1\" class=\"dataframe\">\n",
       "  <thead>\n",
       "    <tr style=\"text-align: right;\">\n",
       "      <th></th>\n",
       "      <th>customerID</th>\n",
       "      <th>MultipleLines</th>\n",
       "    </tr>\n",
       "  </thead>\n",
       "  <tbody>\n",
       "    <tr>\n",
       "      <th>0</th>\n",
       "      <td>5575-GNVDE</td>\n",
       "      <td>No</td>\n",
       "    </tr>\n",
       "    <tr>\n",
       "      <th>1</th>\n",
       "      <td>3668-QPYBK</td>\n",
       "      <td>No</td>\n",
       "    </tr>\n",
       "    <tr>\n",
       "      <th>2</th>\n",
       "      <td>9237-HQITU</td>\n",
       "      <td>No</td>\n",
       "    </tr>\n",
       "    <tr>\n",
       "      <th>3</th>\n",
       "      <td>9305-CDSKC</td>\n",
       "      <td>Yes</td>\n",
       "    </tr>\n",
       "    <tr>\n",
       "      <th>4</th>\n",
       "      <td>1452-KIOVK</td>\n",
       "      <td>Yes</td>\n",
       "    </tr>\n",
       "    <tr>\n",
       "      <th>5</th>\n",
       "      <td>7892-POOKP</td>\n",
       "      <td>Yes</td>\n",
       "    </tr>\n",
       "    <tr>\n",
       "      <th>6</th>\n",
       "      <td>6388-TABGU</td>\n",
       "      <td>No</td>\n",
       "    </tr>\n",
       "    <tr>\n",
       "      <th>7</th>\n",
       "      <td>9763-GRSKD</td>\n",
       "      <td>No</td>\n",
       "    </tr>\n",
       "    <tr>\n",
       "      <th>8</th>\n",
       "      <td>7469-LKBCI</td>\n",
       "      <td>No</td>\n",
       "    </tr>\n",
       "    <tr>\n",
       "      <th>9</th>\n",
       "      <td>8091-TTVAX</td>\n",
       "      <td>Yes</td>\n",
       "    </tr>\n",
       "  </tbody>\n",
       "</table>\n",
       "</div>"
      ],
      "text/plain": [
       "   customerID MultipleLines\n",
       "0  5575-GNVDE            No\n",
       "1  3668-QPYBK            No\n",
       "2  9237-HQITU            No\n",
       "3  9305-CDSKC           Yes\n",
       "4  1452-KIOVK           Yes\n",
       "5  7892-POOKP           Yes\n",
       "6  6388-TABGU            No\n",
       "7  9763-GRSKD            No\n",
       "8  7469-LKBCI            No\n",
       "9  8091-TTVAX           Yes"
      ]
     },
     "metadata": {},
     "output_type": "display_data"
    }
   ],
   "source": [
    "try:\n",
    "    phone = pd.read_csv('/datasets/final_provider/phone.csv')  # Attempt to read from the server path\n",
    "except FileNotFoundError:\n",
    "    phone = pd.read_csv('../datasets/final_provider/phone.csv')  # Fallback to the local path\n",
    "\n",
    "\n",
    "display(phone.head(10))"
   ]
  },
  {
   "cell_type": "code",
   "execution_count": 507,
   "id": "69209102-4c00-43ba-b885-e16919940c6f",
   "metadata": {},
   "outputs": [
    {
     "data": {
      "text/plain": [
       "(6361, 2)"
      ]
     },
     "execution_count": 507,
     "metadata": {},
     "output_type": "execute_result"
    }
   ],
   "source": [
    "phone.shape"
   ]
  },
  {
   "cell_type": "markdown",
   "id": "d9fd733a-b517-41e3-92a4-8a9f094fb3e4",
   "metadata": {},
   "source": [
    "Each of the four datasets has a different shape. But they all share one column in common; customerID."
   ]
  },
  {
   "cell_type": "markdown",
   "id": "2e9e756e-e0e7-48fb-a882-02d06de574a9",
   "metadata": {},
   "source": [
    "<span style=\"color: blue; font-size: 32px;\"><strong>Exploratory Data Analysis</strong></span>"
   ]
  },
  {
   "cell_type": "markdown",
   "id": "bc33c06b-aeea-4dbc-bb11-6b448a700943",
   "metadata": {},
   "source": [
    "<H3>Clean the Data:</H3>"
   ]
  },
  {
   "cell_type": "markdown",
   "id": "99366bca-87b9-4cd0-b9f6-704677b8015a",
   "metadata": {},
   "source": [
    "- <span style=\"color: blue; font-size: 16px;\"><strong>examine contract dataset</strong></span>"
   ]
  },
  {
   "cell_type": "code",
   "execution_count": 513,
   "id": "2de35780-58a8-40e3-a407-0115db2573ff",
   "metadata": {},
   "outputs": [
    {
     "name": "stdout",
     "output_type": "stream",
     "text": [
      "<class 'pandas.core.frame.DataFrame'>\n",
      "RangeIndex: 7043 entries, 0 to 7042\n",
      "Data columns (total 8 columns):\n",
      " #   Column            Non-Null Count  Dtype  \n",
      "---  ------            --------------  -----  \n",
      " 0   customerID        7043 non-null   object \n",
      " 1   BeginDate         7043 non-null   object \n",
      " 2   EndDate           7043 non-null   object \n",
      " 3   Type              7043 non-null   object \n",
      " 4   PaperlessBilling  7043 non-null   object \n",
      " 5   PaymentMethod     7043 non-null   object \n",
      " 6   MonthlyCharges    7043 non-null   float64\n",
      " 7   TotalCharges      7043 non-null   object \n",
      "dtypes: float64(1), object(7)\n",
      "memory usage: 440.3+ KB\n"
     ]
    }
   ],
   "source": [
    "contract.info()"
   ]
  },
  {
   "cell_type": "markdown",
   "id": "2ea3395e-ecf6-4bbd-9a61-0ff9cbbbf9e0",
   "metadata": {},
   "source": [
    "- examine BeginDate column"
   ]
  },
  {
   "cell_type": "code",
   "execution_count": 516,
   "id": "41366cad-acf9-470c-a11a-af506bcd3934",
   "metadata": {},
   "outputs": [],
   "source": [
    "contract['BeginDate'] = pd.to_datetime(contract['BeginDate'])"
   ]
  },
  {
   "cell_type": "code",
   "execution_count": 518,
   "id": "10802d46-4acb-453f-8275-6d8f953a97b0",
   "metadata": {},
   "outputs": [
    {
     "name": "stdout",
     "output_type": "stream",
     "text": [
      "0\n"
     ]
    }
   ],
   "source": [
    "print(contract['BeginDate'].isna().sum())"
   ]
  },
  {
   "cell_type": "markdown",
   "id": "74650fbf-8909-4c3c-ba43-42f4c7fbb8da",
   "metadata": {},
   "source": [
    "- examine EndDate column"
   ]
  },
  {
   "cell_type": "code",
   "execution_count": 521,
   "id": "a09a37d9-0562-48d4-8bfc-77a34afbc470",
   "metadata": {},
   "outputs": [
    {
     "data": {
      "text/plain": [
       "EndDate\n",
       "No                     5174\n",
       "2019-11-01 00:00:00     485\n",
       "2019-12-01 00:00:00     466\n",
       "2020-01-01 00:00:00     460\n",
       "2019-10-01 00:00:00     458\n",
       "Name: count, dtype: int64"
      ]
     },
     "execution_count": 521,
     "metadata": {},
     "output_type": "execute_result"
    }
   ],
   "source": [
    "contract['EndDate'].value_counts()"
   ]
  },
  {
   "cell_type": "code",
   "execution_count": 523,
   "id": "e4ea3025-9070-47dd-854a-0d19d658d56f",
   "metadata": {},
   "outputs": [],
   "source": [
    "# 1869 is the amount of churned customers (those with dates). 5174  have not churned."
   ]
  },
  {
   "cell_type": "code",
   "execution_count": 525,
   "id": "b1e2f6b3-e0fa-4253-8ced-24388644bffd",
   "metadata": {},
   "outputs": [],
   "source": [
    "contract['EndDate'] = (contract['EndDate'] != 'No').astype(int) "
   ]
  },
  {
   "cell_type": "markdown",
   "id": "2d079e5f-91c2-4717-83fb-5342e033e0e4",
   "metadata": {},
   "source": [
    "If the value is not 'No', it evaluates to True, which is then converted to `1"
   ]
  },
  {
   "cell_type": "code",
   "execution_count": 528,
   "id": "e4c6b5cb-0f93-45d0-9bf2-34206924a411",
   "metadata": {},
   "outputs": [
    {
     "name": "stdout",
     "output_type": "stream",
     "text": [
      "0\n"
     ]
    }
   ],
   "source": [
    "print(contract['EndDate'].isna().sum())"
   ]
  },
  {
   "cell_type": "code",
   "execution_count": 530,
   "id": "8b8f5a9e-094c-4707-885e-65e5eb858a18",
   "metadata": {},
   "outputs": [
    {
     "data": {
      "text/plain": [
       "EndDate\n",
       "0    5174\n",
       "1    1869\n",
       "Name: count, dtype: int64"
      ]
     },
     "execution_count": 530,
     "metadata": {},
     "output_type": "execute_result"
    }
   ],
   "source": [
    "contract['EndDate'].value_counts()"
   ]
  },
  {
   "cell_type": "markdown",
   "id": "d7a4a01a-c671-47c7-bc3a-d9422bf1dbc7",
   "metadata": {},
   "source": [
    "<span style=\"color: red; font-size: 14px;\"><strong>0 used to be 'No'.  So now 'EndDate' == 0 is the new target.</strong></span>"
   ]
  },
  {
   "cell_type": "markdown",
   "id": "ddfa73a6-7f81-4485-8cce-ba77e9e8a04e",
   "metadata": {},
   "source": [
    "- examine Type column"
   ]
  },
  {
   "cell_type": "code",
   "execution_count": 534,
   "id": "201c85cd-e449-412d-bf5b-ff3de05d7d10",
   "metadata": {},
   "outputs": [
    {
     "name": "stdout",
     "output_type": "stream",
     "text": [
      "0\n"
     ]
    }
   ],
   "source": [
    "print(contract['Type'].isna().sum())"
   ]
  },
  {
   "cell_type": "code",
   "execution_count": 536,
   "id": "fbe7ebec-670c-4dce-989d-4fbf0e005e51",
   "metadata": {},
   "outputs": [
    {
     "data": {
      "text/plain": [
       "Type\n",
       "Month-to-month    3875\n",
       "Two year          1695\n",
       "One year          1473\n",
       "Name: count, dtype: int64"
      ]
     },
     "execution_count": 536,
     "metadata": {},
     "output_type": "execute_result"
    }
   ],
   "source": [
    "contract.Type.value_counts()"
   ]
  },
  {
   "cell_type": "code",
   "execution_count": 538,
   "id": "9161ea98-941b-4bcc-968c-b6bba4bb552e",
   "metadata": {},
   "outputs": [],
   "source": [
    "payment_type_mapping = {\n",
    "    'Month-to-month': 0,\n",
    "    'One year': 1,\n",
    "    'Two year': 2\n",
    "}"
   ]
  },
  {
   "cell_type": "code",
   "execution_count": 540,
   "id": "98ebe83f-1e7c-418c-8986-7d5bde0e3e16",
   "metadata": {},
   "outputs": [],
   "source": [
    "contract['Type'] = contract['Type'].map(payment_type_mapping)"
   ]
  },
  {
   "cell_type": "code",
   "execution_count": 542,
   "id": "a442a29e-5048-4a6b-b619-cef63ddcf13b",
   "metadata": {},
   "outputs": [
    {
     "name": "stdout",
     "output_type": "stream",
     "text": [
      "0\n"
     ]
    }
   ],
   "source": [
    "print(contract['Type'].isna().sum())"
   ]
  },
  {
   "cell_type": "code",
   "execution_count": 544,
   "id": "ee6ff4d2-f8cc-42d4-b997-e60ee48c8c37",
   "metadata": {},
   "outputs": [],
   "source": [
    "contract['Type'] = contract['Type'].astype('category')"
   ]
  },
  {
   "cell_type": "code",
   "execution_count": 546,
   "id": "b863bb6f-ed5f-4d8d-9709-7bb6f1e21b0e",
   "metadata": {},
   "outputs": [
    {
     "data": {
      "text/plain": [
       "Type\n",
       "0    3875\n",
       "2    1695\n",
       "1    1473\n",
       "Name: count, dtype: int64"
      ]
     },
     "execution_count": 546,
     "metadata": {},
     "output_type": "execute_result"
    }
   ],
   "source": [
    "contract.Type.value_counts()"
   ]
  },
  {
   "cell_type": "markdown",
   "id": "6780955f-d1e5-4821-886f-9d7cc34cef40",
   "metadata": {},
   "source": [
    "- examine Paperlessbilling column"
   ]
  },
  {
   "cell_type": "code",
   "execution_count": 549,
   "id": "e8e9bd6c-8c06-49d0-9000-7d1e65e4720c",
   "metadata": {},
   "outputs": [
    {
     "data": {
      "text/plain": [
       "PaperlessBilling\n",
       "Yes    4171\n",
       "No     2872\n",
       "Name: count, dtype: int64"
      ]
     },
     "execution_count": 549,
     "metadata": {},
     "output_type": "execute_result"
    }
   ],
   "source": [
    "contract.PaperlessBilling.value_counts()"
   ]
  },
  {
   "cell_type": "code",
   "execution_count": 551,
   "id": "584d6431-10ad-4358-b256-8e2673beb932",
   "metadata": {},
   "outputs": [],
   "source": [
    "# Convert PaperlessBilling to binary (1 for 'Yes', 0 for 'No')\n",
    "contract['PaperlessBilling'] = contract['PaperlessBilling'].map({'Yes': 1, 'No': 0})"
   ]
  },
  {
   "cell_type": "code",
   "execution_count": 553,
   "id": "193c16eb-0324-4120-804e-28c8ae791448",
   "metadata": {},
   "outputs": [
    {
     "data": {
      "text/plain": [
       "PaperlessBilling\n",
       "1    4171\n",
       "0    2872\n",
       "Name: count, dtype: int64"
      ]
     },
     "execution_count": 553,
     "metadata": {},
     "output_type": "execute_result"
    }
   ],
   "source": [
    "contract.PaperlessBilling.value_counts()"
   ]
  },
  {
   "cell_type": "code",
   "execution_count": 555,
   "id": "a5f9066d-b5a5-4a2b-bc4f-084927dc37d9",
   "metadata": {},
   "outputs": [
    {
     "data": {
      "text/plain": [
       "dtype('int64')"
      ]
     },
     "execution_count": 555,
     "metadata": {},
     "output_type": "execute_result"
    }
   ],
   "source": [
    "contract['PaperlessBilling'].dtype"
   ]
  },
  {
   "cell_type": "markdown",
   "id": "59e7cfbe-be4e-4b69-a364-eab0d2318fc2",
   "metadata": {},
   "source": [
    "- examine PaymentMethod column"
   ]
  },
  {
   "cell_type": "code",
   "execution_count": 558,
   "id": "40dff008-e0d2-422f-9f6a-585575ff840f",
   "metadata": {},
   "outputs": [
    {
     "data": {
      "text/plain": [
       "PaymentMethod\n",
       "Electronic check             2365\n",
       "Mailed check                 1612\n",
       "Bank transfer (automatic)    1544\n",
       "Credit card (automatic)      1522\n",
       "Name: count, dtype: int64"
      ]
     },
     "execution_count": 558,
     "metadata": {},
     "output_type": "execute_result"
    }
   ],
   "source": [
    "contract['PaymentMethod'].value_counts()"
   ]
  },
  {
   "cell_type": "code",
   "execution_count": 560,
   "id": "bd7d3fcb-3b6d-4618-917e-bbc3673dc67f",
   "metadata": {},
   "outputs": [],
   "source": [
    "payment_method_mapping = {\n",
    "    'Electronic check': 0,\n",
    "    'Mailed check': 1,\n",
    "    'Bank transfer (automatic)': 2,\n",
    "    'Credit card (automatic)': 3\n",
    "}"
   ]
  },
  {
   "cell_type": "code",
   "execution_count": 562,
   "id": "7f9c4163-d773-4167-83bd-451bd821b8e9",
   "metadata": {},
   "outputs": [],
   "source": [
    "contract['PaymentMethod'] = contract['PaymentMethod'].map(payment_method_mapping)"
   ]
  },
  {
   "cell_type": "code",
   "execution_count": 564,
   "id": "096136c3-212d-4ffa-b58f-968d6d7c854b",
   "metadata": {},
   "outputs": [
    {
     "data": {
      "text/plain": [
       "PaymentMethod\n",
       "0    2365\n",
       "1    1612\n",
       "2    1544\n",
       "3    1522\n",
       "Name: count, dtype: int64"
      ]
     },
     "execution_count": 564,
     "metadata": {},
     "output_type": "execute_result"
    }
   ],
   "source": [
    "contract['PaymentMethod'].value_counts()"
   ]
  },
  {
   "cell_type": "markdown",
   "id": "49693c8b-0bd9-4437-9e6f-255462eae3a4",
   "metadata": {},
   "source": [
    "- 0 = 'Electronic check'\n",
    "- 1 = 'Mailed check'\n",
    "- 2 = 'Bank transfer (automatic)'\n",
    "- 3 = 'Credit card (automatic)'"
   ]
  },
  {
   "cell_type": "code",
   "execution_count": 567,
   "id": "88ec2152-1ce7-4588-9032-926934c78da6",
   "metadata": {},
   "outputs": [],
   "source": [
    "contract['PaymentMethod'] = contract['PaymentMethod'].astype('category')"
   ]
  },
  {
   "cell_type": "code",
   "execution_count": 569,
   "id": "eadaab39-c43e-478d-a766-f85bc6536f86",
   "metadata": {},
   "outputs": [
    {
     "data": {
      "text/plain": [
       "PaymentMethod\n",
       "0    2365\n",
       "1    1612\n",
       "2    1544\n",
       "3    1522\n",
       "Name: count, dtype: int64"
      ]
     },
     "execution_count": 569,
     "metadata": {},
     "output_type": "execute_result"
    }
   ],
   "source": [
    "contract['PaymentMethod'].value_counts()"
   ]
  },
  {
   "cell_type": "code",
   "execution_count": 571,
   "id": "995daa04-05f9-45f6-a94a-5944e9c21af6",
   "metadata": {},
   "outputs": [
    {
     "data": {
      "text/plain": [
       "CategoricalDtype(categories=[0, 1, 2, 3], ordered=False, categories_dtype=int64)"
      ]
     },
     "execution_count": 571,
     "metadata": {},
     "output_type": "execute_result"
    }
   ],
   "source": [
    "contract['PaymentMethod'].dtype"
   ]
  },
  {
   "cell_type": "markdown",
   "id": "fb05e00b-66b9-4303-a7be-eaf59544c93d",
   "metadata": {},
   "source": [
    "- examine TotalCharges column"
   ]
  },
  {
   "cell_type": "code",
   "execution_count": 574,
   "id": "afeeeba7-cf49-48d2-9999-5ff265508425",
   "metadata": {},
   "outputs": [
    {
     "data": {
      "text/plain": [
       "TotalCharges\n",
       "          11\n",
       "20.2      11\n",
       "19.75      9\n",
       "20.05      8\n",
       "19.9       8\n",
       "          ..\n",
       "6849.4     1\n",
       "692.35     1\n",
       "130.15     1\n",
       "3211.9     1\n",
       "6844.5     1\n",
       "Name: count, Length: 6531, dtype: int64"
      ]
     },
     "execution_count": 574,
     "metadata": {},
     "output_type": "execute_result"
    }
   ],
   "source": [
    "contract.TotalCharges.value_counts()"
   ]
  },
  {
   "cell_type": "code",
   "execution_count": 576,
   "id": "3750348b-029e-46da-9e06-0051f7d99fba",
   "metadata": {},
   "outputs": [],
   "source": [
    "# Replace any white space with nan\n",
    "contract['TotalCharges'] = contract['TotalCharges'].replace(r'^\\s*$', np.nan, regex=True)"
   ]
  },
  {
   "cell_type": "code",
   "execution_count": 578,
   "id": "4527e9c4-fec5-4ae4-ac5d-cfbe51b19f3f",
   "metadata": {},
   "outputs": [],
   "source": [
    "#Convert the column to a numeric type, coercing any errors to NaN\n",
    "contract['TotalCharges'] = pd.to_numeric(contract['TotalCharges'], errors='coerce')"
   ]
  },
  {
   "cell_type": "code",
   "execution_count": 580,
   "id": "7b5b3962-b291-408b-9532-1fcc8a8ab23f",
   "metadata": {},
   "outputs": [
    {
     "name": "stdout",
     "output_type": "stream",
     "text": [
      "Warning: There are still NaN values. These will be filled with 0.0.\n"
     ]
    }
   ],
   "source": [
    "if contract['TotalCharges'].isnull().any():\n",
    "    print(\"Warning: There are still NaN values. These will be filled with 0.0.\")"
   ]
  },
  {
   "cell_type": "code",
   "execution_count": 582,
   "id": "45ce6c90-48cd-4147-8c5e-98b4ccdc82f1",
   "metadata": {},
   "outputs": [],
   "source": [
    "# Fill NaN values with 0.0\n",
    "contract['TotalCharges'] = contract['TotalCharges'].fillna(0.0)"
   ]
  },
  {
   "cell_type": "code",
   "execution_count": 584,
   "id": "9725a75c-1667-4c18-8d4b-9d5d32184c20",
   "metadata": {},
   "outputs": [],
   "source": [
    "contract['TotalCharges'] = contract['TotalCharges'].astype(float)"
   ]
  },
  {
   "cell_type": "markdown",
   "id": "d6fa314b-f06b-453f-b041-b180226fd726",
   "metadata": {},
   "source": [
    "- double check data types for the contract data set:"
   ]
  },
  {
   "cell_type": "code",
   "execution_count": 587,
   "id": "d3c6623f-41c0-42d7-941f-ac8e4320f3ea",
   "metadata": {},
   "outputs": [
    {
     "name": "stdout",
     "output_type": "stream",
     "text": [
      "<class 'pandas.core.frame.DataFrame'>\n",
      "RangeIndex: 7043 entries, 0 to 7042\n",
      "Data columns (total 8 columns):\n",
      " #   Column            Non-Null Count  Dtype         \n",
      "---  ------            --------------  -----         \n",
      " 0   customerID        7043 non-null   object        \n",
      " 1   BeginDate         7043 non-null   datetime64[ns]\n",
      " 2   EndDate           7043 non-null   int64         \n",
      " 3   Type              7043 non-null   category      \n",
      " 4   PaperlessBilling  7043 non-null   int64         \n",
      " 5   PaymentMethod     7043 non-null   category      \n",
      " 6   MonthlyCharges    7043 non-null   float64       \n",
      " 7   TotalCharges      7043 non-null   float64       \n",
      "dtypes: category(2), datetime64[ns](1), float64(2), int64(2), object(1)\n",
      "memory usage: 344.4+ KB\n"
     ]
    }
   ],
   "source": [
    "contract.info()"
   ]
  },
  {
   "cell_type": "markdown",
   "id": "c3d9a37d-9c61-4b06-add9-116c598b660a",
   "metadata": {},
   "source": [
    "- <span style=\"color: blue; font-size: 16px;\"><strong>examine internet dataset</strong></span>"
   ]
  },
  {
   "cell_type": "code",
   "execution_count": 590,
   "id": "372171f9-4fc6-4040-b15a-ff0a6eeeabff",
   "metadata": {},
   "outputs": [
    {
     "name": "stdout",
     "output_type": "stream",
     "text": [
      "<class 'pandas.core.frame.DataFrame'>\n",
      "RangeIndex: 5517 entries, 0 to 5516\n",
      "Data columns (total 8 columns):\n",
      " #   Column            Non-Null Count  Dtype \n",
      "---  ------            --------------  ----- \n",
      " 0   customerID        5517 non-null   object\n",
      " 1   InternetService   5517 non-null   object\n",
      " 2   OnlineSecurity    5517 non-null   object\n",
      " 3   OnlineBackup      5517 non-null   object\n",
      " 4   DeviceProtection  5517 non-null   object\n",
      " 5   TechSupport       5517 non-null   object\n",
      " 6   StreamingTV       5517 non-null   object\n",
      " 7   StreamingMovies   5517 non-null   object\n",
      "dtypes: object(8)\n",
      "memory usage: 344.9+ KB\n"
     ]
    }
   ],
   "source": [
    "internet.info()"
   ]
  },
  {
   "cell_type": "markdown",
   "id": "59b9cf07-18ec-496d-b74e-02a42a6295e6",
   "metadata": {},
   "source": [
    "- examine InternetService column"
   ]
  },
  {
   "cell_type": "code",
   "execution_count": 593,
   "id": "c407153a-5c7b-47ce-ada3-62bb061733ab",
   "metadata": {},
   "outputs": [
    {
     "data": {
      "text/plain": [
       "InternetService\n",
       "Fiber optic    3096\n",
       "DSL            2421\n",
       "Name: count, dtype: int64"
      ]
     },
     "execution_count": 593,
     "metadata": {},
     "output_type": "execute_result"
    }
   ],
   "source": [
    "internet['InternetService'].value_counts()"
   ]
  },
  {
   "cell_type": "code",
   "execution_count": 595,
   "id": "5043b27d-9e81-47f2-980f-6b1938c50137",
   "metadata": {},
   "outputs": [],
   "source": [
    "internet_service_mapping = {\n",
    "    'Fiber optic': 1,\n",
    "    'DSL': 0\n",
    "}"
   ]
  },
  {
   "cell_type": "code",
   "execution_count": 597,
   "id": "8bd9380f-ee66-40e0-8322-ddfa8e1078ce",
   "metadata": {},
   "outputs": [],
   "source": [
    "internet['InternetService'] = internet['InternetService'].map(internet_service_mapping)"
   ]
  },
  {
   "cell_type": "code",
   "execution_count": 599,
   "id": "641e2336-5758-41f5-bc9b-9b826c0e0a81",
   "metadata": {},
   "outputs": [
    {
     "name": "stdout",
     "output_type": "stream",
     "text": [
      "0\n"
     ]
    }
   ],
   "source": [
    "print(internet['InternetService'].isna().sum())"
   ]
  },
  {
   "cell_type": "code",
   "execution_count": 601,
   "id": "afa14625-2a2e-4c8e-bea8-46042ce4a8e6",
   "metadata": {},
   "outputs": [
    {
     "data": {
      "text/plain": [
       "dtype('int64')"
      ]
     },
     "execution_count": 601,
     "metadata": {},
     "output_type": "execute_result"
    }
   ],
   "source": [
    "internet['InternetService'].dtype"
   ]
  },
  {
   "cell_type": "markdown",
   "id": "b6ef209f-710a-4462-8cad-8fcb971603b3",
   "metadata": {},
   "source": [
    "- examine OnlineSecurity column"
   ]
  },
  {
   "cell_type": "code",
   "execution_count": 604,
   "id": "b666ea68-9e03-47d4-9d5b-152e9347412d",
   "metadata": {},
   "outputs": [
    {
     "data": {
      "text/plain": [
       "OnlineSecurity\n",
       "No     3498\n",
       "Yes    2019\n",
       "Name: count, dtype: int64"
      ]
     },
     "execution_count": 604,
     "metadata": {},
     "output_type": "execute_result"
    }
   ],
   "source": [
    "internet['OnlineSecurity'].value_counts()"
   ]
  },
  {
   "cell_type": "code",
   "execution_count": 606,
   "id": "ce82b934-409b-461e-a198-3d13e0c8ed2b",
   "metadata": {},
   "outputs": [],
   "source": [
    "#Convert to boolean\n",
    "internet['OnlineSecurity'] = internet['OnlineSecurity'].map({'Yes': 1, 'No': 0})"
   ]
  },
  {
   "cell_type": "code",
   "execution_count": 608,
   "id": "56cc4717-b956-4233-af64-8705947bad7c",
   "metadata": {},
   "outputs": [
    {
     "data": {
      "text/plain": [
       "dtype('int64')"
      ]
     },
     "execution_count": 608,
     "metadata": {},
     "output_type": "execute_result"
    }
   ],
   "source": [
    "internet['OnlineSecurity'].dtype"
   ]
  },
  {
   "cell_type": "markdown",
   "id": "020a5ef6-00b6-4830-aed6-385c45af99a0",
   "metadata": {},
   "source": [
    "- examine OnlineBackup column"
   ]
  },
  {
   "cell_type": "code",
   "execution_count": 611,
   "id": "d50c6a5a-f6e0-43fe-9546-f7c4a2c8a4e6",
   "metadata": {},
   "outputs": [
    {
     "data": {
      "text/plain": [
       "OnlineBackup\n",
       "No     3088\n",
       "Yes    2429\n",
       "Name: count, dtype: int64"
      ]
     },
     "execution_count": 611,
     "metadata": {},
     "output_type": "execute_result"
    }
   ],
   "source": [
    "internet.OnlineBackup.value_counts()"
   ]
  },
  {
   "cell_type": "code",
   "execution_count": 613,
   "id": "01af061c-c1ca-41b1-952b-527805d04513",
   "metadata": {},
   "outputs": [],
   "source": [
    "# Convert 'OnlineBackup' column to boolean type\n",
    "internet['OnlineBackup'] = internet['OnlineBackup'].map({'Yes': 1, 'No': 0})"
   ]
  },
  {
   "cell_type": "code",
   "execution_count": 615,
   "id": "bda5d2f5-14ea-4756-a17f-f135f491ea4e",
   "metadata": {},
   "outputs": [
    {
     "data": {
      "text/plain": [
       "dtype('int64')"
      ]
     },
     "execution_count": 615,
     "metadata": {},
     "output_type": "execute_result"
    }
   ],
   "source": [
    "internet['OnlineBackup'].dtype"
   ]
  },
  {
   "cell_type": "markdown",
   "id": "9f766b7d-afd8-41a8-8e34-bc287d48e439",
   "metadata": {},
   "source": [
    "- examine DeviceProtection column"
   ]
  },
  {
   "cell_type": "code",
   "execution_count": 618,
   "id": "6a61d879-8b53-4ad9-87ee-250f66f39ec0",
   "metadata": {},
   "outputs": [
    {
     "data": {
      "text/plain": [
       "DeviceProtection\n",
       "No     3095\n",
       "Yes    2422\n",
       "Name: count, dtype: int64"
      ]
     },
     "execution_count": 618,
     "metadata": {},
     "output_type": "execute_result"
    }
   ],
   "source": [
    "internet.DeviceProtection.value_counts()"
   ]
  },
  {
   "cell_type": "code",
   "execution_count": 620,
   "id": "cd8e1184-e19f-4b5b-80a3-ca35c6deeaf3",
   "metadata": {},
   "outputs": [],
   "source": [
    "internet['DeviceProtection'] = internet['DeviceProtection'].map({'Yes': 1, 'No': 0})"
   ]
  },
  {
   "cell_type": "code",
   "execution_count": 622,
   "id": "13d64c6a-b48f-4c97-a6ce-ecce7808d0e6",
   "metadata": {},
   "outputs": [
    {
     "data": {
      "text/plain": [
       "DeviceProtection\n",
       "0    3095\n",
       "1    2422\n",
       "Name: count, dtype: int64"
      ]
     },
     "execution_count": 622,
     "metadata": {},
     "output_type": "execute_result"
    }
   ],
   "source": [
    "internet.DeviceProtection.value_counts()"
   ]
  },
  {
   "cell_type": "code",
   "execution_count": 624,
   "id": "3c53a22a-7e5a-4cf4-9909-100aa97f10ac",
   "metadata": {},
   "outputs": [
    {
     "data": {
      "text/plain": [
       "dtype('int64')"
      ]
     },
     "execution_count": 624,
     "metadata": {},
     "output_type": "execute_result"
    }
   ],
   "source": [
    "internet['DeviceProtection'].dtype"
   ]
  },
  {
   "cell_type": "markdown",
   "id": "bd4552e5-7256-4018-9239-ec1c8b800dfd",
   "metadata": {},
   "source": [
    "- examine TechSupport column"
   ]
  },
  {
   "cell_type": "code",
   "execution_count": 627,
   "id": "c7e16948-d415-4ed0-83e7-bf03df7e3c59",
   "metadata": {},
   "outputs": [
    {
     "data": {
      "text/plain": [
       "TechSupport\n",
       "No     3473\n",
       "Yes    2044\n",
       "Name: count, dtype: int64"
      ]
     },
     "execution_count": 627,
     "metadata": {},
     "output_type": "execute_result"
    }
   ],
   "source": [
    "internet.TechSupport.value_counts()"
   ]
  },
  {
   "cell_type": "code",
   "execution_count": 629,
   "id": "16fee545-d672-41e5-8f55-b91e0c94a13e",
   "metadata": {},
   "outputs": [],
   "source": [
    "internet['TechSupport'] = internet['TechSupport'].map({'Yes': 1, 'No': 0})"
   ]
  },
  {
   "cell_type": "code",
   "execution_count": 631,
   "id": "7bce8728-848b-45ce-a561-0a91a25e4dfc",
   "metadata": {},
   "outputs": [
    {
     "data": {
      "text/plain": [
       "TechSupport\n",
       "0    3473\n",
       "1    2044\n",
       "Name: count, dtype: int64"
      ]
     },
     "execution_count": 631,
     "metadata": {},
     "output_type": "execute_result"
    }
   ],
   "source": [
    "internet.TechSupport.value_counts()"
   ]
  },
  {
   "cell_type": "code",
   "execution_count": 633,
   "id": "6646fd4e-27bc-444a-8438-88daeedf1e5a",
   "metadata": {},
   "outputs": [
    {
     "data": {
      "text/plain": [
       "dtype('int64')"
      ]
     },
     "execution_count": 633,
     "metadata": {},
     "output_type": "execute_result"
    }
   ],
   "source": [
    "internet['TechSupport'].dtype"
   ]
  },
  {
   "cell_type": "markdown",
   "id": "edf44cbb-07a9-466e-91bc-15c4f049993f",
   "metadata": {},
   "source": [
    "- examine StreamingTV column"
   ]
  },
  {
   "cell_type": "code",
   "execution_count": 636,
   "id": "cbfa36e5-8d17-44c4-a083-609182b4c7df",
   "metadata": {},
   "outputs": [
    {
     "data": {
      "text/plain": [
       "StreamingTV\n",
       "No     2810\n",
       "Yes    2707\n",
       "Name: count, dtype: int64"
      ]
     },
     "execution_count": 636,
     "metadata": {},
     "output_type": "execute_result"
    }
   ],
   "source": [
    "internet.StreamingTV.value_counts()"
   ]
  },
  {
   "cell_type": "code",
   "execution_count": 638,
   "id": "e97a50ce-a66c-4b33-ba16-a30d9d8a372d",
   "metadata": {},
   "outputs": [],
   "source": [
    "internet['StreamingTV'] = internet['StreamingTV'].map({'Yes': 1, 'No': 0})"
   ]
  },
  {
   "cell_type": "code",
   "execution_count": 640,
   "id": "c59d1179-b5ca-4496-92d1-b756b3bc7555",
   "metadata": {},
   "outputs": [
    {
     "data": {
      "text/plain": [
       "StreamingTV\n",
       "0    2810\n",
       "1    2707\n",
       "Name: count, dtype: int64"
      ]
     },
     "execution_count": 640,
     "metadata": {},
     "output_type": "execute_result"
    }
   ],
   "source": [
    "internet['StreamingTV'].value_counts()"
   ]
  },
  {
   "cell_type": "code",
   "execution_count": 642,
   "id": "7c6ceab5-5a0a-4028-8216-53f1938d3bfa",
   "metadata": {},
   "outputs": [
    {
     "data": {
      "text/plain": [
       "dtype('int64')"
      ]
     },
     "execution_count": 642,
     "metadata": {},
     "output_type": "execute_result"
    }
   ],
   "source": [
    "internet['StreamingTV'].dtype"
   ]
  },
  {
   "cell_type": "markdown",
   "id": "b5a3e7e3-c903-4d4f-a8eb-30798e7578fb",
   "metadata": {},
   "source": [
    "- examine StreamingMovies column"
   ]
  },
  {
   "cell_type": "code",
   "execution_count": 645,
   "id": "cb861d87-da93-43ec-9486-eedd4cdcd97e",
   "metadata": {},
   "outputs": [
    {
     "data": {
      "text/plain": [
       "StreamingMovies\n",
       "No     2785\n",
       "Yes    2732\n",
       "Name: count, dtype: int64"
      ]
     },
     "execution_count": 645,
     "metadata": {},
     "output_type": "execute_result"
    }
   ],
   "source": [
    "internet.StreamingMovies.value_counts()"
   ]
  },
  {
   "cell_type": "code",
   "execution_count": 647,
   "id": "6292bff4-1dfc-4c27-af47-fddac8defcb0",
   "metadata": {},
   "outputs": [],
   "source": [
    "internet['StreamingMovies'] = internet['StreamingMovies'].map({'Yes': 1, 'No': 0})"
   ]
  },
  {
   "cell_type": "code",
   "execution_count": 649,
   "id": "43644e45-a22f-4a04-a393-814faa426b4a",
   "metadata": {},
   "outputs": [
    {
     "data": {
      "text/plain": [
       "StreamingMovies\n",
       "0    2785\n",
       "1    2732\n",
       "Name: count, dtype: int64"
      ]
     },
     "execution_count": 649,
     "metadata": {},
     "output_type": "execute_result"
    }
   ],
   "source": [
    "internet['StreamingMovies'].value_counts()"
   ]
  },
  {
   "cell_type": "code",
   "execution_count": 651,
   "id": "70215e2e-b335-4e17-83d0-7bf561103bc0",
   "metadata": {},
   "outputs": [
    {
     "data": {
      "text/plain": [
       "dtype('int64')"
      ]
     },
     "execution_count": 651,
     "metadata": {},
     "output_type": "execute_result"
    }
   ],
   "source": [
    "internet['StreamingMovies'].dtype"
   ]
  },
  {
   "cell_type": "markdown",
   "id": "0b6c54cb-d9a5-43a4-9a50-78bcd49ecc9c",
   "metadata": {},
   "source": [
    "- double check data types of internet data set:"
   ]
  },
  {
   "cell_type": "code",
   "execution_count": 654,
   "id": "ba1a8208-5e3c-4fb3-8436-a4164f9b997b",
   "metadata": {},
   "outputs": [
    {
     "name": "stdout",
     "output_type": "stream",
     "text": [
      "<class 'pandas.core.frame.DataFrame'>\n",
      "RangeIndex: 5517 entries, 0 to 5516\n",
      "Data columns (total 8 columns):\n",
      " #   Column            Non-Null Count  Dtype \n",
      "---  ------            --------------  ----- \n",
      " 0   customerID        5517 non-null   object\n",
      " 1   InternetService   5517 non-null   int64 \n",
      " 2   OnlineSecurity    5517 non-null   int64 \n",
      " 3   OnlineBackup      5517 non-null   int64 \n",
      " 4   DeviceProtection  5517 non-null   int64 \n",
      " 5   TechSupport       5517 non-null   int64 \n",
      " 6   StreamingTV       5517 non-null   int64 \n",
      " 7   StreamingMovies   5517 non-null   int64 \n",
      "dtypes: int64(7), object(1)\n",
      "memory usage: 344.9+ KB\n"
     ]
    }
   ],
   "source": [
    "internet.info()"
   ]
  },
  {
   "cell_type": "markdown",
   "id": "7c115146-db3d-44ec-8726-08023cec6b5b",
   "metadata": {},
   "source": [
    "- <span style=\"color: blue; font-size: 16px;\"><strong>examine personal dataset</strong></span>"
   ]
  },
  {
   "cell_type": "code",
   "execution_count": 657,
   "id": "7811631b-2690-479e-8e6a-327b3d5deea7",
   "metadata": {},
   "outputs": [
    {
     "name": "stdout",
     "output_type": "stream",
     "text": [
      "<class 'pandas.core.frame.DataFrame'>\n",
      "RangeIndex: 7043 entries, 0 to 7042\n",
      "Data columns (total 5 columns):\n",
      " #   Column         Non-Null Count  Dtype \n",
      "---  ------         --------------  ----- \n",
      " 0   customerID     7043 non-null   object\n",
      " 1   gender         7043 non-null   object\n",
      " 2   SeniorCitizen  7043 non-null   int64 \n",
      " 3   Partner        7043 non-null   object\n",
      " 4   Dependents     7043 non-null   object\n",
      "dtypes: int64(1), object(4)\n",
      "memory usage: 275.2+ KB\n"
     ]
    }
   ],
   "source": [
    "personal.info()"
   ]
  },
  {
   "cell_type": "markdown",
   "id": "611f3ed7-3833-40b6-9ab9-0feb3cd67a79",
   "metadata": {},
   "source": [
    "- examine gender column"
   ]
  },
  {
   "cell_type": "code",
   "execution_count": 660,
   "id": "0d30c508-2c1c-42a7-b1cf-bc1fc69f237e",
   "metadata": {},
   "outputs": [
    {
     "data": {
      "text/plain": [
       "gender\n",
       "Male      3555\n",
       "Female    3488\n",
       "Name: count, dtype: int64"
      ]
     },
     "execution_count": 660,
     "metadata": {},
     "output_type": "execute_result"
    }
   ],
   "source": [
    "personal.gender.value_counts()"
   ]
  },
  {
   "cell_type": "code",
   "execution_count": 662,
   "id": "e3782adf-ff67-4380-81da-5424690986cd",
   "metadata": {},
   "outputs": [],
   "source": [
    "personal['gender'] = personal['gender'].map({'Male': 1, 'Female': 0})"
   ]
  },
  {
   "cell_type": "code",
   "execution_count": 664,
   "id": "5bebd0bd-d1b0-4492-b84d-8b64e692cf2d",
   "metadata": {},
   "outputs": [
    {
     "data": {
      "text/plain": [
       "gender\n",
       "1    3555\n",
       "0    3488\n",
       "Name: count, dtype: int64"
      ]
     },
     "execution_count": 664,
     "metadata": {},
     "output_type": "execute_result"
    }
   ],
   "source": [
    "personal.gender.value_counts()"
   ]
  },
  {
   "cell_type": "code",
   "execution_count": 666,
   "id": "5082e5f2-9444-4579-a841-b622d82f2277",
   "metadata": {},
   "outputs": [
    {
     "data": {
      "text/plain": [
       "dtype('int64')"
      ]
     },
     "execution_count": 666,
     "metadata": {},
     "output_type": "execute_result"
    }
   ],
   "source": [
    "personal['gender'].dtypes"
   ]
  },
  {
   "cell_type": "markdown",
   "id": "e0e134d4-84f1-4e1e-9773-24bbd7d4ad8c",
   "metadata": {},
   "source": [
    "- examine SeniorCitizen column"
   ]
  },
  {
   "cell_type": "code",
   "execution_count": 669,
   "id": "bcc01df2-73dd-4863-9d29-69fe3f65199b",
   "metadata": {},
   "outputs": [
    {
     "data": {
      "text/plain": [
       "SeniorCitizen\n",
       "0    5901\n",
       "1    1142\n",
       "Name: count, dtype: int64"
      ]
     },
     "execution_count": 669,
     "metadata": {},
     "output_type": "execute_result"
    }
   ],
   "source": [
    "personal.SeniorCitizen.value_counts()"
   ]
  },
  {
   "cell_type": "code",
   "execution_count": 671,
   "id": "36b27fbd-57cf-4e88-8c0b-59b8bdebffef",
   "metadata": {},
   "outputs": [
    {
     "data": {
      "text/plain": [
       "dtype('int64')"
      ]
     },
     "execution_count": 671,
     "metadata": {},
     "output_type": "execute_result"
    }
   ],
   "source": [
    "personal['SeniorCitizen'].dtype"
   ]
  },
  {
   "cell_type": "markdown",
   "id": "43fb8766-770e-4c43-8c4f-83318bf2aaf4",
   "metadata": {},
   "source": [
    "- examine Partner column"
   ]
  },
  {
   "cell_type": "code",
   "execution_count": 674,
   "id": "79ea9fd1-285b-4048-b645-a697f9cf9dc9",
   "metadata": {},
   "outputs": [
    {
     "data": {
      "text/plain": [
       "Partner\n",
       "No     3641\n",
       "Yes    3402\n",
       "Name: count, dtype: int64"
      ]
     },
     "execution_count": 674,
     "metadata": {},
     "output_type": "execute_result"
    }
   ],
   "source": [
    "personal.Partner.value_counts()"
   ]
  },
  {
   "cell_type": "code",
   "execution_count": 676,
   "id": "1643860e-ac3b-4e21-93b6-c8e4e43746a1",
   "metadata": {},
   "outputs": [],
   "source": [
    "personal['Partner'] = personal['Partner'].map({'Yes': 1, 'No': 0})"
   ]
  },
  {
   "cell_type": "code",
   "execution_count": 678,
   "id": "b233e995-debd-41f4-b709-3ec9c657c7d3",
   "metadata": {},
   "outputs": [
    {
     "data": {
      "text/plain": [
       "Partner\n",
       "0    3641\n",
       "1    3402\n",
       "Name: count, dtype: int64"
      ]
     },
     "execution_count": 678,
     "metadata": {},
     "output_type": "execute_result"
    }
   ],
   "source": [
    "personal.Partner.value_counts()"
   ]
  },
  {
   "cell_type": "code",
   "execution_count": 680,
   "id": "ab85bd68-2da0-4390-8726-e0b27eb4a88c",
   "metadata": {},
   "outputs": [
    {
     "data": {
      "text/plain": [
       "dtype('int64')"
      ]
     },
     "execution_count": 680,
     "metadata": {},
     "output_type": "execute_result"
    }
   ],
   "source": [
    "personal['Partner'].dtype"
   ]
  },
  {
   "cell_type": "markdown",
   "id": "b4445caa-48df-4ca1-96dd-a89b5ba2aea2",
   "metadata": {},
   "source": [
    "- examine Dependents column"
   ]
  },
  {
   "cell_type": "code",
   "execution_count": 683,
   "id": "7ea33720-e433-4d86-ac79-97dd98ce9733",
   "metadata": {},
   "outputs": [
    {
     "data": {
      "text/plain": [
       "Dependents\n",
       "No     4933\n",
       "Yes    2110\n",
       "Name: count, dtype: int64"
      ]
     },
     "execution_count": 683,
     "metadata": {},
     "output_type": "execute_result"
    }
   ],
   "source": [
    "personal.Dependents.value_counts()"
   ]
  },
  {
   "cell_type": "code",
   "execution_count": 685,
   "id": "e89e6af6-f3a9-4dbe-a4c8-06ac3a48c13d",
   "metadata": {},
   "outputs": [],
   "source": [
    "personal['Dependents'] = personal['Dependents'].map({'Yes': 1, 'No': 0})"
   ]
  },
  {
   "cell_type": "code",
   "execution_count": 687,
   "id": "87153c5f-ae91-4464-aab8-77e9fdd4b923",
   "metadata": {},
   "outputs": [
    {
     "data": {
      "text/plain": [
       "Dependents\n",
       "0    4933\n",
       "1    2110\n",
       "Name: count, dtype: int64"
      ]
     },
     "execution_count": 687,
     "metadata": {},
     "output_type": "execute_result"
    }
   ],
   "source": [
    "personal.Dependents.value_counts()"
   ]
  },
  {
   "cell_type": "code",
   "execution_count": 689,
   "id": "ea6a770b-7daf-4ea5-9e43-f7a892779e4b",
   "metadata": {},
   "outputs": [
    {
     "data": {
      "text/plain": [
       "dtype('int64')"
      ]
     },
     "execution_count": 689,
     "metadata": {},
     "output_type": "execute_result"
    }
   ],
   "source": [
    "personal['Partner'].dtype"
   ]
  },
  {
   "cell_type": "markdown",
   "id": "ea9bab79-b13f-42b2-a49a-21c291be2b2d",
   "metadata": {},
   "source": [
    "- double check the data types in the personal data set"
   ]
  },
  {
   "cell_type": "code",
   "execution_count": 692,
   "id": "e1cd7999-b31d-42a2-aa89-ce4243765c50",
   "metadata": {},
   "outputs": [
    {
     "name": "stdout",
     "output_type": "stream",
     "text": [
      "<class 'pandas.core.frame.DataFrame'>\n",
      "RangeIndex: 7043 entries, 0 to 7042\n",
      "Data columns (total 5 columns):\n",
      " #   Column         Non-Null Count  Dtype \n",
      "---  ------         --------------  ----- \n",
      " 0   customerID     7043 non-null   object\n",
      " 1   gender         7043 non-null   int64 \n",
      " 2   SeniorCitizen  7043 non-null   int64 \n",
      " 3   Partner        7043 non-null   int64 \n",
      " 4   Dependents     7043 non-null   int64 \n",
      "dtypes: int64(4), object(1)\n",
      "memory usage: 275.2+ KB\n"
     ]
    }
   ],
   "source": [
    "personal.info()"
   ]
  },
  {
   "cell_type": "markdown",
   "id": "197c59af-bf6f-44d8-b987-7de52d74e4e9",
   "metadata": {},
   "source": [
    "- <span style=\"color: blue; font-size: 16px;\"><strong>examine phone dataset</strong></span>"
   ]
  },
  {
   "cell_type": "code",
   "execution_count": 695,
   "id": "0484673f-32aa-4f5b-825d-b7dee8426e68",
   "metadata": {},
   "outputs": [
    {
     "name": "stdout",
     "output_type": "stream",
     "text": [
      "<class 'pandas.core.frame.DataFrame'>\n",
      "RangeIndex: 6361 entries, 0 to 6360\n",
      "Data columns (total 2 columns):\n",
      " #   Column         Non-Null Count  Dtype \n",
      "---  ------         --------------  ----- \n",
      " 0   customerID     6361 non-null   object\n",
      " 1   MultipleLines  6361 non-null   object\n",
      "dtypes: object(2)\n",
      "memory usage: 99.5+ KB\n"
     ]
    }
   ],
   "source": [
    "phone.info()"
   ]
  },
  {
   "cell_type": "code",
   "execution_count": 697,
   "id": "04d4222f-663c-4bcf-a4c9-d3e2611c35bb",
   "metadata": {},
   "outputs": [
    {
     "data": {
      "text/plain": [
       "MultipleLines\n",
       "No     3390\n",
       "Yes    2971\n",
       "Name: count, dtype: int64"
      ]
     },
     "execution_count": 697,
     "metadata": {},
     "output_type": "execute_result"
    }
   ],
   "source": [
    "phone.MultipleLines.value_counts()"
   ]
  },
  {
   "cell_type": "code",
   "execution_count": 699,
   "id": "25335157-2d13-4cb1-b78b-c83bf9e9b931",
   "metadata": {},
   "outputs": [],
   "source": [
    "phone['MultipleLines'] = phone['MultipleLines'].map({'No': 0, 'Yes': 1})"
   ]
  },
  {
   "cell_type": "code",
   "execution_count": 701,
   "id": "c52a1804-da23-4f61-afe9-73904f38dc53",
   "metadata": {},
   "outputs": [
    {
     "data": {
      "text/plain": [
       "dtype('int64')"
      ]
     },
     "execution_count": 701,
     "metadata": {},
     "output_type": "execute_result"
    }
   ],
   "source": [
    "phone['MultipleLines'].dtype"
   ]
  },
  {
   "cell_type": "markdown",
   "id": "f7125b40-8d2a-48a7-a304-1c1750c384fe",
   "metadata": {},
   "source": [
    "- double check the data types in the phone data set: "
   ]
  },
  {
   "cell_type": "code",
   "execution_count": 704,
   "id": "3f3b97c1-a12f-46c9-b3b9-1576cdbffca6",
   "metadata": {},
   "outputs": [
    {
     "name": "stdout",
     "output_type": "stream",
     "text": [
      "<class 'pandas.core.frame.DataFrame'>\n",
      "RangeIndex: 6361 entries, 0 to 6360\n",
      "Data columns (total 2 columns):\n",
      " #   Column         Non-Null Count  Dtype \n",
      "---  ------         --------------  ----- \n",
      " 0   customerID     6361 non-null   object\n",
      " 1   MultipleLines  6361 non-null   int64 \n",
      "dtypes: int64(1), object(1)\n",
      "memory usage: 99.5+ KB\n"
     ]
    }
   ],
   "source": [
    "phone.info()"
   ]
  },
  {
   "cell_type": "markdown",
   "id": "638f6283-0873-4bc1-99d3-c5795098b1d7",
   "metadata": {},
   "source": [
    "- Check for missing values in all 4 datasets:"
   ]
  },
  {
   "cell_type": "code",
   "execution_count": 707,
   "id": "e999516a-85c6-424e-8c63-440e32e3a6d6",
   "metadata": {},
   "outputs": [],
   "source": [
    "# Check for missing values in each DataFrame\n",
    "missing_contract = contract.isnull().sum()\n",
    "missing_internet = internet.isnull().sum()\n",
    "missing_personal = personal.isnull().sum()\n",
    "missing_phone = phone.isnull().sum()"
   ]
  },
  {
   "cell_type": "code",
   "execution_count": 709,
   "id": "0635a41f-f1df-4bb2-b08d-90055a526b21",
   "metadata": {},
   "outputs": [
    {
     "name": "stdout",
     "output_type": "stream",
     "text": [
      "Missing values in contract:\n",
      " customerID          0\n",
      "BeginDate           0\n",
      "EndDate             0\n",
      "Type                0\n",
      "PaperlessBilling    0\n",
      "PaymentMethod       0\n",
      "MonthlyCharges      0\n",
      "TotalCharges        0\n",
      "dtype: int64\n",
      "\n",
      "Missing values in internet:\n",
      " customerID          0\n",
      "InternetService     0\n",
      "OnlineSecurity      0\n",
      "OnlineBackup        0\n",
      "DeviceProtection    0\n",
      "TechSupport         0\n",
      "StreamingTV         0\n",
      "StreamingMovies     0\n",
      "dtype: int64\n",
      "\n",
      "Missing values in personal:\n",
      " customerID       0\n",
      "gender           0\n",
      "SeniorCitizen    0\n",
      "Partner          0\n",
      "Dependents       0\n",
      "dtype: int64\n",
      "\n",
      "Missing values in phone:\n",
      " customerID       0\n",
      "MultipleLines    0\n",
      "dtype: int64\n"
     ]
    }
   ],
   "source": [
    "# Display the counts of missing values\n",
    "print(\"Missing values in contract:\\n\", missing_contract)\n",
    "print(\"\\nMissing values in internet:\\n\", missing_internet)\n",
    "print(\"\\nMissing values in personal:\\n\", missing_personal)\n",
    "print(\"\\nMissing values in phone:\\n\", missing_phone)"
   ]
  },
  {
   "cell_type": "markdown",
   "id": "17af7f93-b269-4af6-8eea-190ae5e272e5",
   "metadata": {},
   "source": [
    "<H4>There is no missing data.</H4>"
   ]
  },
  {
   "cell_type": "markdown",
   "id": "39a50dce-7664-43d9-be3d-bd3c4dd2073d",
   "metadata": {},
   "source": [
    "<H2>Merge Dataframes:</H2>"
   ]
  },
  {
   "cell_type": "markdown",
   "id": "784ae12a-b610-46a2-98b0-8b2c692be416",
   "metadata": {},
   "source": [
    "These are the names of the 4 datasets: contract, internet, personal, phone"
   ]
  },
  {
   "cell_type": "code",
   "execution_count": 714,
   "id": "cfb7e4d0-d047-4609-8a43-d694a558da50",
   "metadata": {},
   "outputs": [],
   "source": [
    "# Add indexes on the customerID column before merging\n",
    "contract.set_index('customerID', inplace=True)\n",
    "internet.set_index('customerID', inplace=True)\n",
    "personal.set_index('customerID', inplace=True)\n",
    "phone.set_index('customerID', inplace=True)"
   ]
  },
  {
   "cell_type": "code",
   "execution_count": 716,
   "id": "d80209ae-9ea2-4aa4-b606-7308d1177dbc",
   "metadata": {},
   "outputs": [],
   "source": [
    "# Then merge using the indexes\n",
    "merged_df = contract.join([internet, personal, phone], how='outer')"
   ]
  },
  {
   "cell_type": "code",
   "execution_count": 718,
   "id": "0b04ac60-1cfc-4e15-8fed-a88bab0c517d",
   "metadata": {},
   "outputs": [],
   "source": [
    "merged_df.reset_index(inplace=True)"
   ]
  },
  {
   "cell_type": "code",
   "execution_count": 720,
   "id": "7eeda8fd-f5d4-455c-bc15-e8b015a4c88d",
   "metadata": {},
   "outputs": [
    {
     "data": {
      "text/html": [
       "<div>\n",
       "<style scoped>\n",
       "    .dataframe tbody tr th:only-of-type {\n",
       "        vertical-align: middle;\n",
       "    }\n",
       "\n",
       "    .dataframe tbody tr th {\n",
       "        vertical-align: top;\n",
       "    }\n",
       "\n",
       "    .dataframe thead th {\n",
       "        text-align: right;\n",
       "    }\n",
       "</style>\n",
       "<table border=\"1\" class=\"dataframe\">\n",
       "  <thead>\n",
       "    <tr style=\"text-align: right;\">\n",
       "      <th></th>\n",
       "      <th>customerID</th>\n",
       "      <th>BeginDate</th>\n",
       "      <th>EndDate</th>\n",
       "      <th>Type</th>\n",
       "      <th>PaperlessBilling</th>\n",
       "      <th>PaymentMethod</th>\n",
       "      <th>MonthlyCharges</th>\n",
       "      <th>TotalCharges</th>\n",
       "      <th>InternetService</th>\n",
       "      <th>OnlineSecurity</th>\n",
       "      <th>OnlineBackup</th>\n",
       "      <th>DeviceProtection</th>\n",
       "      <th>TechSupport</th>\n",
       "      <th>StreamingTV</th>\n",
       "      <th>StreamingMovies</th>\n",
       "      <th>gender</th>\n",
       "      <th>SeniorCitizen</th>\n",
       "      <th>Partner</th>\n",
       "      <th>Dependents</th>\n",
       "      <th>MultipleLines</th>\n",
       "    </tr>\n",
       "  </thead>\n",
       "  <tbody>\n",
       "    <tr>\n",
       "      <th>0</th>\n",
       "      <td>7590-VHVEG</td>\n",
       "      <td>2020-01-01</td>\n",
       "      <td>0</td>\n",
       "      <td>0</td>\n",
       "      <td>1</td>\n",
       "      <td>0</td>\n",
       "      <td>29.85</td>\n",
       "      <td>29.85</td>\n",
       "      <td>0.0</td>\n",
       "      <td>0.0</td>\n",
       "      <td>1.0</td>\n",
       "      <td>0.0</td>\n",
       "      <td>0.0</td>\n",
       "      <td>0.0</td>\n",
       "      <td>0.0</td>\n",
       "      <td>0</td>\n",
       "      <td>0</td>\n",
       "      <td>1</td>\n",
       "      <td>0</td>\n",
       "      <td>NaN</td>\n",
       "    </tr>\n",
       "    <tr>\n",
       "      <th>1</th>\n",
       "      <td>5575-GNVDE</td>\n",
       "      <td>2017-04-01</td>\n",
       "      <td>0</td>\n",
       "      <td>1</td>\n",
       "      <td>0</td>\n",
       "      <td>1</td>\n",
       "      <td>56.95</td>\n",
       "      <td>1889.50</td>\n",
       "      <td>0.0</td>\n",
       "      <td>1.0</td>\n",
       "      <td>0.0</td>\n",
       "      <td>1.0</td>\n",
       "      <td>0.0</td>\n",
       "      <td>0.0</td>\n",
       "      <td>0.0</td>\n",
       "      <td>1</td>\n",
       "      <td>0</td>\n",
       "      <td>0</td>\n",
       "      <td>0</td>\n",
       "      <td>0.0</td>\n",
       "    </tr>\n",
       "    <tr>\n",
       "      <th>2</th>\n",
       "      <td>3668-QPYBK</td>\n",
       "      <td>2019-10-01</td>\n",
       "      <td>1</td>\n",
       "      <td>0</td>\n",
       "      <td>1</td>\n",
       "      <td>1</td>\n",
       "      <td>53.85</td>\n",
       "      <td>108.15</td>\n",
       "      <td>0.0</td>\n",
       "      <td>1.0</td>\n",
       "      <td>1.0</td>\n",
       "      <td>0.0</td>\n",
       "      <td>0.0</td>\n",
       "      <td>0.0</td>\n",
       "      <td>0.0</td>\n",
       "      <td>1</td>\n",
       "      <td>0</td>\n",
       "      <td>0</td>\n",
       "      <td>0</td>\n",
       "      <td>0.0</td>\n",
       "    </tr>\n",
       "    <tr>\n",
       "      <th>3</th>\n",
       "      <td>7795-CFOCW</td>\n",
       "      <td>2016-05-01</td>\n",
       "      <td>0</td>\n",
       "      <td>1</td>\n",
       "      <td>0</td>\n",
       "      <td>2</td>\n",
       "      <td>42.30</td>\n",
       "      <td>1840.75</td>\n",
       "      <td>0.0</td>\n",
       "      <td>1.0</td>\n",
       "      <td>0.0</td>\n",
       "      <td>1.0</td>\n",
       "      <td>1.0</td>\n",
       "      <td>0.0</td>\n",
       "      <td>0.0</td>\n",
       "      <td>1</td>\n",
       "      <td>0</td>\n",
       "      <td>0</td>\n",
       "      <td>0</td>\n",
       "      <td>NaN</td>\n",
       "    </tr>\n",
       "    <tr>\n",
       "      <th>4</th>\n",
       "      <td>9237-HQITU</td>\n",
       "      <td>2019-09-01</td>\n",
       "      <td>1</td>\n",
       "      <td>0</td>\n",
       "      <td>1</td>\n",
       "      <td>0</td>\n",
       "      <td>70.70</td>\n",
       "      <td>151.65</td>\n",
       "      <td>1.0</td>\n",
       "      <td>0.0</td>\n",
       "      <td>0.0</td>\n",
       "      <td>0.0</td>\n",
       "      <td>0.0</td>\n",
       "      <td>0.0</td>\n",
       "      <td>0.0</td>\n",
       "      <td>0</td>\n",
       "      <td>0</td>\n",
       "      <td>0</td>\n",
       "      <td>0</td>\n",
       "      <td>0.0</td>\n",
       "    </tr>\n",
       "    <tr>\n",
       "      <th>5</th>\n",
       "      <td>9305-CDSKC</td>\n",
       "      <td>2019-03-01</td>\n",
       "      <td>1</td>\n",
       "      <td>0</td>\n",
       "      <td>1</td>\n",
       "      <td>0</td>\n",
       "      <td>99.65</td>\n",
       "      <td>820.50</td>\n",
       "      <td>1.0</td>\n",
       "      <td>0.0</td>\n",
       "      <td>0.0</td>\n",
       "      <td>1.0</td>\n",
       "      <td>0.0</td>\n",
       "      <td>1.0</td>\n",
       "      <td>1.0</td>\n",
       "      <td>0</td>\n",
       "      <td>0</td>\n",
       "      <td>0</td>\n",
       "      <td>0</td>\n",
       "      <td>1.0</td>\n",
       "    </tr>\n",
       "    <tr>\n",
       "      <th>6</th>\n",
       "      <td>1452-KIOVK</td>\n",
       "      <td>2018-04-01</td>\n",
       "      <td>0</td>\n",
       "      <td>0</td>\n",
       "      <td>1</td>\n",
       "      <td>3</td>\n",
       "      <td>89.10</td>\n",
       "      <td>1949.40</td>\n",
       "      <td>1.0</td>\n",
       "      <td>0.0</td>\n",
       "      <td>1.0</td>\n",
       "      <td>0.0</td>\n",
       "      <td>0.0</td>\n",
       "      <td>1.0</td>\n",
       "      <td>0.0</td>\n",
       "      <td>1</td>\n",
       "      <td>0</td>\n",
       "      <td>0</td>\n",
       "      <td>1</td>\n",
       "      <td>1.0</td>\n",
       "    </tr>\n",
       "    <tr>\n",
       "      <th>7</th>\n",
       "      <td>6713-OKOMC</td>\n",
       "      <td>2019-04-01</td>\n",
       "      <td>0</td>\n",
       "      <td>0</td>\n",
       "      <td>0</td>\n",
       "      <td>1</td>\n",
       "      <td>29.75</td>\n",
       "      <td>301.90</td>\n",
       "      <td>0.0</td>\n",
       "      <td>1.0</td>\n",
       "      <td>0.0</td>\n",
       "      <td>0.0</td>\n",
       "      <td>0.0</td>\n",
       "      <td>0.0</td>\n",
       "      <td>0.0</td>\n",
       "      <td>0</td>\n",
       "      <td>0</td>\n",
       "      <td>0</td>\n",
       "      <td>0</td>\n",
       "      <td>NaN</td>\n",
       "    </tr>\n",
       "    <tr>\n",
       "      <th>8</th>\n",
       "      <td>7892-POOKP</td>\n",
       "      <td>2017-07-01</td>\n",
       "      <td>1</td>\n",
       "      <td>0</td>\n",
       "      <td>1</td>\n",
       "      <td>0</td>\n",
       "      <td>104.80</td>\n",
       "      <td>3046.05</td>\n",
       "      <td>1.0</td>\n",
       "      <td>0.0</td>\n",
       "      <td>0.0</td>\n",
       "      <td>1.0</td>\n",
       "      <td>1.0</td>\n",
       "      <td>1.0</td>\n",
       "      <td>1.0</td>\n",
       "      <td>0</td>\n",
       "      <td>0</td>\n",
       "      <td>1</td>\n",
       "      <td>0</td>\n",
       "      <td>1.0</td>\n",
       "    </tr>\n",
       "    <tr>\n",
       "      <th>9</th>\n",
       "      <td>6388-TABGU</td>\n",
       "      <td>2014-12-01</td>\n",
       "      <td>0</td>\n",
       "      <td>1</td>\n",
       "      <td>0</td>\n",
       "      <td>2</td>\n",
       "      <td>56.15</td>\n",
       "      <td>3487.95</td>\n",
       "      <td>0.0</td>\n",
       "      <td>1.0</td>\n",
       "      <td>1.0</td>\n",
       "      <td>0.0</td>\n",
       "      <td>0.0</td>\n",
       "      <td>0.0</td>\n",
       "      <td>0.0</td>\n",
       "      <td>1</td>\n",
       "      <td>0</td>\n",
       "      <td>0</td>\n",
       "      <td>1</td>\n",
       "      <td>0.0</td>\n",
       "    </tr>\n",
       "  </tbody>\n",
       "</table>\n",
       "</div>"
      ],
      "text/plain": [
       "   customerID  BeginDate  EndDate Type  PaperlessBilling PaymentMethod  \\\n",
       "0  7590-VHVEG 2020-01-01        0    0                 1             0   \n",
       "1  5575-GNVDE 2017-04-01        0    1                 0             1   \n",
       "2  3668-QPYBK 2019-10-01        1    0                 1             1   \n",
       "3  7795-CFOCW 2016-05-01        0    1                 0             2   \n",
       "4  9237-HQITU 2019-09-01        1    0                 1             0   \n",
       "5  9305-CDSKC 2019-03-01        1    0                 1             0   \n",
       "6  1452-KIOVK 2018-04-01        0    0                 1             3   \n",
       "7  6713-OKOMC 2019-04-01        0    0                 0             1   \n",
       "8  7892-POOKP 2017-07-01        1    0                 1             0   \n",
       "9  6388-TABGU 2014-12-01        0    1                 0             2   \n",
       "\n",
       "   MonthlyCharges  TotalCharges  InternetService  OnlineSecurity  \\\n",
       "0           29.85         29.85              0.0             0.0   \n",
       "1           56.95       1889.50              0.0             1.0   \n",
       "2           53.85        108.15              0.0             1.0   \n",
       "3           42.30       1840.75              0.0             1.0   \n",
       "4           70.70        151.65              1.0             0.0   \n",
       "5           99.65        820.50              1.0             0.0   \n",
       "6           89.10       1949.40              1.0             0.0   \n",
       "7           29.75        301.90              0.0             1.0   \n",
       "8          104.80       3046.05              1.0             0.0   \n",
       "9           56.15       3487.95              0.0             1.0   \n",
       "\n",
       "   OnlineBackup  DeviceProtection  TechSupport  StreamingTV  StreamingMovies  \\\n",
       "0           1.0               0.0          0.0          0.0              0.0   \n",
       "1           0.0               1.0          0.0          0.0              0.0   \n",
       "2           1.0               0.0          0.0          0.0              0.0   \n",
       "3           0.0               1.0          1.0          0.0              0.0   \n",
       "4           0.0               0.0          0.0          0.0              0.0   \n",
       "5           0.0               1.0          0.0          1.0              1.0   \n",
       "6           1.0               0.0          0.0          1.0              0.0   \n",
       "7           0.0               0.0          0.0          0.0              0.0   \n",
       "8           0.0               1.0          1.0          1.0              1.0   \n",
       "9           1.0               0.0          0.0          0.0              0.0   \n",
       "\n",
       "   gender  SeniorCitizen  Partner  Dependents  MultipleLines  \n",
       "0       0              0        1           0            NaN  \n",
       "1       1              0        0           0            0.0  \n",
       "2       1              0        0           0            0.0  \n",
       "3       1              0        0           0            NaN  \n",
       "4       0              0        0           0            0.0  \n",
       "5       0              0        0           0            1.0  \n",
       "6       1              0        0           1            1.0  \n",
       "7       0              0        0           0            NaN  \n",
       "8       0              0        1           0            1.0  \n",
       "9       1              0        0           1            0.0  "
      ]
     },
     "metadata": {},
     "output_type": "display_data"
    }
   ],
   "source": [
    "display(merged_df.head(10)) "
   ]
  },
  {
   "cell_type": "code",
   "execution_count": 722,
   "id": "bc520cf5-854b-42e0-8f19-47e5ef5fd4a1",
   "metadata": {},
   "outputs": [
    {
     "name": "stdout",
     "output_type": "stream",
     "text": [
      "<class 'pandas.core.frame.DataFrame'>\n",
      "RangeIndex: 7043 entries, 0 to 7042\n",
      "Data columns (total 20 columns):\n",
      " #   Column            Non-Null Count  Dtype         \n",
      "---  ------            --------------  -----         \n",
      " 0   customerID        7043 non-null   object        \n",
      " 1   BeginDate         7043 non-null   datetime64[ns]\n",
      " 2   EndDate           7043 non-null   int64         \n",
      " 3   Type              7043 non-null   category      \n",
      " 4   PaperlessBilling  7043 non-null   int64         \n",
      " 5   PaymentMethod     7043 non-null   category      \n",
      " 6   MonthlyCharges    7043 non-null   float64       \n",
      " 7   TotalCharges      7043 non-null   float64       \n",
      " 8   InternetService   5517 non-null   float64       \n",
      " 9   OnlineSecurity    5517 non-null   float64       \n",
      " 10  OnlineBackup      5517 non-null   float64       \n",
      " 11  DeviceProtection  5517 non-null   float64       \n",
      " 12  TechSupport       5517 non-null   float64       \n",
      " 13  StreamingTV       5517 non-null   float64       \n",
      " 14  StreamingMovies   5517 non-null   float64       \n",
      " 15  gender            7043 non-null   int64         \n",
      " 16  SeniorCitizen     7043 non-null   int64         \n",
      " 17  Partner           7043 non-null   int64         \n",
      " 18  Dependents        7043 non-null   int64         \n",
      " 19  MultipleLines     6361 non-null   float64       \n",
      "dtypes: category(2), datetime64[ns](1), float64(10), int64(6), object(1)\n",
      "memory usage: 1004.6+ KB\n"
     ]
    }
   ],
   "source": [
    "merged_df.info()"
   ]
  },
  {
   "cell_type": "markdown",
   "id": "24a6819b-a28f-4328-8dd7-9d1361c298dc",
   "metadata": {},
   "source": [
    "These columns' data types have been altered, after the merge:\n",
    "- MultipleLines\n",
    "- InternetService\n",
    "- OnlineSecurity\n",
    "- OnlineBackup\n",
    "- DeviceProtection\n",
    "- TechSupport\n",
    "- StreamingTV\n",
    "- StreamingMovies\n",
    "They will need to be changed back to type int64."
   ]
  },
  {
   "cell_type": "markdown",
   "id": "8e0f6cb5-b7c0-45cd-8b5d-bf76d4cd6729",
   "metadata": {},
   "source": [
    "- <span style=\"color: blue; font-size: 16px;\"><strong>convert datatypes again</strong></span>"
   ]
  },
  {
   "cell_type": "code",
   "execution_count": 726,
   "id": "499e66ae-ca02-4d26-8dd4-0a97545f576e",
   "metadata": {},
   "outputs": [],
   "source": [
    "# Convert MultipleLines back to int64\n",
    "merged_df['MultipleLines'] = merged_df['MultipleLines'].fillna(0).astype('int64')"
   ]
  },
  {
   "cell_type": "code",
   "execution_count": 728,
   "id": "44dc0871-013a-4567-9347-d9d5126a6a39",
   "metadata": {},
   "outputs": [],
   "source": [
    "columns_to_convert = [\n",
    "    'InternetService',\n",
    "    'OnlineSecurity',\n",
    "    'OnlineBackup',\n",
    "    'DeviceProtection',\n",
    "    'TechSupport',\n",
    "    'StreamingTV',\n",
    "    'StreamingMovies',\n",
    "]"
   ]
  },
  {
   "cell_type": "code",
   "execution_count": 730,
   "id": "c3786e0a-f944-4813-abf5-7127c8863151",
   "metadata": {},
   "outputs": [],
   "source": [
    "for column in columns_to_convert:\n",
    "    merged_df[column] = merged_df[column].fillna(0).astype('int64')"
   ]
  },
  {
   "cell_type": "code",
   "execution_count": 732,
   "id": "d4f812ad-3330-4de0-b83e-fe2a8e666cea",
   "metadata": {},
   "outputs": [
    {
     "name": "stdout",
     "output_type": "stream",
     "text": [
      "<class 'pandas.core.frame.DataFrame'>\n",
      "RangeIndex: 7043 entries, 0 to 7042\n",
      "Data columns (total 20 columns):\n",
      " #   Column            Non-Null Count  Dtype         \n",
      "---  ------            --------------  -----         \n",
      " 0   customerID        7043 non-null   object        \n",
      " 1   BeginDate         7043 non-null   datetime64[ns]\n",
      " 2   EndDate           7043 non-null   int64         \n",
      " 3   Type              7043 non-null   category      \n",
      " 4   PaperlessBilling  7043 non-null   int64         \n",
      " 5   PaymentMethod     7043 non-null   category      \n",
      " 6   MonthlyCharges    7043 non-null   float64       \n",
      " 7   TotalCharges      7043 non-null   float64       \n",
      " 8   InternetService   7043 non-null   int64         \n",
      " 9   OnlineSecurity    7043 non-null   int64         \n",
      " 10  OnlineBackup      7043 non-null   int64         \n",
      " 11  DeviceProtection  7043 non-null   int64         \n",
      " 12  TechSupport       7043 non-null   int64         \n",
      " 13  StreamingTV       7043 non-null   int64         \n",
      " 14  StreamingMovies   7043 non-null   int64         \n",
      " 15  gender            7043 non-null   int64         \n",
      " 16  SeniorCitizen     7043 non-null   int64         \n",
      " 17  Partner           7043 non-null   int64         \n",
      " 18  Dependents        7043 non-null   int64         \n",
      " 19  MultipleLines     7043 non-null   int64         \n",
      "dtypes: category(2), datetime64[ns](1), float64(2), int64(14), object(1)\n",
      "memory usage: 1004.6+ KB\n"
     ]
    }
   ],
   "source": [
    "merged_df.info()"
   ]
  },
  {
   "cell_type": "markdown",
   "id": "44f25169-47d0-41c8-8fa8-29714bb98340",
   "metadata": {},
   "source": [
    "<H4>This new dataframe has 20 columns.</H4>"
   ]
  },
  {
   "cell_type": "markdown",
   "id": "7b1fafa5-544d-47e7-b594-4cca9993df61",
   "metadata": {},
   "source": [
    "<H2>Data Visualization:</H2>"
   ]
  },
  {
   "cell_type": "markdown",
   "id": "2dadc788-0603-4dba-9572-ff543392be97",
   "metadata": {},
   "source": [
    "- <span style=\"color: blue; font-size: 16px;\"><strong>create a heat map of the merged data set:</strong></span>"
   ]
  },
  {
   "cell_type": "code",
   "execution_count": 737,
   "id": "f3c678fd-c9b2-45f6-bb98-888b2d258e76",
   "metadata": {},
   "outputs": [],
   "source": [
    "# Convert the DataFrame to numeric, coercing errors to NaN\n",
    "numeric_df = merged_df.apply(pd.to_numeric, errors='coerce')"
   ]
  },
  {
   "cell_type": "code",
   "execution_count": 739,
   "id": "ae1b26ba-f1b8-46ee-928e-56540eb45162",
   "metadata": {},
   "outputs": [],
   "source": [
    "correlation_matrix = numeric_df.corr()"
   ]
  },
  {
   "cell_type": "code",
   "execution_count": 741,
   "id": "0bc580fd-c85f-45b4-892e-e6b147dadb36",
   "metadata": {},
   "outputs": [
    {
     "data": {
      "text/plain": [
       "<Figure size 1000x800 with 0 Axes>"
      ]
     },
     "execution_count": 741,
     "metadata": {},
     "output_type": "execute_result"
    },
    {
     "data": {
      "text/plain": [
       "<Figure size 1000x800 with 0 Axes>"
      ]
     },
     "metadata": {},
     "output_type": "display_data"
    }
   ],
   "source": [
    "plt.figure(figsize=(10, 8))"
   ]
  },
  {
   "cell_type": "code",
   "execution_count": 743,
   "id": "fad1bdf0-08e9-4240-9d79-46798cf11fea",
   "metadata": {},
   "outputs": [
    {
     "name": "stderr",
     "output_type": "stream",
     "text": [
      "/Users/wranglerdeb/anaconda3/lib/python3.11/site-packages/seaborn/matrix.py:260: FutureWarning: Format strings passed to MaskedConstant are ignored, but in future may error or produce different behavior\n",
      "  annotation = (\"{:\" + self.fmt + \"}\").format(val)\n"
     ]
    },
    {
     "data": {
      "image/png": "[encoded data removed]",
      "text/plain": [
       "<Figure size 640x480 with 2 Axes>"
      ]
     },
     "metadata": {},
     "output_type": "display_data"
    }
   ],
   "source": [
    "sns.heatmap(correlation_matrix, annot=True, fmt=\".2f\", cmap=\"coolwarm\", vmax=1, vmin=-1)\n",
    "plt.title(\"Heatmap of Merged DataFrame Correlation\")\n",
    "plt.show()"
   ]
  },
  {
   "cell_type": "markdown",
   "id": "d31c1380-a273-4723-9e59-adc767de30f2",
   "metadata": {},
   "source": [
    "The scale goes from -1 to 1.\n",
    "\n",
    "- -1 indicates a perfect negative correlation between two variables. This means that as one variable increases, the other variable decreases.\n",
    "- 0 indicates no correlation. This means changes in one variable do not affect the other.\n",
    "- 1 indicates a perfect positive correlation. This means that both variables increase or decrease together."
   ]
  },
  {
   "cell_type": "markdown",
   "id": "3474ad03-71f4-4bef-92ab-3a7da48f79c6",
   "metadata": {},
   "source": [
    "<b>There is a very strong posive correlation between:</b>\n",
    "- MonthlyCharges and InternetService\n",
    "\n",
    "<b>There is a positive correlation between:</b>\n",
    "- MonthlyCharges and StreamingTV\n",
    "- MonthlyCharges and StreamingMovies\n",
    "- MonthlyCharges and TotalCharges\n",
    "\n",
    "<b>There is a very strong negative correlation between:</b>\n",
    "- Begin Date and Total Monthly Charges\n",
    "- Type (length of contract) and Begin Date\n",
    "\n",
    "<b>As for our taget(EndDate), there is not a strong positive, nor a strong negative correlation, between the other columns.</b>\n",
    "There is a slight positive correlation between:\n",
    "- End Date and Internet Service\n",
    "- End Date and Begin Date\n",
    "\n",
    "There is a slight negative correlation between:\n",
    "- End Date and Type(length of contract)"
   ]
  },
  {
   "cell_type": "markdown",
   "id": "51b46d09-2403-4287-97eb-669ecce387a0",
   "metadata": {},
   "source": [
    "- <span style=\"color: blue; font-size: 16px;\"><strong>create a graph for Senior Citizen vs Monthly Charges:</strong></span>"
   ]
  },
  {
   "cell_type": "code",
   "execution_count": 748,
   "id": "e6a79ba8-dfa5-4cea-9e29-5a135db5d58c",
   "metadata": {},
   "outputs": [],
   "source": [
    "filtered_data = merged_df[merged_df['EndDate'] == False]"
   ]
  },
  {
   "cell_type": "code",
   "execution_count": 750,
   "id": "7fda0478-c821-4d7e-942f-cbd7359f2991",
   "metadata": {},
   "outputs": [
    {
     "name": "stdout",
     "output_type": "stream",
     "text": [
      "SeniorCitizen\n",
      "0    87.127947\n",
      "1    12.872053\n",
      "Name: proportion, dtype: float64\n"
     ]
    }
   ],
   "source": [
    "print(filtered_data['SeniorCitizen'].value_counts(normalize=True) * 100)"
   ]
  },
  {
   "cell_type": "code",
   "execution_count": 752,
   "id": "4168740d-3d3a-46e6-9861-664d60d22aef",
   "metadata": {},
   "outputs": [],
   "source": [
    "def plot_senior_citizen_analysis(filtered_data):\n",
    "    plt.figure(figsize=(12, 5))\n",
    "    \n",
    "    # Plot 1: Bar chart for mean monthly charges\n",
    "    plt.subplot(1, 2, 1)\n",
    "    mean_charges = filtered_data.groupby('SeniorCitizen')['MonthlyCharges'].mean()\n",
    "    bars = plt.bar([0, 1], mean_charges.values)\n",
    "    plt.title('Mean Monthly Charges by Senior Citizen Status')\n",
    "    plt.xlabel('Senior Citizen')\n",
    "    plt.ylabel('Mean Monthly Charges ($)')\n",
    "    plt.xticks([0, 1], ['Non-Senior', 'Senior'])\n",
    "    \n",
    "    # Add value labels on top of bars\n",
    "    for bar in bars:\n",
    "        height = bar.get_height()\n",
    "        plt.text(bar.get_x() + bar.get_width() / 2., height,\n",
    "                 f'${height:.2f}',\n",
    "                 ha='center', va='bottom')\n",
    "    \n",
    "    # Plot 2: Pie chart for count distribution\n",
    "    plt.subplot(1, 2, 2)\n",
    "    count_by_senior = filtered_data['SeniorCitizen'].value_counts(normalize=True) * 100\n",
    "    plt.pie(count_by_senior.values, \n",
    "            labels=['Non-Senior', 'Senior'],\n",
    "            autopct='%1.1f%%')\n",
    "    plt.title('Distribution of Senior Citizens')\n",
    "    \n",
    "    plt.tight_layout()\n",
    "    plt.show()\n"
   ]
  },
  {
   "cell_type": "code",
   "execution_count": 754,
   "id": "b64dee7e-e5ce-497d-8c58-85df3dab7eab",
   "metadata": {},
   "outputs": [
    {
     "name": "stdout",
     "output_type": "stream",
     "text": [
      "Senior Citizen Distribution:\n",
      "SeniorCitizen\n",
      "0    87.127947\n",
      "1    12.872053\n",
      "Name: proportion, dtype: float64\n"
     ]
    }
   ],
   "source": [
    "print(\"Senior Citizen Distribution:\")\n",
    "print(filtered_data['SeniorCitizen'].value_counts(normalize=True) * 100)"
   ]
  },
  {
   "cell_type": "code",
   "execution_count": 756,
   "id": "6a264c2c-6808-4aa2-ae87-14d99f81356a",
   "metadata": {},
   "outputs": [
    {
     "data": {
      "image/png": "[encoded data removed]",
      "text/plain": [
       "<Figure size 1200x500 with 2 Axes>"
      ]
     },
     "metadata": {},
     "output_type": "display_data"
    }
   ],
   "source": [
    "plot_senior_citizen_analysis(filtered_data)"
   ]
  },
  {
   "cell_type": "markdown",
   "id": "52b9e4cd-083e-4cd9-963b-d49bcb95bac1",
   "metadata": {},
   "source": [
    "SeniorCitizen customers have a higher average monthly charge, about 10% higher than non SeniorCitizens."
   ]
  },
  {
   "cell_type": "markdown",
   "id": "8bfb1990-1aa7-4420-bd05-7e117051b4bf",
   "metadata": {},
   "source": [
    "<span style=\"color: blue; font-size: 32px;\"><strong>Questions:</strong></span>"
   ]
  },
  {
   "cell_type": "markdown",
   "id": "f035ca8c-cc34-4ffb-89b5-70c51f8cfdc0",
   "metadata": {},
   "source": [
    "- Do customers with a higher monthly charge tend to have a higher churn rate?\n",
    "- Does gender, age(Senior Citizen vs non Senior Citizen), whether or not a customer has dependents, or a partner have any effect on churn rate?\n",
    "- Does the payment method (Electronic check, Mailed check, Automatic Bank transfer, Automatic Credit card) influence churn rates?\n",
    "- How do different account types(1-year, 2-year, month-to-month) influence churn rates?\n",
    "- Do customers who pay for extra services(Internet Service, Online Security, Online Backup, Device Protection, Tech Support, Streaming TV, StreamingMovies) tend not to churn as quickly as those who do not pay for these services?"
   ]
  },
  {
   "cell_type": "markdown",
   "id": "d36bac8e-301a-4a01-ac1d-fc174c77784d",
   "metadata": {},
   "source": [
    "<span style=\"color: blue; font-size: 32px;\"><strong>Steps to Resolve these questions:</strong></span>"
   ]
  },
  {
   "cell_type": "markdown",
   "id": "b3e878fb-0fd1-4b4b-b053-d5ed6b1c83ff",
   "metadata": {},
   "source": [
    "## Preprocessing Steps\n",
    "- **Import Libraries**: Import necessary libraries for data analysis and modeling.\n",
    "- **Load Datasets**: Load the 4 datasets.\n",
    "- **Change Data Types**: Convert categorical data to 0's and 1's for better model handling.\n",
    "- **Merge Datasets**: Merge the 4 datasets on the `customerID` column.\n",
    "## Exploratory Data Analysis (EDA)\n",
    "- **Correlation Analysis**: Look for correlations between features.\n",
    "- **Visualizations**: Create visual data representations.\n",
    "## Model Creation\n",
    "1. **Data Splitting**: Split the merged dataset into training, validation, and test sets.\n",
    "2. **Model Selection**:\n",
    "   - Logistic Regression (as a sanity check)\n",
    "   - Random Forest\n",
    "   - Decision Tree\n",
    "   - Gradient Boosting\n",
    "   - Support Vector Machines (SVM)\n",
    "3. **Tweak model parameters**\n",
    "## Score Models\n",
    "- **Metrics**: Use AUC/ROC and Accuracy to evaluate performance.\n",
    "  \n",
    "### Score Assessment Criteria\n",
    "| AUC-ROC          | Score Points |\n",
    "|------------------|--------------|\n",
    "| < 0.75           | 0 SP         |\n",
    "| 0.75 ≤ AUC-ROC < 0.81 | 4 SP   |\n",
    "| 0.81 ≤ AUC-ROC < 0.85 | 4.5 SP |\n",
    "| 0.85 ≤ AUC-ROC < 0.87 | 5 SP   |\n",
    "| 0.87 ≤ AUC-ROC < 0.88 | 5.5 SP |\n",
    "| ≥ 0.88           | 6 SP         |\n",
    "## Write Conclusion\n",
    "- **Analysis**: Answer the questions related to churn.\n",
    "- **Feature Importance**: Explain which features have a direct correlation to customer churn.\n",
    "- **Model Comparison**: Sum up the models' scores and describe the best-performing model."
   ]
  }
 ],
 "metadata": {
  "kernelspec": {
   "display_name": "Python 3 (ipykernel)",
   "language": "python",
   "name": "python3"
  },
  "language_info": {
   "codemirror_mode": {
    "name": "ipython",
    "version": 3
   },
   "file_extension": ".py",
   "mimetype": "text/x-python",
   "name": "python",
   "nbconvert_exporter": "python",
   "pygments_lexer": "ipython3",
   "version": "3.11.7"
  }
 },
 "nbformat": 4,
 "nbformat_minor": 5
}
