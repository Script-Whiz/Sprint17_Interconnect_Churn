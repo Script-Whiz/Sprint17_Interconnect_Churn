{
 "cells": [
  {
   "cell_type": "markdown",
   "id": "20502644-937b-4e26-a889-58bc87bc0d73",
   "metadata": {},
   "source": [
    "<span style=\"color: blue; font-size: 32px;\"><strong>Interconnect Telecom Company - Customer Churn Model</strong></span> <H3>by Deborah Thomas</H3>"
   ]
  },
  {
   "cell_type": "markdown",
   "id": "73a52aae-6938-4d26-842f-f1df7fbc8b17",
   "metadata": {},
   "source": [
    "<span style=\"color: blue; font-size: 32px;\"><strong>Introduction:</strong></span>"
   ]
  },
  {
   "cell_type": "markdown",
   "id": "b42537cf-b70c-4ad3-858b-65681805c47b",
   "metadata": {},
   "source": [
    "<H3>The telecom operator Interconnect would like to be able to forecast their churn of clients. If it's discovered that a user is planning to leave, they will be offered promotional codes and special plan options. Interconnect's marketing team has collected some of their clientele's personal data, including information about their plans and contracts.</H3>"
   ]
  },
  {
   "cell_type": "markdown",
   "id": "d8094591-ca98-43c0-ace7-9776e6ee99ca",
   "metadata": {},
   "source": [
    "<span style=\"color: blue; font-size: 32px;\"><strong>Questions I seek to answer:</strong></span>"
   ]
  },
  {
   "cell_type": "markdown",
   "id": "cb6642c1-43e8-4b81-b38b-2983a9f32488",
   "metadata": {},
   "source": [
    "- Do customers with a higher monthly charge tend to have a higher churn rate?\n",
    "- Does gender, age(Senior Citizen vs non Senior Citizen), whether or not a customer has dependents, or a partner have any effect on churn rate?\n",
    "- Does the payment method (Electronic check, Mailed check, Automatic Bank transfer, Automatic Credit card) influence churn rates?\n",
    "- How do different account types(1-year, 2-year, month-to-month) influence churn rates?\n",
    "- Do customers who pay for extra services(Internet Service, Online Security, Online Backup, Device Protection, Tech Support, Streaming TV, StreamingMovies) tend not to churn as quickly as those who do not pay for these services?"
   ]
  },
  {
   "cell_type": "markdown",
   "id": "29bbd8f4-0e65-4abb-a98e-e5f2bc9c483e",
   "metadata": {},
   "source": [
    "<span style=\"color: blue; font-size: 32px;\"><strong>Import Libraries:</strong></span>"
   ]
  },
  {
   "cell_type": "code",
   "execution_count": 513,
   "id": "0f48310a-fc64-48aa-96e7-0adf7c79d6d9",
   "metadata": {},
   "outputs": [],
   "source": [
    "import pandas as pd\n",
    "import numpy as np\n",
    "\n",
    "import plotly.express as px\n",
    "\n",
    "import matplotlib.pyplot as plt\n",
    "import seaborn as sns\n",
    "\n",
    "from sklearn import metrics\n",
    "from sklearn.metrics import roc_auc_score, accuracy_score\n",
    "\n",
    "from sklearn.preprocessing import StandardScaler\n",
    "\n",
    "from sklearn.model_selection import GridSearchCV\n",
    "from sklearn.model_selection import train_test_split\n",
    "from sklearn.ensemble import RandomForestClassifier, GradientBoostingClassifier\n",
    "from sklearn.tree import DecisionTreeClassifier\n",
    "from sklearn.svm import SVC\n",
    "from sklearn.linear_model import LogisticRegression"
   ]
  },
  {
   "cell_type": "markdown",
   "id": "9624abab-e148-4ac0-9f34-f1c62ca5b568",
   "metadata": {},
   "source": [
    "<span style=\"color: blue; font-size: 32px;\"><strong>Load 4 Datasets:</strong></span>"
   ]
  },
  {
   "cell_type": "markdown",
   "id": "725a3ae5-d314-486d-b11a-1ed9056266a5",
   "metadata": {},
   "source": [
    "- <span style=\"color: blue; font-size: 16px;\"><strong>load contract dataset</strong></span>"
   ]
  },
  {
   "cell_type": "code",
   "execution_count": 517,
   "id": "45d505cb-239a-4626-97c9-a0c820eb4145",
   "metadata": {},
   "outputs": [
    {
     "data": {
      "text/html": [
       "<div>\n",
       "<style scoped>\n",
       "    .dataframe tbody tr th:only-of-type {\n",
       "        vertical-align: middle;\n",
       "    }\n",
       "\n",
       "    .dataframe tbody tr th {\n",
       "        vertical-align: top;\n",
       "    }\n",
       "\n",
       "    .dataframe thead th {\n",
       "        text-align: right;\n",
       "    }\n",
       "</style>\n",
       "<table border=\"1\" class=\"dataframe\">\n",
       "  <thead>\n",
       "    <tr style=\"text-align: right;\">\n",
       "      <th></th>\n",
       "      <th>customerID</th>\n",
       "      <th>BeginDate</th>\n",
       "      <th>EndDate</th>\n",
       "      <th>Type</th>\n",
       "      <th>PaperlessBilling</th>\n",
       "      <th>PaymentMethod</th>\n",
       "      <th>MonthlyCharges</th>\n",
       "      <th>TotalCharges</th>\n",
       "    </tr>\n",
       "  </thead>\n",
       "  <tbody>\n",
       "    <tr>\n",
       "      <th>0</th>\n",
       "      <td>7590-VHVEG</td>\n",
       "      <td>2020-01-01</td>\n",
       "      <td>No</td>\n",
       "      <td>Month-to-month</td>\n",
       "      <td>Yes</td>\n",
       "      <td>Electronic check</td>\n",
       "      <td>29.85</td>\n",
       "      <td>29.85</td>\n",
       "    </tr>\n",
       "    <tr>\n",
       "      <th>1</th>\n",
       "      <td>5575-GNVDE</td>\n",
       "      <td>2017-04-01</td>\n",
       "      <td>No</td>\n",
       "      <td>One year</td>\n",
       "      <td>No</td>\n",
       "      <td>Mailed check</td>\n",
       "      <td>56.95</td>\n",
       "      <td>1889.5</td>\n",
       "    </tr>\n",
       "    <tr>\n",
       "      <th>2</th>\n",
       "      <td>3668-QPYBK</td>\n",
       "      <td>2019-10-01</td>\n",
       "      <td>2019-12-01 00:00:00</td>\n",
       "      <td>Month-to-month</td>\n",
       "      <td>Yes</td>\n",
       "      <td>Mailed check</td>\n",
       "      <td>53.85</td>\n",
       "      <td>108.15</td>\n",
       "    </tr>\n",
       "    <tr>\n",
       "      <th>3</th>\n",
       "      <td>7795-CFOCW</td>\n",
       "      <td>2016-05-01</td>\n",
       "      <td>No</td>\n",
       "      <td>One year</td>\n",
       "      <td>No</td>\n",
       "      <td>Bank transfer (automatic)</td>\n",
       "      <td>42.30</td>\n",
       "      <td>1840.75</td>\n",
       "    </tr>\n",
       "    <tr>\n",
       "      <th>4</th>\n",
       "      <td>9237-HQITU</td>\n",
       "      <td>2019-09-01</td>\n",
       "      <td>2019-11-01 00:00:00</td>\n",
       "      <td>Month-to-month</td>\n",
       "      <td>Yes</td>\n",
       "      <td>Electronic check</td>\n",
       "      <td>70.70</td>\n",
       "      <td>151.65</td>\n",
       "    </tr>\n",
       "    <tr>\n",
       "      <th>5</th>\n",
       "      <td>9305-CDSKC</td>\n",
       "      <td>2019-03-01</td>\n",
       "      <td>2019-11-01 00:00:00</td>\n",
       "      <td>Month-to-month</td>\n",
       "      <td>Yes</td>\n",
       "      <td>Electronic check</td>\n",
       "      <td>99.65</td>\n",
       "      <td>820.5</td>\n",
       "    </tr>\n",
       "    <tr>\n",
       "      <th>6</th>\n",
       "      <td>1452-KIOVK</td>\n",
       "      <td>2018-04-01</td>\n",
       "      <td>No</td>\n",
       "      <td>Month-to-month</td>\n",
       "      <td>Yes</td>\n",
       "      <td>Credit card (automatic)</td>\n",
       "      <td>89.10</td>\n",
       "      <td>1949.4</td>\n",
       "    </tr>\n",
       "    <tr>\n",
       "      <th>7</th>\n",
       "      <td>6713-OKOMC</td>\n",
       "      <td>2019-04-01</td>\n",
       "      <td>No</td>\n",
       "      <td>Month-to-month</td>\n",
       "      <td>No</td>\n",
       "      <td>Mailed check</td>\n",
       "      <td>29.75</td>\n",
       "      <td>301.9</td>\n",
       "    </tr>\n",
       "    <tr>\n",
       "      <th>8</th>\n",
       "      <td>7892-POOKP</td>\n",
       "      <td>2017-07-01</td>\n",
       "      <td>2019-11-01 00:00:00</td>\n",
       "      <td>Month-to-month</td>\n",
       "      <td>Yes</td>\n",
       "      <td>Electronic check</td>\n",
       "      <td>104.80</td>\n",
       "      <td>3046.05</td>\n",
       "    </tr>\n",
       "    <tr>\n",
       "      <th>9</th>\n",
       "      <td>6388-TABGU</td>\n",
       "      <td>2014-12-01</td>\n",
       "      <td>No</td>\n",
       "      <td>One year</td>\n",
       "      <td>No</td>\n",
       "      <td>Bank transfer (automatic)</td>\n",
       "      <td>56.15</td>\n",
       "      <td>3487.95</td>\n",
       "    </tr>\n",
       "  </tbody>\n",
       "</table>\n",
       "</div>"
      ],
      "text/plain": [
       "   customerID   BeginDate              EndDate            Type  \\\n",
       "0  7590-VHVEG  2020-01-01                   No  Month-to-month   \n",
       "1  5575-GNVDE  2017-04-01                   No        One year   \n",
       "2  3668-QPYBK  2019-10-01  2019-12-01 00:00:00  Month-to-month   \n",
       "3  7795-CFOCW  2016-05-01                   No        One year   \n",
       "4  9237-HQITU  2019-09-01  2019-11-01 00:00:00  Month-to-month   \n",
       "5  9305-CDSKC  2019-03-01  2019-11-01 00:00:00  Month-to-month   \n",
       "6  1452-KIOVK  2018-04-01                   No  Month-to-month   \n",
       "7  6713-OKOMC  2019-04-01                   No  Month-to-month   \n",
       "8  7892-POOKP  2017-07-01  2019-11-01 00:00:00  Month-to-month   \n",
       "9  6388-TABGU  2014-12-01                   No        One year   \n",
       "\n",
       "  PaperlessBilling              PaymentMethod  MonthlyCharges TotalCharges  \n",
       "0              Yes           Electronic check           29.85        29.85  \n",
       "1               No               Mailed check           56.95       1889.5  \n",
       "2              Yes               Mailed check           53.85       108.15  \n",
       "3               No  Bank transfer (automatic)           42.30      1840.75  \n",
       "4              Yes           Electronic check           70.70       151.65  \n",
       "5              Yes           Electronic check           99.65        820.5  \n",
       "6              Yes    Credit card (automatic)           89.10       1949.4  \n",
       "7               No               Mailed check           29.75        301.9  \n",
       "8              Yes           Electronic check          104.80      3046.05  \n",
       "9               No  Bank transfer (automatic)           56.15      3487.95  "
      ]
     },
     "metadata": {},
     "output_type": "display_data"
    }
   ],
   "source": [
    "try:\n",
    "    contract = pd.read_csv('/datasets/final_provider/contract.csv')  # Attempt to read from the server path\n",
    "except FileNotFoundError:\n",
    "    contract = pd.read_csv('../datasets/final_provider/contract.csv')  # Fallback to the local path\n",
    "\n",
    "\n",
    "display(contract.head(10))"
   ]
  },
  {
   "cell_type": "code",
   "execution_count": 519,
   "id": "8e233f36-8ca5-47af-9568-499eb1648c70",
   "metadata": {},
   "outputs": [
    {
     "data": {
      "text/plain": [
       "(7043, 8)"
      ]
     },
     "execution_count": 519,
     "metadata": {},
     "output_type": "execute_result"
    }
   ],
   "source": [
    "contract.shape"
   ]
  },
  {
   "cell_type": "markdown",
   "id": "961a3d4b-5624-4843-bf62-4ec622662a3e",
   "metadata": {},
   "source": [
    "- <span style=\"color: blue; font-size: 16px;\"><strong>load internet dataset</strong></span>"
   ]
  },
  {
   "cell_type": "code",
   "execution_count": 522,
   "id": "bd24b1e4-2de2-4b71-af07-e86be1401c36",
   "metadata": {},
   "outputs": [
    {
     "data": {
      "text/html": [
       "<div>\n",
       "<style scoped>\n",
       "    .dataframe tbody tr th:only-of-type {\n",
       "        vertical-align: middle;\n",
       "    }\n",
       "\n",
       "    .dataframe tbody tr th {\n",
       "        vertical-align: top;\n",
       "    }\n",
       "\n",
       "    .dataframe thead th {\n",
       "        text-align: right;\n",
       "    }\n",
       "</style>\n",
       "<table border=\"1\" class=\"dataframe\">\n",
       "  <thead>\n",
       "    <tr style=\"text-align: right;\">\n",
       "      <th></th>\n",
       "      <th>customerID</th>\n",
       "      <th>InternetService</th>\n",
       "      <th>OnlineSecurity</th>\n",
       "      <th>OnlineBackup</th>\n",
       "      <th>DeviceProtection</th>\n",
       "      <th>TechSupport</th>\n",
       "      <th>StreamingTV</th>\n",
       "      <th>StreamingMovies</th>\n",
       "    </tr>\n",
       "  </thead>\n",
       "  <tbody>\n",
       "    <tr>\n",
       "      <th>0</th>\n",
       "      <td>7590-VHVEG</td>\n",
       "      <td>DSL</td>\n",
       "      <td>No</td>\n",
       "      <td>Yes</td>\n",
       "      <td>No</td>\n",
       "      <td>No</td>\n",
       "      <td>No</td>\n",
       "      <td>No</td>\n",
       "    </tr>\n",
       "    <tr>\n",
       "      <th>1</th>\n",
       "      <td>5575-GNVDE</td>\n",
       "      <td>DSL</td>\n",
       "      <td>Yes</td>\n",
       "      <td>No</td>\n",
       "      <td>Yes</td>\n",
       "      <td>No</td>\n",
       "      <td>No</td>\n",
       "      <td>No</td>\n",
       "    </tr>\n",
       "    <tr>\n",
       "      <th>2</th>\n",
       "      <td>3668-QPYBK</td>\n",
       "      <td>DSL</td>\n",
       "      <td>Yes</td>\n",
       "      <td>Yes</td>\n",
       "      <td>No</td>\n",
       "      <td>No</td>\n",
       "      <td>No</td>\n",
       "      <td>No</td>\n",
       "    </tr>\n",
       "    <tr>\n",
       "      <th>3</th>\n",
       "      <td>7795-CFOCW</td>\n",
       "      <td>DSL</td>\n",
       "      <td>Yes</td>\n",
       "      <td>No</td>\n",
       "      <td>Yes</td>\n",
       "      <td>Yes</td>\n",
       "      <td>No</td>\n",
       "      <td>No</td>\n",
       "    </tr>\n",
       "    <tr>\n",
       "      <th>4</th>\n",
       "      <td>9237-HQITU</td>\n",
       "      <td>Fiber optic</td>\n",
       "      <td>No</td>\n",
       "      <td>No</td>\n",
       "      <td>No</td>\n",
       "      <td>No</td>\n",
       "      <td>No</td>\n",
       "      <td>No</td>\n",
       "    </tr>\n",
       "    <tr>\n",
       "      <th>5</th>\n",
       "      <td>9305-CDSKC</td>\n",
       "      <td>Fiber optic</td>\n",
       "      <td>No</td>\n",
       "      <td>No</td>\n",
       "      <td>Yes</td>\n",
       "      <td>No</td>\n",
       "      <td>Yes</td>\n",
       "      <td>Yes</td>\n",
       "    </tr>\n",
       "    <tr>\n",
       "      <th>6</th>\n",
       "      <td>1452-KIOVK</td>\n",
       "      <td>Fiber optic</td>\n",
       "      <td>No</td>\n",
       "      <td>Yes</td>\n",
       "      <td>No</td>\n",
       "      <td>No</td>\n",
       "      <td>Yes</td>\n",
       "      <td>No</td>\n",
       "    </tr>\n",
       "    <tr>\n",
       "      <th>7</th>\n",
       "      <td>6713-OKOMC</td>\n",
       "      <td>DSL</td>\n",
       "      <td>Yes</td>\n",
       "      <td>No</td>\n",
       "      <td>No</td>\n",
       "      <td>No</td>\n",
       "      <td>No</td>\n",
       "      <td>No</td>\n",
       "    </tr>\n",
       "    <tr>\n",
       "      <th>8</th>\n",
       "      <td>7892-POOKP</td>\n",
       "      <td>Fiber optic</td>\n",
       "      <td>No</td>\n",
       "      <td>No</td>\n",
       "      <td>Yes</td>\n",
       "      <td>Yes</td>\n",
       "      <td>Yes</td>\n",
       "      <td>Yes</td>\n",
       "    </tr>\n",
       "    <tr>\n",
       "      <th>9</th>\n",
       "      <td>6388-TABGU</td>\n",
       "      <td>DSL</td>\n",
       "      <td>Yes</td>\n",
       "      <td>Yes</td>\n",
       "      <td>No</td>\n",
       "      <td>No</td>\n",
       "      <td>No</td>\n",
       "      <td>No</td>\n",
       "    </tr>\n",
       "  </tbody>\n",
       "</table>\n",
       "</div>"
      ],
      "text/plain": [
       "   customerID InternetService OnlineSecurity OnlineBackup DeviceProtection  \\\n",
       "0  7590-VHVEG             DSL             No          Yes               No   \n",
       "1  5575-GNVDE             DSL            Yes           No              Yes   \n",
       "2  3668-QPYBK             DSL            Yes          Yes               No   \n",
       "3  7795-CFOCW             DSL            Yes           No              Yes   \n",
       "4  9237-HQITU     Fiber optic             No           No               No   \n",
       "5  9305-CDSKC     Fiber optic             No           No              Yes   \n",
       "6  1452-KIOVK     Fiber optic             No          Yes               No   \n",
       "7  6713-OKOMC             DSL            Yes           No               No   \n",
       "8  7892-POOKP     Fiber optic             No           No              Yes   \n",
       "9  6388-TABGU             DSL            Yes          Yes               No   \n",
       "\n",
       "  TechSupport StreamingTV StreamingMovies  \n",
       "0          No          No              No  \n",
       "1          No          No              No  \n",
       "2          No          No              No  \n",
       "3         Yes          No              No  \n",
       "4          No          No              No  \n",
       "5          No         Yes             Yes  \n",
       "6          No         Yes              No  \n",
       "7          No          No              No  \n",
       "8         Yes         Yes             Yes  \n",
       "9          No          No              No  "
      ]
     },
     "metadata": {},
     "output_type": "display_data"
    }
   ],
   "source": [
    "try:\n",
    "    internet = pd.read_csv('/datasets/final_provider/internet.csv')  # Attempt to read from the server path\n",
    "except FileNotFoundError:\n",
    "    internet = pd.read_csv('../datasets/final_provider/internet.csv')  # Fallback to the local path\n",
    "\n",
    "\n",
    "display(internet.head(10))"
   ]
  },
  {
   "cell_type": "code",
   "execution_count": 524,
   "id": "25b62ba0-7f2c-4d01-9bf0-bdd9f57756a8",
   "metadata": {},
   "outputs": [
    {
     "data": {
      "text/plain": [
       "(5517, 8)"
      ]
     },
     "execution_count": 524,
     "metadata": {},
     "output_type": "execute_result"
    }
   ],
   "source": [
    "internet.shape"
   ]
  },
  {
   "cell_type": "markdown",
   "id": "33a5726d-4267-4b2c-8be1-88dadbf31541",
   "metadata": {},
   "source": [
    "- <span style=\"color: blue; font-size: 16px;\"><strong>load personal dataset</strong></span>"
   ]
  },
  {
   "cell_type": "code",
   "execution_count": 527,
   "id": "14cf04a2-a5ba-4ff3-a6ce-3f57f3529a57",
   "metadata": {},
   "outputs": [
    {
     "data": {
      "text/html": [
       "<div>\n",
       "<style scoped>\n",
       "    .dataframe tbody tr th:only-of-type {\n",
       "        vertical-align: middle;\n",
       "    }\n",
       "\n",
       "    .dataframe tbody tr th {\n",
       "        vertical-align: top;\n",
       "    }\n",
       "\n",
       "    .dataframe thead th {\n",
       "        text-align: right;\n",
       "    }\n",
       "</style>\n",
       "<table border=\"1\" class=\"dataframe\">\n",
       "  <thead>\n",
       "    <tr style=\"text-align: right;\">\n",
       "      <th></th>\n",
       "      <th>customerID</th>\n",
       "      <th>gender</th>\n",
       "      <th>SeniorCitizen</th>\n",
       "      <th>Partner</th>\n",
       "      <th>Dependents</th>\n",
       "    </tr>\n",
       "  </thead>\n",
       "  <tbody>\n",
       "    <tr>\n",
       "      <th>0</th>\n",
       "      <td>7590-VHVEG</td>\n",
       "      <td>Female</td>\n",
       "      <td>0</td>\n",
       "      <td>Yes</td>\n",
       "      <td>No</td>\n",
       "    </tr>\n",
       "    <tr>\n",
       "      <th>1</th>\n",
       "      <td>5575-GNVDE</td>\n",
       "      <td>Male</td>\n",
       "      <td>0</td>\n",
       "      <td>No</td>\n",
       "      <td>No</td>\n",
       "    </tr>\n",
       "    <tr>\n",
       "      <th>2</th>\n",
       "      <td>3668-QPYBK</td>\n",
       "      <td>Male</td>\n",
       "      <td>0</td>\n",
       "      <td>No</td>\n",
       "      <td>No</td>\n",
       "    </tr>\n",
       "    <tr>\n",
       "      <th>3</th>\n",
       "      <td>7795-CFOCW</td>\n",
       "      <td>Male</td>\n",
       "      <td>0</td>\n",
       "      <td>No</td>\n",
       "      <td>No</td>\n",
       "    </tr>\n",
       "    <tr>\n",
       "      <th>4</th>\n",
       "      <td>9237-HQITU</td>\n",
       "      <td>Female</td>\n",
       "      <td>0</td>\n",
       "      <td>No</td>\n",
       "      <td>No</td>\n",
       "    </tr>\n",
       "    <tr>\n",
       "      <th>5</th>\n",
       "      <td>9305-CDSKC</td>\n",
       "      <td>Female</td>\n",
       "      <td>0</td>\n",
       "      <td>No</td>\n",
       "      <td>No</td>\n",
       "    </tr>\n",
       "    <tr>\n",
       "      <th>6</th>\n",
       "      <td>1452-KIOVK</td>\n",
       "      <td>Male</td>\n",
       "      <td>0</td>\n",
       "      <td>No</td>\n",
       "      <td>Yes</td>\n",
       "    </tr>\n",
       "    <tr>\n",
       "      <th>7</th>\n",
       "      <td>6713-OKOMC</td>\n",
       "      <td>Female</td>\n",
       "      <td>0</td>\n",
       "      <td>No</td>\n",
       "      <td>No</td>\n",
       "    </tr>\n",
       "    <tr>\n",
       "      <th>8</th>\n",
       "      <td>7892-POOKP</td>\n",
       "      <td>Female</td>\n",
       "      <td>0</td>\n",
       "      <td>Yes</td>\n",
       "      <td>No</td>\n",
       "    </tr>\n",
       "    <tr>\n",
       "      <th>9</th>\n",
       "      <td>6388-TABGU</td>\n",
       "      <td>Male</td>\n",
       "      <td>0</td>\n",
       "      <td>No</td>\n",
       "      <td>Yes</td>\n",
       "    </tr>\n",
       "  </tbody>\n",
       "</table>\n",
       "</div>"
      ],
      "text/plain": [
       "   customerID  gender  SeniorCitizen Partner Dependents\n",
       "0  7590-VHVEG  Female              0     Yes         No\n",
       "1  5575-GNVDE    Male              0      No         No\n",
       "2  3668-QPYBK    Male              0      No         No\n",
       "3  7795-CFOCW    Male              0      No         No\n",
       "4  9237-HQITU  Female              0      No         No\n",
       "5  9305-CDSKC  Female              0      No         No\n",
       "6  1452-KIOVK    Male              0      No        Yes\n",
       "7  6713-OKOMC  Female              0      No         No\n",
       "8  7892-POOKP  Female              0     Yes         No\n",
       "9  6388-TABGU    Male              0      No        Yes"
      ]
     },
     "metadata": {},
     "output_type": "display_data"
    }
   ],
   "source": [
    "try:\n",
    "    personal = pd.read_csv('/datasets/final_provider/personal.csv')  # Attempt to read from the server path\n",
    "except FileNotFoundError:\n",
    "    personal = pd.read_csv('../datasets/final_provider/personal.csv')  # Fallback to the local path\n",
    "\n",
    "\n",
    "display(personal.head(10))"
   ]
  },
  {
   "cell_type": "code",
   "execution_count": 529,
   "id": "c52e3bbe-69d9-4d5f-a8fc-f7dbdcccc72f",
   "metadata": {},
   "outputs": [
    {
     "data": {
      "text/plain": [
       "(7043, 5)"
      ]
     },
     "execution_count": 529,
     "metadata": {},
     "output_type": "execute_result"
    }
   ],
   "source": [
    "personal.shape"
   ]
  },
  {
   "cell_type": "markdown",
   "id": "183c9271-28c8-47e1-8e9c-ec0e530da130",
   "metadata": {},
   "source": [
    "- <span style=\"color: blue; font-size: 16px;\"><strong>load phone dataset:</strong></span>"
   ]
  },
  {
   "cell_type": "code",
   "execution_count": 532,
   "id": "362786a1-1b67-4b44-8bf6-8ca5daba2f58",
   "metadata": {},
   "outputs": [
    {
     "data": {
      "text/html": [
       "<div>\n",
       "<style scoped>\n",
       "    .dataframe tbody tr th:only-of-type {\n",
       "        vertical-align: middle;\n",
       "    }\n",
       "\n",
       "    .dataframe tbody tr th {\n",
       "        vertical-align: top;\n",
       "    }\n",
       "\n",
       "    .dataframe thead th {\n",
       "        text-align: right;\n",
       "    }\n",
       "</style>\n",
       "<table border=\"1\" class=\"dataframe\">\n",
       "  <thead>\n",
       "    <tr style=\"text-align: right;\">\n",
       "      <th></th>\n",
       "      <th>customerID</th>\n",
       "      <th>MultipleLines</th>\n",
       "    </tr>\n",
       "  </thead>\n",
       "  <tbody>\n",
       "    <tr>\n",
       "      <th>0</th>\n",
       "      <td>5575-GNVDE</td>\n",
       "      <td>No</td>\n",
       "    </tr>\n",
       "    <tr>\n",
       "      <th>1</th>\n",
       "      <td>3668-QPYBK</td>\n",
       "      <td>No</td>\n",
       "    </tr>\n",
       "    <tr>\n",
       "      <th>2</th>\n",
       "      <td>9237-HQITU</td>\n",
       "      <td>No</td>\n",
       "    </tr>\n",
       "    <tr>\n",
       "      <th>3</th>\n",
       "      <td>9305-CDSKC</td>\n",
       "      <td>Yes</td>\n",
       "    </tr>\n",
       "    <tr>\n",
       "      <th>4</th>\n",
       "      <td>1452-KIOVK</td>\n",
       "      <td>Yes</td>\n",
       "    </tr>\n",
       "    <tr>\n",
       "      <th>5</th>\n",
       "      <td>7892-POOKP</td>\n",
       "      <td>Yes</td>\n",
       "    </tr>\n",
       "    <tr>\n",
       "      <th>6</th>\n",
       "      <td>6388-TABGU</td>\n",
       "      <td>No</td>\n",
       "    </tr>\n",
       "    <tr>\n",
       "      <th>7</th>\n",
       "      <td>9763-GRSKD</td>\n",
       "      <td>No</td>\n",
       "    </tr>\n",
       "    <tr>\n",
       "      <th>8</th>\n",
       "      <td>7469-LKBCI</td>\n",
       "      <td>No</td>\n",
       "    </tr>\n",
       "    <tr>\n",
       "      <th>9</th>\n",
       "      <td>8091-TTVAX</td>\n",
       "      <td>Yes</td>\n",
       "    </tr>\n",
       "  </tbody>\n",
       "</table>\n",
       "</div>"
      ],
      "text/plain": [
       "   customerID MultipleLines\n",
       "0  5575-GNVDE            No\n",
       "1  3668-QPYBK            No\n",
       "2  9237-HQITU            No\n",
       "3  9305-CDSKC           Yes\n",
       "4  1452-KIOVK           Yes\n",
       "5  7892-POOKP           Yes\n",
       "6  6388-TABGU            No\n",
       "7  9763-GRSKD            No\n",
       "8  7469-LKBCI            No\n",
       "9  8091-TTVAX           Yes"
      ]
     },
     "metadata": {},
     "output_type": "display_data"
    }
   ],
   "source": [
    "try:\n",
    "    phone = pd.read_csv('/datasets/final_provider/phone.csv')  # Attempt to read from the server path\n",
    "except FileNotFoundError:\n",
    "    phone = pd.read_csv('../datasets/final_provider/phone.csv')  # Fallback to the local path\n",
    "\n",
    "\n",
    "display(phone.head(10))"
   ]
  },
  {
   "cell_type": "code",
   "execution_count": 534,
   "id": "69209102-4c00-43ba-b885-e16919940c6f",
   "metadata": {},
   "outputs": [
    {
     "data": {
      "text/plain": [
       "(6361, 2)"
      ]
     },
     "execution_count": 534,
     "metadata": {},
     "output_type": "execute_result"
    }
   ],
   "source": [
    "phone.shape"
   ]
  },
  {
   "cell_type": "markdown",
   "id": "d9fd733a-b517-41e3-92a4-8a9f094fb3e4",
   "metadata": {},
   "source": [
    "Each of the four datasets has a different shape. But they all share one column in common; customerID."
   ]
  },
  {
   "cell_type": "markdown",
   "id": "2e9e756e-e0e7-48fb-a882-02d06de574a9",
   "metadata": {},
   "source": [
    "<span style=\"color: blue; font-size: 32px;\"><strong>Exploratory Data Analysis</strong></span>"
   ]
  },
  {
   "cell_type": "markdown",
   "id": "188fd41f-e07c-4fa0-ab6a-1214418e5022",
   "metadata": {},
   "source": [
    "<H2>Clean the 4 datasets:</H2>"
   ]
  },
  {
   "cell_type": "markdown",
   "id": "97b61a15-8eed-4fe1-b262-c7ab365e275a",
   "metadata": {},
   "source": [
    "- <span style=\"color: blue; font-size: 18px;\"><strong>Check for missing values in all 4 datasets:</strong></span>"
   ]
  },
  {
   "cell_type": "code",
   "execution_count": 540,
   "id": "a4fc7766-4400-4bb4-8440-dcce3dab66db",
   "metadata": {},
   "outputs": [],
   "source": [
    "# Check for missing values in each DataFrame\n",
    "missing_contract = contract.isnull().sum()\n",
    "missing_internet = internet.isnull().sum()\n",
    "missing_personal = personal.isnull().sum()\n",
    "missing_phone = phone.isnull().sum()"
   ]
  },
  {
   "cell_type": "code",
   "execution_count": 542,
   "id": "c347984e-97c4-4818-ab3c-2d79d403c46b",
   "metadata": {},
   "outputs": [
    {
     "name": "stdout",
     "output_type": "stream",
     "text": [
      "Missing values in contract:\n",
      " customerID          0\n",
      "BeginDate           0\n",
      "EndDate             0\n",
      "Type                0\n",
      "PaperlessBilling    0\n",
      "PaymentMethod       0\n",
      "MonthlyCharges      0\n",
      "TotalCharges        0\n",
      "dtype: int64\n",
      "\n",
      "Missing values in internet:\n",
      " customerID          0\n",
      "InternetService     0\n",
      "OnlineSecurity      0\n",
      "OnlineBackup        0\n",
      "DeviceProtection    0\n",
      "TechSupport         0\n",
      "StreamingTV         0\n",
      "StreamingMovies     0\n",
      "dtype: int64\n",
      "\n",
      "Missing values in personal:\n",
      " customerID       0\n",
      "gender           0\n",
      "SeniorCitizen    0\n",
      "Partner          0\n",
      "Dependents       0\n",
      "dtype: int64\n",
      "\n",
      "Missing values in phone:\n",
      " customerID       0\n",
      "MultipleLines    0\n",
      "dtype: int64\n"
     ]
    }
   ],
   "source": [
    "# Display the counts of missing values\n",
    "print(\"Missing values in contract:\\n\", missing_contract)\n",
    "print(\"\\nMissing values in internet:\\n\", missing_internet)\n",
    "print(\"\\nMissing values in personal:\\n\", missing_personal)\n",
    "print(\"\\nMissing values in phone:\\n\", missing_phone)"
   ]
  },
  {
   "cell_type": "markdown",
   "id": "ad089bba-d31d-4aa7-bf4f-84dc09ff8fed",
   "metadata": {},
   "source": [
    "<H4>There is not missing data on any of the 4 datasets.</H4>"
   ]
  },
  {
   "cell_type": "markdown",
   "id": "d7452f3a-c0cc-45ca-ba08-6a59c743338e",
   "metadata": {},
   "source": [
    "- <span style=\"color: blue; font-size: 18px;\"><strong>examine contract dataset</strong></span>"
   ]
  },
  {
   "cell_type": "code",
   "execution_count": 546,
   "id": "fa5acf5b-01fe-4f36-bcc3-acf9bb8214f8",
   "metadata": {},
   "outputs": [
    {
     "data": {
      "text/html": [
       "<div>\n",
       "<style scoped>\n",
       "    .dataframe tbody tr th:only-of-type {\n",
       "        vertical-align: middle;\n",
       "    }\n",
       "\n",
       "    .dataframe tbody tr th {\n",
       "        vertical-align: top;\n",
       "    }\n",
       "\n",
       "    .dataframe thead th {\n",
       "        text-align: right;\n",
       "    }\n",
       "</style>\n",
       "<table border=\"1\" class=\"dataframe\">\n",
       "  <thead>\n",
       "    <tr style=\"text-align: right;\">\n",
       "      <th></th>\n",
       "      <th>customerID</th>\n",
       "      <th>BeginDate</th>\n",
       "      <th>EndDate</th>\n",
       "      <th>Type</th>\n",
       "      <th>PaperlessBilling</th>\n",
       "      <th>PaymentMethod</th>\n",
       "      <th>MonthlyCharges</th>\n",
       "      <th>TotalCharges</th>\n",
       "    </tr>\n",
       "  </thead>\n",
       "  <tbody>\n",
       "    <tr>\n",
       "      <th>0</th>\n",
       "      <td>7590-VHVEG</td>\n",
       "      <td>2020-01-01</td>\n",
       "      <td>No</td>\n",
       "      <td>Month-to-month</td>\n",
       "      <td>Yes</td>\n",
       "      <td>Electronic check</td>\n",
       "      <td>29.85</td>\n",
       "      <td>29.85</td>\n",
       "    </tr>\n",
       "    <tr>\n",
       "      <th>1</th>\n",
       "      <td>5575-GNVDE</td>\n",
       "      <td>2017-04-01</td>\n",
       "      <td>No</td>\n",
       "      <td>One year</td>\n",
       "      <td>No</td>\n",
       "      <td>Mailed check</td>\n",
       "      <td>56.95</td>\n",
       "      <td>1889.5</td>\n",
       "    </tr>\n",
       "    <tr>\n",
       "      <th>2</th>\n",
       "      <td>3668-QPYBK</td>\n",
       "      <td>2019-10-01</td>\n",
       "      <td>2019-12-01 00:00:00</td>\n",
       "      <td>Month-to-month</td>\n",
       "      <td>Yes</td>\n",
       "      <td>Mailed check</td>\n",
       "      <td>53.85</td>\n",
       "      <td>108.15</td>\n",
       "    </tr>\n",
       "    <tr>\n",
       "      <th>3</th>\n",
       "      <td>7795-CFOCW</td>\n",
       "      <td>2016-05-01</td>\n",
       "      <td>No</td>\n",
       "      <td>One year</td>\n",
       "      <td>No</td>\n",
       "      <td>Bank transfer (automatic)</td>\n",
       "      <td>42.30</td>\n",
       "      <td>1840.75</td>\n",
       "    </tr>\n",
       "    <tr>\n",
       "      <th>4</th>\n",
       "      <td>9237-HQITU</td>\n",
       "      <td>2019-09-01</td>\n",
       "      <td>2019-11-01 00:00:00</td>\n",
       "      <td>Month-to-month</td>\n",
       "      <td>Yes</td>\n",
       "      <td>Electronic check</td>\n",
       "      <td>70.70</td>\n",
       "      <td>151.65</td>\n",
       "    </tr>\n",
       "  </tbody>\n",
       "</table>\n",
       "</div>"
      ],
      "text/plain": [
       "   customerID   BeginDate              EndDate            Type  \\\n",
       "0  7590-VHVEG  2020-01-01                   No  Month-to-month   \n",
       "1  5575-GNVDE  2017-04-01                   No        One year   \n",
       "2  3668-QPYBK  2019-10-01  2019-12-01 00:00:00  Month-to-month   \n",
       "3  7795-CFOCW  2016-05-01                   No        One year   \n",
       "4  9237-HQITU  2019-09-01  2019-11-01 00:00:00  Month-to-month   \n",
       "\n",
       "  PaperlessBilling              PaymentMethod  MonthlyCharges TotalCharges  \n",
       "0              Yes           Electronic check           29.85        29.85  \n",
       "1               No               Mailed check           56.95       1889.5  \n",
       "2              Yes               Mailed check           53.85       108.15  \n",
       "3               No  Bank transfer (automatic)           42.30      1840.75  \n",
       "4              Yes           Electronic check           70.70       151.65  "
      ]
     },
     "metadata": {},
     "output_type": "display_data"
    }
   ],
   "source": [
    "display(contract.head(5))"
   ]
  },
  {
   "cell_type": "code",
   "execution_count": 548,
   "id": "2de35780-58a8-40e3-a407-0115db2573ff",
   "metadata": {},
   "outputs": [
    {
     "name": "stdout",
     "output_type": "stream",
     "text": [
      "<class 'pandas.core.frame.DataFrame'>\n",
      "RangeIndex: 7043 entries, 0 to 7042\n",
      "Data columns (total 8 columns):\n",
      " #   Column            Non-Null Count  Dtype  \n",
      "---  ------            --------------  -----  \n",
      " 0   customerID        7043 non-null   object \n",
      " 1   BeginDate         7043 non-null   object \n",
      " 2   EndDate           7043 non-null   object \n",
      " 3   Type              7043 non-null   object \n",
      " 4   PaperlessBilling  7043 non-null   object \n",
      " 5   PaymentMethod     7043 non-null   object \n",
      " 6   MonthlyCharges    7043 non-null   float64\n",
      " 7   TotalCharges      7043 non-null   object \n",
      "dtypes: float64(1), object(7)\n",
      "memory usage: 440.3+ KB\n"
     ]
    }
   ],
   "source": [
    "contract.info()"
   ]
  },
  {
   "cell_type": "markdown",
   "id": "6a7b112c-fe74-4439-99fb-4e770b085e82",
   "metadata": {},
   "source": [
    "- <span style=\"color: blue; font-size: 14px;\"><strong>examine BeginDate column</strong></span>"
   ]
  },
  {
   "cell_type": "code",
   "execution_count": 551,
   "id": "41366cad-acf9-470c-a11a-af506bcd3934",
   "metadata": {},
   "outputs": [],
   "source": [
    "contract['BeginDate'] = pd.to_datetime(contract['BeginDate'])"
   ]
  },
  {
   "cell_type": "markdown",
   "id": "f08547f7-6872-41ff-a141-976707a8629f",
   "metadata": {},
   "source": [
    "- <span style=\"color: blue; font-size: 14px;\"><strong>examine EndDate column</strong></span>"
   ]
  },
  {
   "cell_type": "markdown",
   "id": "9af6b5c6-cfff-41be-8feb-63f5a4e5601a",
   "metadata": {},
   "source": [
    "<span style=\"color: red; font-size: 14px;\"><strong>EndDate == 'No' is the TARGET</strong></span>"
   ]
  },
  {
   "cell_type": "code",
   "execution_count": 555,
   "id": "a09a37d9-0562-48d4-8bfc-77a34afbc470",
   "metadata": {},
   "outputs": [
    {
     "data": {
      "text/plain": [
       "EndDate\n",
       "No                     5174\n",
       "2019-11-01 00:00:00     485\n",
       "2019-12-01 00:00:00     466\n",
       "2020-01-01 00:00:00     460\n",
       "2019-10-01 00:00:00     458\n",
       "Name: count, dtype: int64"
      ]
     },
     "execution_count": 555,
     "metadata": {},
     "output_type": "execute_result"
    }
   ],
   "source": [
    "contract['EndDate'].value_counts()"
   ]
  },
  {
   "cell_type": "code",
   "execution_count": 557,
   "id": "e4ea3025-9070-47dd-854a-0d19d658d56f",
   "metadata": {},
   "outputs": [],
   "source": [
    "# 1869 is the amount of churned customers (those with dates). 5174  have not churned."
   ]
  },
  {
   "cell_type": "code",
   "execution_count": 559,
   "id": "b1e2f6b3-e0fa-4253-8ced-24388644bffd",
   "metadata": {},
   "outputs": [],
   "source": [
    "contract['EndDate'] = (contract['EndDate'] != 'No').astype(int)"
   ]
  },
  {
   "cell_type": "markdown",
   "id": "2d079e5f-91c2-4717-83fb-5342e033e0e4",
   "metadata": {},
   "source": [
    "If the value is not 'No', it evaluates to True, which is then converted to `1"
   ]
  },
  {
   "cell_type": "code",
   "execution_count": 562,
   "id": "8b8f5a9e-094c-4707-885e-65e5eb858a18",
   "metadata": {},
   "outputs": [
    {
     "data": {
      "text/plain": [
       "EndDate\n",
       "0    5174\n",
       "1    1869\n",
       "Name: count, dtype: int64"
      ]
     },
     "execution_count": 562,
     "metadata": {},
     "output_type": "execute_result"
    }
   ],
   "source": [
    "contract['EndDate'].value_counts()"
   ]
  },
  {
   "cell_type": "markdown",
   "id": "f3de9288-c8b3-409f-b56e-0676a320b246",
   "metadata": {},
   "source": [
    "<span style=\"color: red; font-size: 14px;\"><strong>0 used to be 'No'.  So now 'EndDate' == 0 is the new target.</strong></span>"
   ]
  },
  {
   "cell_type": "markdown",
   "id": "83d6c97f-91d6-4228-a5e2-46ff9dbbbaf3",
   "metadata": {},
   "source": [
    "- <span style=\"color: blue; font-size: 14px;\"><strong>examine Type column</strong></span>"
   ]
  },
  {
   "cell_type": "code",
   "execution_count": 566,
   "id": "fbe7ebec-670c-4dce-989d-4fbf0e005e51",
   "metadata": {},
   "outputs": [
    {
     "data": {
      "text/plain": [
       "Type\n",
       "Month-to-month    3875\n",
       "Two year          1695\n",
       "One year          1473\n",
       "Name: count, dtype: int64"
      ]
     },
     "execution_count": 566,
     "metadata": {},
     "output_type": "execute_result"
    }
   ],
   "source": [
    "contract.Type.value_counts()"
   ]
  },
  {
   "cell_type": "code",
   "execution_count": 568,
   "id": "9161ea98-941b-4bcc-968c-b6bba4bb552e",
   "metadata": {},
   "outputs": [],
   "source": [
    "payment_type_mapping = {\n",
    "    'Month-to-month': 0,\n",
    "    'One year': 1,\n",
    "    'Two year': 2\n",
    "}"
   ]
  },
  {
   "cell_type": "code",
   "execution_count": 570,
   "id": "98ebe83f-1e7c-418c-8986-7d5bde0e3e16",
   "metadata": {},
   "outputs": [],
   "source": [
    "contract['Type'] = contract['Type'].map(payment_type_mapping)"
   ]
  },
  {
   "cell_type": "code",
   "execution_count": 572,
   "id": "ee6ff4d2-f8cc-42d4-b997-e60ee48c8c37",
   "metadata": {},
   "outputs": [],
   "source": [
    "contract['Type'] = contract['Type'].astype('category')"
   ]
  },
  {
   "cell_type": "code",
   "execution_count": 574,
   "id": "b863bb6f-ed5f-4d8d-9709-7bb6f1e21b0e",
   "metadata": {},
   "outputs": [
    {
     "data": {
      "text/plain": [
       "Type\n",
       "0    3875\n",
       "2    1695\n",
       "1    1473\n",
       "Name: count, dtype: int64"
      ]
     },
     "execution_count": 574,
     "metadata": {},
     "output_type": "execute_result"
    }
   ],
   "source": [
    "contract.Type.value_counts()"
   ]
  },
  {
   "cell_type": "markdown",
   "id": "c461b6a0-2ab8-4d0c-8078-ea3d7bdaf50c",
   "metadata": {},
   "source": [
    "- <span style=\"color: blue; font-size: 14px;\"><strong>examine PaperlessBilling column</strong></span>"
   ]
  },
  {
   "cell_type": "code",
   "execution_count": 577,
   "id": "e8e9bd6c-8c06-49d0-9000-7d1e65e4720c",
   "metadata": {},
   "outputs": [
    {
     "data": {
      "text/plain": [
       "PaperlessBilling\n",
       "Yes    4171\n",
       "No     2872\n",
       "Name: count, dtype: int64"
      ]
     },
     "execution_count": 577,
     "metadata": {},
     "output_type": "execute_result"
    }
   ],
   "source": [
    "contract.PaperlessBilling.value_counts()"
   ]
  },
  {
   "cell_type": "code",
   "execution_count": 579,
   "id": "584d6431-10ad-4358-b256-8e2673beb932",
   "metadata": {},
   "outputs": [],
   "source": [
    "# Convert PaperlessBilling to binary (1 for 'Yes', 0 for 'No')\n",
    "contract['PaperlessBilling'] = contract['PaperlessBilling'].map({'Yes': 1, 'No': 0})"
   ]
  },
  {
   "cell_type": "code",
   "execution_count": 581,
   "id": "193c16eb-0324-4120-804e-28c8ae791448",
   "metadata": {},
   "outputs": [
    {
     "data": {
      "text/plain": [
       "PaperlessBilling\n",
       "1    4171\n",
       "0    2872\n",
       "Name: count, dtype: int64"
      ]
     },
     "execution_count": 581,
     "metadata": {},
     "output_type": "execute_result"
    }
   ],
   "source": [
    "contract.PaperlessBilling.value_counts()"
   ]
  },
  {
   "cell_type": "code",
   "execution_count": 583,
   "id": "a5f9066d-b5a5-4a2b-bc4f-084927dc37d9",
   "metadata": {},
   "outputs": [
    {
     "data": {
      "text/plain": [
       "dtype('int64')"
      ]
     },
     "execution_count": 583,
     "metadata": {},
     "output_type": "execute_result"
    }
   ],
   "source": [
    "contract['PaperlessBilling'].dtype"
   ]
  },
  {
   "cell_type": "markdown",
   "id": "611679bc-c98d-475c-ab25-c1a072cd345f",
   "metadata": {},
   "source": [
    "- <span style=\"color: blue; font-size: 14px;\"><strong>examine PaymentMethod column</strong></span>"
   ]
  },
  {
   "cell_type": "code",
   "execution_count": 586,
   "id": "40dff008-e0d2-422f-9f6a-585575ff840f",
   "metadata": {},
   "outputs": [
    {
     "data": {
      "text/plain": [
       "PaymentMethod\n",
       "Electronic check             2365\n",
       "Mailed check                 1612\n",
       "Bank transfer (automatic)    1544\n",
       "Credit card (automatic)      1522\n",
       "Name: count, dtype: int64"
      ]
     },
     "execution_count": 586,
     "metadata": {},
     "output_type": "execute_result"
    }
   ],
   "source": [
    "contract['PaymentMethod'].value_counts()"
   ]
  },
  {
   "cell_type": "code",
   "execution_count": 588,
   "id": "bd7d3fcb-3b6d-4618-917e-bbc3673dc67f",
   "metadata": {},
   "outputs": [],
   "source": [
    "payment_method_mapping = {\n",
    "    'Electronic check': 0,\n",
    "    'Mailed check': 1,\n",
    "    'Bank transfer (automatic)': 2,\n",
    "    'Credit card (automatic)': 3\n",
    "}"
   ]
  },
  {
   "cell_type": "code",
   "execution_count": 590,
   "id": "7f9c4163-d773-4167-83bd-451bd821b8e9",
   "metadata": {},
   "outputs": [],
   "source": [
    "contract['PaymentMethod'] = contract['PaymentMethod'].map(payment_method_mapping)"
   ]
  },
  {
   "cell_type": "code",
   "execution_count": 592,
   "id": "096136c3-212d-4ffa-b58f-968d6d7c854b",
   "metadata": {},
   "outputs": [
    {
     "data": {
      "text/plain": [
       "PaymentMethod\n",
       "0    2365\n",
       "1    1612\n",
       "2    1544\n",
       "3    1522\n",
       "Name: count, dtype: int64"
      ]
     },
     "execution_count": 592,
     "metadata": {},
     "output_type": "execute_result"
    }
   ],
   "source": [
    "contract['PaymentMethod'].value_counts()"
   ]
  },
  {
   "cell_type": "markdown",
   "id": "49693c8b-0bd9-4437-9e6f-255462eae3a4",
   "metadata": {},
   "source": [
    "- 0 = 'Electronic check'\n",
    "- 1 = 'Mailed check'\n",
    "- 2 = 'Bank transfer (automatic)'\n",
    "- 3 = 'Credit card (automatic)'"
   ]
  },
  {
   "cell_type": "code",
   "execution_count": 595,
   "id": "88ec2152-1ce7-4588-9032-926934c78da6",
   "metadata": {},
   "outputs": [],
   "source": [
    "contract['PaymentMethod'] = contract['PaymentMethod'].astype('category')"
   ]
  },
  {
   "cell_type": "code",
   "execution_count": 597,
   "id": "eadaab39-c43e-478d-a766-f85bc6536f86",
   "metadata": {},
   "outputs": [
    {
     "data": {
      "text/plain": [
       "PaymentMethod\n",
       "0    2365\n",
       "1    1612\n",
       "2    1544\n",
       "3    1522\n",
       "Name: count, dtype: int64"
      ]
     },
     "execution_count": 597,
     "metadata": {},
     "output_type": "execute_result"
    }
   ],
   "source": [
    "contract['PaymentMethod'].value_counts()"
   ]
  },
  {
   "cell_type": "code",
   "execution_count": 599,
   "id": "995daa04-05f9-45f6-a94a-5944e9c21af6",
   "metadata": {},
   "outputs": [
    {
     "data": {
      "text/plain": [
       "CategoricalDtype(categories=[0, 1, 2, 3], ordered=False, categories_dtype=int64)"
      ]
     },
     "execution_count": 599,
     "metadata": {},
     "output_type": "execute_result"
    }
   ],
   "source": [
    "contract['PaymentMethod'].dtype"
   ]
  },
  {
   "cell_type": "markdown",
   "id": "1b5ad513-2bc7-4f12-9b50-8eb4831e31c5",
   "metadata": {},
   "source": [
    "- <span style=\"color: blue; font-size: 14px;\"><strong>examine TotalCharges column</strong></span>"
   ]
  },
  {
   "cell_type": "code",
   "execution_count": 602,
   "id": "afeeeba7-cf49-48d2-9999-5ff265508425",
   "metadata": {},
   "outputs": [
    {
     "data": {
      "text/plain": [
       "TotalCharges\n",
       "          11\n",
       "20.2      11\n",
       "19.75      9\n",
       "20.05      8\n",
       "19.9       8\n",
       "          ..\n",
       "6849.4     1\n",
       "692.35     1\n",
       "130.15     1\n",
       "3211.9     1\n",
       "6844.5     1\n",
       "Name: count, Length: 6531, dtype: int64"
      ]
     },
     "execution_count": 602,
     "metadata": {},
     "output_type": "execute_result"
    }
   ],
   "source": [
    "contract.TotalCharges.value_counts()"
   ]
  },
  {
   "cell_type": "code",
   "execution_count": 604,
   "id": "3750348b-029e-46da-9e06-0051f7d99fba",
   "metadata": {},
   "outputs": [],
   "source": [
    "# Replace any white space with nan\n",
    "contract['TotalCharges'] = contract['TotalCharges'].replace(r'^\\s*$', np.nan, regex=True)"
   ]
  },
  {
   "cell_type": "code",
   "execution_count": 606,
   "id": "4527e9c4-fec5-4ae4-ac5d-cfbe51b19f3f",
   "metadata": {},
   "outputs": [],
   "source": [
    "#Convert the column to a numeric type, coercing any errors to NaN\n",
    "contract['TotalCharges'] = pd.to_numeric(contract['TotalCharges'], errors='coerce')"
   ]
  },
  {
   "cell_type": "code",
   "execution_count": 608,
   "id": "9725a75c-1667-4c18-8d4b-9d5d32184c20",
   "metadata": {},
   "outputs": [],
   "source": [
    "contract['TotalCharges'] = contract['TotalCharges'].astype(float)"
   ]
  },
  {
   "cell_type": "markdown",
   "id": "904c64aa-27c2-4d7f-9f74-e0e867ec2efa",
   "metadata": {},
   "source": [
    "- <span style=\"color: blue; font-size: 14px;\"><strong>double check data types for the contract dataset:</strong></span>"
   ]
  },
  {
   "cell_type": "code",
   "execution_count": 611,
   "id": "d3c6623f-41c0-42d7-941f-ac8e4320f3ea",
   "metadata": {},
   "outputs": [
    {
     "name": "stdout",
     "output_type": "stream",
     "text": [
      "<class 'pandas.core.frame.DataFrame'>\n",
      "RangeIndex: 7043 entries, 0 to 7042\n",
      "Data columns (total 8 columns):\n",
      " #   Column            Non-Null Count  Dtype         \n",
      "---  ------            --------------  -----         \n",
      " 0   customerID        7043 non-null   object        \n",
      " 1   BeginDate         7043 non-null   datetime64[ns]\n",
      " 2   EndDate           7043 non-null   int64         \n",
      " 3   Type              7043 non-null   category      \n",
      " 4   PaperlessBilling  7043 non-null   int64         \n",
      " 5   PaymentMethod     7043 non-null   category      \n",
      " 6   MonthlyCharges    7043 non-null   float64       \n",
      " 7   TotalCharges      7032 non-null   float64       \n",
      "dtypes: category(2), datetime64[ns](1), float64(2), int64(2), object(1)\n",
      "memory usage: 344.4+ KB\n"
     ]
    }
   ],
   "source": [
    "contract.info()"
   ]
  },
  {
   "cell_type": "markdown",
   "id": "8a8fc259-6e8a-4d2c-84f0-39db6e95fa94",
   "metadata": {},
   "source": [
    "- <span style=\"color: blue; font-size: 14px;\"><strong>check for NaN in contract dataset:</strong></span>"
   ]
  },
  {
   "cell_type": "code",
   "execution_count": 614,
   "id": "b7ad0f0d-0711-46ef-a759-fd1a19208aaa",
   "metadata": {},
   "outputs": [
    {
     "name": "stdout",
     "output_type": "stream",
     "text": [
      "Count of NaN values in each column for contract dataset:\n",
      "customerID           0\n",
      "BeginDate            0\n",
      "EndDate              0\n",
      "Type                 0\n",
      "PaperlessBilling     0\n",
      "PaymentMethod        0\n",
      "MonthlyCharges       0\n",
      "TotalCharges        11\n",
      "dtype: int64\n"
     ]
    }
   ],
   "source": [
    "contract_nan_counts = contract.isnull().sum()\n",
    "print(\"Count of NaN values in each column for contract dataset:\")\n",
    "print(contract_nan_counts)"
   ]
  },
  {
   "cell_type": "code",
   "execution_count": 616,
   "id": "f25f9bf7-d7b2-4a38-ab7b-bee0b0f560b3",
   "metadata": {},
   "outputs": [
    {
     "name": "stdout",
     "output_type": "stream",
     "text": [
      "Rows in contract['TotalCharges'] with NaN values:\n"
     ]
    },
    {
     "data": {
      "text/html": [
       "<div>\n",
       "<style scoped>\n",
       "    .dataframe tbody tr th:only-of-type {\n",
       "        vertical-align: middle;\n",
       "    }\n",
       "\n",
       "    .dataframe tbody tr th {\n",
       "        vertical-align: top;\n",
       "    }\n",
       "\n",
       "    .dataframe thead th {\n",
       "        text-align: right;\n",
       "    }\n",
       "</style>\n",
       "<table border=\"1\" class=\"dataframe\">\n",
       "  <thead>\n",
       "    <tr style=\"text-align: right;\">\n",
       "      <th></th>\n",
       "      <th>customerID</th>\n",
       "      <th>BeginDate</th>\n",
       "      <th>EndDate</th>\n",
       "      <th>Type</th>\n",
       "      <th>PaperlessBilling</th>\n",
       "      <th>PaymentMethod</th>\n",
       "      <th>MonthlyCharges</th>\n",
       "      <th>TotalCharges</th>\n",
       "    </tr>\n",
       "  </thead>\n",
       "  <tbody>\n",
       "    <tr>\n",
       "      <th>488</th>\n",
       "      <td>4472-LVYGI</td>\n",
       "      <td>2020-02-01</td>\n",
       "      <td>0</td>\n",
       "      <td>2</td>\n",
       "      <td>1</td>\n",
       "      <td>2</td>\n",
       "      <td>52.55</td>\n",
       "      <td>NaN</td>\n",
       "    </tr>\n",
       "    <tr>\n",
       "      <th>753</th>\n",
       "      <td>3115-CZMZD</td>\n",
       "      <td>2020-02-01</td>\n",
       "      <td>0</td>\n",
       "      <td>2</td>\n",
       "      <td>0</td>\n",
       "      <td>1</td>\n",
       "      <td>20.25</td>\n",
       "      <td>NaN</td>\n",
       "    </tr>\n",
       "    <tr>\n",
       "      <th>936</th>\n",
       "      <td>5709-LVOEQ</td>\n",
       "      <td>2020-02-01</td>\n",
       "      <td>0</td>\n",
       "      <td>2</td>\n",
       "      <td>0</td>\n",
       "      <td>1</td>\n",
       "      <td>80.85</td>\n",
       "      <td>NaN</td>\n",
       "    </tr>\n",
       "    <tr>\n",
       "      <th>1082</th>\n",
       "      <td>4367-NUYAO</td>\n",
       "      <td>2020-02-01</td>\n",
       "      <td>0</td>\n",
       "      <td>2</td>\n",
       "      <td>0</td>\n",
       "      <td>1</td>\n",
       "      <td>25.75</td>\n",
       "      <td>NaN</td>\n",
       "    </tr>\n",
       "    <tr>\n",
       "      <th>1340</th>\n",
       "      <td>1371-DWPAZ</td>\n",
       "      <td>2020-02-01</td>\n",
       "      <td>0</td>\n",
       "      <td>2</td>\n",
       "      <td>0</td>\n",
       "      <td>3</td>\n",
       "      <td>56.05</td>\n",
       "      <td>NaN</td>\n",
       "    </tr>\n",
       "    <tr>\n",
       "      <th>3331</th>\n",
       "      <td>7644-OMVMY</td>\n",
       "      <td>2020-02-01</td>\n",
       "      <td>0</td>\n",
       "      <td>2</td>\n",
       "      <td>0</td>\n",
       "      <td>1</td>\n",
       "      <td>19.85</td>\n",
       "      <td>NaN</td>\n",
       "    </tr>\n",
       "    <tr>\n",
       "      <th>3826</th>\n",
       "      <td>3213-VVOLG</td>\n",
       "      <td>2020-02-01</td>\n",
       "      <td>0</td>\n",
       "      <td>2</td>\n",
       "      <td>0</td>\n",
       "      <td>1</td>\n",
       "      <td>25.35</td>\n",
       "      <td>NaN</td>\n",
       "    </tr>\n",
       "    <tr>\n",
       "      <th>4380</th>\n",
       "      <td>2520-SGTTA</td>\n",
       "      <td>2020-02-01</td>\n",
       "      <td>0</td>\n",
       "      <td>2</td>\n",
       "      <td>0</td>\n",
       "      <td>1</td>\n",
       "      <td>20.00</td>\n",
       "      <td>NaN</td>\n",
       "    </tr>\n",
       "    <tr>\n",
       "      <th>5218</th>\n",
       "      <td>2923-ARZLG</td>\n",
       "      <td>2020-02-01</td>\n",
       "      <td>0</td>\n",
       "      <td>1</td>\n",
       "      <td>1</td>\n",
       "      <td>1</td>\n",
       "      <td>19.70</td>\n",
       "      <td>NaN</td>\n",
       "    </tr>\n",
       "    <tr>\n",
       "      <th>6670</th>\n",
       "      <td>4075-WKNIU</td>\n",
       "      <td>2020-02-01</td>\n",
       "      <td>0</td>\n",
       "      <td>2</td>\n",
       "      <td>0</td>\n",
       "      <td>1</td>\n",
       "      <td>73.35</td>\n",
       "      <td>NaN</td>\n",
       "    </tr>\n",
       "    <tr>\n",
       "      <th>6754</th>\n",
       "      <td>2775-SEFEE</td>\n",
       "      <td>2020-02-01</td>\n",
       "      <td>0</td>\n",
       "      <td>2</td>\n",
       "      <td>1</td>\n",
       "      <td>2</td>\n",
       "      <td>61.90</td>\n",
       "      <td>NaN</td>\n",
       "    </tr>\n",
       "  </tbody>\n",
       "</table>\n",
       "</div>"
      ],
      "text/plain": [
       "      customerID  BeginDate  EndDate Type  PaperlessBilling PaymentMethod  \\\n",
       "488   4472-LVYGI 2020-02-01        0    2                 1             2   \n",
       "753   3115-CZMZD 2020-02-01        0    2                 0             1   \n",
       "936   5709-LVOEQ 2020-02-01        0    2                 0             1   \n",
       "1082  4367-NUYAO 2020-02-01        0    2                 0             1   \n",
       "1340  1371-DWPAZ 2020-02-01        0    2                 0             3   \n",
       "3331  7644-OMVMY 2020-02-01        0    2                 0             1   \n",
       "3826  3213-VVOLG 2020-02-01        0    2                 0             1   \n",
       "4380  2520-SGTTA 2020-02-01        0    2                 0             1   \n",
       "5218  2923-ARZLG 2020-02-01        0    1                 1             1   \n",
       "6670  4075-WKNIU 2020-02-01        0    2                 0             1   \n",
       "6754  2775-SEFEE 2020-02-01        0    2                 1             2   \n",
       "\n",
       "      MonthlyCharges  TotalCharges  \n",
       "488            52.55           NaN  \n",
       "753            20.25           NaN  \n",
       "936            80.85           NaN  \n",
       "1082           25.75           NaN  \n",
       "1340           56.05           NaN  \n",
       "3331           19.85           NaN  \n",
       "3826           25.35           NaN  \n",
       "4380           20.00           NaN  \n",
       "5218           19.70           NaN  \n",
       "6670           73.35           NaN  \n",
       "6754           61.90           NaN  "
      ]
     },
     "metadata": {},
     "output_type": "display_data"
    }
   ],
   "source": [
    "nan_rows = contract[contract['TotalCharges'].isnull()]\n",
    "print(\"Rows in contract['TotalCharges'] with NaN values:\")\n",
    "display(nan_rows)"
   ]
  },
  {
   "cell_type": "markdown",
   "id": "c89b2eab-8567-4757-803b-25f66d1d3287",
   "metadata": {},
   "source": [
    "All rows that have NaN all have the same BeginDate."
   ]
  },
  {
   "cell_type": "code",
   "execution_count": 619,
   "id": "7d4d80a7-aceb-48b2-bb46-14cc75882813",
   "metadata": {},
   "outputs": [
    {
     "name": "stdout",
     "output_type": "stream",
     "text": [
      "Earliest date: 2013-10-01 00:00:00\n",
      "Latest date: 2020-02-01 00:00:00\n"
     ]
    }
   ],
   "source": [
    "earliest_date = contract['BeginDate'].min()\n",
    "latest_date = contract['BeginDate'].max()\n",
    "print(f\"Earliest date: {earliest_date}\")\n",
    "print(f\"Latest date: {latest_date}\")"
   ]
  },
  {
   "cell_type": "markdown",
   "id": "50aa714d-f1ee-4af9-a020-d058ca227512",
   "metadata": {},
   "source": [
    "As max date is the same as the BeginDate, for each of these 11 customers who have NaN, in the TotalCharges column, I am going to assume that they have not received a bill yet. So, it seems safe to fill those NaN values with 0."
   ]
  },
  {
   "cell_type": "code",
   "execution_count": 622,
   "id": "148ac412-c9eb-4aaf-a3be-b51c6356fca3",
   "metadata": {},
   "outputs": [],
   "source": [
    "contract['TotalCharges'] = contract['TotalCharges'].fillna(0)"
   ]
  },
  {
   "cell_type": "code",
   "execution_count": 624,
   "id": "9c20fe8a-254d-49e2-bf3e-87a25f7c4b66",
   "metadata": {},
   "outputs": [
    {
     "name": "stdout",
     "output_type": "stream",
     "text": [
      "Count of NaN values in each column for contract dataset:\n",
      "customerID          0\n",
      "BeginDate           0\n",
      "EndDate             0\n",
      "Type                0\n",
      "PaperlessBilling    0\n",
      "PaymentMethod       0\n",
      "MonthlyCharges      0\n",
      "TotalCharges        0\n",
      "dtype: int64\n"
     ]
    }
   ],
   "source": [
    "contract_nan_counts = contract.isnull().sum()\n",
    "print(\"Count of NaN values in each column for contract dataset:\")\n",
    "print(contract_nan_counts)"
   ]
  },
  {
   "cell_type": "markdown",
   "id": "908da6d6-d76a-4db5-ba48-95313ac853c6",
   "metadata": {},
   "source": [
    "- <span style=\"color: blue; font-size: 18px;\"><strong>examine internet dataset</strong></span>"
   ]
  },
  {
   "cell_type": "code",
   "execution_count": 627,
   "id": "372171f9-4fc6-4040-b15a-ff0a6eeeabff",
   "metadata": {},
   "outputs": [
    {
     "name": "stdout",
     "output_type": "stream",
     "text": [
      "<class 'pandas.core.frame.DataFrame'>\n",
      "RangeIndex: 5517 entries, 0 to 5516\n",
      "Data columns (total 8 columns):\n",
      " #   Column            Non-Null Count  Dtype \n",
      "---  ------            --------------  ----- \n",
      " 0   customerID        5517 non-null   object\n",
      " 1   InternetService   5517 non-null   object\n",
      " 2   OnlineSecurity    5517 non-null   object\n",
      " 3   OnlineBackup      5517 non-null   object\n",
      " 4   DeviceProtection  5517 non-null   object\n",
      " 5   TechSupport       5517 non-null   object\n",
      " 6   StreamingTV       5517 non-null   object\n",
      " 7   StreamingMovies   5517 non-null   object\n",
      "dtypes: object(8)\n",
      "memory usage: 344.9+ KB\n"
     ]
    }
   ],
   "source": [
    "internet.info()"
   ]
  },
  {
   "cell_type": "markdown",
   "id": "e90965a2-49cc-42fc-a294-3d5d6f77de91",
   "metadata": {},
   "source": [
    "- <span style=\"color: blue; font-size: 14px;\"><strong>examine InternetService column</strong></span>"
   ]
  },
  {
   "cell_type": "code",
   "execution_count": 630,
   "id": "c407153a-5c7b-47ce-ada3-62bb061733ab",
   "metadata": {},
   "outputs": [
    {
     "data": {
      "text/plain": [
       "InternetService\n",
       "Fiber optic    3096\n",
       "DSL            2421\n",
       "Name: count, dtype: int64"
      ]
     },
     "execution_count": 630,
     "metadata": {},
     "output_type": "execute_result"
    }
   ],
   "source": [
    "internet['InternetService'].value_counts()"
   ]
  },
  {
   "cell_type": "code",
   "execution_count": 632,
   "id": "5043b27d-9e81-47f2-980f-6b1938c50137",
   "metadata": {},
   "outputs": [],
   "source": [
    "internet_service_mapping = {\n",
    "    'Fiber optic': 1,\n",
    "    'DSL': 0\n",
    "}"
   ]
  },
  {
   "cell_type": "code",
   "execution_count": 634,
   "id": "8bd9380f-ee66-40e0-8322-ddfa8e1078ce",
   "metadata": {},
   "outputs": [],
   "source": [
    "internet['InternetService'] = internet['InternetService'].map(internet_service_mapping)"
   ]
  },
  {
   "cell_type": "code",
   "execution_count": 636,
   "id": "afa14625-2a2e-4c8e-bea8-46042ce4a8e6",
   "metadata": {},
   "outputs": [
    {
     "data": {
      "text/plain": [
       "dtype('int64')"
      ]
     },
     "execution_count": 636,
     "metadata": {},
     "output_type": "execute_result"
    }
   ],
   "source": [
    "internet['InternetService'].dtype"
   ]
  },
  {
   "cell_type": "markdown",
   "id": "d37a0255-d2a3-4e1a-863e-29983fd3e3c4",
   "metadata": {},
   "source": [
    "- <span style=\"color: blue; font-size: 14px;\"><strong>examine OnlineSecurity column</strong></span>"
   ]
  },
  {
   "cell_type": "code",
   "execution_count": 639,
   "id": "b666ea68-9e03-47d4-9d5b-152e9347412d",
   "metadata": {},
   "outputs": [
    {
     "data": {
      "text/plain": [
       "OnlineSecurity\n",
       "No     3498\n",
       "Yes    2019\n",
       "Name: count, dtype: int64"
      ]
     },
     "execution_count": 639,
     "metadata": {},
     "output_type": "execute_result"
    }
   ],
   "source": [
    "internet['OnlineSecurity'].value_counts()"
   ]
  },
  {
   "cell_type": "code",
   "execution_count": 641,
   "id": "ce82b934-409b-461e-a198-3d13e0c8ed2b",
   "metadata": {},
   "outputs": [],
   "source": [
    "#Convert to boolean\n",
    "internet['OnlineSecurity'] = internet['OnlineSecurity'].map({'Yes': 1, 'No': 0})"
   ]
  },
  {
   "cell_type": "code",
   "execution_count": 643,
   "id": "56cc4717-b956-4233-af64-8705947bad7c",
   "metadata": {},
   "outputs": [
    {
     "data": {
      "text/plain": [
       "dtype('int64')"
      ]
     },
     "execution_count": 643,
     "metadata": {},
     "output_type": "execute_result"
    }
   ],
   "source": [
    "internet['OnlineSecurity'].dtype"
   ]
  },
  {
   "cell_type": "markdown",
   "id": "f54074fb-521c-4f78-9505-059b53292e4a",
   "metadata": {},
   "source": [
    "- <span style=\"color: blue; font-size: 14px;\"><strong>examine OnlineBackup column</strong></span>"
   ]
  },
  {
   "cell_type": "code",
   "execution_count": 646,
   "id": "d50c6a5a-f6e0-43fe-9546-f7c4a2c8a4e6",
   "metadata": {},
   "outputs": [
    {
     "data": {
      "text/plain": [
       "OnlineBackup\n",
       "No     3088\n",
       "Yes    2429\n",
       "Name: count, dtype: int64"
      ]
     },
     "execution_count": 646,
     "metadata": {},
     "output_type": "execute_result"
    }
   ],
   "source": [
    "internet.OnlineBackup.value_counts()"
   ]
  },
  {
   "cell_type": "code",
   "execution_count": 648,
   "id": "01af061c-c1ca-41b1-952b-527805d04513",
   "metadata": {},
   "outputs": [],
   "source": [
    "# Convert 'OnlineBackup' column to boolean type\n",
    "internet['OnlineBackup'] = internet['OnlineBackup'].map({'Yes': 1, 'No': 0})"
   ]
  },
  {
   "cell_type": "code",
   "execution_count": 650,
   "id": "bda5d2f5-14ea-4756-a17f-f135f491ea4e",
   "metadata": {},
   "outputs": [
    {
     "data": {
      "text/plain": [
       "dtype('int64')"
      ]
     },
     "execution_count": 650,
     "metadata": {},
     "output_type": "execute_result"
    }
   ],
   "source": [
    "internet['OnlineBackup'].dtype"
   ]
  },
  {
   "cell_type": "markdown",
   "id": "4a8ae398-1046-4e0e-b7fb-1fada2c3b85a",
   "metadata": {},
   "source": [
    "- <span style=\"color: blue; font-size: 14px;\"><strong>examine DeviceProtection column</strong></span>"
   ]
  },
  {
   "cell_type": "code",
   "execution_count": 653,
   "id": "6a61d879-8b53-4ad9-87ee-250f66f39ec0",
   "metadata": {},
   "outputs": [
    {
     "data": {
      "text/plain": [
       "DeviceProtection\n",
       "No     3095\n",
       "Yes    2422\n",
       "Name: count, dtype: int64"
      ]
     },
     "execution_count": 653,
     "metadata": {},
     "output_type": "execute_result"
    }
   ],
   "source": [
    "internet.DeviceProtection.value_counts()"
   ]
  },
  {
   "cell_type": "code",
   "execution_count": 655,
   "id": "cd8e1184-e19f-4b5b-80a3-ca35c6deeaf3",
   "metadata": {},
   "outputs": [],
   "source": [
    "internet['DeviceProtection'] = internet['DeviceProtection'].map({'Yes': 1, 'No': 0})"
   ]
  },
  {
   "cell_type": "code",
   "execution_count": 657,
   "id": "13d64c6a-b48f-4c97-a6ce-ecce7808d0e6",
   "metadata": {},
   "outputs": [
    {
     "data": {
      "text/plain": [
       "DeviceProtection\n",
       "0    3095\n",
       "1    2422\n",
       "Name: count, dtype: int64"
      ]
     },
     "execution_count": 657,
     "metadata": {},
     "output_type": "execute_result"
    }
   ],
   "source": [
    "internet.DeviceProtection.value_counts()"
   ]
  },
  {
   "cell_type": "code",
   "execution_count": 659,
   "id": "3c53a22a-7e5a-4cf4-9909-100aa97f10ac",
   "metadata": {},
   "outputs": [
    {
     "data": {
      "text/plain": [
       "dtype('int64')"
      ]
     },
     "execution_count": 659,
     "metadata": {},
     "output_type": "execute_result"
    }
   ],
   "source": [
    "internet['DeviceProtection'].dtype"
   ]
  },
  {
   "cell_type": "markdown",
   "id": "760ef1ae-1b7e-4bed-9ef7-df813be001f6",
   "metadata": {},
   "source": [
    "- <span style=\"color: blue; font-size: 14px;\"><strong>examine TechSupport column</strong></span>"
   ]
  },
  {
   "cell_type": "code",
   "execution_count": 662,
   "id": "7975213f-5fb8-4ed0-85ea-f90db78dc3a7",
   "metadata": {},
   "outputs": [
    {
     "data": {
      "text/plain": [
       "TechSupport\n",
       "No     3473\n",
       "Yes    2044\n",
       "Name: count, dtype: int64"
      ]
     },
     "execution_count": 662,
     "metadata": {},
     "output_type": "execute_result"
    }
   ],
   "source": [
    "internet.TechSupport.value_counts()"
   ]
  },
  {
   "cell_type": "code",
   "execution_count": 664,
   "id": "16fee545-d672-41e5-8f55-b91e0c94a13e",
   "metadata": {},
   "outputs": [],
   "source": [
    "internet['TechSupport'] = internet['TechSupport'].map({'Yes': 1, 'No': 0})"
   ]
  },
  {
   "cell_type": "code",
   "execution_count": 666,
   "id": "7bce8728-848b-45ce-a561-0a91a25e4dfc",
   "metadata": {},
   "outputs": [
    {
     "data": {
      "text/plain": [
       "TechSupport\n",
       "0    3473\n",
       "1    2044\n",
       "Name: count, dtype: int64"
      ]
     },
     "execution_count": 666,
     "metadata": {},
     "output_type": "execute_result"
    }
   ],
   "source": [
    "internet.TechSupport.value_counts()"
   ]
  },
  {
   "cell_type": "code",
   "execution_count": 668,
   "id": "6646fd4e-27bc-444a-8438-88daeedf1e5a",
   "metadata": {},
   "outputs": [
    {
     "data": {
      "text/plain": [
       "dtype('int64')"
      ]
     },
     "execution_count": 668,
     "metadata": {},
     "output_type": "execute_result"
    }
   ],
   "source": [
    "internet['TechSupport'].dtype"
   ]
  },
  {
   "cell_type": "markdown",
   "id": "d7d4e0a5-1cbe-44ec-bba8-b69c0539fa57",
   "metadata": {},
   "source": [
    "- <span style=\"color: blue; font-size: 14px;\"><strong>examine StreamingTV column</strong></span>"
   ]
  },
  {
   "cell_type": "code",
   "execution_count": 671,
   "id": "cbfa36e5-8d17-44c4-a083-609182b4c7df",
   "metadata": {},
   "outputs": [
    {
     "data": {
      "text/plain": [
       "StreamingTV\n",
       "No     2810\n",
       "Yes    2707\n",
       "Name: count, dtype: int64"
      ]
     },
     "execution_count": 671,
     "metadata": {},
     "output_type": "execute_result"
    }
   ],
   "source": [
    "internet.StreamingTV.value_counts()"
   ]
  },
  {
   "cell_type": "code",
   "execution_count": 673,
   "id": "e97a50ce-a66c-4b33-ba16-a30d9d8a372d",
   "metadata": {},
   "outputs": [],
   "source": [
    "internet['StreamingTV'] = internet['StreamingTV'].map({'Yes': 1, 'No': 0})"
   ]
  },
  {
   "cell_type": "code",
   "execution_count": 675,
   "id": "c59d1179-b5ca-4496-92d1-b756b3bc7555",
   "metadata": {},
   "outputs": [
    {
     "data": {
      "text/plain": [
       "StreamingTV\n",
       "0    2810\n",
       "1    2707\n",
       "Name: count, dtype: int64"
      ]
     },
     "execution_count": 675,
     "metadata": {},
     "output_type": "execute_result"
    }
   ],
   "source": [
    "internet['StreamingTV'].value_counts()"
   ]
  },
  {
   "cell_type": "code",
   "execution_count": 677,
   "id": "7c6ceab5-5a0a-4028-8216-53f1938d3bfa",
   "metadata": {},
   "outputs": [
    {
     "data": {
      "text/plain": [
       "dtype('int64')"
      ]
     },
     "execution_count": 677,
     "metadata": {},
     "output_type": "execute_result"
    }
   ],
   "source": [
    "internet['StreamingTV'].dtype"
   ]
  },
  {
   "cell_type": "markdown",
   "id": "416d8d22-3108-4dd4-badb-3a10c713c00a",
   "metadata": {},
   "source": [
    "- <span style=\"color: blue; font-size: 14px;\"><strong>examine StreamingMovies column</strong></span>"
   ]
  },
  {
   "cell_type": "code",
   "execution_count": 680,
   "id": "cb861d87-da93-43ec-9486-eedd4cdcd97e",
   "metadata": {},
   "outputs": [
    {
     "data": {
      "text/plain": [
       "StreamingMovies\n",
       "No     2785\n",
       "Yes    2732\n",
       "Name: count, dtype: int64"
      ]
     },
     "execution_count": 680,
     "metadata": {},
     "output_type": "execute_result"
    }
   ],
   "source": [
    "internet.StreamingMovies.value_counts()"
   ]
  },
  {
   "cell_type": "code",
   "execution_count": 682,
   "id": "6292bff4-1dfc-4c27-af47-fddac8defcb0",
   "metadata": {},
   "outputs": [],
   "source": [
    "internet['StreamingMovies'] = internet['StreamingMovies'].map({'Yes': 1, 'No': 0})"
   ]
  },
  {
   "cell_type": "code",
   "execution_count": 684,
   "id": "43644e45-a22f-4a04-a393-814faa426b4a",
   "metadata": {},
   "outputs": [
    {
     "data": {
      "text/plain": [
       "StreamingMovies\n",
       "0    2785\n",
       "1    2732\n",
       "Name: count, dtype: int64"
      ]
     },
     "execution_count": 684,
     "metadata": {},
     "output_type": "execute_result"
    }
   ],
   "source": [
    "internet['StreamingMovies'].value_counts()"
   ]
  },
  {
   "cell_type": "code",
   "execution_count": 686,
   "id": "70215e2e-b335-4e17-83d0-7bf561103bc0",
   "metadata": {},
   "outputs": [
    {
     "data": {
      "text/plain": [
       "dtype('int64')"
      ]
     },
     "execution_count": 686,
     "metadata": {},
     "output_type": "execute_result"
    }
   ],
   "source": [
    "internet['StreamingMovies'].dtype"
   ]
  },
  {
   "cell_type": "markdown",
   "id": "80f34c04-56fe-4c37-89c6-938667580562",
   "metadata": {},
   "source": [
    "- <span style=\"color: blue; font-size: 14px;\"><strong>double check data types of internet dataset:</strong></span>"
   ]
  },
  {
   "cell_type": "code",
   "execution_count": 689,
   "id": "ba1a8208-5e3c-4fb3-8436-a4164f9b997b",
   "metadata": {},
   "outputs": [
    {
     "name": "stdout",
     "output_type": "stream",
     "text": [
      "<class 'pandas.core.frame.DataFrame'>\n",
      "RangeIndex: 5517 entries, 0 to 5516\n",
      "Data columns (total 8 columns):\n",
      " #   Column            Non-Null Count  Dtype \n",
      "---  ------            --------------  ----- \n",
      " 0   customerID        5517 non-null   object\n",
      " 1   InternetService   5517 non-null   int64 \n",
      " 2   OnlineSecurity    5517 non-null   int64 \n",
      " 3   OnlineBackup      5517 non-null   int64 \n",
      " 4   DeviceProtection  5517 non-null   int64 \n",
      " 5   TechSupport       5517 non-null   int64 \n",
      " 6   StreamingTV       5517 non-null   int64 \n",
      " 7   StreamingMovies   5517 non-null   int64 \n",
      "dtypes: int64(7), object(1)\n",
      "memory usage: 344.9+ KB\n"
     ]
    }
   ],
   "source": [
    "internet.info()"
   ]
  },
  {
   "cell_type": "code",
   "execution_count": 691,
   "id": "dd2e6d3c-a1dd-4b0c-932e-72b8e9c2725a",
   "metadata": {},
   "outputs": [
    {
     "name": "stdout",
     "output_type": "stream",
     "text": [
      "Count of NaN values in each column for internet dataset:\n",
      "customerID          0\n",
      "InternetService     0\n",
      "OnlineSecurity      0\n",
      "OnlineBackup        0\n",
      "DeviceProtection    0\n",
      "TechSupport         0\n",
      "StreamingTV         0\n",
      "StreamingMovies     0\n",
      "dtype: int64\n"
     ]
    }
   ],
   "source": [
    "internet_nan_counts = internet.isnull().sum()\n",
    "print(\"Count of NaN values in each column for internet dataset:\")\n",
    "print(internet_nan_counts)"
   ]
  },
  {
   "cell_type": "markdown",
   "id": "c7cac15b-b10f-4d86-9943-0da9901ae90b",
   "metadata": {},
   "source": [
    "- <span style=\"color: blue; font-size: 18px;\"><strong>examine personal dataset</strong></span>"
   ]
  },
  {
   "cell_type": "code",
   "execution_count": 694,
   "id": "7811631b-2690-479e-8e6a-327b3d5deea7",
   "metadata": {},
   "outputs": [
    {
     "name": "stdout",
     "output_type": "stream",
     "text": [
      "<class 'pandas.core.frame.DataFrame'>\n",
      "RangeIndex: 7043 entries, 0 to 7042\n",
      "Data columns (total 5 columns):\n",
      " #   Column         Non-Null Count  Dtype \n",
      "---  ------         --------------  ----- \n",
      " 0   customerID     7043 non-null   object\n",
      " 1   gender         7043 non-null   object\n",
      " 2   SeniorCitizen  7043 non-null   int64 \n",
      " 3   Partner        7043 non-null   object\n",
      " 4   Dependents     7043 non-null   object\n",
      "dtypes: int64(1), object(4)\n",
      "memory usage: 275.2+ KB\n"
     ]
    }
   ],
   "source": [
    "personal.info()"
   ]
  },
  {
   "cell_type": "markdown",
   "id": "333b1e5e-df3a-4994-95cb-99c04141c0e9",
   "metadata": {},
   "source": [
    "- <span style=\"color: blue; font-size: 14px;\"><strong>examine gender column</strong></span>"
   ]
  },
  {
   "cell_type": "code",
   "execution_count": 697,
   "id": "0d30c508-2c1c-42a7-b1cf-bc1fc69f237e",
   "metadata": {},
   "outputs": [
    {
     "data": {
      "text/plain": [
       "gender\n",
       "Male      3555\n",
       "Female    3488\n",
       "Name: count, dtype: int64"
      ]
     },
     "execution_count": 697,
     "metadata": {},
     "output_type": "execute_result"
    }
   ],
   "source": [
    "personal.gender.value_counts()"
   ]
  },
  {
   "cell_type": "code",
   "execution_count": 699,
   "id": "e3782adf-ff67-4380-81da-5424690986cd",
   "metadata": {},
   "outputs": [],
   "source": [
    "personal['gender'] = personal['gender'].map({'Male': 1, 'Female': 0})"
   ]
  },
  {
   "cell_type": "code",
   "execution_count": 701,
   "id": "5bebd0bd-d1b0-4492-b84d-8b64e692cf2d",
   "metadata": {},
   "outputs": [
    {
     "data": {
      "text/plain": [
       "gender\n",
       "1    3555\n",
       "0    3488\n",
       "Name: count, dtype: int64"
      ]
     },
     "execution_count": 701,
     "metadata": {},
     "output_type": "execute_result"
    }
   ],
   "source": [
    "personal.gender.value_counts()"
   ]
  },
  {
   "cell_type": "code",
   "execution_count": 703,
   "id": "5082e5f2-9444-4579-a841-b622d82f2277",
   "metadata": {},
   "outputs": [
    {
     "data": {
      "text/plain": [
       "dtype('int64')"
      ]
     },
     "execution_count": 703,
     "metadata": {},
     "output_type": "execute_result"
    }
   ],
   "source": [
    "personal['gender'].dtypes"
   ]
  },
  {
   "cell_type": "markdown",
   "id": "18f63c6c-a569-4c65-97c4-19e4efb853bb",
   "metadata": {},
   "source": [
    "- <span style=\"color: blue; font-size: 14px;\"><strong>examine SeniorCitizen column</strong></span>"
   ]
  },
  {
   "cell_type": "code",
   "execution_count": 706,
   "id": "bcc01df2-73dd-4863-9d29-69fe3f65199b",
   "metadata": {},
   "outputs": [
    {
     "data": {
      "text/plain": [
       "SeniorCitizen\n",
       "0    5901\n",
       "1    1142\n",
       "Name: count, dtype: int64"
      ]
     },
     "execution_count": 706,
     "metadata": {},
     "output_type": "execute_result"
    }
   ],
   "source": [
    "personal.SeniorCitizen.value_counts()"
   ]
  },
  {
   "cell_type": "code",
   "execution_count": 708,
   "id": "36b27fbd-57cf-4e88-8c0b-59b8bdebffef",
   "metadata": {},
   "outputs": [
    {
     "data": {
      "text/plain": [
       "dtype('int64')"
      ]
     },
     "execution_count": 708,
     "metadata": {},
     "output_type": "execute_result"
    }
   ],
   "source": [
    "personal['SeniorCitizen'].dtype"
   ]
  },
  {
   "cell_type": "markdown",
   "id": "be484e79-87a5-44a4-8c42-05b0a75e1db4",
   "metadata": {},
   "source": [
    "- <span style=\"color: blue; font-size: 14px;\"><strong>examine Partner column</strong></span>"
   ]
  },
  {
   "cell_type": "code",
   "execution_count": 711,
   "id": "79ea9fd1-285b-4048-b645-a697f9cf9dc9",
   "metadata": {},
   "outputs": [
    {
     "data": {
      "text/plain": [
       "Partner\n",
       "No     3641\n",
       "Yes    3402\n",
       "Name: count, dtype: int64"
      ]
     },
     "execution_count": 711,
     "metadata": {},
     "output_type": "execute_result"
    }
   ],
   "source": [
    "personal.Partner.value_counts()"
   ]
  },
  {
   "cell_type": "code",
   "execution_count": 713,
   "id": "1643860e-ac3b-4e21-93b6-c8e4e43746a1",
   "metadata": {},
   "outputs": [],
   "source": [
    "personal['Partner'] = personal['Partner'].map({'Yes': 1, 'No': 0})"
   ]
  },
  {
   "cell_type": "code",
   "execution_count": 715,
   "id": "b233e995-debd-41f4-b709-3ec9c657c7d3",
   "metadata": {},
   "outputs": [
    {
     "data": {
      "text/plain": [
       "Partner\n",
       "0    3641\n",
       "1    3402\n",
       "Name: count, dtype: int64"
      ]
     },
     "execution_count": 715,
     "metadata": {},
     "output_type": "execute_result"
    }
   ],
   "source": [
    "personal.Partner.value_counts()"
   ]
  },
  {
   "cell_type": "code",
   "execution_count": 717,
   "id": "ab85bd68-2da0-4390-8726-e0b27eb4a88c",
   "metadata": {},
   "outputs": [
    {
     "data": {
      "text/plain": [
       "dtype('int64')"
      ]
     },
     "execution_count": 717,
     "metadata": {},
     "output_type": "execute_result"
    }
   ],
   "source": [
    "personal['Partner'].dtype"
   ]
  },
  {
   "cell_type": "markdown",
   "id": "78f51159-752e-44ae-ad02-43dd9208f89c",
   "metadata": {},
   "source": [
    "- <span style=\"color: blue; font-size: 14px;\"><strong>examine Dependents column</strong></span>"
   ]
  },
  {
   "cell_type": "code",
   "execution_count": 720,
   "id": "7ea33720-e433-4d86-ac79-97dd98ce9733",
   "metadata": {},
   "outputs": [
    {
     "data": {
      "text/plain": [
       "Dependents\n",
       "No     4933\n",
       "Yes    2110\n",
       "Name: count, dtype: int64"
      ]
     },
     "execution_count": 720,
     "metadata": {},
     "output_type": "execute_result"
    }
   ],
   "source": [
    "personal.Dependents.value_counts()"
   ]
  },
  {
   "cell_type": "code",
   "execution_count": 722,
   "id": "e89e6af6-f3a9-4dbe-a4c8-06ac3a48c13d",
   "metadata": {},
   "outputs": [],
   "source": [
    "personal['Dependents'] = personal['Dependents'].map({'Yes': 1, 'No': 0})"
   ]
  },
  {
   "cell_type": "code",
   "execution_count": 724,
   "id": "87153c5f-ae91-4464-aab8-77e9fdd4b923",
   "metadata": {},
   "outputs": [
    {
     "data": {
      "text/plain": [
       "Dependents\n",
       "0    4933\n",
       "1    2110\n",
       "Name: count, dtype: int64"
      ]
     },
     "execution_count": 724,
     "metadata": {},
     "output_type": "execute_result"
    }
   ],
   "source": [
    "personal.Dependents.value_counts()"
   ]
  },
  {
   "cell_type": "code",
   "execution_count": 726,
   "id": "ea6a770b-7daf-4ea5-9e43-f7a892779e4b",
   "metadata": {},
   "outputs": [
    {
     "data": {
      "text/plain": [
       "dtype('int64')"
      ]
     },
     "execution_count": 726,
     "metadata": {},
     "output_type": "execute_result"
    }
   ],
   "source": [
    "personal['Partner'].dtype"
   ]
  },
  {
   "cell_type": "markdown",
   "id": "846d4d51-9dce-4d9c-b646-c471446d14f2",
   "metadata": {},
   "source": [
    "- <span style=\"color: blue; font-size: 14px;\"><strong>double check the data types in the personal dataset:</strong></span>"
   ]
  },
  {
   "cell_type": "code",
   "execution_count": 729,
   "id": "e1cd7999-b31d-42a2-aa89-ce4243765c50",
   "metadata": {},
   "outputs": [
    {
     "name": "stdout",
     "output_type": "stream",
     "text": [
      "<class 'pandas.core.frame.DataFrame'>\n",
      "RangeIndex: 7043 entries, 0 to 7042\n",
      "Data columns (total 5 columns):\n",
      " #   Column         Non-Null Count  Dtype \n",
      "---  ------         --------------  ----- \n",
      " 0   customerID     7043 non-null   object\n",
      " 1   gender         7043 non-null   int64 \n",
      " 2   SeniorCitizen  7043 non-null   int64 \n",
      " 3   Partner        7043 non-null   int64 \n",
      " 4   Dependents     7043 non-null   int64 \n",
      "dtypes: int64(4), object(1)\n",
      "memory usage: 275.2+ KB\n"
     ]
    }
   ],
   "source": [
    "personal.info()"
   ]
  },
  {
   "cell_type": "code",
   "execution_count": 731,
   "id": "2a50ad61-3f7b-4413-a66d-eeb4830bf01a",
   "metadata": {},
   "outputs": [
    {
     "name": "stdout",
     "output_type": "stream",
     "text": [
      "Count of NaN values in each column for personal dataset:\n",
      "customerID       0\n",
      "gender           0\n",
      "SeniorCitizen    0\n",
      "Partner          0\n",
      "Dependents       0\n",
      "dtype: int64\n"
     ]
    }
   ],
   "source": [
    "personal_nan_counts = personal.isnull().sum()\n",
    "print(\"Count of NaN values in each column for personal dataset:\")\n",
    "print(personal_nan_counts)"
   ]
  },
  {
   "cell_type": "markdown",
   "id": "1f54c2de-282c-4f2f-89ba-5de442ccb8da",
   "metadata": {},
   "source": [
    "- <span style=\"color: blue; font-size: 18px;\"><strong>examine phone dataset</strong></span>"
   ]
  },
  {
   "cell_type": "code",
   "execution_count": 734,
   "id": "0484673f-32aa-4f5b-825d-b7dee8426e68",
   "metadata": {},
   "outputs": [
    {
     "name": "stdout",
     "output_type": "stream",
     "text": [
      "<class 'pandas.core.frame.DataFrame'>\n",
      "RangeIndex: 6361 entries, 0 to 6360\n",
      "Data columns (total 2 columns):\n",
      " #   Column         Non-Null Count  Dtype \n",
      "---  ------         --------------  ----- \n",
      " 0   customerID     6361 non-null   object\n",
      " 1   MultipleLines  6361 non-null   object\n",
      "dtypes: object(2)\n",
      "memory usage: 99.5+ KB\n"
     ]
    }
   ],
   "source": [
    "phone.info()"
   ]
  },
  {
   "cell_type": "markdown",
   "id": "2013d2ba-a2b8-4bd9-ac51-a5a5af340892",
   "metadata": {},
   "source": [
    "- <span style=\"color: blue; font-size: 14px;\"><strong>examine MultipleLines column</strong></span>"
   ]
  },
  {
   "cell_type": "code",
   "execution_count": 737,
   "id": "04d4222f-663c-4bcf-a4c9-d3e2611c35bb",
   "metadata": {},
   "outputs": [
    {
     "data": {
      "text/plain": [
       "MultipleLines\n",
       "No     3390\n",
       "Yes    2971\n",
       "Name: count, dtype: int64"
      ]
     },
     "execution_count": 737,
     "metadata": {},
     "output_type": "execute_result"
    }
   ],
   "source": [
    "phone.MultipleLines.value_counts()"
   ]
  },
  {
   "cell_type": "code",
   "execution_count": 739,
   "id": "25335157-2d13-4cb1-b78b-c83bf9e9b931",
   "metadata": {},
   "outputs": [],
   "source": [
    "phone['MultipleLines'] = phone['MultipleLines'].map({'No': 0, 'Yes': 1})"
   ]
  },
  {
   "cell_type": "code",
   "execution_count": 741,
   "id": "c52a1804-da23-4f61-afe9-73904f38dc53",
   "metadata": {},
   "outputs": [
    {
     "data": {
      "text/plain": [
       "dtype('int64')"
      ]
     },
     "execution_count": 741,
     "metadata": {},
     "output_type": "execute_result"
    }
   ],
   "source": [
    "phone['MultipleLines'].dtype"
   ]
  },
  {
   "cell_type": "markdown",
   "id": "5c20086c-1d41-4d25-8e8c-f53cc6294490",
   "metadata": {},
   "source": [
    "- <span style=\"color: blue; font-size: 14px;\"><strong>double check the data types in the phone dataset:</strong></span>"
   ]
  },
  {
   "cell_type": "code",
   "execution_count": 744,
   "id": "3f3b97c1-a12f-46c9-b3b9-1576cdbffca6",
   "metadata": {},
   "outputs": [
    {
     "name": "stdout",
     "output_type": "stream",
     "text": [
      "<class 'pandas.core.frame.DataFrame'>\n",
      "RangeIndex: 6361 entries, 0 to 6360\n",
      "Data columns (total 2 columns):\n",
      " #   Column         Non-Null Count  Dtype \n",
      "---  ------         --------------  ----- \n",
      " 0   customerID     6361 non-null   object\n",
      " 1   MultipleLines  6361 non-null   int64 \n",
      "dtypes: int64(1), object(1)\n",
      "memory usage: 99.5+ KB\n"
     ]
    }
   ],
   "source": [
    "phone.info()"
   ]
  },
  {
   "cell_type": "code",
   "execution_count": 746,
   "id": "c76eafd2-50d9-49a9-b771-c3ded00dea49",
   "metadata": {},
   "outputs": [
    {
     "name": "stdout",
     "output_type": "stream",
     "text": [
      "Count of NaN values in each column for phone dataset:\n",
      "customerID       0\n",
      "MultipleLines    0\n",
      "dtype: int64\n"
     ]
    }
   ],
   "source": [
    "phone_nan_counts = phone.isnull().sum()\n",
    "print(\"Count of NaN values in each column for phone dataset:\")\n",
    "print(phone_nan_counts)"
   ]
  },
  {
   "cell_type": "markdown",
   "id": "8aecbc60-2d58-4036-97af-e500c45167b1",
   "metadata": {},
   "source": [
    "<H2>Merge Dataframes:</H2>"
   ]
  },
  {
   "cell_type": "markdown",
   "id": "a65d90a1-3756-497c-a9b9-60293577f267",
   "metadata": {},
   "source": [
    "- <span style=\"color: blue; font-size: 14px;\"><strong>Add indexes on the customerID columns before merging:</strong></span>"
   ]
  },
  {
   "cell_type": "code",
   "execution_count": 750,
   "id": "cfb7e4d0-d047-4609-8a43-d694a558da50",
   "metadata": {},
   "outputs": [],
   "source": [
    "contract.set_index('customerID', inplace=True)\n",
    "internet.set_index('customerID', inplace=True)\n",
    "personal.set_index('customerID', inplace=True)\n",
    "phone.set_index('customerID', inplace=True)"
   ]
  },
  {
   "cell_type": "code",
   "execution_count": 752,
   "id": "d80209ae-9ea2-4aa4-b606-7308d1177dbc",
   "metadata": {},
   "outputs": [],
   "source": [
    "# Then merge using the indexes\n",
    "merged_df = contract.join([internet, personal, phone], how='outer')"
   ]
  },
  {
   "cell_type": "code",
   "execution_count": 754,
   "id": "0b04ac60-1cfc-4e15-8fed-a88bab0c517d",
   "metadata": {},
   "outputs": [],
   "source": [
    "merged_df.reset_index(inplace=True)"
   ]
  },
  {
   "cell_type": "code",
   "execution_count": 756,
   "id": "7eeda8fd-f5d4-455c-bc15-e8b015a4c88d",
   "metadata": {},
   "outputs": [
    {
     "data": {
      "text/html": [
       "<div>\n",
       "<style scoped>\n",
       "    .dataframe tbody tr th:only-of-type {\n",
       "        vertical-align: middle;\n",
       "    }\n",
       "\n",
       "    .dataframe tbody tr th {\n",
       "        vertical-align: top;\n",
       "    }\n",
       "\n",
       "    .dataframe thead th {\n",
       "        text-align: right;\n",
       "    }\n",
       "</style>\n",
       "<table border=\"1\" class=\"dataframe\">\n",
       "  <thead>\n",
       "    <tr style=\"text-align: right;\">\n",
       "      <th></th>\n",
       "      <th>customerID</th>\n",
       "      <th>BeginDate</th>\n",
       "      <th>EndDate</th>\n",
       "      <th>Type</th>\n",
       "      <th>PaperlessBilling</th>\n",
       "      <th>PaymentMethod</th>\n",
       "      <th>MonthlyCharges</th>\n",
       "      <th>TotalCharges</th>\n",
       "      <th>InternetService</th>\n",
       "      <th>OnlineSecurity</th>\n",
       "      <th>OnlineBackup</th>\n",
       "      <th>DeviceProtection</th>\n",
       "      <th>TechSupport</th>\n",
       "      <th>StreamingTV</th>\n",
       "      <th>StreamingMovies</th>\n",
       "      <th>gender</th>\n",
       "      <th>SeniorCitizen</th>\n",
       "      <th>Partner</th>\n",
       "      <th>Dependents</th>\n",
       "      <th>MultipleLines</th>\n",
       "    </tr>\n",
       "  </thead>\n",
       "  <tbody>\n",
       "    <tr>\n",
       "      <th>0</th>\n",
       "      <td>7590-VHVEG</td>\n",
       "      <td>2020-01-01</td>\n",
       "      <td>0</td>\n",
       "      <td>0</td>\n",
       "      <td>1</td>\n",
       "      <td>0</td>\n",
       "      <td>29.85</td>\n",
       "      <td>29.85</td>\n",
       "      <td>0.0</td>\n",
       "      <td>0.0</td>\n",
       "      <td>1.0</td>\n",
       "      <td>0.0</td>\n",
       "      <td>0.0</td>\n",
       "      <td>0.0</td>\n",
       "      <td>0.0</td>\n",
       "      <td>0</td>\n",
       "      <td>0</td>\n",
       "      <td>1</td>\n",
       "      <td>0</td>\n",
       "      <td>NaN</td>\n",
       "    </tr>\n",
       "    <tr>\n",
       "      <th>1</th>\n",
       "      <td>5575-GNVDE</td>\n",
       "      <td>2017-04-01</td>\n",
       "      <td>0</td>\n",
       "      <td>1</td>\n",
       "      <td>0</td>\n",
       "      <td>1</td>\n",
       "      <td>56.95</td>\n",
       "      <td>1889.50</td>\n",
       "      <td>0.0</td>\n",
       "      <td>1.0</td>\n",
       "      <td>0.0</td>\n",
       "      <td>1.0</td>\n",
       "      <td>0.0</td>\n",
       "      <td>0.0</td>\n",
       "      <td>0.0</td>\n",
       "      <td>1</td>\n",
       "      <td>0</td>\n",
       "      <td>0</td>\n",
       "      <td>0</td>\n",
       "      <td>0.0</td>\n",
       "    </tr>\n",
       "    <tr>\n",
       "      <th>2</th>\n",
       "      <td>3668-QPYBK</td>\n",
       "      <td>2019-10-01</td>\n",
       "      <td>1</td>\n",
       "      <td>0</td>\n",
       "      <td>1</td>\n",
       "      <td>1</td>\n",
       "      <td>53.85</td>\n",
       "      <td>108.15</td>\n",
       "      <td>0.0</td>\n",
       "      <td>1.0</td>\n",
       "      <td>1.0</td>\n",
       "      <td>0.0</td>\n",
       "      <td>0.0</td>\n",
       "      <td>0.0</td>\n",
       "      <td>0.0</td>\n",
       "      <td>1</td>\n",
       "      <td>0</td>\n",
       "      <td>0</td>\n",
       "      <td>0</td>\n",
       "      <td>0.0</td>\n",
       "    </tr>\n",
       "    <tr>\n",
       "      <th>3</th>\n",
       "      <td>7795-CFOCW</td>\n",
       "      <td>2016-05-01</td>\n",
       "      <td>0</td>\n",
       "      <td>1</td>\n",
       "      <td>0</td>\n",
       "      <td>2</td>\n",
       "      <td>42.30</td>\n",
       "      <td>1840.75</td>\n",
       "      <td>0.0</td>\n",
       "      <td>1.0</td>\n",
       "      <td>0.0</td>\n",
       "      <td>1.0</td>\n",
       "      <td>1.0</td>\n",
       "      <td>0.0</td>\n",
       "      <td>0.0</td>\n",
       "      <td>1</td>\n",
       "      <td>0</td>\n",
       "      <td>0</td>\n",
       "      <td>0</td>\n",
       "      <td>NaN</td>\n",
       "    </tr>\n",
       "    <tr>\n",
       "      <th>4</th>\n",
       "      <td>9237-HQITU</td>\n",
       "      <td>2019-09-01</td>\n",
       "      <td>1</td>\n",
       "      <td>0</td>\n",
       "      <td>1</td>\n",
       "      <td>0</td>\n",
       "      <td>70.70</td>\n",
       "      <td>151.65</td>\n",
       "      <td>1.0</td>\n",
       "      <td>0.0</td>\n",
       "      <td>0.0</td>\n",
       "      <td>0.0</td>\n",
       "      <td>0.0</td>\n",
       "      <td>0.0</td>\n",
       "      <td>0.0</td>\n",
       "      <td>0</td>\n",
       "      <td>0</td>\n",
       "      <td>0</td>\n",
       "      <td>0</td>\n",
       "      <td>0.0</td>\n",
       "    </tr>\n",
       "    <tr>\n",
       "      <th>5</th>\n",
       "      <td>9305-CDSKC</td>\n",
       "      <td>2019-03-01</td>\n",
       "      <td>1</td>\n",
       "      <td>0</td>\n",
       "      <td>1</td>\n",
       "      <td>0</td>\n",
       "      <td>99.65</td>\n",
       "      <td>820.50</td>\n",
       "      <td>1.0</td>\n",
       "      <td>0.0</td>\n",
       "      <td>0.0</td>\n",
       "      <td>1.0</td>\n",
       "      <td>0.0</td>\n",
       "      <td>1.0</td>\n",
       "      <td>1.0</td>\n",
       "      <td>0</td>\n",
       "      <td>0</td>\n",
       "      <td>0</td>\n",
       "      <td>0</td>\n",
       "      <td>1.0</td>\n",
       "    </tr>\n",
       "    <tr>\n",
       "      <th>6</th>\n",
       "      <td>1452-KIOVK</td>\n",
       "      <td>2018-04-01</td>\n",
       "      <td>0</td>\n",
       "      <td>0</td>\n",
       "      <td>1</td>\n",
       "      <td>3</td>\n",
       "      <td>89.10</td>\n",
       "      <td>1949.40</td>\n",
       "      <td>1.0</td>\n",
       "      <td>0.0</td>\n",
       "      <td>1.0</td>\n",
       "      <td>0.0</td>\n",
       "      <td>0.0</td>\n",
       "      <td>1.0</td>\n",
       "      <td>0.0</td>\n",
       "      <td>1</td>\n",
       "      <td>0</td>\n",
       "      <td>0</td>\n",
       "      <td>1</td>\n",
       "      <td>1.0</td>\n",
       "    </tr>\n",
       "    <tr>\n",
       "      <th>7</th>\n",
       "      <td>6713-OKOMC</td>\n",
       "      <td>2019-04-01</td>\n",
       "      <td>0</td>\n",
       "      <td>0</td>\n",
       "      <td>0</td>\n",
       "      <td>1</td>\n",
       "      <td>29.75</td>\n",
       "      <td>301.90</td>\n",
       "      <td>0.0</td>\n",
       "      <td>1.0</td>\n",
       "      <td>0.0</td>\n",
       "      <td>0.0</td>\n",
       "      <td>0.0</td>\n",
       "      <td>0.0</td>\n",
       "      <td>0.0</td>\n",
       "      <td>0</td>\n",
       "      <td>0</td>\n",
       "      <td>0</td>\n",
       "      <td>0</td>\n",
       "      <td>NaN</td>\n",
       "    </tr>\n",
       "    <tr>\n",
       "      <th>8</th>\n",
       "      <td>7892-POOKP</td>\n",
       "      <td>2017-07-01</td>\n",
       "      <td>1</td>\n",
       "      <td>0</td>\n",
       "      <td>1</td>\n",
       "      <td>0</td>\n",
       "      <td>104.80</td>\n",
       "      <td>3046.05</td>\n",
       "      <td>1.0</td>\n",
       "      <td>0.0</td>\n",
       "      <td>0.0</td>\n",
       "      <td>1.0</td>\n",
       "      <td>1.0</td>\n",
       "      <td>1.0</td>\n",
       "      <td>1.0</td>\n",
       "      <td>0</td>\n",
       "      <td>0</td>\n",
       "      <td>1</td>\n",
       "      <td>0</td>\n",
       "      <td>1.0</td>\n",
       "    </tr>\n",
       "    <tr>\n",
       "      <th>9</th>\n",
       "      <td>6388-TABGU</td>\n",
       "      <td>2014-12-01</td>\n",
       "      <td>0</td>\n",
       "      <td>1</td>\n",
       "      <td>0</td>\n",
       "      <td>2</td>\n",
       "      <td>56.15</td>\n",
       "      <td>3487.95</td>\n",
       "      <td>0.0</td>\n",
       "      <td>1.0</td>\n",
       "      <td>1.0</td>\n",
       "      <td>0.0</td>\n",
       "      <td>0.0</td>\n",
       "      <td>0.0</td>\n",
       "      <td>0.0</td>\n",
       "      <td>1</td>\n",
       "      <td>0</td>\n",
       "      <td>0</td>\n",
       "      <td>1</td>\n",
       "      <td>0.0</td>\n",
       "    </tr>\n",
       "  </tbody>\n",
       "</table>\n",
       "</div>"
      ],
      "text/plain": [
       "   customerID  BeginDate  EndDate Type  PaperlessBilling PaymentMethod  \\\n",
       "0  7590-VHVEG 2020-01-01        0    0                 1             0   \n",
       "1  5575-GNVDE 2017-04-01        0    1                 0             1   \n",
       "2  3668-QPYBK 2019-10-01        1    0                 1             1   \n",
       "3  7795-CFOCW 2016-05-01        0    1                 0             2   \n",
       "4  9237-HQITU 2019-09-01        1    0                 1             0   \n",
       "5  9305-CDSKC 2019-03-01        1    0                 1             0   \n",
       "6  1452-KIOVK 2018-04-01        0    0                 1             3   \n",
       "7  6713-OKOMC 2019-04-01        0    0                 0             1   \n",
       "8  7892-POOKP 2017-07-01        1    0                 1             0   \n",
       "9  6388-TABGU 2014-12-01        0    1                 0             2   \n",
       "\n",
       "   MonthlyCharges  TotalCharges  InternetService  OnlineSecurity  \\\n",
       "0           29.85         29.85              0.0             0.0   \n",
       "1           56.95       1889.50              0.0             1.0   \n",
       "2           53.85        108.15              0.0             1.0   \n",
       "3           42.30       1840.75              0.0             1.0   \n",
       "4           70.70        151.65              1.0             0.0   \n",
       "5           99.65        820.50              1.0             0.0   \n",
       "6           89.10       1949.40              1.0             0.0   \n",
       "7           29.75        301.90              0.0             1.0   \n",
       "8          104.80       3046.05              1.0             0.0   \n",
       "9           56.15       3487.95              0.0             1.0   \n",
       "\n",
       "   OnlineBackup  DeviceProtection  TechSupport  StreamingTV  StreamingMovies  \\\n",
       "0           1.0               0.0          0.0          0.0              0.0   \n",
       "1           0.0               1.0          0.0          0.0              0.0   \n",
       "2           1.0               0.0          0.0          0.0              0.0   \n",
       "3           0.0               1.0          1.0          0.0              0.0   \n",
       "4           0.0               0.0          0.0          0.0              0.0   \n",
       "5           0.0               1.0          0.0          1.0              1.0   \n",
       "6           1.0               0.0          0.0          1.0              0.0   \n",
       "7           0.0               0.0          0.0          0.0              0.0   \n",
       "8           0.0               1.0          1.0          1.0              1.0   \n",
       "9           1.0               0.0          0.0          0.0              0.0   \n",
       "\n",
       "   gender  SeniorCitizen  Partner  Dependents  MultipleLines  \n",
       "0       0              0        1           0            NaN  \n",
       "1       1              0        0           0            0.0  \n",
       "2       1              0        0           0            0.0  \n",
       "3       1              0        0           0            NaN  \n",
       "4       0              0        0           0            0.0  \n",
       "5       0              0        0           0            1.0  \n",
       "6       1              0        0           1            1.0  \n",
       "7       0              0        0           0            NaN  \n",
       "8       0              0        1           0            1.0  \n",
       "9       1              0        0           1            0.0  "
      ]
     },
     "metadata": {},
     "output_type": "display_data"
    }
   ],
   "source": [
    "display(merged_df.head(10)) "
   ]
  },
  {
   "cell_type": "code",
   "execution_count": 758,
   "id": "bc520cf5-854b-42e0-8f19-47e5ef5fd4a1",
   "metadata": {},
   "outputs": [
    {
     "name": "stdout",
     "output_type": "stream",
     "text": [
      "<class 'pandas.core.frame.DataFrame'>\n",
      "RangeIndex: 7043 entries, 0 to 7042\n",
      "Data columns (total 20 columns):\n",
      " #   Column            Non-Null Count  Dtype         \n",
      "---  ------            --------------  -----         \n",
      " 0   customerID        7043 non-null   object        \n",
      " 1   BeginDate         7043 non-null   datetime64[ns]\n",
      " 2   EndDate           7043 non-null   int64         \n",
      " 3   Type              7043 non-null   category      \n",
      " 4   PaperlessBilling  7043 non-null   int64         \n",
      " 5   PaymentMethod     7043 non-null   category      \n",
      " 6   MonthlyCharges    7043 non-null   float64       \n",
      " 7   TotalCharges      7043 non-null   float64       \n",
      " 8   InternetService   5517 non-null   float64       \n",
      " 9   OnlineSecurity    5517 non-null   float64       \n",
      " 10  OnlineBackup      5517 non-null   float64       \n",
      " 11  DeviceProtection  5517 non-null   float64       \n",
      " 12  TechSupport       5517 non-null   float64       \n",
      " 13  StreamingTV       5517 non-null   float64       \n",
      " 14  StreamingMovies   5517 non-null   float64       \n",
      " 15  gender            7043 non-null   int64         \n",
      " 16  SeniorCitizen     7043 non-null   int64         \n",
      " 17  Partner           7043 non-null   int64         \n",
      " 18  Dependents        7043 non-null   int64         \n",
      " 19  MultipleLines     6361 non-null   float64       \n",
      "dtypes: category(2), datetime64[ns](1), float64(10), int64(6), object(1)\n",
      "memory usage: 1004.6+ KB\n"
     ]
    }
   ],
   "source": [
    "merged_df.info()"
   ]
  },
  {
   "cell_type": "markdown",
   "id": "24a6819b-a28f-4328-8dd7-9d1361c298dc",
   "metadata": {},
   "source": [
    "These columns' data types have been altered, after the merge:\n",
    "- MultipleLines\n",
    "- InternetService\n",
    "- OnlineSecurity\n",
    "- OnlineBackup\n",
    "- DeviceProtection\n",
    "- TechSupport\n",
    "- StreamingTV\n",
    "- StreamingMovies\n",
    "They will need to be changed back to type int64."
   ]
  },
  {
   "cell_type": "markdown",
   "id": "8e0f6cb5-b7c0-45cd-8b5d-bf76d4cd6729",
   "metadata": {},
   "source": [
    "- <span style=\"color: blue; font-size: 16px;\"><strong>convert datatypes again</strong></span>"
   ]
  },
  {
   "cell_type": "code",
   "execution_count": 762,
   "id": "499e66ae-ca02-4d26-8dd4-0a97545f576e",
   "metadata": {},
   "outputs": [],
   "source": [
    "# Convert MultipleLines back to int64\n",
    "merged_df['MultipleLines'] = merged_df['MultipleLines'].fillna(0).astype('int64')"
   ]
  },
  {
   "cell_type": "code",
   "execution_count": 764,
   "id": "44dc0871-013a-4567-9347-d9d5126a6a39",
   "metadata": {},
   "outputs": [],
   "source": [
    "columns_to_convert = [\n",
    "    'InternetService',\n",
    "    'OnlineSecurity',\n",
    "    'OnlineBackup',\n",
    "    'DeviceProtection',\n",
    "    'TechSupport',\n",
    "    'StreamingTV',\n",
    "    'StreamingMovies',\n",
    "]"
   ]
  },
  {
   "cell_type": "code",
   "execution_count": 766,
   "id": "c3786e0a-f944-4813-abf5-7127c8863151",
   "metadata": {},
   "outputs": [],
   "source": [
    "for column in columns_to_convert:\n",
    "    merged_df[column] = merged_df[column].fillna(0).astype('int64')"
   ]
  },
  {
   "cell_type": "code",
   "execution_count": 768,
   "id": "d4f812ad-3330-4de0-b83e-fe2a8e666cea",
   "metadata": {},
   "outputs": [
    {
     "name": "stdout",
     "output_type": "stream",
     "text": [
      "<class 'pandas.core.frame.DataFrame'>\n",
      "RangeIndex: 7043 entries, 0 to 7042\n",
      "Data columns (total 20 columns):\n",
      " #   Column            Non-Null Count  Dtype         \n",
      "---  ------            --------------  -----         \n",
      " 0   customerID        7043 non-null   object        \n",
      " 1   BeginDate         7043 non-null   datetime64[ns]\n",
      " 2   EndDate           7043 non-null   int64         \n",
      " 3   Type              7043 non-null   category      \n",
      " 4   PaperlessBilling  7043 non-null   int64         \n",
      " 5   PaymentMethod     7043 non-null   category      \n",
      " 6   MonthlyCharges    7043 non-null   float64       \n",
      " 7   TotalCharges      7043 non-null   float64       \n",
      " 8   InternetService   7043 non-null   int64         \n",
      " 9   OnlineSecurity    7043 non-null   int64         \n",
      " 10  OnlineBackup      7043 non-null   int64         \n",
      " 11  DeviceProtection  7043 non-null   int64         \n",
      " 12  TechSupport       7043 non-null   int64         \n",
      " 13  StreamingTV       7043 non-null   int64         \n",
      " 14  StreamingMovies   7043 non-null   int64         \n",
      " 15  gender            7043 non-null   int64         \n",
      " 16  SeniorCitizen     7043 non-null   int64         \n",
      " 17  Partner           7043 non-null   int64         \n",
      " 18  Dependents        7043 non-null   int64         \n",
      " 19  MultipleLines     7043 non-null   int64         \n",
      "dtypes: category(2), datetime64[ns](1), float64(2), int64(14), object(1)\n",
      "memory usage: 1004.6+ KB\n"
     ]
    }
   ],
   "source": [
    "merged_df.info()"
   ]
  },
  {
   "cell_type": "markdown",
   "id": "208e9366-2ed5-484e-b62a-171dcf12e376",
   "metadata": {},
   "source": [
    "<H2>Data Visualization:</H2>"
   ]
  },
  {
   "cell_type": "markdown",
   "id": "13ae97f3-bc91-41c6-85e8-4fd3a845f97b",
   "metadata": {},
   "source": [
    "- <span style=\"color: blue; font-size: 16px;\"><strong>create a heat map of the merged data set:</strong></span>"
   ]
  },
  {
   "cell_type": "code",
   "execution_count": 772,
   "id": "f3c678fd-c9b2-45f6-bb98-888b2d258e76",
   "metadata": {},
   "outputs": [],
   "source": [
    "# Convert the DataFrame to numeric, coercing errors to NaN\n",
    "numeric_df = merged_df.apply(pd.to_numeric, errors='coerce')"
   ]
  },
  {
   "cell_type": "code",
   "execution_count": 774,
   "id": "ae1b26ba-f1b8-46ee-928e-56540eb45162",
   "metadata": {},
   "outputs": [],
   "source": [
    "correlation_matrix = numeric_df.corr()"
   ]
  },
  {
   "cell_type": "code",
   "execution_count": 776,
   "id": "0bc580fd-c85f-45b4-892e-e6b147dadb36",
   "metadata": {},
   "outputs": [
    {
     "data": {
      "text/plain": [
       "<Figure size 1000x800 with 0 Axes>"
      ]
     },
     "execution_count": 776,
     "metadata": {},
     "output_type": "execute_result"
    },
    {
     "data": {
      "text/plain": [
       "<Figure size 1000x800 with 0 Axes>"
      ]
     },
     "metadata": {},
     "output_type": "display_data"
    }
   ],
   "source": [
    "plt.figure(figsize=(10, 8))"
   ]
  },
  {
   "cell_type": "code",
   "execution_count": 778,
   "id": "fad1bdf0-08e9-4240-9d79-46798cf11fea",
   "metadata": {},
   "outputs": [
    {
     "name": "stderr",
     "output_type": "stream",
     "text": [
      "/Users/wranglerdeb/anaconda3/lib/python3.11/site-packages/seaborn/matrix.py:260: FutureWarning: Format strings passed to MaskedConstant are ignored, but in future may error or produce different behavior\n",
      "  annotation = (\"{:\" + self.fmt + \"}\").format(val)\n"
     ]
    },
    {
     "data": {
      "image/png": "[encoded data removed]",
      "text/plain": [
       "<Figure size 640x480 with 2 Axes>"
      ]
     },
     "metadata": {},
     "output_type": "display_data"
    }
   ],
   "source": [
    "sns.heatmap(correlation_matrix, annot=True, fmt=\".2f\", cmap=\"coolwarm\", vmax=1, vmin=-1)\n",
    "plt.title(\"Heatmap of Merged DataFrame Correlation\")\n",
    "plt.show()"
   ]
  },
  {
   "cell_type": "markdown",
   "id": "d31c1380-a273-4723-9e59-adc767de30f2",
   "metadata": {},
   "source": [
    "The scale goes from -1 to 1.\n",
    "\n",
    "- -1 indicates a perfect negative correlation between two variables. This means that as one variable increases, the other variable decreases.\n",
    "- 0 indicates no correlation. This means changes in one variable do not affect the other.\n",
    "- 1 indicates a perfect positive correlation. This means that both variables increase or decrease together."
   ]
  },
  {
   "cell_type": "markdown",
   "id": "3474ad03-71f4-4bef-92ab-3a7da48f79c6",
   "metadata": {},
   "source": [
    "<b>There is a very strong posive correlation between:</b>\n",
    "- MonthlyCharges and InternetService\n",
    "\n",
    "<b>There is a positive correlation between:</b>\n",
    "- MonthlyCharges and StreamingTV\n",
    "- MonthlyCharges and StreamingMovies\n",
    "- MonthlyCharges and TotalCharges\n",
    "\n",
    "<b>There is a very strong negative correlation between:</b>\n",
    "- Begin Date and Total Monthly Charges\n",
    "- Type (length of contract) and Begin Date\n",
    "\n",
    "<b>As for our taget(EndDate), there is not a strong positive, nor a strong negative correlation, between the other columns.</b>\n",
    "There is a slight positive correlation between:\n",
    "- End Date and Internet Service\n",
    "- End Date and Begin Date\n",
    "\n",
    "There is a slight negative correlation between:\n",
    "- End Date and Type(length of contract)"
   ]
  },
  {
   "cell_type": "markdown",
   "id": "51b46d09-2403-4287-97eb-669ecce387a0",
   "metadata": {},
   "source": [
    "- <span style=\"color: blue; font-size: 16px;\"><strong>create a graph for Senior Citizen vs Monthly Charges:</strong></span>"
   ]
  },
  {
   "cell_type": "code",
   "execution_count": 783,
   "id": "e6a79ba8-dfa5-4cea-9e29-5a135db5d58c",
   "metadata": {},
   "outputs": [],
   "source": [
    "filtered_data = merged_df[merged_df['EndDate'] == False]"
   ]
  },
  {
   "cell_type": "code",
   "execution_count": 785,
   "id": "7fda0478-c821-4d7e-942f-cbd7359f2991",
   "metadata": {},
   "outputs": [
    {
     "name": "stdout",
     "output_type": "stream",
     "text": [
      "SeniorCitizen\n",
      "0    87.127947\n",
      "1    12.872053\n",
      "Name: proportion, dtype: float64\n"
     ]
    }
   ],
   "source": [
    "print(filtered_data['SeniorCitizen'].value_counts(normalize=True) * 100)"
   ]
  },
  {
   "cell_type": "code",
   "execution_count": 787,
   "id": "4168740d-3d3a-46e6-9861-664d60d22aef",
   "metadata": {},
   "outputs": [],
   "source": [
    "def plot_senior_citizen_analysis(filtered_data):\n",
    "    plt.figure(figsize=(12, 5))\n",
    "    \n",
    "    # Plot 1: Bar chart for mean monthly charges\n",
    "    plt.subplot(1, 2, 1)\n",
    "    mean_charges = filtered_data.groupby('SeniorCitizen')['MonthlyCharges'].mean()\n",
    "    bars = plt.bar([0, 1], mean_charges.values)\n",
    "    plt.title('Mean Monthly Charges by Senior Citizen Status')\n",
    "    plt.xlabel('Senior Citizen')\n",
    "    plt.ylabel('Mean Monthly Charges ($)')\n",
    "    plt.xticks([0, 1], ['Non-Senior', 'Senior'])\n",
    "    \n",
    "    # Add value labels on top of bars\n",
    "    for bar in bars:\n",
    "        height = bar.get_height()\n",
    "        plt.text(bar.get_x() + bar.get_width() / 2., height,\n",
    "                 f'${height:.2f}',\n",
    "                 ha='center', va='bottom')\n",
    "    \n",
    "    # Plot 2: Pie chart for count distribution\n",
    "    plt.subplot(1, 2, 2)\n",
    "    count_by_senior = filtered_data['SeniorCitizen'].value_counts(normalize=True) * 100\n",
    "    plt.pie(count_by_senior.values, \n",
    "            labels=['Non-Senior', 'Senior'],\n",
    "            autopct='%1.1f%%')\n",
    "    plt.title('Distribution of Senior Citizens')\n",
    "    \n",
    "    plt.tight_layout()\n",
    "    plt.show()\n"
   ]
  },
  {
   "cell_type": "code",
   "execution_count": 789,
   "id": "b64dee7e-e5ce-497d-8c58-85df3dab7eab",
   "metadata": {},
   "outputs": [
    {
     "name": "stdout",
     "output_type": "stream",
     "text": [
      "Senior Citizen Distribution:\n",
      "SeniorCitizen\n",
      "0    87.127947\n",
      "1    12.872053\n",
      "Name: proportion, dtype: float64\n"
     ]
    }
   ],
   "source": [
    "print(\"Senior Citizen Distribution:\")\n",
    "print(filtered_data['SeniorCitizen'].value_counts(normalize=True) * 100)"
   ]
  },
  {
   "cell_type": "code",
   "execution_count": 791,
   "id": "6a264c2c-6808-4aa2-ae87-14d99f81356a",
   "metadata": {},
   "outputs": [
    {
     "data": {
      "image/png": "[encoded data removed]",
      "text/plain": [
       "<Figure size 1200x500 with 2 Axes>"
      ]
     },
     "metadata": {},
     "output_type": "display_data"
    }
   ],
   "source": [
    "plot_senior_citizen_analysis(filtered_data)"
   ]
  },
  {
   "cell_type": "markdown",
   "id": "52b9e4cd-083e-4cd9-963b-d49bcb95bac1",
   "metadata": {},
   "source": [
    "SeniorCitizen customers have a higher average monthly charge, about 10% higher than non SeniorCitizens."
   ]
  },
  {
   "cell_type": "markdown",
   "id": "65f00185-8fca-42f9-bad5-cba301b34f92",
   "metadata": {},
   "source": [
    "<span style=\"color: blue; font-size: 32px;\"><strong>Find answers to questions:</strong></span>"
   ]
  },
  {
   "cell_type": "markdown",
   "id": "38f4d9ba-7edb-4570-a040-b7fa9724c38b",
   "metadata": {},
   "source": [
    "<H2>Do customers with a higher monthly charge tend to have a higher churn rate?</H2>"
   ]
  },
  {
   "cell_type": "markdown",
   "id": "bf8e56e1-60ff-4088-a5b6-fbf1723d798b",
   "metadata": {},
   "source": [
    "- <span style=\"color: blue; font-size: 14px;\"><strong>find min, mean, max, 75\\% quantile:</strong></span>"
   ]
  },
  {
   "cell_type": "code",
   "execution_count": 797,
   "id": "8b97541b-5fcc-4baa-84de-0d787cbff737",
   "metadata": {},
   "outputs": [
    {
     "data": {
      "text/plain": [
       "18.25"
      ]
     },
     "execution_count": 797,
     "metadata": {},
     "output_type": "execute_result"
    }
   ],
   "source": [
    "merged_df['MonthlyCharges'].min()"
   ]
  },
  {
   "cell_type": "code",
   "execution_count": 799,
   "id": "9c977faa-b6d2-43cf-a5f2-ee1b5c861ca7",
   "metadata": {},
   "outputs": [
    {
     "data": {
      "text/plain": [
       "64.76169246059918"
      ]
     },
     "execution_count": 799,
     "metadata": {},
     "output_type": "execute_result"
    }
   ],
   "source": [
    "merged_df['MonthlyCharges'].mean()"
   ]
  },
  {
   "cell_type": "code",
   "execution_count": 801,
   "id": "b510f608-65a4-40ba-a659-37919ec51b89",
   "metadata": {},
   "outputs": [
    {
     "data": {
      "text/plain": [
       "118.75"
      ]
     },
     "execution_count": 801,
     "metadata": {},
     "output_type": "execute_result"
    }
   ],
   "source": [
    "merged_df['MonthlyCharges'].max()"
   ]
  },
  {
   "cell_type": "code",
   "execution_count": 803,
   "id": "a96f9e0d-c3f1-45d2-9479-017cfd7c3c6a",
   "metadata": {},
   "outputs": [
    {
     "name": "stdout",
     "output_type": "stream",
     "text": [
      "89.85\n"
     ]
    }
   ],
   "source": [
    "quantile_75 = merged_df['MonthlyCharges'].quantile(0.75)\n",
    "print(quantile_75)"
   ]
  },
  {
   "cell_type": "markdown",
   "id": "79bb3d07-e36a-49a2-b54c-ea61043fddab",
   "metadata": {},
   "source": [
    "- <span style=\"color: blue; font-size: 14px;\"><strong>find all the monthly charges higher than the 75\\% quantile:</strong></span>"
   ]
  },
  {
   "cell_type": "code",
   "execution_count": 806,
   "id": "13424705-11da-4c63-8499-f97965942ac4",
   "metadata": {},
   "outputs": [
    {
     "name": "stdout",
     "output_type": "stream",
     "text": [
      "5        99.65\n",
      "8       104.80\n",
      "12      100.35\n",
      "13      103.70\n",
      "14      105.50\n",
      "         ...  \n",
      "7023    103.50\n",
      "7025     95.05\n",
      "7034    102.95\n",
      "7039    103.20\n",
      "7042    105.65\n",
      "Name: MonthlyCharges, Length: 1758, dtype: float64\n"
     ]
    }
   ],
   "source": [
    "# Create a Series with values of MonthlyCharges that are above the 75% quartile\n",
    "high_charges_values = merged_df['MonthlyCharges'][merged_df['MonthlyCharges'] > quantile_75]\n",
    "print(high_charges_values)"
   ]
  },
  {
   "cell_type": "code",
   "execution_count": 808,
   "id": "dbffc290-595c-4bee-8918-6c1bf14ada66",
   "metadata": {},
   "outputs": [
    {
     "name": "stdout",
     "output_type": "stream",
     "text": [
      "844     89.9\n",
      "61      89.9\n",
      "3051    89.9\n",
      "5956    89.9\n",
      "2217    89.9\n",
      "Name: MonthlyCharges, dtype: float64\n"
     ]
    }
   ],
   "source": [
    "# Sort the values from small to large\n",
    "high_charges_values_sorted = high_charges_values.sort_values()\n",
    "print(high_charges_values_sorted.head(5))"
   ]
  },
  {
   "cell_type": "markdown",
   "id": "8a601d45-8590-47d0-8ce4-38b57090a704",
   "metadata": {},
   "source": [
    "- <span style=\"color: blue; font-size: 14px;\"><strong>create data frame:</strong></span>"
   ]
  },
  {
   "cell_type": "code",
   "execution_count": 811,
   "id": "8c67c4cf-07dd-4ad0-9489-955aedb92681",
   "metadata": {},
   "outputs": [
    {
     "data": {
      "text/html": [
       "<div>\n",
       "<style scoped>\n",
       "    .dataframe tbody tr th:only-of-type {\n",
       "        vertical-align: middle;\n",
       "    }\n",
       "\n",
       "    .dataframe tbody tr th {\n",
       "        vertical-align: top;\n",
       "    }\n",
       "\n",
       "    .dataframe thead th {\n",
       "        text-align: right;\n",
       "    }\n",
       "</style>\n",
       "<table border=\"1\" class=\"dataframe\">\n",
       "  <thead>\n",
       "    <tr style=\"text-align: right;\">\n",
       "      <th></th>\n",
       "      <th>customerID</th>\n",
       "      <th>BeginDate</th>\n",
       "      <th>EndDate</th>\n",
       "      <th>Type</th>\n",
       "      <th>PaperlessBilling</th>\n",
       "      <th>PaymentMethod</th>\n",
       "      <th>MonthlyCharges</th>\n",
       "      <th>TotalCharges</th>\n",
       "      <th>InternetService</th>\n",
       "      <th>OnlineSecurity</th>\n",
       "      <th>OnlineBackup</th>\n",
       "      <th>DeviceProtection</th>\n",
       "      <th>TechSupport</th>\n",
       "      <th>StreamingTV</th>\n",
       "      <th>StreamingMovies</th>\n",
       "      <th>gender</th>\n",
       "      <th>SeniorCitizen</th>\n",
       "      <th>Partner</th>\n",
       "      <th>Dependents</th>\n",
       "      <th>MultipleLines</th>\n",
       "    </tr>\n",
       "  </thead>\n",
       "  <tbody>\n",
       "    <tr>\n",
       "      <th>5</th>\n",
       "      <td>9305-CDSKC</td>\n",
       "      <td>2019-03-01</td>\n",
       "      <td>1</td>\n",
       "      <td>0</td>\n",
       "      <td>1</td>\n",
       "      <td>0</td>\n",
       "      <td>99.65</td>\n",
       "      <td>820.50</td>\n",
       "      <td>1</td>\n",
       "      <td>0</td>\n",
       "      <td>0</td>\n",
       "      <td>1</td>\n",
       "      <td>0</td>\n",
       "      <td>1</td>\n",
       "      <td>1</td>\n",
       "      <td>0</td>\n",
       "      <td>0</td>\n",
       "      <td>0</td>\n",
       "      <td>0</td>\n",
       "      <td>1</td>\n",
       "    </tr>\n",
       "    <tr>\n",
       "      <th>8</th>\n",
       "      <td>7892-POOKP</td>\n",
       "      <td>2017-07-01</td>\n",
       "      <td>1</td>\n",
       "      <td>0</td>\n",
       "      <td>1</td>\n",
       "      <td>0</td>\n",
       "      <td>104.80</td>\n",
       "      <td>3046.05</td>\n",
       "      <td>1</td>\n",
       "      <td>0</td>\n",
       "      <td>0</td>\n",
       "      <td>1</td>\n",
       "      <td>1</td>\n",
       "      <td>1</td>\n",
       "      <td>1</td>\n",
       "      <td>0</td>\n",
       "      <td>0</td>\n",
       "      <td>1</td>\n",
       "      <td>0</td>\n",
       "      <td>1</td>\n",
       "    </tr>\n",
       "    <tr>\n",
       "      <th>12</th>\n",
       "      <td>8091-TTVAX</td>\n",
       "      <td>2015-04-01</td>\n",
       "      <td>0</td>\n",
       "      <td>1</td>\n",
       "      <td>0</td>\n",
       "      <td>3</td>\n",
       "      <td>100.35</td>\n",
       "      <td>5681.10</td>\n",
       "      <td>1</td>\n",
       "      <td>0</td>\n",
       "      <td>0</td>\n",
       "      <td>1</td>\n",
       "      <td>0</td>\n",
       "      <td>1</td>\n",
       "      <td>1</td>\n",
       "      <td>1</td>\n",
       "      <td>0</td>\n",
       "      <td>1</td>\n",
       "      <td>0</td>\n",
       "      <td>1</td>\n",
       "    </tr>\n",
       "    <tr>\n",
       "      <th>13</th>\n",
       "      <td>0280-XJGEX</td>\n",
       "      <td>2015-09-01</td>\n",
       "      <td>1</td>\n",
       "      <td>0</td>\n",
       "      <td>1</td>\n",
       "      <td>2</td>\n",
       "      <td>103.70</td>\n",
       "      <td>5036.30</td>\n",
       "      <td>1</td>\n",
       "      <td>0</td>\n",
       "      <td>1</td>\n",
       "      <td>1</td>\n",
       "      <td>0</td>\n",
       "      <td>1</td>\n",
       "      <td>1</td>\n",
       "      <td>1</td>\n",
       "      <td>0</td>\n",
       "      <td>0</td>\n",
       "      <td>0</td>\n",
       "      <td>1</td>\n",
       "    </tr>\n",
       "    <tr>\n",
       "      <th>14</th>\n",
       "      <td>5129-JLPIS</td>\n",
       "      <td>2018-01-01</td>\n",
       "      <td>0</td>\n",
       "      <td>0</td>\n",
       "      <td>1</td>\n",
       "      <td>0</td>\n",
       "      <td>105.50</td>\n",
       "      <td>2686.05</td>\n",
       "      <td>1</td>\n",
       "      <td>1</td>\n",
       "      <td>0</td>\n",
       "      <td>1</td>\n",
       "      <td>1</td>\n",
       "      <td>1</td>\n",
       "      <td>1</td>\n",
       "      <td>1</td>\n",
       "      <td>0</td>\n",
       "      <td>0</td>\n",
       "      <td>0</td>\n",
       "      <td>0</td>\n",
       "    </tr>\n",
       "  </tbody>\n",
       "</table>\n",
       "</div>"
      ],
      "text/plain": [
       "    customerID  BeginDate  EndDate Type  PaperlessBilling PaymentMethod  \\\n",
       "5   9305-CDSKC 2019-03-01        1    0                 1             0   \n",
       "8   7892-POOKP 2017-07-01        1    0                 1             0   \n",
       "12  8091-TTVAX 2015-04-01        0    1                 0             3   \n",
       "13  0280-XJGEX 2015-09-01        1    0                 1             2   \n",
       "14  5129-JLPIS 2018-01-01        0    0                 1             0   \n",
       "\n",
       "    MonthlyCharges  TotalCharges  InternetService  OnlineSecurity  \\\n",
       "5            99.65        820.50                1               0   \n",
       "8           104.80       3046.05                1               0   \n",
       "12          100.35       5681.10                1               0   \n",
       "13          103.70       5036.30                1               0   \n",
       "14          105.50       2686.05                1               1   \n",
       "\n",
       "    OnlineBackup  DeviceProtection  TechSupport  StreamingTV  StreamingMovies  \\\n",
       "5              0                 1            0            1                1   \n",
       "8              0                 1            1            1                1   \n",
       "12             0                 1            0            1                1   \n",
       "13             1                 1            0            1                1   \n",
       "14             0                 1            1            1                1   \n",
       "\n",
       "    gender  SeniorCitizen  Partner  Dependents  MultipleLines  \n",
       "5        0              0        0           0              1  \n",
       "8        0              0        1           0              1  \n",
       "12       1              0        1           0              1  \n",
       "13       1              0        0           0              1  \n",
       "14       1              0        0           0              0  "
      ]
     },
     "metadata": {},
     "output_type": "display_data"
    }
   ],
   "source": [
    "# Filter merged_df to get only the rows where MonthlyCharges is above the 75% quartile\n",
    "high_charges_df = merged_df[merged_df['MonthlyCharges'] > quantile_75]\n",
    "display(high_charges_df.head(5))"
   ]
  },
  {
   "cell_type": "markdown",
   "id": "0268f720-c056-47d7-8633-cab5604317dd",
   "metadata": {},
   "source": [
    "- <span style=\"color: blue; font-size: 14px;\"><strong>create buckets for the graph:</strong></span>"
   ]
  },
  {
   "cell_type": "code",
   "execution_count": 814,
   "id": "f515781d-eb9b-4682-81a5-add09689929a",
   "metadata": {},
   "outputs": [],
   "source": [
    "# Create buckets for the sorted values\n",
    "buckets = pd.cut(high_charges_values_sorted, bins=10)"
   ]
  },
  {
   "cell_type": "code",
   "execution_count": 816,
   "id": "da2edda4-85d6-4f8f-b461-a409a50a03c7",
   "metadata": {},
   "outputs": [],
   "source": [
    "# Count occurrences in each bucket for customers with an EndDate\n",
    "bucket_counts_with_enddate = high_charges_df[high_charges_df['EndDate'] == 1].groupby(buckets, observed=True).size()"
   ]
  },
  {
   "cell_type": "code",
   "execution_count": 818,
   "id": "28b18127-5f0f-4089-b46d-0a4033affc6c",
   "metadata": {},
   "outputs": [],
   "source": [
    "bucket_counts_sorted = bucket_counts_with_enddate.sort_index()"
   ]
  },
  {
   "cell_type": "markdown",
   "id": "2ee2a362-0c52-433b-8fc9-cf550ed8d652",
   "metadata": {},
   "source": [
    "- <span style=\"color: blue; font-size: 14px;\"><strong>Find percentage of churn rate:</strong></span>"
   ]
  },
  {
   "cell_type": "code",
   "execution_count": 821,
   "id": "0173d1f1-33cf-457b-94ac-b92913510fa9",
   "metadata": {},
   "outputs": [
    {
     "name": "stdout",
     "output_type": "stream",
     "text": [
      "Number of customers with high monthly charges who have churned: 578\n"
     ]
    }
   ],
   "source": [
    "# Count how many of these have churned\n",
    "churned_high_count = high_charges_df[high_charges_df['EndDate'] == 1].shape[0]\n",
    "\n",
    "print(f'Number of customers with high monthly charges who have churned: {churned_high_count}')"
   ]
  },
  {
   "cell_type": "code",
   "execution_count": 823,
   "id": "b0f06339-bf83-48ef-8606-1d18c583e3f2",
   "metadata": {},
   "outputs": [],
   "source": [
    "total_count_high_churned = len(merged_df)"
   ]
  },
  {
   "cell_type": "code",
   "execution_count": 825,
   "id": "4d7956ce-a07f-4a38-b329-3b4ffe18a91d",
   "metadata": {},
   "outputs": [],
   "source": [
    "churn_ratio = churned_high_count / total_count_high_churned"
   ]
  },
  {
   "cell_type": "code",
   "execution_count": 827,
   "id": "cab43093-3db5-4430-b5bf-7c91caca91f9",
   "metadata": {},
   "outputs": [
    {
     "name": "stdout",
     "output_type": "stream",
     "text": [
      "\u001b[1m\u001b[91mChurn percentage of high paying customers: 8.21%\u001b[0m\n"
     ]
    }
   ],
   "source": [
    "churn_percentage = churn_ratio * 100\n",
    "print(f'\\033[1m\\033[91mChurn percentage of high paying customers: {churn_percentage:.2f}%\\033[0m')"
   ]
  },
  {
   "cell_type": "code",
   "execution_count": 829,
   "id": "4d9d1318-e265-4399-8147-7e253ff2c64a",
   "metadata": {},
   "outputs": [
    {
     "data": {
      "image/png": "[encoded data removed]",
      "text/plain": [
       "<Figure size 1000x600 with 1 Axes>"
      ]
     },
     "metadata": {},
     "output_type": "display_data"
    }
   ],
   "source": [
    "plt.figure(figsize=(10, 6))\n",
    "bucket_counts_sorted.plot(kind='bar')\n",
    "\n",
    "plt.title('Distribution of High Paying Customers with End Dates')\n",
    "plt.xlabel('Monthly Charges in $')\n",
    "plt.ylabel('Count of Customers with End Dates')\n",
    "\n",
    "# Format tick labels to show ranges in whole numbers\n",
    "tick_labels = [f\"{int(interval.left)}-{int(interval.right)}\" for interval in bucket_counts_sorted.index]\n",
    "plt.gca().set_xticklabels(tick_labels, rotation=45)\n",
    "plt.grid(axis='y')\n",
    "plt.tight_layout()\n",
    "\n",
    "plt.show()"
   ]
  },
  {
   "cell_type": "markdown",
   "id": "9db30b9b-8aaf-4a63-97cd-b78be026cc72",
   "metadata": {},
   "source": [
    "<span style=\"color: red\"><strong>Answer: No, customers with a higher monthly charge are not more likely to have a higher churn rate.</span>\n",
    "- Of the customers with the highest monthly bills, only <span style=\"color: red\">8.2%</strong></span> of them have churned. \n",
    "- As the amount of monthly charges to up, the amount of churning does not go up."
   ]
  },
  {
   "cell_type": "markdown",
   "id": "c48a814b-e266-42f6-a218-bfcdbe3e8cb4",
   "metadata": {},
   "source": [
    "<H2> Create function to find churn percentages of a column.</H2>"
   ]
  },
  {
   "cell_type": "code",
   "execution_count": 833,
   "id": "15490bec-9ebe-4145-85e6-e664209d9fb1",
   "metadata": {},
   "outputs": [],
   "source": [
    "def churnEffect(column_name):\n",
    "    # Print the dispersion of customers based on the specified column\n",
    "    print(f\"Value counts of {column_name} column:\")\n",
    "    print(merged_df[column_name].value_counts(normalize=True) * 100)\n",
    "    \n",
    "    # Calculate the churn percentage for each unique value in the specified column\n",
    "    value_counts = merged_df[column_name].value_counts()\n",
    "    \n",
    "    # Iterate through each unique value to calculate churn rates\n",
    "    for value, total_count in value_counts.items():\n",
    "        churned_count = merged_df[(merged_df[column_name] == value) & (merged_df['EndDate'] == 1)].shape[0]\n",
    "        \n",
    "        # Calculate churn percentage\n",
    "        print('\\n')\n",
    "        churn_percentage = (churned_count / total_count * 100) if total_count > 0 else 0\n",
    "        \n",
    "        # Print the churn percentage for each unique value\n",
    "        print(f'Churn percentage for {column_name} = {value}: {churn_percentage:.2f}%')"
   ]
  },
  {
   "cell_type": "markdown",
   "id": "62516d7a-ae5c-44b8-8dad-d137f6cdce81",
   "metadata": {},
   "source": [
    "<H2>Does gender, age(Senior Citizen vs non Senior Citizen), whether or not a customer has dependents, or a partner, have any effect on churn rate?</H2>"
   ]
  },
  {
   "cell_type": "markdown",
   "id": "d5ba6e64-d349-47ea-a185-c3cea47bf366",
   "metadata": {},
   "source": [
    "<span style=\"color: blue; font-size: 18px;\"><strong>gender column:</strong></span>"
   ]
  },
  {
   "cell_type": "markdown",
   "id": "ea6d7ea8-1777-4ab7-a62a-093704af68b4",
   "metadata": {},
   "source": [
    "1 is male.\n",
    "<br>\n",
    "0 is female. "
   ]
  },
  {
   "cell_type": "markdown",
   "id": "5f39630b-d09e-4e5f-a804-4b086b9ae96a",
   "metadata": {},
   "source": [
    "- <span style=\"color: blue; font-size: 14px;\"><strong>Call the churnEffect function, for the gender column:</strong></span>"
   ]
  },
  {
   "cell_type": "code",
   "execution_count": 839,
   "id": "eadb6e2c-9806-4014-a365-b0b53c0f5b2e",
   "metadata": {},
   "outputs": [
    {
     "name": "stdout",
     "output_type": "stream",
     "text": [
      "Value counts of gender column:\n",
      "gender\n",
      "1    50.47565\n",
      "0    49.52435\n",
      "Name: proportion, dtype: float64\n",
      "\n",
      "\n",
      "Churn percentage for gender = 1: 26.16%\n",
      "\n",
      "\n",
      "Churn percentage for gender = 0: 26.92%\n"
     ]
    }
   ],
   "source": [
    "churnEffect('gender')"
   ]
  },
  {
   "cell_type": "markdown",
   "id": "651cd4d2-f584-4c36-803a-ba5b1c8adad1",
   "metadata": {},
   "source": [
    "<span style=\"color: red; font-size: 24px;\"><strong>Answer: No, gender is not related to churn rate.</span>\n",
    "- There is an almost even balance of male and female customers. There is an almost even balance of male and female churned customers."
   ]
  },
  {
   "cell_type": "markdown",
   "id": "1ca6b932-a70f-4af0-8750-09cba975e84b",
   "metadata": {},
   "source": [
    "<span style=\"color: blue; font-size: 18px;\"><strong>SeniorCitizen column:</strong></span>"
   ]
  },
  {
   "cell_type": "markdown",
   "id": "8c249009-fbaa-4511-9535-98794e797e99",
   "metadata": {},
   "source": [
    "0 is non Senior Citizens\n",
    "<br>\n",
    "1 is Senior Citizen"
   ]
  },
  {
   "cell_type": "markdown",
   "id": "8220c217-f5f0-477c-8bda-34524ed9e17c",
   "metadata": {},
   "source": [
    "- <span style=\"color: blue; font-size: 14px;\"><strong>Call the churnEffect function, for the SeniorCitizen column:</strong></span>"
   ]
  },
  {
   "cell_type": "code",
   "execution_count": 845,
   "id": "d038d675-ed35-4d83-a95f-fda7ffea44d2",
   "metadata": {},
   "outputs": [
    {
     "name": "stdout",
     "output_type": "stream",
     "text": [
      "Value counts of SeniorCitizen column:\n",
      "SeniorCitizen\n",
      "0    83.785319\n",
      "1    16.214681\n",
      "Name: proportion, dtype: float64\n",
      "\n",
      "\n",
      "Churn percentage for SeniorCitizen = 0: 23.61%\n",
      "\n",
      "\n",
      "Churn percentage for SeniorCitizen = 1: 41.68%\n"
     ]
    }
   ],
   "source": [
    "churnEffect('SeniorCitizen')"
   ]
  },
  {
   "cell_type": "markdown",
   "id": "2fbc5f88-5b5c-4f8c-a0e7-4f7f9b1fc13b",
   "metadata": {},
   "source": [
    "<span style=\"color: green; font-size: 24px;\"><strong>Answer: Yes, age is related to churn rate. Senior Citizens are more likely to churn.</span>\n",
    "- The churn rate, for  Senior Citizens is 41.68\\%. That is almost double the churn rate of non Senior Citizens."
   ]
  },
  {
   "cell_type": "markdown",
   "id": "21ffd25e-5461-4653-b78e-a20bf7831865",
   "metadata": {},
   "source": [
    "<span style=\"color: blue; font-size: 18px;\"><strong>Dependents column:</strong></span>"
   ]
  },
  {
   "cell_type": "markdown",
   "id": "b12bed4f-6091-4647-a44e-0245ffc06d2c",
   "metadata": {},
   "source": [
    "0 is customers without Dependents\n",
    "<br>\n",
    "1 is customers with Dependents"
   ]
  },
  {
   "cell_type": "markdown",
   "id": "df0ba194-b615-42e5-8547-3b75728727d8",
   "metadata": {},
   "source": [
    "- <span style=\"color: blue; font-size: 14px;\"><strong>Call the churnEffect function, for the Dependents column:</strong></span>"
   ]
  },
  {
   "cell_type": "code",
   "execution_count": 851,
   "id": "1ce5f1e5-5d39-4a11-9b61-51786cae8fda",
   "metadata": {},
   "outputs": [
    {
     "name": "stdout",
     "output_type": "stream",
     "text": [
      "Value counts of Dependents column:\n",
      "Dependents\n",
      "0    70.041176\n",
      "1    29.958824\n",
      "Name: proportion, dtype: float64\n",
      "\n",
      "\n",
      "Churn percentage for Dependents = 0: 31.28%\n",
      "\n",
      "\n",
      "Churn percentage for Dependents = 1: 15.45%\n"
     ]
    }
   ],
   "source": [
    "churnEffect('Dependents')"
   ]
  },
  {
   "cell_type": "markdown",
   "id": "98b5caf9-5e16-4988-bb70-c4b63ee3a817",
   "metadata": {},
   "source": [
    "<span style=\"color: green; font-size: 24px;\"><strong>Answer: Yes, having dependents does have an effect on churn rate.\n",
    "- customers without dependents are more likely to churn.\n",
    "- customers without dependents have a 31.3\\% churn rate, and are twice as likely to churn, than customers who do have dependents.</span>"
   ]
  },
  {
   "cell_type": "markdown",
   "id": "69856c39-9786-47b6-a9ff-06e5532d20ad",
   "metadata": {},
   "source": [
    "<span style=\"color: blue; font-size: 18px;\"><strong>Partner column:</strong></span>"
   ]
  },
  {
   "cell_type": "markdown",
   "id": "ae8e6f03-7490-4347-a3d5-ee9390878104",
   "metadata": {},
   "source": [
    "0 is customers without a Partner\n",
    "<br>\n",
    "1 is customers with a Partner"
   ]
  },
  {
   "cell_type": "markdown",
   "id": "df3dddde-ede8-4b37-9726-aa1e687ae358",
   "metadata": {},
   "source": [
    "- <span style=\"color: blue; font-size: 14px;\"><strong>Call the churnEffect function, for the Partner column:</strong></span>"
   ]
  },
  {
   "cell_type": "code",
   "execution_count": 857,
   "id": "e58b8395-6b8d-424e-b085-db7e46276d2a",
   "metadata": {},
   "outputs": [
    {
     "name": "stdout",
     "output_type": "stream",
     "text": [
      "Value counts of Partner column:\n",
      "Partner\n",
      "0    51.69672\n",
      "1    48.30328\n",
      "Name: proportion, dtype: float64\n",
      "\n",
      "\n",
      "Churn percentage for Partner = 0: 32.96%\n",
      "\n",
      "\n",
      "Churn percentage for Partner = 1: 19.66%\n"
     ]
    }
   ],
   "source": [
    "churnEffect('Partner')"
   ]
  },
  {
   "cell_type": "markdown",
   "id": "60cb1169-5203-4fc2-b856-f1691222c71f",
   "metadata": {},
   "source": [
    "<span style=\"color: green; font-size: 24px;\"><strong>Answer: Yes, having a partner does have an effect on churn rate.</strong><br>\n",
    "- Customers without a partner are more likely to churn.<br>\n",
    "- Customers without a partner have a 33% churn rate and are about 10% more likely to churn than customers who do have a partner.</span>"
   ]
  },
  {
   "cell_type": "markdown",
   "id": "7b5b414e-0923-4119-b438-936dadd0ee70",
   "metadata": {},
   "source": [
    "<H2>Does the payment method (Electronic check, Mailed check, Automatic Bank transfer, Automatic Credit card) influence churn rates?</H2>"
   ]
  },
  {
   "cell_type": "markdown",
   "id": "8f9eeee6-1697-465e-b69a-5c580e2f6ad6",
   "metadata": {},
   "source": [
    "<span style=\"color: blue; font-size: 18px;\"><strong>PaymentMethod column:</strong></span>"
   ]
  },
  {
   "cell_type": "markdown",
   "id": "73ebab20-fb2a-4c74-9179-6b39935bf890",
   "metadata": {},
   "source": [
    "'Electronic check' is  0, \n",
    "<br>\n",
    "'Mailed check' is  1, \n",
    "<br>\n",
    "'Bank transfer (automatic)' is 2, \n",
    "<br>\n",
    "'Credit card (automatic)' is  3"
   ]
  },
  {
   "cell_type": "code",
   "execution_count": 863,
   "id": "20de037e-b425-4b2a-a961-d47ceab36281",
   "metadata": {},
   "outputs": [
    {
     "name": "stdout",
     "output_type": "stream",
     "text": [
      "Value counts of PaymentMethod column:\n",
      "PaymentMethod\n",
      "0    33.579441\n",
      "1    22.887974\n",
      "2    21.922476\n",
      "3    21.610109\n",
      "Name: proportion, dtype: float64\n",
      "\n",
      "\n",
      "Churn percentage for PaymentMethod = 0: 45.29%\n",
      "\n",
      "\n",
      "Churn percentage for PaymentMethod = 1: 19.11%\n",
      "\n",
      "\n",
      "Churn percentage for PaymentMethod = 2: 16.71%\n",
      "\n",
      "\n",
      "Churn percentage for PaymentMethod = 3: 15.24%\n"
     ]
    }
   ],
   "source": [
    "churnEffect('PaymentMethod')"
   ]
  },
  {
   "cell_type": "markdown",
   "id": "6595b3ee-fe79-419e-8cc8-0773f7cec773",
   "metadata": {},
   "source": [
    "<span style=\"color: green; font-size: 24px;\"><strong>Answer: Yes, method of payment does have an effect on churn rate.</strong><br>\n",
    "- Customers who pay by Electronic check are more likely to churn.<br>\n",
    "- Customers who pay by Electronic check have a 45.3\\% churn rate, which is more than double the churn rate of any other method of payment, and is triple the churn rate of customers who pay with Credit Card.</span>"
   ]
  },
  {
   "cell_type": "markdown",
   "id": "bfe6c984-d9a0-4dbe-b8c0-2418e58c6095",
   "metadata": {},
   "source": [
    "<H2>How do different account types(1-year, 2-year, month-to-month) influence churn rates?</H2>"
   ]
  },
  {
   "cell_type": "markdown",
   "id": "ad18dd6f-147b-4b67-8bb1-31fc14c34edc",
   "metadata": {},
   "source": [
    "<span style=\"color: blue; font-size: 18px;\"><strong>Type column:</strong></span>"
   ]
  },
  {
   "cell_type": "markdown",
   "id": "e983f302-c467-4d12-b75b-851662c2d7cd",
   "metadata": {},
   "source": [
    "'Month-to-month' is  0, \n",
    "<br>\n",
    "'One year' is 1, \n",
    "<br>\n",
    "'Two year' is  2"
   ]
  },
  {
   "cell_type": "code",
   "execution_count": 869,
   "id": "34181af7-c105-427c-a012-b0831abdf521",
   "metadata": {},
   "outputs": [
    {
     "name": "stdout",
     "output_type": "stream",
     "text": [
      "Value counts of Type column:\n",
      "Type\n",
      "0    55.019168\n",
      "2    24.066449\n",
      "1    20.914383\n",
      "Name: proportion, dtype: float64\n",
      "\n",
      "\n",
      "Churn percentage for Type = 0: 42.71%\n",
      "\n",
      "\n",
      "Churn percentage for Type = 2: 2.83%\n",
      "\n",
      "\n",
      "Churn percentage for Type = 1: 11.27%\n"
     ]
    }
   ],
   "source": [
    "churnEffect('Type')"
   ]
  },
  {
   "cell_type": "markdown",
   "id": "6f0f691c-8682-4621-8abc-d18c321416c2",
   "metadata": {},
   "source": [
    "<span style=\"color: green; font-size: 24px;\"><strong>Answer: Yes, type of plan does have an effect on churn rate.</strong><br>\n",
    "- Customers who are on the month-to-month plan are more likely to churn.<br>\n",
    "- Customers who are on the month-to-month plan have a 42.7\\% churn rate, which is almost 4 times more than the churn rate of customers who are on the one-year plan, and 15 times more likely to churn than customers who are on the two-year plan.</span>"
   ]
  },
  {
   "cell_type": "markdown",
   "id": "9bb06635-fc96-48b6-8c72-50c2eb46e3b2",
   "metadata": {},
   "source": [
    "<H2>Do customers who pay for extra services(Internet Service, Online Security, Online Backup, Device Protection, Tech Support, Streaming TV, StreamingMovies) tend not to churn as quickly as those who do not pay for these services?</H2>"
   ]
  },
  {
   "cell_type": "markdown",
   "id": "81f784c4-5b61-4a96-b0c6-db91fb52dd77",
   "metadata": {},
   "source": [
    "<span style=\"color: blue; font-size: 18px;\"><strong>InternetService column:</strong></span>"
   ]
  },
  {
   "cell_type": "markdown",
   "id": "b56212dc-b7ee-4dae-acc0-a4b0b85b854c",
   "metadata": {},
   "source": [
    "0 means does not have internet service\n",
    "<br>\n",
    "1 means has internet service"
   ]
  },
  {
   "cell_type": "code",
   "execution_count": 875,
   "id": "738abf50-b623-468e-b0d0-59e3838a2b95",
   "metadata": {},
   "outputs": [
    {
     "name": "stdout",
     "output_type": "stream",
     "text": [
      "Value counts of InternetService column:\n",
      "InternetService\n",
      "0    56.04146\n",
      "1    43.95854\n",
      "Name: proportion, dtype: float64\n",
      "\n",
      "\n",
      "Churn percentage for InternetService = 0: 14.49%\n",
      "\n",
      "\n",
      "Churn percentage for InternetService = 1: 41.89%\n"
     ]
    }
   ],
   "source": [
    "churnEffect('InternetService')"
   ]
  },
  {
   "cell_type": "markdown",
   "id": "ee332fa3-4c98-49a7-aa06-cfe4a3ac1b98",
   "metadata": {},
   "source": [
    "<span style=\"color: green; font-size: 24px;\"><strong>Answer: Yes, whether or not a customer has Internet Service, does have an effect on churn rate.</strong><br>\n",
    "- Customers who pay extra for internet service are more likely to churn.<br>\n",
    "- Customers who pay extra for internet service have a 41.9\\% churn rate, which is almost 4 times more than the churn rate of customers who do not pay extra for internet service.</span>"
   ]
  },
  {
   "cell_type": "markdown",
   "id": "4625c9a0-9c34-4c82-833e-46baba0bdf77",
   "metadata": {},
   "source": [
    "<span style=\"color: blue; font-size: 18px;\"><strong>OnlineSecurity column:</strong></span>"
   ]
  },
  {
   "cell_type": "markdown",
   "id": "d3b42961-8bb4-49bd-82bf-cfd38425e081",
   "metadata": {},
   "source": [
    "0 means does not have Online Security\n",
    "<br>\n",
    "1 means does have Online Security"
   ]
  },
  {
   "cell_type": "code",
   "execution_count": 880,
   "id": "38831b68-dc62-44a8-8e76-d0d533106fe6",
   "metadata": {},
   "outputs": [
    {
     "name": "stdout",
     "output_type": "stream",
     "text": [
      "Value counts of OnlineSecurity column:\n",
      "OnlineSecurity\n",
      "0    71.333239\n",
      "1    28.666761\n",
      "Name: proportion, dtype: float64\n",
      "\n",
      "\n",
      "Churn percentage for OnlineSecurity = 0: 31.33%\n",
      "\n",
      "\n",
      "Churn percentage for OnlineSecurity = 1: 14.61%\n"
     ]
    }
   ],
   "source": [
    "churnEffect('OnlineSecurity')"
   ]
  },
  {
   "cell_type": "markdown",
   "id": "da2eb43e-aab8-46a1-bd02-0ed8abde3666",
   "metadata": {},
   "source": [
    "<span style=\"color: green; font-size: 24px;\"><strong>Answer: Yes, whether or not a customer has Online Security, does have an effect on churn rate.</strong><br>\n",
    "- Customers who do not pay extra for online security are more likely to churn.<br>\n",
    "- Customers who do not pay extra for online security have a 31.3\\% churn rate, which is more than double the churn rate of customers who do pay extra for online security.</span>"
   ]
  },
  {
   "cell_type": "markdown",
   "id": "bcc4783e-a2d5-40e9-8bcb-4f2a0b849673",
   "metadata": {},
   "source": [
    "<span style=\"color: blue; font-size: 18px;\"><strong>OnlineBackup column:</strong></span>"
   ]
  },
  {
   "cell_type": "markdown",
   "id": "a4dbf9bf-a296-403a-af35-f24edd9e585b",
   "metadata": {},
   "source": [
    "0 means does not have Online Backup service\n",
    "<br>\n",
    "1 means does have Onnline Backup service"
   ]
  },
  {
   "cell_type": "code",
   "execution_count": 885,
   "id": "f4b1e80a-4933-491f-a191-a69aeb775aca",
   "metadata": {},
   "outputs": [
    {
     "name": "stdout",
     "output_type": "stream",
     "text": [
      "Value counts of OnlineBackup column:\n",
      "OnlineBackup\n",
      "0    65.511856\n",
      "1    34.488144\n",
      "Name: proportion, dtype: float64\n",
      "\n",
      "\n",
      "Churn percentage for OnlineBackup = 0: 29.17%\n",
      "\n",
      "\n",
      "Churn percentage for OnlineBackup = 1: 21.53%\n"
     ]
    }
   ],
   "source": [
    "churnEffect('OnlineBackup')"
   ]
  },
  {
   "cell_type": "markdown",
   "id": "c1984e57-1520-4f78-abf2-d298c9280079",
   "metadata": {},
   "source": [
    "<span style=\"color: red; font-size: 24px;\"><strong>Answer: No, whether or not a customer has Online Backup, does not have much of an effect on churn rate.</strong><br>\n",
    "- Customers who do not pay extra for online security are slightly more likely to churn.<br>\n",
    "- However, the numbers are fairly close. 29\\% vs 21\\%.</span>"
   ]
  },
  {
   "cell_type": "markdown",
   "id": "00b91cfb-351c-443e-a9fa-13e476da3233",
   "metadata": {},
   "source": [
    "<span style=\"color: blue; font-size: 18px;\"><strong>DeviceProtection column:</strong></span>"
   ]
  },
  {
   "cell_type": "markdown",
   "id": "5e29ca85-0d77-43ef-89c7-8abad15acec7",
   "metadata": {},
   "source": [
    "0 means does not have device protection\n",
    "<br>\n",
    "1 means does have device protection"
   ]
  },
  {
   "cell_type": "code",
   "execution_count": 890,
   "id": "9d0ff291-5ed5-40d1-9154-9d0e23b67b24",
   "metadata": {},
   "outputs": [
    {
     "name": "stdout",
     "output_type": "stream",
     "text": [
      "Value counts of DeviceProtection column:\n",
      "DeviceProtection\n",
      "0    65.611245\n",
      "1    34.388755\n",
      "Name: proportion, dtype: float64\n",
      "\n",
      "\n",
      "Churn percentage for DeviceProtection = 0: 28.65%\n",
      "\n",
      "\n",
      "Churn percentage for DeviceProtection = 1: 22.50%\n"
     ]
    }
   ],
   "source": [
    "churnEffect('DeviceProtection')"
   ]
  },
  {
   "cell_type": "markdown",
   "id": "b1829de3-8c80-44de-b043-5d481bab11c0",
   "metadata": {},
   "source": [
    "<span style=\"color: red; font-size: 24px;\"><strong>Answer: No, whether or not a customer pays extra for Device Protection, does not have much of an effect on churn rate.</strong><br>\n",
    "- Customers who do not pay extra for device protection are more likely to churn.<br>\n",
    "- Customers who do not pay extra for online security have a 28.6\\% churn rate, which is fairly similar to customers who do pay extra for device protection; 22.5\\%.</span>"
   ]
  },
  {
   "cell_type": "markdown",
   "id": "3f05d755-2b54-4bab-8030-b2212d64aeda",
   "metadata": {},
   "source": [
    "<span style=\"color: blue; font-size: 18px;\"><strong>TechSupport column:</strong></span>"
   ]
  },
  {
   "cell_type": "markdown",
   "id": "e03e12b0-9a0a-4529-9047-2500aeea81a6",
   "metadata": {},
   "source": [
    "0 means does not have tech support\n",
    "<br>\n",
    "1 means does have tech support"
   ]
  },
  {
   "cell_type": "code",
   "execution_count": 895,
   "id": "24901d4f-218a-4d0e-8ae8-c790a0a4c132",
   "metadata": {},
   "outputs": [
    {
     "name": "stdout",
     "output_type": "stream",
     "text": [
      "Value counts of TechSupport column:\n",
      "TechSupport\n",
      "0    70.978276\n",
      "1    29.021724\n",
      "Name: proportion, dtype: float64\n",
      "\n",
      "\n",
      "Churn percentage for TechSupport = 0: 31.19%\n",
      "\n",
      "\n",
      "Churn percentage for TechSupport = 1: 15.17%\n"
     ]
    }
   ],
   "source": [
    "churnEffect('TechSupport')"
   ]
  },
  {
   "cell_type": "markdown",
   "id": "82ffa9f2-69d3-48c6-8edc-85fff1d6910b",
   "metadata": {},
   "source": [
    "<span style=\"color: green; font-size: 24px;\"><strong>Answer: Yes, whether or not a customer has tech support, does have an effect on churn rate.</strong><br>\n",
    "- Customers who do not pay extra for tech support are more likely to churn.<br>\n",
    "- Customers who do not pay extra for tech support have a 31.2\\% churn rate, which is double the churn rate of customers who do pay extra for tech support.</span>"
   ]
  },
  {
   "cell_type": "markdown",
   "id": "1d4abae2-e271-4ee4-87ca-f6c4772ab554",
   "metadata": {},
   "source": [
    "<span style=\"color: blue; font-size: 18px;\"><strong>StreamingTV column:</strong></span>"
   ]
  },
  {
   "cell_type": "markdown",
   "id": "f4e963bf-b594-4b8f-96e6-467cc07bdd71",
   "metadata": {},
   "source": [
    "0 means does not have streaming TV\n",
    "<br>\n",
    "1 means does have streaming TV"
   ]
  },
  {
   "cell_type": "code",
   "execution_count": 900,
   "id": "fd4cfcd9-694d-4780-9bf5-b72e5960c593",
   "metadata": {},
   "outputs": [
    {
     "name": "stdout",
     "output_type": "stream",
     "text": [
      "Value counts of StreamingTV column:\n",
      "StreamingTV\n",
      "0    61.564674\n",
      "1    38.435326\n",
      "Name: proportion, dtype: float64\n",
      "\n",
      "\n",
      "Churn percentage for StreamingTV = 0: 24.33%\n",
      "\n",
      "\n",
      "Churn percentage for StreamingTV = 1: 30.07%\n"
     ]
    }
   ],
   "source": [
    "churnEffect('StreamingTV')"
   ]
  },
  {
   "cell_type": "markdown",
   "id": "075de7e7-f308-4dce-b6fa-4e43e8547fec",
   "metadata": {},
   "source": [
    "<span style=\"color: red; font-size: 24px;\"><strong>Answer: No, whether or not a customer pays extra for streaming TV, does not have much of an effect on churn rate.</strong><br>\n",
    "- Customers who pay extra for streaming TV are more likely to churn.<br>\n",
    "- Customers who pay extra for streaming TV have a 30\\% churn rate, which is fairly similar to customers who do pay extra for streamingTV; 24.3\\%.</span>"
   ]
  },
  {
   "cell_type": "markdown",
   "id": "424ce39d-3475-4b3b-9556-81c96213420b",
   "metadata": {},
   "source": [
    "<span style=\"color: blue; font-size: 18px;\"><strong>StreamingMovies column:</strong></span>"
   ]
  },
  {
   "cell_type": "markdown",
   "id": "98a10db2-d38f-4e7d-bca9-ebf4bff05597",
   "metadata": {},
   "source": [
    "0 means does not have streaming movies\n",
    "<br>\n",
    "1 means does have streaming movies"
   ]
  },
  {
   "cell_type": "code",
   "execution_count": 905,
   "id": "304ac0ca-3c12-40d0-8983-74872a5592c8",
   "metadata": {},
   "outputs": [
    {
     "name": "stdout",
     "output_type": "stream",
     "text": [
      "Value counts of StreamingMovies column:\n",
      "StreamingMovies\n",
      "0    61.209712\n",
      "1    38.790288\n",
      "Name: proportion, dtype: float64\n",
      "\n",
      "\n",
      "Churn percentage for StreamingMovies = 0: 24.38%\n",
      "\n",
      "\n",
      "Churn percentage for StreamingMovies = 1: 29.94%\n"
     ]
    }
   ],
   "source": [
    "churnEffect('StreamingMovies')"
   ]
  },
  {
   "cell_type": "markdown",
   "id": "c363ce64-0832-47c8-ac84-25d23e12c793",
   "metadata": {},
   "source": [
    "<span style=\"color: red; font-size: 24px;\"><strong>Answer: No, whether or not a customer pays extra for streaming movies, does not have much of an effect on churn rate.</strong><br>\n",
    "- Customers who pay extra for streaming movies are more likely to churn.<br>\n",
    "- Customers who pay extra for streaming movies have a 30\\% churn rate, which is fairly similar to customers who do pay extra for streaming movies; 24.3\\%.</span>"
   ]
  },
  {
   "cell_type": "markdown",
   "id": "211f9c18-5ddb-43a7-a12b-7d8c39ef556f",
   "metadata": {},
   "source": [
    "<span style=\"color: blue; font-size: 32px;\"><strong>Create models to find which customers are likely to churn:</strong></span>"
   ]
  },
  {
   "cell_type": "markdown",
   "id": "2eb4cc79-eef4-432b-8344-6635d93aec2c",
   "metadata": {},
   "source": [
    "<span style=\"color: blue; font-size: 14px;\"><strong>Split the data in to test, train, validation:</strong></span>"
   ]
  },
  {
   "cell_type": "code",
   "execution_count": 910,
   "id": "8fd73e47-03a0-4d88-80fe-cbebecd75a4b",
   "metadata": {},
   "outputs": [],
   "source": [
    "# Split into training and temp sets\n",
    "train_df, temp_df = train_test_split(merged_df, test_size=0.3, random_state=42)  # 70% training, 30% temporary\n",
    "\n",
    "# Split the temp set into validation and test sets\n",
    "val_df, test_df = train_test_split(temp_df, test_size=0.5, random_state=42)  # 50% validation, 50% test from temporary set"
   ]
  },
  {
   "cell_type": "markdown",
   "id": "ddce5e3a-f029-4997-9933-b3ccc6f10863",
   "metadata": {},
   "source": [
    "<span style=\"color: blue; font-size: 14px;\"><strong>Split the test, train, validation datasets in to target and features:</strong></span>"
   ]
  },
  {
   "cell_type": "code",
   "execution_count": 913,
   "id": "22363327-68c8-4a34-9053-6c5f28dffc92",
   "metadata": {},
   "outputs": [],
   "source": [
    "# Train set\n",
    "X_train = train_df.drop(['EndDate', 'BeginDate', 'customerID'], axis=1)\n",
    "y_train = train_df['EndDate']  # Target. \n",
    "\n",
    "# Validation set\n",
    "X_val = val_df.drop(['EndDate', 'BeginDate', 'customerID'], axis=1)\n",
    "y_val = val_df['EndDate']  # Target\n",
    "\n",
    "# Test set\n",
    "X_test = test_df.drop(['EndDate', 'BeginDate', 'customerID'], axis=1)\n",
    "y_test = test_df['EndDate']  # Target"
   ]
  },
  {
   "cell_type": "markdown",
   "id": "c70049e2-113f-462f-bbe2-b4b01522470f",
   "metadata": {},
   "source": [
    "<span style=\"color: blue; font-size: 14px;\"><strong>Create function to create and test models:</strong></span>"
   ]
  },
  {
   "cell_type": "code",
   "execution_count": 916,
   "id": "06a4c913-60f5-4b76-bf34-668bdea590fc",
   "metadata": {},
   "outputs": [],
   "source": [
    "def train_and_evaluate_models(X_train, y_train, X_val, y_val, X_test, y_test):\n",
    "    models = {\n",
    "        \"Logistic Regression\": {\n",
    "            'model': LogisticRegression(solver='liblinear'),\n",
    "            'params': {'C': [0.1, 1, 10]}\n",
    "        },\n",
    "        \"Random Forest\": {\n",
    "            'model': RandomForestClassifier(),\n",
    "            'params': {'n_estimators': [100, 200, 250], 'max_depth': [None, 10, 20]}\n",
    "        },\n",
    "        \"Decision Tree\": {\n",
    "            'model': DecisionTreeClassifier(),\n",
    "            'params': {'max_depth': [5, 10, 20]}\n",
    "        },\n",
    "        \"Gradient Boosting\": {\n",
    "            'model': GradientBoostingClassifier(),\n",
    "            'params': {'n_estimators': [100, 200], 'learning_rate': [0.01, 0.1]}\n",
    "        }\n",
    "    }\n",
    "    \n",
    "    results = {}\n",
    "    for name, model_info in models.items():\n",
    "        print(f\"Training {name}...\")\n",
    "        try:\n",
    "            grid_search = GridSearchCV(model_info['model'], model_info['params'], \n",
    "                                       cv=5, scoring='roc_auc', verbose=3)\n",
    "            grid_search.fit(X_train, y_train)\n",
    "            best_model = grid_search.best_estimator_\n",
    "            # Evaluate on validation set\n",
    "            val_predictions = best_model.predict(X_val)\n",
    "            val_accuracy = accuracy_score(y_val, val_predictions)\n",
    "            if hasattr(best_model, \"decision_function\"):\n",
    "                val_decision_function = best_model.decision_function(X_val)\n",
    "                val_auc = roc_auc_score(y_val, val_decision_function)\n",
    "            else:\n",
    "                val_probas = best_model.predict_proba(X_val)[:, 1]  # Get the probability of the positive class\n",
    "                val_auc = roc_auc_score(y_val, val_probas)\n",
    "            # Evaluate on test set\n",
    "            test_predictions = best_model.predict(X_test)\n",
    "            test_accuracy = accuracy_score(y_test, test_predictions)\n",
    "            if hasattr(best_model, \"decision_function\"):\n",
    "                test_decision_function = best_model.decision_function(X_test)\n",
    "                test_auc = roc_auc_score(y_test, test_decision_function)\n",
    "            else:\n",
    "                test_probas = best_model.predict_proba(X_test)[:, 1]  # Get the probability of the positive class\n",
    "                test_auc = roc_auc_score(y_test, test_probas)\n",
    "            results[name] = {\n",
    "                \"Validation Accuracy\": val_accuracy,\n",
    "                \"Validation AUC\": val_auc,\n",
    "                \"Test Accuracy\": test_accuracy,\n",
    "                \"Test AUC\": test_auc\n",
    "            }\n",
    "            print(f\"{name} results: {results[name]}\")\n",
    "            print()  # Add a newline for better separation between model outputs\n",
    "        except Exception as e:\n",
    "            print(f\"An error occurred while training {name}: {e}\")\n",
    "    return results"
   ]
  },
  {
   "cell_type": "code",
   "execution_count": 918,
   "id": "0d1a194a-c6cf-426e-ab4c-bcfa98c6852a",
   "metadata": {},
   "outputs": [
    {
     "data": {
      "text/plain": [
       "customerID                  object\n",
       "BeginDate           datetime64[ns]\n",
       "EndDate                      int64\n",
       "Type                      category\n",
       "PaperlessBilling             int64\n",
       "PaymentMethod             category\n",
       "MonthlyCharges             float64\n",
       "TotalCharges               float64\n",
       "InternetService              int64\n",
       "OnlineSecurity               int64\n",
       "OnlineBackup                 int64\n",
       "DeviceProtection             int64\n",
       "TechSupport                  int64\n",
       "StreamingTV                  int64\n",
       "StreamingMovies              int64\n",
       "gender                       int64\n",
       "SeniorCitizen                int64\n",
       "Partner                      int64\n",
       "Dependents                   int64\n",
       "MultipleLines                int64\n",
       "dtype: object"
      ]
     },
     "execution_count": 918,
     "metadata": {},
     "output_type": "execute_result"
    }
   ],
   "source": [
    "train_df.dtypes"
   ]
  },
  {
   "cell_type": "code",
   "execution_count": 920,
   "id": "c5b78e0a-b679-40be-89da-6d73e7d088d0",
   "metadata": {},
   "outputs": [
    {
     "name": "stdout",
     "output_type": "stream",
     "text": [
      "Training Logistic Regression...\n",
      "Fitting 5 folds for each of 3 candidates, totalling 15 fits\n",
      "[CV 1/5] END .............................C=0.1;, score=0.840 total time=   0.0s\n",
      "[CV 2/5] END .............................C=0.1;, score=0.835 total time=   0.0s\n",
      "[CV 3/5] END .............................C=0.1;, score=0.820 total time=   0.0s\n",
      "[CV 4/5] END .............................C=0.1;, score=0.817 total time=   0.0s\n",
      "[CV 5/5] END .............................C=0.1;, score=0.828 total time=   0.0s\n",
      "[CV 1/5] END ...............................C=1;, score=0.839 total time=   0.0s\n",
      "[CV 2/5] END ...............................C=1;, score=0.835 total time=   0.0s\n",
      "[CV 3/5] END ...............................C=1;, score=0.820 total time=   0.0s\n",
      "[CV 4/5] END ...............................C=1;, score=0.817 total time=   0.0s\n",
      "[CV 5/5] END ...............................C=1;, score=0.828 total time=   0.0s\n",
      "[CV 1/5] END ..............................C=10;, score=0.838 total time=   0.0s\n",
      "[CV 2/5] END ..............................C=10;, score=0.835 total time=   0.0s\n",
      "[CV 3/5] END ..............................C=10;, score=0.820 total time=   0.0s\n",
      "[CV 4/5] END ..............................C=10;, score=0.817 total time=   0.0s\n",
      "[CV 5/5] END ..............................C=10;, score=0.828 total time=   0.0s\n",
      "Logistic Regression results: {'Validation Accuracy': 0.7992424242424242, 'Validation AUC': 0.8422537034639639, 'Test Accuracy': 0.7984862819299905, 'Test AUC': 0.8488630713499308}\n",
      "\n",
      "Training Random Forest...\n",
      "Fitting 5 folds for each of 9 candidates, totalling 45 fits\n",
      "[CV 1/5] END ..max_depth=None, n_estimators=100;, score=0.816 total time=   0.3s\n",
      "[CV 2/5] END ..max_depth=None, n_estimators=100;, score=0.823 total time=   0.2s\n",
      "[CV 3/5] END ..max_depth=None, n_estimators=100;, score=0.804 total time=   0.2s\n",
      "[CV 4/5] END ..max_depth=None, n_estimators=100;, score=0.820 total time=   0.3s\n",
      "[CV 5/5] END ..max_depth=None, n_estimators=100;, score=0.811 total time=   0.2s\n",
      "[CV 1/5] END ..max_depth=None, n_estimators=200;, score=0.824 total time=   0.5s\n",
      "[CV 2/5] END ..max_depth=None, n_estimators=200;, score=0.819 total time=   0.5s\n",
      "[CV 3/5] END ..max_depth=None, n_estimators=200;, score=0.806 total time=   0.5s\n",
      "[CV 4/5] END ..max_depth=None, n_estimators=200;, score=0.818 total time=   0.5s\n",
      "[CV 5/5] END ..max_depth=None, n_estimators=200;, score=0.814 total time=   0.5s\n",
      "[CV 1/5] END ..max_depth=None, n_estimators=250;, score=0.822 total time=   0.6s\n",
      "[CV 2/5] END ..max_depth=None, n_estimators=250;, score=0.819 total time=   0.6s\n",
      "[CV 3/5] END ..max_depth=None, n_estimators=250;, score=0.810 total time=   0.6s\n",
      "[CV 4/5] END ..max_depth=None, n_estimators=250;, score=0.821 total time=   0.6s\n",
      "[CV 5/5] END ..max_depth=None, n_estimators=250;, score=0.811 total time=   0.6s\n",
      "[CV 1/5] END ....max_depth=10, n_estimators=100;, score=0.843 total time=   0.2s\n",
      "[CV 2/5] END ....max_depth=10, n_estimators=100;, score=0.829 total time=   0.2s\n",
      "[CV 3/5] END ....max_depth=10, n_estimators=100;, score=0.828 total time=   0.2s\n",
      "[CV 4/5] END ....max_depth=10, n_estimators=100;, score=0.833 total time=   0.2s\n",
      "[CV 5/5] END ....max_depth=10, n_estimators=100;, score=0.831 total time=   0.2s\n",
      "[CV 1/5] END ....max_depth=10, n_estimators=200;, score=0.845 total time=   0.4s\n",
      "[CV 2/5] END ....max_depth=10, n_estimators=200;, score=0.832 total time=   0.4s\n",
      "[CV 3/5] END ....max_depth=10, n_estimators=200;, score=0.820 total time=   0.4s\n",
      "[CV 4/5] END ....max_depth=10, n_estimators=200;, score=0.833 total time=   0.4s\n",
      "[CV 5/5] END ....max_depth=10, n_estimators=200;, score=0.832 total time=   0.4s\n",
      "[CV 1/5] END ....max_depth=10, n_estimators=250;, score=0.845 total time=   0.5s\n",
      "[CV 2/5] END ....max_depth=10, n_estimators=250;, score=0.834 total time=   0.5s\n",
      "[CV 3/5] END ....max_depth=10, n_estimators=250;, score=0.825 total time=   0.5s\n",
      "[CV 4/5] END ....max_depth=10, n_estimators=250;, score=0.831 total time=   0.5s\n",
      "[CV 5/5] END ....max_depth=10, n_estimators=250;, score=0.832 total time=   0.5s\n",
      "[CV 1/5] END ....max_depth=20, n_estimators=100;, score=0.822 total time=   0.2s\n",
      "[CV 2/5] END ....max_depth=20, n_estimators=100;, score=0.814 total time=   0.2s\n",
      "[CV 3/5] END ....max_depth=20, n_estimators=100;, score=0.803 total time=   0.2s\n",
      "[CV 4/5] END ....max_depth=20, n_estimators=100;, score=0.819 total time=   0.2s\n",
      "[CV 5/5] END ....max_depth=20, n_estimators=100;, score=0.811 total time=   0.2s\n",
      "[CV 1/5] END ....max_depth=20, n_estimators=200;, score=0.817 total time=   0.5s\n",
      "[CV 2/5] END ....max_depth=20, n_estimators=200;, score=0.817 total time=   0.5s\n",
      "[CV 3/5] END ....max_depth=20, n_estimators=200;, score=0.804 total time=   0.5s\n",
      "[CV 4/5] END ....max_depth=20, n_estimators=200;, score=0.820 total time=   0.5s\n",
      "[CV 5/5] END ....max_depth=20, n_estimators=200;, score=0.814 total time=   0.5s\n",
      "[CV 1/5] END ....max_depth=20, n_estimators=250;, score=0.825 total time=   0.6s\n",
      "[CV 2/5] END ....max_depth=20, n_estimators=250;, score=0.820 total time=   0.6s\n",
      "[CV 3/5] END ....max_depth=20, n_estimators=250;, score=0.805 total time=   0.6s\n",
      "[CV 4/5] END ....max_depth=20, n_estimators=250;, score=0.825 total time=   0.6s\n",
      "[CV 5/5] END ....max_depth=20, n_estimators=250;, score=0.816 total time=   0.6s\n",
      "Random Forest results: {'Validation Accuracy': 0.8134469696969697, 'Validation AUC': 0.8597700245972888, 'Test Accuracy': 0.7928098391674551, 'Test AUC': 0.8500306318144688}\n",
      "\n",
      "Training Decision Tree...\n",
      "Fitting 5 folds for each of 3 candidates, totalling 15 fits\n",
      "[CV 1/5] END .......................max_depth=5;, score=0.843 total time=   0.0s\n",
      "[CV 2/5] END .......................max_depth=5;, score=0.827 total time=   0.0s\n",
      "[CV 3/5] END .......................max_depth=5;, score=0.823 total time=   0.0s\n",
      "[CV 4/5] END .......................max_depth=5;, score=0.820 total time=   0.0s\n",
      "[CV 5/5] END .......................max_depth=5;, score=0.831 total time=   0.0s\n",
      "[CV 1/5] END ......................max_depth=10;, score=0.734 total time=   0.0s\n",
      "[CV 2/5] END ......................max_depth=10;, score=0.725 total time=   0.0s\n",
      "[CV 3/5] END ......................max_depth=10;, score=0.725 total time=   0.0s\n",
      "[CV 4/5] END ......................max_depth=10;, score=0.742 total time=   0.0s\n",
      "[CV 5/5] END ......................max_depth=10;, score=0.739 total time=   0.0s\n",
      "[CV 1/5] END ......................max_depth=20;, score=0.650 total time=   0.0s\n",
      "[CV 2/5] END ......................max_depth=20;, score=0.658 total time=   0.0s\n",
      "[CV 3/5] END ......................max_depth=20;, score=0.653 total time=   0.0s\n",
      "[CV 4/5] END ......................max_depth=20;, score=0.633 total time=   0.0s\n",
      "[CV 5/5] END ......................max_depth=20;, score=0.650 total time=   0.0s\n",
      "Decision Tree results: {'Validation Accuracy': 0.7945075757575758, 'Validation AUC': 0.838060143145124, 'Test Accuracy': 0.7795648060548723, 'Test AUC': 0.8278758390453529}\n",
      "\n",
      "Training Gradient Boosting...\n",
      "Fitting 5 folds for each of 4 candidates, totalling 20 fits\n",
      "[CV 1/5] END learning_rate=0.01, n_estimators=100;, score=0.843 total time=   0.3s\n",
      "[CV 2/5] END learning_rate=0.01, n_estimators=100;, score=0.831 total time=   0.3s\n",
      "[CV 3/5] END learning_rate=0.01, n_estimators=100;, score=0.823 total time=   0.3s\n",
      "[CV 4/5] END learning_rate=0.01, n_estimators=100;, score=0.828 total time=   0.3s\n",
      "[CV 5/5] END learning_rate=0.01, n_estimators=100;, score=0.838 total time=   0.4s\n",
      "[CV 1/5] END learning_rate=0.01, n_estimators=200;, score=0.848 total time=   0.7s\n",
      "[CV 2/5] END learning_rate=0.01, n_estimators=200;, score=0.836 total time=   0.7s\n",
      "[CV 3/5] END learning_rate=0.01, n_estimators=200;, score=0.829 total time=   0.7s\n",
      "[CV 4/5] END learning_rate=0.01, n_estimators=200;, score=0.831 total time=   0.7s\n",
      "[CV 5/5] END learning_rate=0.01, n_estimators=200;, score=0.841 total time=   0.7s\n",
      "[CV 1/5] END learning_rate=0.1, n_estimators=100;, score=0.852 total time=   0.3s\n",
      "[CV 2/5] END learning_rate=0.1, n_estimators=100;, score=0.840 total time=   0.3s\n",
      "[CV 3/5] END learning_rate=0.1, n_estimators=100;, score=0.828 total time=   0.3s\n",
      "[CV 4/5] END learning_rate=0.1, n_estimators=100;, score=0.833 total time=   0.3s\n",
      "[CV 5/5] END learning_rate=0.1, n_estimators=100;, score=0.839 total time=   0.3s\n",
      "[CV 1/5] END learning_rate=0.1, n_estimators=200;, score=0.845 total time=   0.7s\n",
      "[CV 2/5] END learning_rate=0.1, n_estimators=200;, score=0.833 total time=   0.7s\n",
      "[CV 3/5] END learning_rate=0.1, n_estimators=200;, score=0.825 total time=   0.7s\n",
      "[CV 4/5] END learning_rate=0.1, n_estimators=200;, score=0.828 total time=   0.7s\n",
      "[CV 5/5] END learning_rate=0.1, n_estimators=200;, score=0.835 total time=   0.7s\n",
      "Gradient Boosting results: {'Validation Accuracy': 0.8134469696969697, 'Validation AUC': 0.8611362837750365, 'Test Accuracy': 0.793755912961211, 'Test AUC': 0.8492914728131548}\n",
      "\n"
     ]
    }
   ],
   "source": [
    "results = train_and_evaluate_models(X_train, y_train, X_val, y_val, X_test, y_test)"
   ]
  },
  {
   "cell_type": "code",
   "execution_count": 922,
   "id": "89e038e4-765d-4629-8a49-22a40936e475",
   "metadata": {},
   "outputs": [
    {
     "name": "stdout",
     "output_type": "stream",
     "text": [
      "Results keys: dict_keys(['Logistic Regression', 'Random Forest', 'Decision Tree', 'Gradient Boosting'])\n"
     ]
    }
   ],
   "source": [
    "print(\"Results keys:\", results.keys())"
   ]
  },
  {
   "cell_type": "code",
   "execution_count": 924,
   "id": "85100eee-b825-4689-8957-b1a5ee36c44a",
   "metadata": {},
   "outputs": [
    {
     "name": "stdout",
     "output_type": "stream",
     "text": [
      "\n",
      "\n",
      "************** LOGISTIC REGRESSION **************\n",
      "  - Test Accuracy: 0.7985\n",
      "  - Test AUC-ROC: 0.8489\n",
      "  - Validation Accuracy: 0.7992\n",
      "  - Validation AUC-ROC: 0.8423\n",
      "\n",
      "\n",
      "\n",
      "\n",
      "************** RANDOM FOREST **************\n",
      "  - Test Accuracy: 0.7928\n",
      "  - Test AUC-ROC: 0.8500\n",
      "  - Validation Accuracy: 0.8134\n",
      "  - Validation AUC-ROC: 0.8598\n",
      "\n",
      "\n",
      "\n",
      "\n",
      "************** DECISION TREE **************\n",
      "  - Test Accuracy: 0.7796\n",
      "  - Test AUC-ROC: 0.8279\n",
      "  - Validation Accuracy: 0.7945\n",
      "  - Validation AUC-ROC: 0.8381\n",
      "\n",
      "\n",
      "\n",
      "\n",
      "************** GRADIENT BOOSTING **************\n",
      "  - Test Accuracy: 0.7938\n",
      "  - Test AUC-ROC: 0.8493\n",
      "  - Validation Accuracy: 0.8134\n",
      "  - Validation AUC-ROC: 0.8611\n",
      "\n",
      "\n"
     ]
    }
   ],
   "source": [
    "for model, metrics in results.items():\n",
    "    print('\\n')\n",
    "    print(f\"************** {model.upper()} **************\")\n",
    "    print(f\"  - Test Accuracy: {metrics['Test Accuracy']:.4f}\")\n",
    "    print(f\"  - Test AUC-ROC: {metrics['Test AUC']:.4f}\")\n",
    "    print(f\"  - Validation Accuracy: {metrics['Validation Accuracy']:.4f}\")\n",
    "    print(f\"  - Validation AUC-ROC: {metrics['Validation AUC']:.4f}\")\n",
    "    print('\\n')"
   ]
  },
  {
   "cell_type": "markdown",
   "id": "4d7ac5ba-1ac4-4b02-83ef-87f18eeab2dd",
   "metadata": {},
   "source": [
    "<H2>SVC Model:</H2>"
   ]
  },
  {
   "cell_type": "code",
   "execution_count": 927,
   "id": "2695b355-effe-491b-b21b-bb8b0cb9e3f4",
   "metadata": {},
   "outputs": [],
   "source": [
    "scaler = StandardScaler()\n",
    "X_train = scaler.fit_transform(X_train)\n",
    "X_test = scaler.transform(X_test)"
   ]
  },
  {
   "cell_type": "code",
   "execution_count": 929,
   "id": "e937de18-9e05-4f65-8eb7-31d52bd906a8",
   "metadata": {},
   "outputs": [],
   "source": [
    "param_grid = {\n",
    "    'C': [0.1, 1, 10],\n",
    "    'kernel': ['linear', 'rbf'],\n",
    "    'gamma': ['scale', 'auto']\n",
    "}"
   ]
  },
  {
   "cell_type": "code",
   "execution_count": 931,
   "id": "12646f63-0b9b-46f8-bc21-b08968b86a3a",
   "metadata": {},
   "outputs": [
    {
     "name": "stdout",
     "output_type": "stream",
     "text": [
      "Fitting 5 folds for each of 12 candidates, totalling 60 fits\n",
      "[CV 1/5] END .C=0.1, gamma=scale, kernel=linear;, score=0.831 total time=   0.6s\n",
      "[CV 2/5] END .C=0.1, gamma=scale, kernel=linear;, score=0.817 total time=   0.6s\n",
      "[CV 3/5] END .C=0.1, gamma=scale, kernel=linear;, score=0.812 total time=   0.6s\n",
      "[CV 4/5] END .C=0.1, gamma=scale, kernel=linear;, score=0.810 total time=   0.6s\n",
      "[CV 5/5] END .C=0.1, gamma=scale, kernel=linear;, score=0.818 total time=   0.6s\n",
      "[CV 1/5] END ....C=0.1, gamma=scale, kernel=rbf;, score=0.812 total time=   0.9s\n",
      "[CV 2/5] END ....C=0.1, gamma=scale, kernel=rbf;, score=0.811 total time=   0.9s\n",
      "[CV 3/5] END ....C=0.1, gamma=scale, kernel=rbf;, score=0.812 total time=   0.9s\n",
      "[CV 4/5] END ....C=0.1, gamma=scale, kernel=rbf;, score=0.786 total time=   0.9s\n",
      "[CV 5/5] END ....C=0.1, gamma=scale, kernel=rbf;, score=0.804 total time=   0.9s\n",
      "[CV 1/5] END ..C=0.1, gamma=auto, kernel=linear;, score=0.831 total time=   0.6s\n",
      "[CV 2/5] END ..C=0.1, gamma=auto, kernel=linear;, score=0.817 total time=   0.6s\n",
      "[CV 3/5] END ..C=0.1, gamma=auto, kernel=linear;, score=0.812 total time=   0.6s\n",
      "[CV 4/5] END ..C=0.1, gamma=auto, kernel=linear;, score=0.810 total time=   0.6s\n",
      "[CV 5/5] END ..C=0.1, gamma=auto, kernel=linear;, score=0.818 total time=   0.6s\n",
      "[CV 1/5] END .....C=0.1, gamma=auto, kernel=rbf;, score=0.812 total time=   0.9s\n",
      "[CV 2/5] END .....C=0.1, gamma=auto, kernel=rbf;, score=0.811 total time=   0.9s\n",
      "[CV 3/5] END .....C=0.1, gamma=auto, kernel=rbf;, score=0.812 total time=   0.9s\n",
      "[CV 4/5] END .....C=0.1, gamma=auto, kernel=rbf;, score=0.786 total time=   0.9s\n",
      "[CV 5/5] END .....C=0.1, gamma=auto, kernel=rbf;, score=0.804 total time=   1.0s\n",
      "[CV 1/5] END ...C=1, gamma=scale, kernel=linear;, score=0.831 total time=   1.0s\n",
      "[CV 2/5] END ...C=1, gamma=scale, kernel=linear;, score=0.816 total time=   0.9s\n",
      "[CV 3/5] END ...C=1, gamma=scale, kernel=linear;, score=0.811 total time=   1.0s\n",
      "[CV 4/5] END ...C=1, gamma=scale, kernel=linear;, score=0.810 total time=   0.9s\n",
      "[CV 5/5] END ...C=1, gamma=scale, kernel=linear;, score=0.818 total time=   1.0s\n",
      "[CV 1/5] END ......C=1, gamma=scale, kernel=rbf;, score=0.802 total time=   0.9s\n",
      "[CV 2/5] END ......C=1, gamma=scale, kernel=rbf;, score=0.801 total time=   0.9s\n",
      "[CV 3/5] END ......C=1, gamma=scale, kernel=rbf;, score=0.791 total time=   0.9s\n",
      "[CV 4/5] END ......C=1, gamma=scale, kernel=rbf;, score=0.781 total time=   0.9s\n",
      "[CV 5/5] END ......C=1, gamma=scale, kernel=rbf;, score=0.787 total time=   1.0s\n",
      "[CV 1/5] END ....C=1, gamma=auto, kernel=linear;, score=0.831 total time=   1.0s\n",
      "[CV 2/5] END ....C=1, gamma=auto, kernel=linear;, score=0.816 total time=   0.9s\n",
      "[CV 3/5] END ....C=1, gamma=auto, kernel=linear;, score=0.811 total time=   0.9s\n",
      "[CV 4/5] END ....C=1, gamma=auto, kernel=linear;, score=0.810 total time=   1.0s\n",
      "[CV 5/5] END ....C=1, gamma=auto, kernel=linear;, score=0.818 total time=   1.0s\n",
      "[CV 1/5] END .......C=1, gamma=auto, kernel=rbf;, score=0.802 total time=   1.0s\n",
      "[CV 2/5] END .......C=1, gamma=auto, kernel=rbf;, score=0.801 total time=   0.9s\n",
      "[CV 3/5] END .......C=1, gamma=auto, kernel=rbf;, score=0.791 total time=   0.9s\n",
      "[CV 4/5] END .......C=1, gamma=auto, kernel=rbf;, score=0.781 total time=   1.0s\n",
      "[CV 5/5] END .......C=1, gamma=auto, kernel=rbf;, score=0.787 total time=   1.0s\n",
      "[CV 1/5] END ..C=10, gamma=scale, kernel=linear;, score=0.831 total time=   3.0s\n",
      "[CV 2/5] END ..C=10, gamma=scale, kernel=linear;, score=0.816 total time=   2.9s\n",
      "[CV 3/5] END ..C=10, gamma=scale, kernel=linear;, score=0.811 total time=   3.0s\n",
      "[CV 4/5] END ..C=10, gamma=scale, kernel=linear;, score=0.810 total time=   2.9s\n",
      "[CV 5/5] END ..C=10, gamma=scale, kernel=linear;, score=0.818 total time=   3.0s\n",
      "[CV 1/5] END .....C=10, gamma=scale, kernel=rbf;, score=0.773 total time=   1.2s\n",
      "[CV 2/5] END .....C=10, gamma=scale, kernel=rbf;, score=0.767 total time=   1.2s\n",
      "[CV 3/5] END .....C=10, gamma=scale, kernel=rbf;, score=0.756 total time=   1.2s\n",
      "[CV 4/5] END .....C=10, gamma=scale, kernel=rbf;, score=0.757 total time=   1.2s\n",
      "[CV 5/5] END .....C=10, gamma=scale, kernel=rbf;, score=0.766 total time=   1.3s\n",
      "[CV 1/5] END ...C=10, gamma=auto, kernel=linear;, score=0.831 total time=   3.0s\n",
      "[CV 2/5] END ...C=10, gamma=auto, kernel=linear;, score=0.816 total time=   3.0s\n",
      "[CV 3/5] END ...C=10, gamma=auto, kernel=linear;, score=0.811 total time=   3.0s\n",
      "[CV 4/5] END ...C=10, gamma=auto, kernel=linear;, score=0.810 total time=   3.0s\n",
      "[CV 5/5] END ...C=10, gamma=auto, kernel=linear;, score=0.818 total time=   3.0s\n",
      "[CV 1/5] END ......C=10, gamma=auto, kernel=rbf;, score=0.773 total time=   1.3s\n",
      "[CV 2/5] END ......C=10, gamma=auto, kernel=rbf;, score=0.767 total time=   1.2s\n",
      "[CV 3/5] END ......C=10, gamma=auto, kernel=rbf;, score=0.756 total time=   1.2s\n",
      "[CV 4/5] END ......C=10, gamma=auto, kernel=rbf;, score=0.757 total time=   1.2s\n",
      "[CV 5/5] END ......C=10, gamma=auto, kernel=rbf;, score=0.765 total time=   1.3s\n"
     ]
    },
    {
     "data": {
      "text/html": [
       "<style>#sk-container-id-2 {\n",
       "  /* Definition of color scheme common for light and dark mode */\n",
       "  --sklearn-color-text: black;\n",
       "  --sklearn-color-line: gray;\n",
       "  /* Definition of color scheme for unfitted estimators */\n",
       "  --sklearn-color-unfitted-level-0: #fff5e6;\n",
       "  --sklearn-color-unfitted-level-1: #f6e4d2;\n",
       "  --sklearn-color-unfitted-level-2: #ffe0b3;\n",
       "  --sklearn-color-unfitted-level-3: chocolate;\n",
       "  /* Definition of color scheme for fitted estimators */\n",
       "  --sklearn-color-fitted-level-0: #f0f8ff;\n",
       "  --sklearn-color-fitted-level-1: #d4ebff;\n",
       "  --sklearn-color-fitted-level-2: #b3dbfd;\n",
       "  --sklearn-color-fitted-level-3: cornflowerblue;\n",
       "\n",
       "  /* Specific color for light theme */\n",
       "  --sklearn-color-text-on-default-background: var(--sg-text-color, var(--theme-code-foreground, var(--jp-content-font-color1, black)));\n",
       "  --sklearn-color-background: var(--sg-background-color, var(--theme-background, var(--jp-layout-color0, white)));\n",
       "  --sklearn-color-border-box: var(--sg-text-color, var(--theme-code-foreground, var(--jp-content-font-color1, black)));\n",
       "  --sklearn-color-icon: #696969;\n",
       "\n",
       "  @media (prefers-color-scheme: dark) {\n",
       "    /* Redefinition of color scheme for dark theme */\n",
       "    --sklearn-color-text-on-default-background: var(--sg-text-color, var(--theme-code-foreground, var(--jp-content-font-color1, white)));\n",
       "    --sklearn-color-background: var(--sg-background-color, var(--theme-background, var(--jp-layout-color0, #111)));\n",
       "    --sklearn-color-border-box: var(--sg-text-color, var(--theme-code-foreground, var(--jp-content-font-color1, white)));\n",
       "    --sklearn-color-icon: #878787;\n",
       "  }\n",
       "}\n",
       "\n",
       "#sk-container-id-2 {\n",
       "  color: var(--sklearn-color-text);\n",
       "}\n",
       "\n",
       "#sk-container-id-2 pre {\n",
       "  padding: 0;\n",
       "}\n",
       "\n",
       "#sk-container-id-2 input.sk-hidden--visually {\n",
       "  border: 0;\n",
       "  clip: rect(1px 1px 1px 1px);\n",
       "  clip: rect(1px, 1px, 1px, 1px);\n",
       "  height: 1px;\n",
       "  margin: -1px;\n",
       "  overflow: hidden;\n",
       "  padding: 0;\n",
       "  position: absolute;\n",
       "  width: 1px;\n",
       "}\n",
       "\n",
       "#sk-container-id-2 div.sk-dashed-wrapped {\n",
       "  border: 1px dashed var(--sklearn-color-line);\n",
       "  margin: 0 0.4em 0.5em 0.4em;\n",
       "  box-sizing: border-box;\n",
       "  padding-bottom: 0.4em;\n",
       "  background-color: var(--sklearn-color-background);\n",
       "}\n",
       "\n",
       "#sk-container-id-2 div.sk-container {\n",
       "  /* jupyter's `normalize.less` sets `[hidden] { display: none; }`\n",
       "     but bootstrap.min.css set `[hidden] { display: none !important; }`\n",
       "     so we also need the `!important` here to be able to override the\n",
       "     default hidden behavior on the sphinx rendered scikit-learn.org.\n",
       "     See: https://github.com/scikit-learn/scikit-learn/issues/21755 */\n",
       "  display: inline-block !important;\n",
       "  position: relative;\n",
       "}\n",
       "\n",
       "#sk-container-id-2 div.sk-text-repr-fallback {\n",
       "  display: none;\n",
       "}\n",
       "\n",
       "div.sk-parallel-item,\n",
       "div.sk-serial,\n",
       "div.sk-item {\n",
       "  /* draw centered vertical line to link estimators */\n",
       "  background-image: linear-gradient(var(--sklearn-color-text-on-default-background), var(--sklearn-color-text-on-default-background));\n",
       "  background-size: 2px 100%;\n",
       "  background-repeat: no-repeat;\n",
       "  background-position: center center;\n",
       "}\n",
       "\n",
       "/* Parallel-specific style estimator block */\n",
       "\n",
       "#sk-container-id-2 div.sk-parallel-item::after {\n",
       "  content: \"\";\n",
       "  width: 100%;\n",
       "  border-bottom: 2px solid var(--sklearn-color-text-on-default-background);\n",
       "  flex-grow: 1;\n",
       "}\n",
       "\n",
       "#sk-container-id-2 div.sk-parallel {\n",
       "  display: flex;\n",
       "  align-items: stretch;\n",
       "  justify-content: center;\n",
       "  background-color: var(--sklearn-color-background);\n",
       "  position: relative;\n",
       "}\n",
       "\n",
       "#sk-container-id-2 div.sk-parallel-item {\n",
       "  display: flex;\n",
       "  flex-direction: column;\n",
       "}\n",
       "\n",
       "#sk-container-id-2 div.sk-parallel-item:first-child::after {\n",
       "  align-self: flex-end;\n",
       "  width: 50%;\n",
       "}\n",
       "\n",
       "#sk-container-id-2 div.sk-parallel-item:last-child::after {\n",
       "  align-self: flex-start;\n",
       "  width: 50%;\n",
       "}\n",
       "\n",
       "#sk-container-id-2 div.sk-parallel-item:only-child::after {\n",
       "  width: 0;\n",
       "}\n",
       "\n",
       "/* Serial-specific style estimator block */\n",
       "\n",
       "#sk-container-id-2 div.sk-serial {\n",
       "  display: flex;\n",
       "  flex-direction: column;\n",
       "  align-items: center;\n",
       "  background-color: var(--sklearn-color-background);\n",
       "  padding-right: 1em;\n",
       "  padding-left: 1em;\n",
       "}\n",
       "\n",
       "\n",
       "/* Toggleable style: style used for estimator/Pipeline/ColumnTransformer box that is\n",
       "clickable and can be expanded/collapsed.\n",
       "- Pipeline and ColumnTransformer use this feature and define the default style\n",
       "- Estimators will overwrite some part of the style using the `sk-estimator` class\n",
       "*/\n",
       "\n",
       "/* Pipeline and ColumnTransformer style (default) */\n",
       "\n",
       "#sk-container-id-2 div.sk-toggleable {\n",
       "  /* Default theme specific background. It is overwritten whether we have a\n",
       "  specific estimator or a Pipeline/ColumnTransformer */\n",
       "  background-color: var(--sklearn-color-background);\n",
       "}\n",
       "\n",
       "/* Toggleable label */\n",
       "#sk-container-id-2 label.sk-toggleable__label {\n",
       "  cursor: pointer;\n",
       "  display: block;\n",
       "  width: 100%;\n",
       "  margin-bottom: 0;\n",
       "  padding: 0.5em;\n",
       "  box-sizing: border-box;\n",
       "  text-align: center;\n",
       "}\n",
       "\n",
       "#sk-container-id-2 label.sk-toggleable__label-arrow:before {\n",
       "  /* Arrow on the left of the label */\n",
       "  content: \"▸\";\n",
       "  float: left;\n",
       "  margin-right: 0.25em;\n",
       "  color: var(--sklearn-color-icon);\n",
       "}\n",
       "\n",
       "#sk-container-id-2 label.sk-toggleable__label-arrow:hover:before {\n",
       "  color: var(--sklearn-color-text);\n",
       "}\n",
       "\n",
       "/* Toggleable content - dropdown */\n",
       "\n",
       "#sk-container-id-2 div.sk-toggleable__content {\n",
       "  max-height: 0;\n",
       "  max-width: 0;\n",
       "  overflow: hidden;\n",
       "  text-align: left;\n",
       "  /* unfitted */\n",
       "  background-color: var(--sklearn-color-unfitted-level-0);\n",
       "}\n",
       "\n",
       "#sk-container-id-2 div.sk-toggleable__content.fitted {\n",
       "  /* fitted */\n",
       "  background-color: var(--sklearn-color-fitted-level-0);\n",
       "}\n",
       "\n",
       "#sk-container-id-2 div.sk-toggleable__content pre {\n",
       "  margin: 0.2em;\n",
       "  border-radius: 0.25em;\n",
       "  color: var(--sklearn-color-text);\n",
       "  /* unfitted */\n",
       "  background-color: var(--sklearn-color-unfitted-level-0);\n",
       "}\n",
       "\n",
       "#sk-container-id-2 div.sk-toggleable__content.fitted pre {\n",
       "  /* unfitted */\n",
       "  background-color: var(--sklearn-color-fitted-level-0);\n",
       "}\n",
       "\n",
       "#sk-container-id-2 input.sk-toggleable__control:checked~div.sk-toggleable__content {\n",
       "  /* Expand drop-down */\n",
       "  max-height: 200px;\n",
       "  max-width: 100%;\n",
       "  overflow: auto;\n",
       "}\n",
       "\n",
       "#sk-container-id-2 input.sk-toggleable__control:checked~label.sk-toggleable__label-arrow:before {\n",
       "  content: \"▾\";\n",
       "}\n",
       "\n",
       "/* Pipeline/ColumnTransformer-specific style */\n",
       "\n",
       "#sk-container-id-2 div.sk-label input.sk-toggleable__control:checked~label.sk-toggleable__label {\n",
       "  color: var(--sklearn-color-text);\n",
       "  background-color: var(--sklearn-color-unfitted-level-2);\n",
       "}\n",
       "\n",
       "#sk-container-id-2 div.sk-label.fitted input.sk-toggleable__control:checked~label.sk-toggleable__label {\n",
       "  background-color: var(--sklearn-color-fitted-level-2);\n",
       "}\n",
       "\n",
       "/* Estimator-specific style */\n",
       "\n",
       "/* Colorize estimator box */\n",
       "#sk-container-id-2 div.sk-estimator input.sk-toggleable__control:checked~label.sk-toggleable__label {\n",
       "  /* unfitted */\n",
       "  background-color: var(--sklearn-color-unfitted-level-2);\n",
       "}\n",
       "\n",
       "#sk-container-id-2 div.sk-estimator.fitted input.sk-toggleable__control:checked~label.sk-toggleable__label {\n",
       "  /* fitted */\n",
       "  background-color: var(--sklearn-color-fitted-level-2);\n",
       "}\n",
       "\n",
       "#sk-container-id-2 div.sk-label label.sk-toggleable__label,\n",
       "#sk-container-id-2 div.sk-label label {\n",
       "  /* The background is the default theme color */\n",
       "  color: var(--sklearn-color-text-on-default-background);\n",
       "}\n",
       "\n",
       "/* On hover, darken the color of the background */\n",
       "#sk-container-id-2 div.sk-label:hover label.sk-toggleable__label {\n",
       "  color: var(--sklearn-color-text);\n",
       "  background-color: var(--sklearn-color-unfitted-level-2);\n",
       "}\n",
       "\n",
       "/* Label box, darken color on hover, fitted */\n",
       "#sk-container-id-2 div.sk-label.fitted:hover label.sk-toggleable__label.fitted {\n",
       "  color: var(--sklearn-color-text);\n",
       "  background-color: var(--sklearn-color-fitted-level-2);\n",
       "}\n",
       "\n",
       "/* Estimator label */\n",
       "\n",
       "#sk-container-id-2 div.sk-label label {\n",
       "  font-family: monospace;\n",
       "  font-weight: bold;\n",
       "  display: inline-block;\n",
       "  line-height: 1.2em;\n",
       "}\n",
       "\n",
       "#sk-container-id-2 div.sk-label-container {\n",
       "  text-align: center;\n",
       "}\n",
       "\n",
       "/* Estimator-specific */\n",
       "#sk-container-id-2 div.sk-estimator {\n",
       "  font-family: monospace;\n",
       "  border: 1px dotted var(--sklearn-color-border-box);\n",
       "  border-radius: 0.25em;\n",
       "  box-sizing: border-box;\n",
       "  margin-bottom: 0.5em;\n",
       "  /* unfitted */\n",
       "  background-color: var(--sklearn-color-unfitted-level-0);\n",
       "}\n",
       "\n",
       "#sk-container-id-2 div.sk-estimator.fitted {\n",
       "  /* fitted */\n",
       "  background-color: var(--sklearn-color-fitted-level-0);\n",
       "}\n",
       "\n",
       "/* on hover */\n",
       "#sk-container-id-2 div.sk-estimator:hover {\n",
       "  /* unfitted */\n",
       "  background-color: var(--sklearn-color-unfitted-level-2);\n",
       "}\n",
       "\n",
       "#sk-container-id-2 div.sk-estimator.fitted:hover {\n",
       "  /* fitted */\n",
       "  background-color: var(--sklearn-color-fitted-level-2);\n",
       "}\n",
       "\n",
       "/* Specification for estimator info (e.g. \"i\" and \"?\") */\n",
       "\n",
       "/* Common style for \"i\" and \"?\" */\n",
       "\n",
       ".sk-estimator-doc-link,\n",
       "a:link.sk-estimator-doc-link,\n",
       "a:visited.sk-estimator-doc-link {\n",
       "  float: right;\n",
       "  font-size: smaller;\n",
       "  line-height: 1em;\n",
       "  font-family: monospace;\n",
       "  background-color: var(--sklearn-color-background);\n",
       "  border-radius: 1em;\n",
       "  height: 1em;\n",
       "  width: 1em;\n",
       "  text-decoration: none !important;\n",
       "  margin-left: 1ex;\n",
       "  /* unfitted */\n",
       "  border: var(--sklearn-color-unfitted-level-1) 1pt solid;\n",
       "  color: var(--sklearn-color-unfitted-level-1);\n",
       "}\n",
       "\n",
       ".sk-estimator-doc-link.fitted,\n",
       "a:link.sk-estimator-doc-link.fitted,\n",
       "a:visited.sk-estimator-doc-link.fitted {\n",
       "  /* fitted */\n",
       "  border: var(--sklearn-color-fitted-level-1) 1pt solid;\n",
       "  color: var(--sklearn-color-fitted-level-1);\n",
       "}\n",
       "\n",
       "/* On hover */\n",
       "div.sk-estimator:hover .sk-estimator-doc-link:hover,\n",
       ".sk-estimator-doc-link:hover,\n",
       "div.sk-label-container:hover .sk-estimator-doc-link:hover,\n",
       ".sk-estimator-doc-link:hover {\n",
       "  /* unfitted */\n",
       "  background-color: var(--sklearn-color-unfitted-level-3);\n",
       "  color: var(--sklearn-color-background);\n",
       "  text-decoration: none;\n",
       "}\n",
       "\n",
       "div.sk-estimator.fitted:hover .sk-estimator-doc-link.fitted:hover,\n",
       ".sk-estimator-doc-link.fitted:hover,\n",
       "div.sk-label-container:hover .sk-estimator-doc-link.fitted:hover,\n",
       ".sk-estimator-doc-link.fitted:hover {\n",
       "  /* fitted */\n",
       "  background-color: var(--sklearn-color-fitted-level-3);\n",
       "  color: var(--sklearn-color-background);\n",
       "  text-decoration: none;\n",
       "}\n",
       "\n",
       "/* Span, style for the box shown on hovering the info icon */\n",
       ".sk-estimator-doc-link span {\n",
       "  display: none;\n",
       "  z-index: 9999;\n",
       "  position: relative;\n",
       "  font-weight: normal;\n",
       "  right: .2ex;\n",
       "  padding: .5ex;\n",
       "  margin: .5ex;\n",
       "  width: min-content;\n",
       "  min-width: 20ex;\n",
       "  max-width: 50ex;\n",
       "  color: var(--sklearn-color-text);\n",
       "  box-shadow: 2pt 2pt 4pt #999;\n",
       "  /* unfitted */\n",
       "  background: var(--sklearn-color-unfitted-level-0);\n",
       "  border: .5pt solid var(--sklearn-color-unfitted-level-3);\n",
       "}\n",
       "\n",
       ".sk-estimator-doc-link.fitted span {\n",
       "  /* fitted */\n",
       "  background: var(--sklearn-color-fitted-level-0);\n",
       "  border: var(--sklearn-color-fitted-level-3);\n",
       "}\n",
       "\n",
       ".sk-estimator-doc-link:hover span {\n",
       "  display: block;\n",
       "}\n",
       "\n",
       "/* \"?\"-specific style due to the `<a>` HTML tag */\n",
       "\n",
       "#sk-container-id-2 a.estimator_doc_link {\n",
       "  float: right;\n",
       "  font-size: 1rem;\n",
       "  line-height: 1em;\n",
       "  font-family: monospace;\n",
       "  background-color: var(--sklearn-color-background);\n",
       "  border-radius: 1rem;\n",
       "  height: 1rem;\n",
       "  width: 1rem;\n",
       "  text-decoration: none;\n",
       "  /* unfitted */\n",
       "  color: var(--sklearn-color-unfitted-level-1);\n",
       "  border: var(--sklearn-color-unfitted-level-1) 1pt solid;\n",
       "}\n",
       "\n",
       "#sk-container-id-2 a.estimator_doc_link.fitted {\n",
       "  /* fitted */\n",
       "  border: var(--sklearn-color-fitted-level-1) 1pt solid;\n",
       "  color: var(--sklearn-color-fitted-level-1);\n",
       "}\n",
       "\n",
       "/* On hover */\n",
       "#sk-container-id-2 a.estimator_doc_link:hover {\n",
       "  /* unfitted */\n",
       "  background-color: var(--sklearn-color-unfitted-level-3);\n",
       "  color: var(--sklearn-color-background);\n",
       "  text-decoration: none;\n",
       "}\n",
       "\n",
       "#sk-container-id-2 a.estimator_doc_link.fitted:hover {\n",
       "  /* fitted */\n",
       "  background-color: var(--sklearn-color-fitted-level-3);\n",
       "}\n",
       "</style><div id=\"sk-container-id-2\" class=\"sk-top-container\"><div class=\"sk-text-repr-fallback\"><pre>GridSearchCV(cv=5, estimator=SVC(probability=True),\n",
       "             param_grid={&#x27;C&#x27;: [0.1, 1, 10], &#x27;gamma&#x27;: [&#x27;scale&#x27;, &#x27;auto&#x27;],\n",
       "                         &#x27;kernel&#x27;: [&#x27;linear&#x27;, &#x27;rbf&#x27;]},\n",
       "             scoring=&#x27;roc_auc&#x27;, verbose=3)</pre><b>In a Jupyter environment, please rerun this cell to show the HTML representation or trust the notebook. <br />On GitHub, the HTML representation is unable to render, please try loading this page with nbviewer.org.</b></div><div class=\"sk-container\" hidden><div class=\"sk-item sk-dashed-wrapped\"><div class=\"sk-label-container\"><div class=\"sk-label fitted sk-toggleable\"><input class=\"sk-toggleable__control sk-hidden--visually\" id=\"sk-estimator-id-4\" type=\"checkbox\" ><label for=\"sk-estimator-id-4\" class=\"sk-toggleable__label fitted sk-toggleable__label-arrow fitted\">&nbsp;&nbsp;GridSearchCV<a class=\"sk-estimator-doc-link fitted\" rel=\"noreferrer\" target=\"_blank\" href=\"https://scikit-learn.org/1.5/modules/generated/sklearn.model_selection.GridSearchCV.html\">?<span>Documentation for GridSearchCV</span></a><span class=\"sk-estimator-doc-link fitted\">i<span>Fitted</span></span></label><div class=\"sk-toggleable__content fitted\"><pre>GridSearchCV(cv=5, estimator=SVC(probability=True),\n",
       "             param_grid={&#x27;C&#x27;: [0.1, 1, 10], &#x27;gamma&#x27;: [&#x27;scale&#x27;, &#x27;auto&#x27;],\n",
       "                         &#x27;kernel&#x27;: [&#x27;linear&#x27;, &#x27;rbf&#x27;]},\n",
       "             scoring=&#x27;roc_auc&#x27;, verbose=3)</pre></div> </div></div><div class=\"sk-parallel\"><div class=\"sk-parallel-item\"><div class=\"sk-item\"><div class=\"sk-label-container\"><div class=\"sk-label fitted sk-toggleable\"><input class=\"sk-toggleable__control sk-hidden--visually\" id=\"sk-estimator-id-5\" type=\"checkbox\" ><label for=\"sk-estimator-id-5\" class=\"sk-toggleable__label fitted sk-toggleable__label-arrow fitted\">best_estimator_: SVC</label><div class=\"sk-toggleable__content fitted\"><pre>SVC(C=0.1, kernel=&#x27;linear&#x27;, probability=True)</pre></div> </div></div><div class=\"sk-serial\"><div class=\"sk-item\"><div class=\"sk-estimator fitted sk-toggleable\"><input class=\"sk-toggleable__control sk-hidden--visually\" id=\"sk-estimator-id-6\" type=\"checkbox\" ><label for=\"sk-estimator-id-6\" class=\"sk-toggleable__label fitted sk-toggleable__label-arrow fitted\">&nbsp;SVC<a class=\"sk-estimator-doc-link fitted\" rel=\"noreferrer\" target=\"_blank\" href=\"https://scikit-learn.org/1.5/modules/generated/sklearn.svm.SVC.html\">?<span>Documentation for SVC</span></a></label><div class=\"sk-toggleable__content fitted\"><pre>SVC(C=0.1, kernel=&#x27;linear&#x27;, probability=True)</pre></div> </div></div></div></div></div></div></div></div></div>"
      ],
      "text/plain": [
       "GridSearchCV(cv=5, estimator=SVC(probability=True),\n",
       "             param_grid={'C': [0.1, 1, 10], 'gamma': ['scale', 'auto'],\n",
       "                         'kernel': ['linear', 'rbf']},\n",
       "             scoring='roc_auc', verbose=3)"
      ]
     },
     "execution_count": 931,
     "metadata": {},
     "output_type": "execute_result"
    }
   ],
   "source": [
    "grid_search = GridSearchCV(SVC(probability=True), param_grid, scoring='roc_auc', cv=5, verbose=3)\n",
    "grid_search.fit(X_train, y_train)"
   ]
  },
  {
   "cell_type": "code",
   "execution_count": 933,
   "id": "c19aedb5-0512-47df-baf5-8230c56ed886",
   "metadata": {},
   "outputs": [],
   "source": [
    "# Best model after tuning\n",
    "best_svc_model = grid_search.best_estimator_"
   ]
  },
  {
   "cell_type": "code",
   "execution_count": 935,
   "id": "f1edc578-06f6-401d-a15f-2cfb936ccc57",
   "metadata": {},
   "outputs": [],
   "source": [
    "# Make predictions\n",
    "y_pred = best_svc_model.predict(X_test)\n",
    "y_pred_proba = best_svc_model.predict_proba(X_test)[:, 1]  # Probability of the positive class"
   ]
  },
  {
   "cell_type": "markdown",
   "id": "baffb5ee-dfaf-4559-8f2a-f1cd5de17783",
   "metadata": {},
   "source": [
    "The positive class is 1 on the target. 1 means that a customer has churned."
   ]
  },
  {
   "cell_type": "code",
   "execution_count": 938,
   "id": "8333af31-7332-4582-bc3b-d62b9ddf464f",
   "metadata": {},
   "outputs": [
    {
     "data": {
      "text/plain": [
       "EndDate\n",
       "0    5174\n",
       "1    1869\n",
       "Name: count, dtype: int64"
      ]
     },
     "execution_count": 938,
     "metadata": {},
     "output_type": "execute_result"
    }
   ],
   "source": [
    "merged_df['EndDate'].value_counts()"
   ]
  },
  {
   "cell_type": "code",
   "execution_count": 940,
   "id": "30e0adf9-61f4-4188-b437-1e7bebb174b9",
   "metadata": {},
   "outputs": [
    {
     "data": {
      "text/plain": [
       "array([0, 0, 0, ..., 1, 1, 0])"
      ]
     },
     "execution_count": 940,
     "metadata": {},
     "output_type": "execute_result"
    }
   ],
   "source": [
    "y_pred"
   ]
  },
  {
   "cell_type": "code",
   "execution_count": 942,
   "id": "12417061-a12e-45c1-b28f-9a1140797431",
   "metadata": {},
   "outputs": [
    {
     "data": {
      "text/plain": [
       "23      0\n",
       "3114    0\n",
       "5525    0\n",
       "437     0\n",
       "3615    1\n",
       "       ..\n",
       "4121    1\n",
       "6283    1\n",
       "3871    1\n",
       "1436    1\n",
       "3464    0\n",
       "Name: EndDate, Length: 1057, dtype: int64"
      ]
     },
     "execution_count": 942,
     "metadata": {},
     "output_type": "execute_result"
    }
   ],
   "source": [
    "y_test"
   ]
  },
  {
   "cell_type": "code",
   "execution_count": 944,
   "id": "4618a360-e3b1-49aa-9f57-86ca62e1ef03",
   "metadata": {},
   "outputs": [
    {
     "name": "stdout",
     "output_type": "stream",
     "text": [
      "SVC Test Accuracy: 0.7909\n",
      "SVC Test AUC-ROC: 0.8417\n"
     ]
    }
   ],
   "source": [
    "test_accuracy = accuracy_score(y_test, y_pred)\n",
    "\n",
    "test_auc = roc_auc_score(y_test, y_pred_proba)\n",
    "\n",
    "print(f\"SVC Test Accuracy: {test_accuracy:.4f}\")\n",
    "print(f\"SVC Test AUC-ROC: {test_auc:.4f}\")"
   ]
  },
  {
   "cell_type": "markdown",
   "id": "b0e7c73c-c2d4-4199-ad0f-49c6c7e21a27",
   "metadata": {},
   "source": [
    "<span style=\"color: blue; font-size: 32px;\"><strong>Conclusion:</strong></span>"
   ]
  },
  {
   "cell_type": "markdown",
   "id": "5a25c120-1784-43c0-8fb9-8b2ede4a895c",
   "metadata": {},
   "source": [
    "The main purpose of this project was to find out which customers are likely to churn soon. I created a variety of models, with a variety of hyperparameter tunings,  including Logistic Regression, Random Forest, Decision Tree, Gradient Boosting, and SVC. The model that proved to be the most successful was **Gradient Boosting**, with an AUC ROC score of <span style=\"font-size:18px;\"><strong>86.1 \\% for the validation dataset.</strong></span> The next best model score, for validation dataset, was **Random Forest**, with an AUC ROC score of **85.7%**.\n",
    "\n",
    "\n",
    "The results of the model testing displayed varied performance levels among the algorithms evaluated, with specific details as follows:\n",
    "1. **Logistic Regression** emerged with a **Test Accuracy** of **0.7985** and a **Test AUC-ROC** of **0.8489**. This model shows a balanced performance and could be suitable for applications requiring interpretability.\n",
    "2. **Random Forest** achieved a **Test Accuracy** of **0.7994** and an impressive **Test AUC-ROC** of **0.8494**, indicating its robust ability in classification tasks, particularly in handling non-linear data structures.\n",
    "3. **Decision Tree** performed slightly lower, with a **Test Accuracy** of **0.7796** and a **Test AUC-ROC** of **0.8279**. While easy to interpret, the decision tree model may not generalize well to unseen data.\n",
    "4. **Gradient Boosting** displayed solid results with a **Test Accuracy** of **0.7938** and **Test AUC-ROC** of **0.8493**, showing that it is a strong contender among the ensemble methods, suggesting its capacity to handle different types of data distributions effectively.\n",
    "5. The **Support Vector Classifier (SVC)** achieved a **Test Accuracy** of **0.7909** and a **Test AUC-ROC** of **0.8417** after parameter tuning, indicating that it performs well although slightly below Random Forest.\n",
    "\n",
    "\n",
    "\n",
    "\n",
    "## Key Questions and Findings\n",
    "### Do customers with a higher monthly charge tend to have a higher churn rate?\n",
    "**Answer**: **No**, customers with a higher monthly charge are not more likely to have a higher churn rate.\n",
    "- Of the customers with the highest monthly bills, only **8.2%** of them have churned. \n",
    "- As the monthly charges increase, the churn rate does not increase.\n",
    "### Does gender, age (Senior Citizen vs non Senior Citizen), dependents, or a partner affect the churn rate?\n",
    "- **Gender**\n",
    "  - **Answer**: **No**, gender is not related to churn rate.\n",
    "  - There is an almost even balance of male and female customers, and churn rates are similar between genders.\n",
    "- **Age**\n",
    "  - **Answer**: <span style=\"color:green;\"><strong>Yes, age is related to churn rate.</strong></span> Senior Citizens are more likely to churn.\n",
    "  - The churn rate for Senior Citizens is **41.68%**, nearly double that of non Senior Citizens.\n",
    "- **Dependents**\n",
    "  - **Answer**: <span style=\"color:green;\"><strong>Yes, not having dependents does effect churn rate.</strong></span>\n",
    "  - Customers without dependents have a **31.3%** churn rate, which is twice as high as those who have dependents.\n",
    "- **Partner**\n",
    "  - **Answer**: <span style=\"color:green;\"><strong>Yes, not having a partner does effect churn rate.</strong></span>\n",
    "  - Customers without a partner have a **33%** churn rate, about **10%** more likely to churn than those with partners.\n",
    "### Does the payment method influence churn rates?\n",
    "- **Answer**: <span style=\"color:green;\"><strong>Yes, the method of payment does effect churn rate.</strong></span>\n",
    "- Customers who pay by **Electronic Check** have a **45.3%** churn rate, more than double that of any other payment method, and triple the churn rate of customers using Credit Cards.\n",
    "### How do different account types (1-year, 2-year, month-to-month) influence churn rates?\n",
    "- **Answer**: <span style=\"color:green;\"><strong>Yes, the type of plan does effect churn rate.</strong></span>\n",
    "- Customers on month-to-month plans have a **42.7%** churn rate, almost four times higher than those on the one-year plan, and **15 times** more than those on the two-year plan.\n",
    "### Do customers who pay for extra services churn at different rates?\n",
    "- **Internet Service**\n",
    "  - **Answer**: <span style=\"color:green;\"><strong>Yes, having internet service does effect churn rate.</strong></span>\n",
    "  - Customers who pay extra for Internet Service have a **41.9%** churn rate, nearly **four times** that of those who do not.\n",
    "- **Online Security**\n",
    "  - **Answer**:<span style=\"color:green;\"><strong>Yes, not having online security does churn rate.</strong></span>\n",
    "- Customers without Online Security have a **31.3%** churn rate, more than double that of those who pay for it.\n",
    "- **Online Backup**\n",
    "  - **Answer**: **No**, Online Backup does not significantly affect churn rate.\n",
    "  - Churn rates are similar: **29%** for customers not paying extra vs **21%** for those who do.\n",
    "- **Device Protection**\n",
    "  - **Answer**: **No**, Device Protection does not have a significant effect on churn rate.\n",
    "  - Churn rates are close: **28.6%** not paying extra vs **22.5%** doing so.\n",
    "- **Tech Support**\n",
    "  - **Answer**: <span style=\"color:green;\"><strong>Yes, not having tech support does effect churn rate.</strong></span>\n",
    "  - Customers without Tech Support have a **31.2%** churn rate, double that of those who pay for it.\n",
    "- **Streaming TV**\n",
    "  - **Answer**: **No**, Streaming TV does not significantly affect churn rate.\n",
    "  - Churn rates are comparable: **30%** for those who pay extra vs **24.3%** for those who do.\n",
    "- **Streaming Movies**\n",
    "  - **Answer**: **No**, Streaming Movies do not significantly affect churn rate.\n",
    "  - Churn rates are similarly close: **30%** vs **24.3%**.\n",
    "\n",
    "In general, paying more money, for more services, does not necessarily lead to a higher churn rate. The highest churn rate ( 45.3 \\% ) was by customers who pay by the electronic check method.\n",
    "                                                                                                                                                           \n",
    "  \n",
    "### Score Assessment Criteria\n",
    "| AUC-ROC          | Score Points |\n",
    "|------------------|--------------|\n",
    "| < 0.75           | 0 SP         |\n",
    "| 0.75 ≤ AUC-ROC < 0.81 | 4 SP   |\n",
    "| 0.81 ≤ AUC-ROC < 0.85 | 4.5 SP |\n",
    "| 0.85 ≤ AUC-ROC < 0.87 | 5 SP   |\n",
    "| 0.87 ≤ AUC-ROC < 0.88 | 5.5 SP |\n",
    "| ≥ 0.88           | 6 SP         |\n"
   ]
  }
 ],
 "metadata": {
  "kernelspec": {
   "display_name": "Python 3 (ipykernel)",
   "language": "python",
   "name": "python3"
  },
  "language_info": {
   "codemirror_mode": {
    "name": "ipython",
    "version": 3
   },
   "file_extension": ".py",
   "mimetype": "text/x-python",
   "name": "python",
   "nbconvert_exporter": "python",
   "pygments_lexer": "ipython3",
   "version": "3.11.7"
  }
 },
 "nbformat": 4,
 "nbformat_minor": 5
}
