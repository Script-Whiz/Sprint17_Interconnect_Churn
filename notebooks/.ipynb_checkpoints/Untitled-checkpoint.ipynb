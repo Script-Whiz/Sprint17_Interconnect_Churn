{
 "cells": [
  {
   "cell_type": "markdown",
   "id": "d99e467f-5467-4540-aa80-28662f9dad6e",
   "metadata": {},
   "source": [
    "<H1>Interconnect Churn Model</H1>, <H3>Sprint 17, by Deborah Thomas</H3>"
   ]
  },
  {
   "cell_type": "code",
   "execution_count": null,
   "id": "959451ad-45cd-4e3a-98ac-09d529fc2cca",
   "metadata": {},
   "outputs": [],
   "source": []
  },
  {
   "cell_type": "markdown",
   "id": "b42537cf-b70c-4ad3-858b-65681805c47b",
   "metadata": {},
   "source": [
    "<H3>The telecom operator Interconnect would like to be able to forecast their churn of clients. If it's discovered that a user is planning to leave, they will be offered promotional codes and special plan options. Interconnect's marketing team has collected some of their clientele's personal data, including information about their plans and contracts.</H3>"
   ]
  },
  {
   "cell_type": "markdown",
   "id": "908a6151-17f3-42b9-87d3-1a253c3e57b5",
   "metadata": {},
   "source": [
    "<H1>Load Libraries</H1>"
   ]
  },
  {
   "cell_type": "code",
   "execution_count": null,
   "id": "82c013ca-2ca8-41d4-8272-581f0d2d6ed2",
   "metadata": {},
   "outputs": [],
   "source": []
  }
 ],
 "metadata": {
  "kernelspec": {
   "display_name": "Python 3 (ipykernel)",
   "language": "python",
   "name": "python3"
  },
  "language_info": {
   "codemirror_mode": {
    "name": "ipython",
    "version": 3
   },
   "file_extension": ".py",
   "mimetype": "text/x-python",
   "name": "python",
   "nbconvert_exporter": "python",
   "pygments_lexer": "ipython3",
   "version": "3.11.7"
  }
 },
 "nbformat": 4,
 "nbformat_minor": 5
}
